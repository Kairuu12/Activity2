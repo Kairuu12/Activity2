{
 "cells": [
  {
   "cell_type": "markdown",
   "id": "f47d5c55-e623-40fd-a259-f3a53ed8fa4d",
   "metadata": {},
   "source": [
    "<h1>Project: UK Road Accident</h1>\n",
    "<h2>Analyst: Kyle M. De Los Santos</h2>"
   ]
  },
  {
   "cell_type": "code",
   "execution_count": 1,
   "id": "03767e8c-eb3c-448a-8292-b1c8f1c88b8d",
   "metadata": {},
   "outputs": [],
   "source": [
    "import numpy as np\n",
    "import pandas as pd\n",
    "import warnings\n",
    "from scipy.stats import f_oneway\n",
    "warnings.filterwarnings(\"ignore\")"
   ]
  },
  {
   "cell_type": "code",
   "execution_count": 2,
   "id": "2cb7a876-0fe9-4b73-b937-9ebcdde3e2c4",
   "metadata": {},
   "outputs": [],
   "source": [
    "UKRoad = pd.read_csv(\"Datasets\\\\uk_accident_data.csv\")"
   ]
  },
  {
   "cell_type": "code",
   "execution_count": 3,
   "id": "96c166fb-ab38-4eff-b713-8cf6f19e1e33",
   "metadata": {},
   "outputs": [
    {
     "data": {
      "text/html": [
       "<div>\n",
       "<style scoped>\n",
       "    .dataframe tbody tr th:only-of-type {\n",
       "        vertical-align: middle;\n",
       "    }\n",
       "\n",
       "    .dataframe tbody tr th {\n",
       "        vertical-align: top;\n",
       "    }\n",
       "\n",
       "    .dataframe thead th {\n",
       "        text-align: right;\n",
       "    }\n",
       "</style>\n",
       "<table border=\"1\" class=\"dataframe\">\n",
       "  <thead>\n",
       "    <tr style=\"text-align: right;\">\n",
       "      <th></th>\n",
       "      <th>Index</th>\n",
       "      <th>Accident_Severity</th>\n",
       "      <th>Accident Date</th>\n",
       "      <th>Latitude</th>\n",
       "      <th>Light_Conditions</th>\n",
       "      <th>District Area</th>\n",
       "      <th>Longitude</th>\n",
       "      <th>Number_of_Casualties</th>\n",
       "      <th>Number_of_Vehicles</th>\n",
       "      <th>Road_Surface_Conditions</th>\n",
       "      <th>Road_Type</th>\n",
       "      <th>Urban_or_Rural_Area</th>\n",
       "      <th>Weather_Conditions</th>\n",
       "      <th>Vehicle_Type</th>\n",
       "    </tr>\n",
       "  </thead>\n",
       "  <tbody>\n",
       "    <tr>\n",
       "      <th>0</th>\n",
       "      <td>200701BS64157</td>\n",
       "      <td>Serious</td>\n",
       "      <td>05/06/2019</td>\n",
       "      <td>51.506187</td>\n",
       "      <td>Darkness - lights lit</td>\n",
       "      <td>Kensington and Chelsea</td>\n",
       "      <td>-0.209082</td>\n",
       "      <td>1</td>\n",
       "      <td>2</td>\n",
       "      <td>Dry</td>\n",
       "      <td>Single carriageway</td>\n",
       "      <td>Urban</td>\n",
       "      <td>Fine no high winds</td>\n",
       "      <td>Car</td>\n",
       "    </tr>\n",
       "    <tr>\n",
       "      <th>1</th>\n",
       "      <td>200701BS65737</td>\n",
       "      <td>Serious</td>\n",
       "      <td>02/07/2019</td>\n",
       "      <td>51.495029</td>\n",
       "      <td>Daylight</td>\n",
       "      <td>Kensington and Chelsea</td>\n",
       "      <td>-0.173647</td>\n",
       "      <td>1</td>\n",
       "      <td>2</td>\n",
       "      <td>Wet or damp</td>\n",
       "      <td>Single carriageway</td>\n",
       "      <td>Urban</td>\n",
       "      <td>Raining no high winds</td>\n",
       "      <td>Car</td>\n",
       "    </tr>\n",
       "    <tr>\n",
       "      <th>2</th>\n",
       "      <td>200701BS66127</td>\n",
       "      <td>Serious</td>\n",
       "      <td>26/08/2019</td>\n",
       "      <td>51.517715</td>\n",
       "      <td>Darkness - lighting unknown</td>\n",
       "      <td>Kensington and Chelsea</td>\n",
       "      <td>-0.210215</td>\n",
       "      <td>1</td>\n",
       "      <td>3</td>\n",
       "      <td>Dry</td>\n",
       "      <td>NaN</td>\n",
       "      <td>Urban</td>\n",
       "      <td>NaN</td>\n",
       "      <td>Taxi/Private hire car</td>\n",
       "    </tr>\n",
       "    <tr>\n",
       "      <th>3</th>\n",
       "      <td>200701BS66128</td>\n",
       "      <td>Serious</td>\n",
       "      <td>16/08/2019</td>\n",
       "      <td>51.495478</td>\n",
       "      <td>Daylight</td>\n",
       "      <td>Kensington and Chelsea</td>\n",
       "      <td>-0.202731</td>\n",
       "      <td>1</td>\n",
       "      <td>4</td>\n",
       "      <td>Dry</td>\n",
       "      <td>Single carriageway</td>\n",
       "      <td>Urban</td>\n",
       "      <td>Fine no high winds</td>\n",
       "      <td>Bus or coach (17 or more pass seats)</td>\n",
       "    </tr>\n",
       "    <tr>\n",
       "      <th>4</th>\n",
       "      <td>200701BS66837</td>\n",
       "      <td>Slight</td>\n",
       "      <td>03/09/2019</td>\n",
       "      <td>51.488576</td>\n",
       "      <td>Darkness - lights lit</td>\n",
       "      <td>Kensington and Chelsea</td>\n",
       "      <td>-0.192487</td>\n",
       "      <td>1</td>\n",
       "      <td>2</td>\n",
       "      <td>Dry</td>\n",
       "      <td>NaN</td>\n",
       "      <td>Urban</td>\n",
       "      <td>NaN</td>\n",
       "      <td>Other vehicle</td>\n",
       "    </tr>\n",
       "    <tr>\n",
       "      <th>...</th>\n",
       "      <td>...</td>\n",
       "      <td>...</td>\n",
       "      <td>...</td>\n",
       "      <td>...</td>\n",
       "      <td>...</td>\n",
       "      <td>...</td>\n",
       "      <td>...</td>\n",
       "      <td>...</td>\n",
       "      <td>...</td>\n",
       "      <td>...</td>\n",
       "      <td>...</td>\n",
       "      <td>...</td>\n",
       "      <td>...</td>\n",
       "      <td>...</td>\n",
       "    </tr>\n",
       "    <tr>\n",
       "      <th>660674</th>\n",
       "      <td>201091NM01760</td>\n",
       "      <td>Slight</td>\n",
       "      <td>18/02/2022</td>\n",
       "      <td>57.374005</td>\n",
       "      <td>Daylight</td>\n",
       "      <td>Highland</td>\n",
       "      <td>-3.467828</td>\n",
       "      <td>2</td>\n",
       "      <td>1</td>\n",
       "      <td>Dry</td>\n",
       "      <td>Single carriageway</td>\n",
       "      <td>Rural</td>\n",
       "      <td>Fine no high winds</td>\n",
       "      <td>Car</td>\n",
       "    </tr>\n",
       "    <tr>\n",
       "      <th>660675</th>\n",
       "      <td>201091NM01881</td>\n",
       "      <td>Slight</td>\n",
       "      <td>21/02/2022</td>\n",
       "      <td>57.232273</td>\n",
       "      <td>Darkness - no lighting</td>\n",
       "      <td>Highland</td>\n",
       "      <td>-3.809281</td>\n",
       "      <td>1</td>\n",
       "      <td>1</td>\n",
       "      <td>Frost or ice</td>\n",
       "      <td>Single carriageway</td>\n",
       "      <td>Rural</td>\n",
       "      <td>Fine no high winds</td>\n",
       "      <td>Car</td>\n",
       "    </tr>\n",
       "    <tr>\n",
       "      <th>660676</th>\n",
       "      <td>201091NM01935</td>\n",
       "      <td>Slight</td>\n",
       "      <td>23/02/2022</td>\n",
       "      <td>57.585044</td>\n",
       "      <td>Daylight</td>\n",
       "      <td>Highland</td>\n",
       "      <td>-3.862727</td>\n",
       "      <td>1</td>\n",
       "      <td>3</td>\n",
       "      <td>Frost or ice</td>\n",
       "      <td>Single carriageway</td>\n",
       "      <td>Rural</td>\n",
       "      <td>Fine no high winds</td>\n",
       "      <td>Car</td>\n",
       "    </tr>\n",
       "    <tr>\n",
       "      <th>660677</th>\n",
       "      <td>201091NM01964</td>\n",
       "      <td>Serious</td>\n",
       "      <td>23/02/2022</td>\n",
       "      <td>57.214898</td>\n",
       "      <td>Darkness - no lighting</td>\n",
       "      <td>Highland</td>\n",
       "      <td>-3.823997</td>\n",
       "      <td>1</td>\n",
       "      <td>2</td>\n",
       "      <td>Wet or damp</td>\n",
       "      <td>Single carriageway</td>\n",
       "      <td>Rural</td>\n",
       "      <td>Fine no high winds</td>\n",
       "      <td>Motorcycle over 500cc</td>\n",
       "    </tr>\n",
       "    <tr>\n",
       "      <th>660678</th>\n",
       "      <td>201091NM02142</td>\n",
       "      <td>Serious</td>\n",
       "      <td>28/02/2022</td>\n",
       "      <td>57.575210</td>\n",
       "      <td>Daylight</td>\n",
       "      <td>Highland</td>\n",
       "      <td>-3.895673</td>\n",
       "      <td>1</td>\n",
       "      <td>1</td>\n",
       "      <td>Wet or damp</td>\n",
       "      <td>Dual carriageway</td>\n",
       "      <td>Rural</td>\n",
       "      <td>Snowing no high winds</td>\n",
       "      <td>Car</td>\n",
       "    </tr>\n",
       "  </tbody>\n",
       "</table>\n",
       "<p>660679 rows × 14 columns</p>\n",
       "</div>"
      ],
      "text/plain": [
       "                Index Accident_Severity Accident Date   Latitude  \\\n",
       "0       200701BS64157           Serious    05/06/2019  51.506187   \n",
       "1       200701BS65737           Serious    02/07/2019  51.495029   \n",
       "2       200701BS66127           Serious    26/08/2019  51.517715   \n",
       "3       200701BS66128           Serious    16/08/2019  51.495478   \n",
       "4       200701BS66837            Slight    03/09/2019  51.488576   \n",
       "...               ...               ...           ...        ...   \n",
       "660674  201091NM01760            Slight    18/02/2022  57.374005   \n",
       "660675  201091NM01881            Slight    21/02/2022  57.232273   \n",
       "660676  201091NM01935            Slight    23/02/2022  57.585044   \n",
       "660677  201091NM01964           Serious    23/02/2022  57.214898   \n",
       "660678  201091NM02142           Serious    28/02/2022  57.575210   \n",
       "\n",
       "                   Light_Conditions           District Area  Longitude  \\\n",
       "0             Darkness - lights lit  Kensington and Chelsea  -0.209082   \n",
       "1                          Daylight  Kensington and Chelsea  -0.173647   \n",
       "2       Darkness - lighting unknown  Kensington and Chelsea  -0.210215   \n",
       "3                          Daylight  Kensington and Chelsea  -0.202731   \n",
       "4             Darkness - lights lit  Kensington and Chelsea  -0.192487   \n",
       "...                             ...                     ...        ...   \n",
       "660674                     Daylight                Highland  -3.467828   \n",
       "660675       Darkness - no lighting                Highland  -3.809281   \n",
       "660676                     Daylight                Highland  -3.862727   \n",
       "660677       Darkness - no lighting                Highland  -3.823997   \n",
       "660678                     Daylight                Highland  -3.895673   \n",
       "\n",
       "        Number_of_Casualties  Number_of_Vehicles Road_Surface_Conditions  \\\n",
       "0                          1                   2                     Dry   \n",
       "1                          1                   2             Wet or damp   \n",
       "2                          1                   3                     Dry   \n",
       "3                          1                   4                     Dry   \n",
       "4                          1                   2                     Dry   \n",
       "...                      ...                 ...                     ...   \n",
       "660674                     2                   1                     Dry   \n",
       "660675                     1                   1            Frost or ice   \n",
       "660676                     1                   3            Frost or ice   \n",
       "660677                     1                   2             Wet or damp   \n",
       "660678                     1                   1             Wet or damp   \n",
       "\n",
       "                 Road_Type Urban_or_Rural_Area     Weather_Conditions  \\\n",
       "0       Single carriageway               Urban     Fine no high winds   \n",
       "1       Single carriageway               Urban  Raining no high winds   \n",
       "2                      NaN               Urban                    NaN   \n",
       "3       Single carriageway               Urban     Fine no high winds   \n",
       "4                      NaN               Urban                    NaN   \n",
       "...                    ...                 ...                    ...   \n",
       "660674  Single carriageway               Rural     Fine no high winds   \n",
       "660675  Single carriageway               Rural     Fine no high winds   \n",
       "660676  Single carriageway               Rural     Fine no high winds   \n",
       "660677  Single carriageway               Rural     Fine no high winds   \n",
       "660678    Dual carriageway               Rural  Snowing no high winds   \n",
       "\n",
       "                                Vehicle_Type  \n",
       "0                                        Car  \n",
       "1                                        Car  \n",
       "2                      Taxi/Private hire car  \n",
       "3       Bus or coach (17 or more pass seats)  \n",
       "4                              Other vehicle  \n",
       "...                                      ...  \n",
       "660674                                   Car  \n",
       "660675                                   Car  \n",
       "660676                                   Car  \n",
       "660677                 Motorcycle over 500cc  \n",
       "660678                                   Car  \n",
       "\n",
       "[660679 rows x 14 columns]"
      ]
     },
     "execution_count": 3,
     "metadata": {},
     "output_type": "execute_result"
    }
   ],
   "source": [
    "UKRoad"
   ]
  },
  {
   "cell_type": "markdown",
   "id": "a912dc6c-f732-45ad-ae7a-0ffbf34cd62a",
   "metadata": {},
   "source": [
    "<h1>Filling Up Null Values and Changing DataTypes</h1>"
   ]
  },
  {
   "cell_type": "code",
   "execution_count": 4,
   "id": "a7f0ab67-908d-4b79-8ca3-077d7f3cd675",
   "metadata": {},
   "outputs": [
    {
     "data": {
      "text/plain": [
       "Index                          0\n",
       "Accident_Severity              0\n",
       "Accident Date                  0\n",
       "Latitude                      25\n",
       "Light_Conditions               0\n",
       "District Area                  0\n",
       "Longitude                     26\n",
       "Number_of_Casualties           0\n",
       "Number_of_Vehicles             0\n",
       "Road_Surface_Conditions      726\n",
       "Road_Type                   4520\n",
       "Urban_or_Rural_Area           15\n",
       "Weather_Conditions         14128\n",
       "Vehicle_Type                   0\n",
       "dtype: int64"
      ]
     },
     "execution_count": 4,
     "metadata": {},
     "output_type": "execute_result"
    }
   ],
   "source": [
    "UKRoad.isnull().sum()"
   ]
  },
  {
   "cell_type": "code",
   "execution_count": 5,
   "id": "bd8de360-ad4d-44fd-937b-98b6fdc927e4",
   "metadata": {},
   "outputs": [
    {
     "data": {
      "text/plain": [
       "Index                      0\n",
       "Accident_Severity          0\n",
       "Accident Date              0\n",
       "Latitude                   0\n",
       "Light_Conditions           0\n",
       "District Area              0\n",
       "Longitude                  0\n",
       "Number_of_Casualties       0\n",
       "Number_of_Vehicles         0\n",
       "Road_Surface_Conditions    0\n",
       "Road_Type                  0\n",
       "Urban_or_Rural_Area        0\n",
       "Weather_Conditions         0\n",
       "Vehicle_Type               0\n",
       "dtype: int64"
      ]
     },
     "execution_count": 5,
     "metadata": {},
     "output_type": "execute_result"
    }
   ],
   "source": [
    "UKRoad[\"Latitude\"] = UKRoad[\"Latitude\"].fillna(UKRoad[\"Latitude\"].mean())\n",
    "UKRoad[\"Longitude\"] = UKRoad[\"Longitude\"].fillna(UKRoad[\"Longitude\"].mean())\n",
    "UKRoad[\"Road_Surface_Conditions\"] = UKRoad[\"Road_Surface_Conditions\"].fillna(UKRoad[\"Road_Surface_Conditions\"].mode()[0])\n",
    "UKRoad[\"Road_Type\"] = UKRoad[\"Road_Type\"].fillna(UKRoad[\"Road_Type\"].mode()[0])\n",
    "UKRoad[\"Urban_or_Rural_Area\"] = UKRoad[\"Urban_or_Rural_Area\"].fillna(UKRoad[\"Urban_or_Rural_Area\"].mode()[0])\n",
    "UKRoad[\"Weather_Conditions\"] = UKRoad[\"Weather_Conditions\"].fillna(UKRoad[\"Weather_Conditions\"].mode()[0])\n",
    "UKRoad.isnull().sum()"
   ]
  },
  {
   "cell_type": "code",
   "execution_count": 6,
   "id": "d5aca9ab-c6f1-492e-8529-282646866b9e",
   "metadata": {},
   "outputs": [
    {
     "data": {
      "text/plain": [
       "Index                      category\n",
       "Accident_Severity          category\n",
       "Accident Date                object\n",
       "Latitude                    float64\n",
       "Light_Conditions           category\n",
       "District Area              category\n",
       "Longitude                   float64\n",
       "Number_of_Casualties          int64\n",
       "Number_of_Vehicles            int64\n",
       "Road_Surface_Conditions    category\n",
       "Road_Type                  category\n",
       "Urban_or_Rural_Area        category\n",
       "Weather_Conditions         category\n",
       "Vehicle_Type               category\n",
       "dtype: object"
      ]
     },
     "execution_count": 6,
     "metadata": {},
     "output_type": "execute_result"
    }
   ],
   "source": [
    "UKRoad[\"Index\"] = UKRoad[\"Index\"].astype(\"category\")\n",
    "UKRoad[\"Accident_Severity\"] = UKRoad[\"Accident_Severity\"].astype(\"category\")\n",
    "UKRoad[\"Light_Conditions\"] = UKRoad[\"Light_Conditions\"].astype(\"category\")\n",
    "UKRoad[\"District Area\"] = UKRoad[\"District Area\"].astype(\"category\")\n",
    "UKRoad[\"Road_Surface_Conditions\"] = UKRoad[\"Road_Surface_Conditions\"].astype(\"category\")\n",
    "UKRoad[\"Road_Type\"] = UKRoad[\"Road_Type\"].astype(\"category\")\n",
    "UKRoad[\"Urban_or_Rural_Area\"] = UKRoad[\"Urban_or_Rural_Area\"].astype(\"category\")\n",
    "UKRoad[\"Weather_Conditions\"] = UKRoad[\"Weather_Conditions\"].astype(\"category\")\n",
    "UKRoad[\"Vehicle_Type\"] = UKRoad[\"Vehicle_Type\"].astype(\"category\")\n",
    "UKRoad.dtypes"
   ]
  },
  {
   "cell_type": "markdown",
   "id": "91481be3-f84a-4a29-b0c7-ddd8f2fa78eb",
   "metadata": {},
   "source": [
    "<h1>Changing the Accident Date to a Datetime dtypes using pandas</h1>"
   ]
  },
  {
   "cell_type": "code",
   "execution_count": 7,
   "id": "f6abd639-4563-40ad-9ee9-822ea0b1daeb",
   "metadata": {},
   "outputs": [
    {
     "data": {
      "text/plain": [
       "Index                            category\n",
       "Accident_Severity                category\n",
       "Accident Date              datetime64[ns]\n",
       "Latitude                          float64\n",
       "Light_Conditions                 category\n",
       "District Area                    category\n",
       "Longitude                         float64\n",
       "Number_of_Casualties                int64\n",
       "Number_of_Vehicles                  int64\n",
       "Road_Surface_Conditions          category\n",
       "Road_Type                        category\n",
       "Urban_or_Rural_Area              category\n",
       "Weather_Conditions               category\n",
       "Vehicle_Type                     category\n",
       "Year                                int32\n",
       "Day                                 int32\n",
       "Month                               int32\n",
       "Day of Week                         int32\n",
       "dtype: object"
      ]
     },
     "execution_count": 7,
     "metadata": {},
     "output_type": "execute_result"
    }
   ],
   "source": [
    "UKRoad[\"Accident Date\"] = pd.to_datetime(UKRoad[\"Accident Date\"], dayfirst = True, errors = \"coerce\")\n",
    "UKRoad[\"Year\"] = UKRoad[\"Accident Date\"].dt.year\n",
    "UKRoad[\"Day\"] = UKRoad[\"Accident Date\"].dt.day\n",
    "UKRoad[\"Month\"] = UKRoad[\"Accident Date\"].dt.month\n",
    "UKRoad[\"Day of Week\"] = UKRoad[\"Accident Date\"].dt.dayofweek\n",
    "UKRoad.dtypes"
   ]
  },
  {
   "cell_type": "markdown",
   "id": "981d233d-d83e-4b87-a33e-7dc8c76001fc",
   "metadata": {},
   "source": [
    "<h1>Exploratory Data Analysis (EDA)</h1>\n",
    "<hr>"
   ]
  },
  {
   "cell_type": "markdown",
   "id": "f3041a7e-fce2-49c4-919b-048acc2172cf",
   "metadata": {},
   "source": [
    "<h2>Basic Insights</h2>\n",
    "<h2>1. What is the common Accident Severity in UK?</h2>"
   ]
  },
  {
   "cell_type": "code",
   "execution_count": 8,
   "id": "c061ee1c-d053-489e-b394-b59a069d5aa2",
   "metadata": {},
   "outputs": [],
   "source": [
    "AccSev = UKRoad[\"Accident_Severity\"].value_counts()"
   ]
  },
  {
   "cell_type": "code",
   "execution_count": 9,
   "id": "558cbb27-91b2-4a8a-a052-01593ae34be3",
   "metadata": {},
   "outputs": [
    {
     "data": {
      "text/plain": [
       "Accident_Severity\n",
       "Slight     563801\n",
       "Serious     88217\n",
       "Fatal        8661\n",
       "Name: count, dtype: int64"
      ]
     },
     "execution_count": 9,
     "metadata": {},
     "output_type": "execute_result"
    }
   ],
   "source": [
    "AccSev"
   ]
  },
  {
   "cell_type": "markdown",
   "id": "2df5779f-4341-4f71-9e97-2a3165d62448",
   "metadata": {},
   "source": [
    "<h4>Insights:</h4>\n",
    "<h4>As we can see in the Data, the most frequent or common Accident Severity is <b>Slight</b> with a total of <b>563801</b></h4>\n",
    "<hr>"
   ]
  },
  {
   "cell_type": "markdown",
   "id": "c1d66d61-bc00-45f8-9f92-287b1388b19d",
   "metadata": {},
   "source": [
    "<h2>2. Which district area has the highest number of accidents recorded?</h2>"
   ]
  },
  {
   "cell_type": "code",
   "execution_count": 10,
   "id": "c95d4e43-cb72-41f2-a4a7-cbd92aff140c",
   "metadata": {},
   "outputs": [],
   "source": [
    "DisAcc = UKRoad[\"District Area\"].value_counts()"
   ]
  },
  {
   "cell_type": "code",
   "execution_count": 11,
   "id": "1b5c7dbf-b8df-4430-b70e-aa781cdee17d",
   "metadata": {},
   "outputs": [
    {
     "data": {
      "text/plain": [
       "District Area\n",
       "Birmingham            13491\n",
       "Leeds                  8898\n",
       "Manchester             6720\n",
       "Bradford               6212\n",
       "Sheffield              5710\n",
       "                      ...  \n",
       "Berwick-upon-Tweed      153\n",
       "Teesdale                142\n",
       "Shetland Islands        133\n",
       "Orkney Islands          117\n",
       "Clackmannanshire         91\n",
       "Name: count, Length: 422, dtype: int64"
      ]
     },
     "execution_count": 11,
     "metadata": {},
     "output_type": "execute_result"
    }
   ],
   "source": [
    "DisAcc"
   ]
  },
  {
   "cell_type": "markdown",
   "id": "97c25ab8-7ff5-4bdd-9525-c71baafcbf43",
   "metadata": {},
   "source": [
    "<h4>Insights:</h4>\n",
    "<h4>The majority of Accidents Occured in the District Area of <b>Birmingham</b> with a total of <b>13491</b> while <b>Clackmannanshire</b> is the least in terms of Accidents with the toal of <b>91</b></h4>\n",
    "<hr>"
   ]
  },
  {
   "cell_type": "markdown",
   "id": "d3345f94-09f2-4be1-80e1-a5e122311dd0",
   "metadata": {},
   "source": [
    "<h2>3. How many accidents happened in urban vs rural areas?</h2>"
   ]
  },
  {
   "cell_type": "code",
   "execution_count": 12,
   "id": "f1f38250-c537-49b2-8598-5f0983b618c4",
   "metadata": {},
   "outputs": [],
   "source": [
    "Urral = UKRoad['Urban_or_Rural_Area'].value_counts()"
   ]
  },
  {
   "cell_type": "code",
   "execution_count": 13,
   "id": "a676ec9f-408b-4289-bd8d-3e42a9c1d25b",
   "metadata": {},
   "outputs": [
    {
     "data": {
      "text/plain": [
       "Urban_or_Rural_Area\n",
       "Urban          421678\n",
       "Rural          238990\n",
       "Unallocated        11\n",
       "Name: count, dtype: int64"
      ]
     },
     "execution_count": 13,
     "metadata": {},
     "output_type": "execute_result"
    }
   ],
   "source": [
    "Urral"
   ]
  },
  {
   "cell_type": "markdown",
   "id": "d8aaebfd-02bc-405b-842f-dbe321b94bca",
   "metadata": {},
   "source": [
    "<h4>Insights:</h4>\n",
    "<h4>Majority of the accidents occured in <b>Urban Area</b> which is predictable since Urban Area are more prone to vehicle related incidents while the Rural Area have less accidents since Rural Area rarely have a traffic, activities on the road and less density of people on the road</h4>\n",
    "<hr>"
   ]
  },
  {
   "cell_type": "markdown",
   "id": "b7384595-1662-443f-b7f0-42a4d7b35209",
   "metadata": {},
   "source": [
    "<h2>4. What is the average number of casualties per accident?</h2>"
   ]
  },
  {
   "cell_type": "code",
   "execution_count": 14,
   "id": "ba15b4df-c326-49c6-b831-4c0b3ac26039",
   "metadata": {},
   "outputs": [],
   "source": [
    "CasAve = UKRoad[\"Number_of_Casualties\"].mean()"
   ]
  },
  {
   "cell_type": "code",
   "execution_count": 15,
   "id": "6381dede-3b0e-4297-81b8-3d376ca1b8ec",
   "metadata": {},
   "outputs": [
    {
     "data": {
      "text/plain": [
       "np.float64(1.357040257068864)"
      ]
     },
     "execution_count": 15,
     "metadata": {},
     "output_type": "execute_result"
    }
   ],
   "source": [
    "CasAve"
   ]
  },
  {
   "cell_type": "markdown",
   "id": "9b922075-239e-49c4-8b6f-3a38cb4f2e54",
   "metadata": {
    "jp-MarkdownHeadingCollapsed": true
   },
   "source": [
    "<h4>Insights:</h4>\n",
    "<h4>Each accident results in about <b>1.36</b> casualties. This means that, on average, each accident involves about 1 to 2 casualties,</h4>"
   ]
  },
  {
   "cell_type": "markdown",
   "id": "0dd2e57f-2532-4b5f-9acc-f5d0eef85bf1",
   "metadata": {},
   "source": [
    "<h2>5. What are the most common weather conditions during accidents?</h2>"
   ]
  },
  {
   "cell_type": "code",
   "execution_count": 16,
   "id": "b35b764d-6b6d-4a62-9b5b-965235d890fc",
   "metadata": {},
   "outputs": [],
   "source": [
    "WeaCon = UKRoad[\"Weather_Conditions\"].value_counts()"
   ]
  },
  {
   "cell_type": "code",
   "execution_count": 17,
   "id": "d9bb3b05-abcb-42bf-8262-643b187fef59",
   "metadata": {
    "scrolled": true
   },
   "outputs": [
    {
     "data": {
      "text/plain": [
       "Weather_Conditions\n",
       "Fine no high winds       535013\n",
       "Raining no high winds     79696\n",
       "Other                     17150\n",
       "Raining + high winds       9615\n",
       "Fine + high winds          8554\n",
       "Snowing no high winds      6238\n",
       "Fog or mist                3528\n",
       "Snowing + high winds        885\n",
       "Name: count, dtype: int64"
      ]
     },
     "execution_count": 17,
     "metadata": {},
     "output_type": "execute_result"
    }
   ],
   "source": [
    "WeaCon"
   ]
  },
  {
   "cell_type": "markdown",
   "id": "c9d42624-6eb8-4658-aed6-9df727ede55c",
   "metadata": {},
   "source": [
    "<h4>Insights:</h4>\n",
    "<h4>Most accidents happened during the conditions of <b>Fine no high winds</b> which is quite weird since I expect the accidents to spike when it has bad weather conditions.</h4>\n",
    "<hr>"
   ]
  },
  {
   "cell_type": "markdown",
   "id": "207463d8-a80d-45e8-9d9b-03575785061d",
   "metadata": {},
   "source": [
    "<h2>Comparison Insights/Question</h2>\n",
    "<h2>6. Do urban accidents tend to have more casualties than rural accidents?</h2>"
   ]
  },
  {
   "cell_type": "code",
   "execution_count": 18,
   "id": "88b51bf9-d832-481b-9c86-0bb0d1768ee9",
   "metadata": {},
   "outputs": [],
   "source": [
    "urban_casualties = UKRoad[UKRoad['Urban_or_Rural_Area'] == 'Urban']['Number_of_Casualties']\n",
    "rural_casualties = UKRoad[UKRoad['Urban_or_Rural_Area'] == 'Rural']['Number_of_Casualties']"
   ]
  },
  {
   "cell_type": "code",
   "execution_count": 19,
   "id": "dfd71272-c5aa-4516-90cf-2ded2eec2d97",
   "metadata": {},
   "outputs": [
    {
     "data": {
      "text/plain": [
       "np.int64(543040)"
      ]
     },
     "execution_count": 19,
     "metadata": {},
     "output_type": "execute_result"
    }
   ],
   "source": [
    "urban_casualties.sum()"
   ]
  },
  {
   "cell_type": "code",
   "execution_count": 20,
   "id": "2f2af481-4888-410f-af47-112c5d3d58cc",
   "metadata": {},
   "outputs": [
    {
     "data": {
      "text/plain": [
       "np.float64(1.2878072842310957)"
      ]
     },
     "execution_count": 20,
     "metadata": {},
     "output_type": "execute_result"
    }
   ],
   "source": [
    "urban_casualties.mean()"
   ]
  },
  {
   "cell_type": "code",
   "execution_count": 21,
   "id": "cb24f934-c9a3-4c9e-a085-aff37bc75665",
   "metadata": {},
   "outputs": [
    {
     "data": {
      "text/plain": [
       "np.int64(353515)"
      ]
     },
     "execution_count": 21,
     "metadata": {},
     "output_type": "execute_result"
    }
   ],
   "source": [
    "rural_casualties.sum()"
   ]
  },
  {
   "cell_type": "code",
   "execution_count": 22,
   "id": "8c0195e6-664a-47d7-960b-21dafce00660",
   "metadata": {},
   "outputs": [
    {
     "data": {
      "text/plain": [
       "np.float64(1.4792041508012888)"
      ]
     },
     "execution_count": 22,
     "metadata": {},
     "output_type": "execute_result"
    }
   ],
   "source": [
    "rural_casualties.mean()"
   ]
  },
  {
   "cell_type": "markdown",
   "id": "34aaf68b-9df6-4d35-ae03-db8823628242",
   "metadata": {},
   "source": [
    "<h4>Insights:</h4>\n",
    "<h4>Yes, comparing the two Urban tend to have more accidents than Rural Area. Still, Urban areas in the previous insights have a significantly larger accident, somehow their casualties are quite close. I think it suggest that Rural Area is tend to have severe or slightly more dangerous than Urban Areas</h4>\n",
    "<hr>"
   ]
  },
  {
   "cell_type": "markdown",
   "id": "d45f4ea9-e03e-4408-a250-2928bb95cc30",
   "metadata": {},
   "source": [
    "<h2>7. Is the average number of casualties higher in bad weather than in good weather?</h2>"
   ]
  },
  {
   "cell_type": "code",
   "execution_count": 23,
   "id": "44247b1e-4127-422e-95d6-e03e7c35bf8c",
   "metadata": {},
   "outputs": [],
   "source": [
    "good_conditions = UKRoad[(UKRoad[\"Weather_Conditions\"] == \"Fine no high winds\")|\n",
    "                        (UKRoad[\"Weather_Conditions\"] == \"Raining no high winds\")|\n",
    "                        (UKRoad[\"Weather_Conditions\"] == \"Snowing no high winds\")]['Number_of_Casualties']\n",
    "\n",
    "bad_conditions = UKRoad[(UKRoad[\"Weather_Conditions\"] == \"Raining + high winds\")|\n",
    "                        (UKRoad[\"Weather_Conditions\"] == \"Fine + high winds\")|\n",
    "                        (UKRoad[\"Weather_Conditions\"] == \"Snowing + high winds\")]['Number_of_Casualties']"
   ]
  },
  {
   "cell_type": "code",
   "execution_count": 24,
   "id": "1b0f4050-07f7-4f58-a1e9-c9ba9ff44a8b",
   "metadata": {},
   "outputs": [
    {
     "data": {
      "text/plain": [
       "np.float64(1.355146252417678)"
      ]
     },
     "execution_count": 24,
     "metadata": {},
     "output_type": "execute_result"
    }
   ],
   "source": [
    "good_conditions.mean()"
   ]
  },
  {
   "cell_type": "code",
   "execution_count": 25,
   "id": "087adbab-f4c9-4c6e-813c-07dbfc70b621",
   "metadata": {},
   "outputs": [
    {
     "data": {
      "text/plain": [
       "np.float64(1.402960008397187)"
      ]
     },
     "execution_count": 25,
     "metadata": {},
     "output_type": "execute_result"
    }
   ],
   "source": [
    "bad_conditions.mean()"
   ]
  },
  {
   "cell_type": "markdown",
   "id": "8335e5ad-e810-4464-b83e-733dc4cf7aeb",
   "metadata": {},
   "source": [
    "<h4>Insights:</h4>\n",
    "<h4>Yes, the average of number of casualties is higher in bad weather with the average of 1.40, while good weather only had 1.35. Note that I didnt add others and fog and mist since I dont know what type of weather the two are.</h4>\n",
    "<hr>"
   ]
  },
  {
   "cell_type": "markdown",
   "id": "6b39356b-ee25-4eda-ad40-24e43e5bd36f",
   "metadata": {},
   "source": [
    "<h2>8. Do accidents with multiple vehicles cause more casualties than single-vehicle accidents?</h2>"
   ]
  },
  {
   "cell_type": "code",
   "execution_count": 26,
   "id": "8e2d88eb-cf21-4a25-a8c7-e913c07b16cc",
   "metadata": {},
   "outputs": [],
   "source": [
    "single_vehicle = UKRoad[UKRoad[\"Number_of_Vehicles\"] == 1]['Number_of_Casualties']\n",
    "multiple_vehicle = UKRoad[UKRoad[\"Number_of_Vehicles\"] > 1]['Number_of_Casualties']"
   ]
  },
  {
   "cell_type": "code",
   "execution_count": 27,
   "id": "c05df9ad-b1d5-4f01-ba32-5cd0e8322ace",
   "metadata": {},
   "outputs": [
    {
     "data": {
      "text/plain": [
       "np.int64(235108)"
      ]
     },
     "execution_count": 27,
     "metadata": {},
     "output_type": "execute_result"
    }
   ],
   "source": [
    "single_vehicle.sum()"
   ]
  },
  {
   "cell_type": "code",
   "execution_count": 28,
   "id": "55424308-ad81-4772-9faa-3ac428854286",
   "metadata": {},
   "outputs": [
    {
     "data": {
      "text/plain": [
       "np.int64(661460)"
      ]
     },
     "execution_count": 28,
     "metadata": {},
     "output_type": "execute_result"
    }
   ],
   "source": [
    "multiple_vehicle.sum()"
   ]
  },
  {
   "cell_type": "markdown",
   "id": "ab764514-7d94-4d65-86c2-41bd2c83c4d4",
   "metadata": {},
   "source": [
    "<h4>Insights:</h4>\n",
    "<h4>Accidents involving Multiple vehicles tend to have more casualties than a Single Vehicle. Which is understandble since, Multiple vehicles tend to have more passengers which increases the casualties.</h4>\n",
    "<hr>"
   ]
  },
  {
   "cell_type": "markdown",
   "id": "c5eefae5-f06c-4be6-a5ad-0e0d404df755",
   "metadata": {},
   "source": [
    "<h2>9. Do accidents under “Darkness – no lighting” lead to more fatalities than those in “Daylight”?</h2>"
   ]
  },
  {
   "cell_type": "code",
   "execution_count": 29,
   "id": "002e7b1d-3603-4dd1-b76a-c633cc3aa0e6",
   "metadata": {},
   "outputs": [
    {
     "data": {
      "text/plain": [
       "Light_Conditions\n",
       "Daylight                       484880\n",
       "Darkness - lights lit          129335\n",
       "Darkness - no lighting          37437\n",
       "Darkness - lighting unknown      6484\n",
       "Darkness - lights unlit          2543\n",
       "Name: count, dtype: int64"
      ]
     },
     "execution_count": 29,
     "metadata": {},
     "output_type": "execute_result"
    }
   ],
   "source": [
    "Darknolight = UKRoad[UKRoad[\"Light_Conditions\"] == \"Darkness - no lighting\"]['Number_of_Casualties']\n",
    "Daylight = UKRoad[UKRoad[\"Light_Conditions\"] == \"Daylight\"]['Number_of_Casualties']\n",
    "UKRoad[\"Light_Conditions\"].value_counts()"
   ]
  },
  {
   "cell_type": "code",
   "execution_count": 30,
   "id": "ed226eaf-dfa7-4564-9210-ed89bdc9a969",
   "metadata": {},
   "outputs": [
    {
     "data": {
      "text/plain": [
       "np.int64(57715)"
      ]
     },
     "execution_count": 30,
     "metadata": {},
     "output_type": "execute_result"
    }
   ],
   "source": [
    "Darknolight.sum()"
   ]
  },
  {
   "cell_type": "code",
   "execution_count": 31,
   "id": "f5319cc7-eaa2-4a03-9f60-864b9c7bbda0",
   "metadata": {},
   "outputs": [
    {
     "data": {
      "text/plain": [
       "np.int64(649889)"
      ]
     },
     "execution_count": 31,
     "metadata": {},
     "output_type": "execute_result"
    }
   ],
   "source": [
    "Daylight.sum()"
   ]
  },
  {
   "cell_type": "markdown",
   "id": "88f294eb-bb3e-4698-966e-b08ad0d5da7e",
   "metadata": {},
   "source": [
    "<h4>Insights:</h4>\n",
    "<h4>Surprisingly, No, Daylight tend to have more fatalities than those in Darkness no Lighting. According to the Data in the UK Road Accidents there are atleast 484,880 incidents that happen during daylight and if you look at the total casualties it results in 649,889 which is large in comparison to the incidents. This indicates that each daylight accident involved slightly more than one casualty.</h4>\n",
    "<hr>"
   ]
  },
  {
   "cell_type": "markdown",
   "id": "71d7b65b-1a3d-4ad0-8270-9498932607dd",
   "metadata": {},
   "source": [
    "<h2>10. Do wet/icy roads lead to more casualties than dry roads?</h2>"
   ]
  },
  {
   "cell_type": "code",
   "execution_count": 32,
   "id": "4d842d2d-bb62-4bec-9438-ef53e964a447",
   "metadata": {},
   "outputs": [
    {
     "data": {
      "text/plain": [
       "Road_Surface_Conditions\n",
       "Dry                     448547\n",
       "Wet or damp             186708\n",
       "Frost or ice             18517\n",
       "Snow                      5890\n",
       "Flood over 3cm. deep      1017\n",
       "Name: count, dtype: int64"
      ]
     },
     "execution_count": 32,
     "metadata": {},
     "output_type": "execute_result"
    }
   ],
   "source": [
    "UKRoad[\"Road_Surface_Conditions\"].value_counts()"
   ]
  },
  {
   "cell_type": "code",
   "execution_count": 33,
   "id": "f11b0b8f-b056-4759-8258-733b14d87564",
   "metadata": {},
   "outputs": [],
   "source": [
    "weticy = UKRoad[(UKRoad[\"Road_Surface_Conditions\"] == \"Wet or damp\")|\n",
    "                (UKRoad[\"Road_Surface_Conditions\"] == \"Frost or ice\")][\"Number_of_Casualties\"]\n",
    "dryroa = UKRoad[UKRoad[\"Road_Surface_Conditions\"] == \"Dry\"][\"Number_of_Casualties\"]"
   ]
  },
  {
   "cell_type": "code",
   "execution_count": 34,
   "id": "fb6e74c0-6fd3-41ec-a3da-9aa92dbf6539",
   "metadata": {},
   "outputs": [
    {
     "data": {
      "text/plain": [
       "np.int64(288433)"
      ]
     },
     "execution_count": 34,
     "metadata": {},
     "output_type": "execute_result"
    }
   ],
   "source": [
    "weticy.sum()"
   ]
  },
  {
   "cell_type": "code",
   "execution_count": 35,
   "id": "cd9b54c6-5f51-401a-ae45-3077dd3e4d1a",
   "metadata": {},
   "outputs": [
    {
     "data": {
      "text/plain": [
       "np.int64(598606)"
      ]
     },
     "execution_count": 35,
     "metadata": {},
     "output_type": "execute_result"
    }
   ],
   "source": [
    "dryroa.sum()"
   ]
  },
  {
   "cell_type": "markdown",
   "id": "dde64b4c-07bc-40fc-836d-5d6e168ef29a",
   "metadata": {},
   "source": [
    "<h4>Insights:</h4>\n",
    "<h4>No, wet/icy roads doesn't lead to more casualties compared to Dry Roads. Which kinda makes sense, Drivers tend to control their speed which helps to reduce road accidents.</h4>\n",
    "<hr>"
   ]
  },
  {
   "cell_type": "markdown",
   "id": "6c4e1ce9-efa6-4259-af31-9f800154c8fd",
   "metadata": {},
   "source": [
    "<h2>11. Do motorcycles have a higher rate of serious/fatal accidents compared to cars?</h2>"
   ]
  },
  {
   "cell_type": "code",
   "execution_count": 36,
   "id": "384ed782-2630-4976-acdf-3a650c8b8648",
   "metadata": {},
   "outputs": [],
   "source": [
    "motor = UKRoad[(UKRoad[\"Vehicle_Type\"] == \"Motorcycle over 500cc\")|\n",
    "               (UKRoad[\"Vehicle_Type\"] == \"Motorcycle 125cc and under\")|\n",
    "               (UKRoad[\"Vehicle_Type\"] == \"Motorcycle over 125cc and up to 500cc\")|\n",
    "               (UKRoad[\"Vehicle_Type\"] == \"Motorcycle 50cc and under\")]\n",
    "cars = UKRoad[UKRoad[\"Vehicle_Type\"] == \"Car\"]"
   ]
  },
  {
   "cell_type": "code",
   "execution_count": 37,
   "id": "c292456a-9c3e-4407-b6ec-f95a22cf683b",
   "metadata": {},
   "outputs": [],
   "source": [
    "motor_severe = motor[(motor[\"Accident_Severity\"] == \"Fatal\") | \n",
    "                     (motor[\"Accident_Severity\"] == \"Serious\")]\n",
    "car_severe = cars[(cars[\"Accident_Severity\"] == \"Fatal\") | \n",
    "                     (cars[\"Accident_Severity\"] == \"Serious\")]"
   ]
  },
  {
   "cell_type": "code",
   "execution_count": 38,
   "id": "3402fa90-97e5-49fd-b320-7aaa4ef62904",
   "metadata": {},
   "outputs": [
    {
     "data": {
      "text/plain": [
       "np.int64(8244)"
      ]
     },
     "execution_count": 38,
     "metadata": {},
     "output_type": "execute_result"
    }
   ],
   "source": [
    "motor_severe.value_counts().sum()"
   ]
  },
  {
   "cell_type": "code",
   "execution_count": 39,
   "id": "7ab494cb-62f4-4f2a-b692-eafefe178b79",
   "metadata": {},
   "outputs": [
    {
     "data": {
      "text/plain": [
       "np.int64(73038)"
      ]
     },
     "execution_count": 39,
     "metadata": {},
     "output_type": "execute_result"
    }
   ],
   "source": [
    "car_severe.value_counts().sum()"
   ]
  },
  {
   "cell_type": "markdown",
   "id": "cb7ff27e-3229-4d75-af75-5ae4ffc108c1",
   "metadata": {},
   "source": [
    "<h4>Insights:</h4>\n",
    "<h4>Apparently not, despite combining 4 types of motocycles it's still doesn't have a higher rate of Serious/Fatal accidents compared to Cars. It indicates that there are motorcycle drivers dont risk themself getting injured that's why the result is low</h4>\n",
    "<hr>"
   ]
  },
  {
   "cell_type": "markdown",
   "id": "33812419-b994-4799-926d-c652facac245",
   "metadata": {},
   "source": [
    "<h2>12. Do accidents involving buses or heavy vehicles lead to more casualties on average compared to cars and motorcycles?</h2>"
   ]
  },
  {
   "cell_type": "code",
   "execution_count": 40,
   "id": "68d087cf-9f69-45ec-962c-09f0bb2b31cd",
   "metadata": {},
   "outputs": [],
   "source": [
    "heavycars = UKRoad[(UKRoad[\"Vehicle_Type\"] == \"Goods 7.5 tonnes mgw and over\")|\n",
    "                   (UKRoad[\"Vehicle_Type\"] == \"Goods over 3.5t. and under 7.5t\")|\n",
    "                   (UKRoad[\"Vehicle_Type\"] == \"Bus or coach (17 or more pass seats)\")|\n",
    "                   (UKRoad[\"Vehicle_Type\"] == \"Minibus (8 - 16 passenger seats)\")|\n",
    "                   (UKRoad[\"Vehicle_Type\"] == \"Agricultural vehicle\")]\n",
    "\n",
    "carmotor = UKRoad[(UKRoad[\"Vehicle_Type\"] == \"Motorcycle over 500cc\")|\n",
    "                  (UKRoad[\"Vehicle_Type\"] == \"Motorcycle 125cc and under\")|\n",
    "                  (UKRoad[\"Vehicle_Type\"] == \"Motorcycle over 125cc and up to 500cc\")|\n",
    "                  (UKRoad[\"Vehicle_Type\"] == \"Motorcycle 50cc and under\")|\n",
    "                  (UKRoad[\"Vehicle_Type\"] == \"Car\")]"
   ]
  },
  {
   "cell_type": "code",
   "execution_count": 41,
   "id": "108f4bcf-25af-4dfd-a12a-734be1311fe7",
   "metadata": {},
   "outputs": [
    {
     "data": {
      "text/plain": [
       "np.int64(71892)"
      ]
     },
     "execution_count": 41,
     "metadata": {},
     "output_type": "execute_result"
    }
   ],
   "source": [
    "heavycars[\"Number_of_Casualties\"].sum()"
   ]
  },
  {
   "cell_type": "code",
   "execution_count": 42,
   "id": "fd0fea6e-253d-410b-8fbe-b7996289a2d0",
   "metadata": {},
   "outputs": [
    {
     "data": {
      "text/plain": [
       "np.int64(752372)"
      ]
     },
     "execution_count": 42,
     "metadata": {},
     "output_type": "execute_result"
    }
   ],
   "source": [
    "carmotor[\"Number_of_Casualties\"].sum()"
   ]
  },
  {
   "cell_type": "markdown",
   "id": "11cb6f58-1824-41c4-9c0f-a5191d3cd13b",
   "metadata": {},
   "source": [
    "<h4>Insights:</h4>\n",
    "<h4>Comparing the Buses/Heavy Vehicles casualties to Cars and Motorcycles, the answer is NO. Which is quite understandble, these heavy vehicles have the greater chance to survive resulting in less casualties than cars and motorcycles. I also think that it's because the heavy vehicles can survive but can cause casualties to cars and motocycles.</h4>\n",
    "<hr>"
   ]
  },
  {
   "cell_type": "markdown",
   "id": "fed7e112-182a-4043-bbc0-1718a8693949",
   "metadata": {},
   "source": [
    "<h2>13. Do more fatal accidents happen at single carriageway compared to dual carriageway?</h2>"
   ]
  },
  {
   "cell_type": "code",
   "execution_count": 43,
   "id": "59072b1f-eeb7-4c29-a2d4-94f014487286",
   "metadata": {},
   "outputs": [],
   "source": [
    "Single = UKRoad[UKRoad[\"Road_Type\"] == \"Single carriageway\"]\n",
    "Dual = UKRoad[UKRoad[\"Road_Type\"] == \"Dual carriageway\"]"
   ]
  },
  {
   "cell_type": "code",
   "execution_count": 44,
   "id": "7448137f-c02a-49ea-9467-a72cfb047bd5",
   "metadata": {},
   "outputs": [],
   "source": [
    "Singleacc = Single[Single[\"Accident_Severity\"] == \"Fatal\"]\n",
    "Dualacc = Dual[Dual[\"Accident_Severity\"] == \"Fatal\"]"
   ]
  },
  {
   "cell_type": "code",
   "execution_count": 45,
   "id": "5d8393be-a9f6-4c26-bcf7-72a1547a73cf",
   "metadata": {},
   "outputs": [
    {
     "data": {
      "text/plain": [
       "np.int64(6560)"
      ]
     },
     "execution_count": 45,
     "metadata": {},
     "output_type": "execute_result"
    }
   ],
   "source": [
    "Singleacc.value_counts().sum()"
   ]
  },
  {
   "cell_type": "code",
   "execution_count": 46,
   "id": "4a5bd256-f966-49b9-8db1-3b32ace30b3e",
   "metadata": {},
   "outputs": [
    {
     "data": {
      "text/plain": [
       "np.int64(1815)"
      ]
     },
     "execution_count": 46,
     "metadata": {},
     "output_type": "execute_result"
    }
   ],
   "source": [
    "Dualacc.value_counts().sum()"
   ]
  },
  {
   "cell_type": "markdown",
   "id": "851537e6-2a0b-4a05-99fe-3c2186f7731c",
   "metadata": {},
   "source": [
    "<h4>Insights:</h4>\n",
    "<h4>Yes, the answer above shows that Single Carriageway are more prone to fatall accidents, than Dual Carriageway.</h4>\n",
    "<hr>"
   ]
  },
  {
   "cell_type": "markdown",
   "id": "4d6d0e43-f047-4925-be39-a4b18531ab8f",
   "metadata": {},
   "source": [
    "<h2>14. In urban areas, are night-time accidents more serious than daytime accidents?</h2>"
   ]
  },
  {
   "cell_type": "code",
   "execution_count": 47,
   "id": "addd3b21-715c-4c70-9995-778cc4fbeb50",
   "metadata": {},
   "outputs": [],
   "source": [
    "urban = UKRoad[UKRoad[\"Urban_or_Rural_Area\"] == \"Urban\"]"
   ]
  },
  {
   "cell_type": "code",
   "execution_count": 48,
   "id": "4e2fae90-cdc3-4c84-9ebf-15996d32fe86",
   "metadata": {},
   "outputs": [],
   "source": [
    "night = urban[(urban[\"Light_Conditions\"] == \"Darkness - lights lit\")|\n",
    "               (urban[\"Light_Conditions\"] == \"Darkness - no lighting\")|\n",
    "               (urban[\"Light_Conditions\"] == \"Darkness - lighting unknown\")|\n",
    "               (urban[\"Light_Conditions\"] == \"Darkness - lights unlit\")]\n",
    "day = urban[(UKRoad[\"Light_Conditions\"] == \"Daylight\")]"
   ]
  },
  {
   "cell_type": "code",
   "execution_count": 49,
   "id": "235d7012-cf43-47ea-8bfa-72aca310679d",
   "metadata": {},
   "outputs": [
    {
     "data": {
      "text/plain": [
       "np.int64(16276)"
      ]
     },
     "execution_count": 49,
     "metadata": {},
     "output_type": "execute_result"
    }
   ],
   "source": [
    "night[night[\"Accident_Severity\"] == \"Serious\"].value_counts().sum()"
   ]
  },
  {
   "cell_type": "code",
   "execution_count": 50,
   "id": "5601ba5f-4d29-45c7-a7a5-9c4723cc5923",
   "metadata": {},
   "outputs": [
    {
     "data": {
      "text/plain": [
       "np.int64(34628)"
      ]
     },
     "execution_count": 50,
     "metadata": {},
     "output_type": "execute_result"
    }
   ],
   "source": [
    "day[day[\"Accident_Severity\"] == \"Serious\"].value_counts().sum()"
   ]
  },
  {
   "cell_type": "markdown",
   "id": "007afc96-d706-42c6-87e3-189781b9520e",
   "metadata": {},
   "source": [
    "<h4>Insights:</h4>\n",
    "<h4>No, Night time accidents in Urban areas have less serious accidents than daytime accidents. This indicates that there are drivers in Night-time to be cautious not contributing to the rest of the Serious Accidents</h4>\n",
    "<hr>"
   ]
  },
  {
   "cell_type": "markdown",
   "id": "b85a65f6-f140-4b05-93ee-fa2eff1c4cd1",
   "metadata": {},
   "source": [
    "<h2>15. Do foggy conditions lead to more multi-vehicle casualties compared to clear weather?</h2>"
   ]
  },
  {
   "cell_type": "code",
   "execution_count": 51,
   "id": "da4021bf-34ca-49b0-8897-1ee7c6fc6deb",
   "metadata": {},
   "outputs": [],
   "source": [
    "foggymulti = UKRoad[(UKRoad[\"Weather_Conditions\"] == \"Fog or mist\") & \n",
    "                    (UKRoad[\"Number_of_Vehicles\"] > 1)] \n",
    "clearmulti = UKRoad[(UKRoad[\"Weather_Conditions\"] == \"Fine no high winds\") & \n",
    "                    (UKRoad[\"Number_of_Vehicles\"] > 1)]"
   ]
  },
  {
   "cell_type": "code",
   "execution_count": 52,
   "id": "b6cbf7ad-e397-4461-8d95-86b1b6a5af23",
   "metadata": {},
   "outputs": [
    {
     "data": {
      "text/plain": [
       "np.int64(3365)"
      ]
     },
     "execution_count": 52,
     "metadata": {},
     "output_type": "execute_result"
    }
   ],
   "source": [
    "foggymulti[\"Number_of_Casualties\"].sum()"
   ]
  },
  {
   "cell_type": "code",
   "execution_count": 53,
   "id": "5fa058b1-11d1-44c7-aa0b-90890b735148",
   "metadata": {},
   "outputs": [
    {
     "data": {
      "text/plain": [
       "np.int64(535686)"
      ]
     },
     "execution_count": 53,
     "metadata": {},
     "output_type": "execute_result"
    }
   ],
   "source": [
    "clearmulti[\"Number_of_Casualties\"].sum()"
   ]
  },
  {
   "cell_type": "markdown",
   "id": "c5e022e8-b2ed-413e-8b59-ab1936fb37eb",
   "metadata": {},
   "source": [
    "<h4>Insights:</h4>\n",
    "<h4>No, foggy conditions have fewer casualties than clear weather. Because it indicates that driver that are in the foggy conditions are more careful for their safety than the drivers in clear weather who possibly risk danger.</h4>\n",
    "<hr>"
   ]
  },
  {
   "cell_type": "markdown",
   "id": "3268abb6-7006-4adc-b18f-6f7dd7c3206e",
   "metadata": {},
   "source": [
    "<h2>Correlational Insight</h2>\n",
    "<h2>16. Does the type of road (single carriageway, dual carriageway, roundabout, etc.) correlate with the number of casualties?</h2>"
   ]
  },
  {
   "cell_type": "code",
   "execution_count": 54,
   "id": "276c47a0-78b7-4dca-9c8b-ee713c8e0279",
   "metadata": {},
   "outputs": [
    {
     "data": {
      "text/plain": [
       "F_onewayResult(statistic=np.float64(819.3651972546959), pvalue=np.float64(0.0))"
      ]
     },
     "execution_count": 54,
     "metadata": {},
     "output_type": "execute_result"
    }
   ],
   "source": [
    "f_oneway(UKRoad[UKRoad[\"Road_Type\"] == \"Single carriageway\"][\"Number_of_Casualties\"],\n",
    "         UKRoad[UKRoad[\"Road_Type\"] == \"Dual carriageway\"][\"Number_of_Casualties\"],\n",
    "         UKRoad[UKRoad[\"Road_Type\"] == \"Roundabout\"][\"Number_of_Casualties\"],\n",
    "         UKRoad[UKRoad[\"Road_Type\"] == \"One way street\"][\"Number_of_Casualties\"],\n",
    "         UKRoad[UKRoad[\"Road_Type\"] == \"Slip road\"][\"Number_of_Casualties\"])"
   ]
  },
  {
   "cell_type": "markdown",
   "id": "830090e3-8fec-4ebd-9b4d-18ac50b47d66",
   "metadata": {},
   "source": [
    "<h4>Insights:</h4>\n",
    "<h4>It appears that there are no correlation between the type of roads with the number of casualties. Since, the PValue of the two variables results is 0.0.</h4>\n",
    "<hr>"
   ]
  },
  {
   "cell_type": "markdown",
   "id": "fb129429-b09d-4ba8-bac4-aef562263c4d",
   "metadata": {},
   "source": [
    "<h2>17. Do weather conditions correlate with the number of vehicles involved in accidents?</h2>"
   ]
  },
  {
   "cell_type": "code",
   "execution_count": 55,
   "id": "5bc72f8a-9ded-4a6d-bffb-f11efbab93a3",
   "metadata": {},
   "outputs": [
    {
     "data": {
      "text/plain": [
       "F_onewayResult(statistic=np.float64(43.91229979962393), pvalue=np.float64(1.656209490583519e-62))"
      ]
     },
     "execution_count": 55,
     "metadata": {},
     "output_type": "execute_result"
    }
   ],
   "source": [
    "f_oneway(UKRoad[UKRoad[\"Weather_Conditions\"] == \"Fine no high winds\"][\"Number_of_Vehicles\"],\n",
    "         UKRoad[UKRoad[\"Weather_Conditions\"] == \"Raining no high winds\"][\"Number_of_Vehicles\"],\n",
    "         UKRoad[UKRoad[\"Weather_Conditions\"] == \"Other\"][\"Number_of_Vehicles\"],\n",
    "         UKRoad[UKRoad[\"Weather_Conditions\"] == \"Raining + high winds\"][\"Number_of_Vehicles\"],\n",
    "         UKRoad[UKRoad[\"Weather_Conditions\"] == \"Fine + high winds\"][\"Number_of_Vehicles\"],\n",
    "         UKRoad[UKRoad[\"Weather_Conditions\"] == \"Snowing no high winds\"][\"Number_of_Vehicles\"],\n",
    "         UKRoad[UKRoad[\"Weather_Conditions\"] == \"Fog or mist\"][\"Number_of_Vehicles\"],\n",
    "         UKRoad[UKRoad[\"Weather_Conditions\"] == \"Snowing + high winds\"][\"Number_of_Vehicles\"])"
   ]
  },
  {
   "cell_type": "markdown",
   "id": "dc582fb8-48fa-43bb-8891-050dd42f0c84",
   "metadata": {},
   "source": [
    "<h4>Insights:</h4>\n",
    "<h4>It Correlates!, the number of vehicles involved in accidents correlates with weather conditions.</h4>\n",
    "<hr>"
   ]
  },
  {
   "cell_type": "markdown",
   "id": "307faaf6-4028-4abc-8b59-5389536ea2ee",
   "metadata": {},
   "source": [
    "<h2>18. Does the number of vehicles involved correlate with accident severity (fatal, serious, slight)?</h2>"
   ]
  },
  {
   "cell_type": "code",
   "execution_count": 56,
   "id": "b50d8f49-ff5d-4551-b931-dc05b4283049",
   "metadata": {},
   "outputs": [
    {
     "data": {
      "text/plain": [
       "F_onewayResult(statistic=np.float64(2383.660199326192), pvalue=np.float64(0.0))"
      ]
     },
     "execution_count": 56,
     "metadata": {},
     "output_type": "execute_result"
    }
   ],
   "source": [
    "f_oneway(UKRoad[UKRoad[\"Accident_Severity\"] == \"Slight\"][\"Number_of_Vehicles\"],\n",
    "         UKRoad[UKRoad[\"Accident_Severity\"] == \"Serious\"][\"Number_of_Vehicles\"],\n",
    "         UKRoad[UKRoad[\"Accident_Severity\"] == \"Fatal\"][\"Number_of_Vehicles\"])"
   ]
  },
  {
   "cell_type": "markdown",
   "id": "a6d6327e-a270-45fc-bfcb-7ca4f9cd8444",
   "metadata": {},
   "source": [
    "<h4>Insights:</h4>\n",
    "<h4>It does not correlate.</h4>\n",
    "<hr>"
   ]
  },
  {
   "cell_type": "markdown",
   "id": "dc42c681-d3b5-49a5-8896-29c886213ead",
   "metadata": {},
   "source": [
    "<h2>19. Is there a correlation between the number of vehicles involved and the number of casualties in an accident?</h2>"
   ]
  },
  {
   "cell_type": "code",
   "execution_count": 57,
   "id": "e538c2ce-df80-4253-97f6-3141f7099eec",
   "metadata": {},
   "outputs": [
    {
     "data": {
      "text/html": [
       "<div>\n",
       "<style scoped>\n",
       "    .dataframe tbody tr th:only-of-type {\n",
       "        vertical-align: middle;\n",
       "    }\n",
       "\n",
       "    .dataframe tbody tr th {\n",
       "        vertical-align: top;\n",
       "    }\n",
       "\n",
       "    .dataframe thead th {\n",
       "        text-align: right;\n",
       "    }\n",
       "</style>\n",
       "<table border=\"1\" class=\"dataframe\">\n",
       "  <thead>\n",
       "    <tr style=\"text-align: right;\">\n",
       "      <th></th>\n",
       "      <th>Number_of_Casualties</th>\n",
       "      <th>Number_of_Vehicles</th>\n",
       "    </tr>\n",
       "  </thead>\n",
       "  <tbody>\n",
       "    <tr>\n",
       "      <th>Number_of_Casualties</th>\n",
       "      <td>1.000000</td>\n",
       "      <td>0.228889</td>\n",
       "    </tr>\n",
       "    <tr>\n",
       "      <th>Number_of_Vehicles</th>\n",
       "      <td>0.228889</td>\n",
       "      <td>1.000000</td>\n",
       "    </tr>\n",
       "  </tbody>\n",
       "</table>\n",
       "</div>"
      ],
      "text/plain": [
       "                      Number_of_Casualties  Number_of_Vehicles\n",
       "Number_of_Casualties              1.000000            0.228889\n",
       "Number_of_Vehicles                0.228889            1.000000"
      ]
     },
     "execution_count": 57,
     "metadata": {},
     "output_type": "execute_result"
    }
   ],
   "source": [
    "UKRoad[[\"Number_of_Casualties\",\"Number_of_Vehicles\"]].corr()"
   ]
  },
  {
   "cell_type": "markdown",
   "id": "8c53188d-e642-430b-bb43-0f88ab3347a6",
   "metadata": {},
   "source": [
    "<h4>Insights:</h4>\n",
    "<h4>There is a weak positive correlation between the number of vehicles and the number of casualties in accidents.</h4>\n",
    "<hr>"
   ]
  },
  {
   "cell_type": "markdown",
   "id": "68aed574-8d7a-4291-bf6a-bf74efe4a6c9",
   "metadata": {},
   "source": [
    "<h2>20. Does the number of casualties correlate with road surface conditions (e.g., icy/wet vs dry)?</h2>"
   ]
  },
  {
   "cell_type": "code",
   "execution_count": 58,
   "id": "463b861d-1b8c-4449-b5e6-841987a0f931",
   "metadata": {},
   "outputs": [
    {
     "data": {
      "text/plain": [
       "F_onewayResult(statistic=np.float64(291.7958634535793), pvalue=np.float64(3.459691867779366e-251))"
      ]
     },
     "execution_count": 58,
     "metadata": {},
     "output_type": "execute_result"
    }
   ],
   "source": [
    "f_oneway(UKRoad[UKRoad[\"Road_Surface_Conditions\"] == \"Dry\"][\"Number_of_Casualties\"],\n",
    "         UKRoad[UKRoad[\"Road_Surface_Conditions\"] == \"Wet or damp\"][\"Number_of_Casualties\"],\n",
    "         UKRoad[UKRoad[\"Road_Surface_Conditions\"] == \"Frost or ice\"][\"Number_of_Casualties\"],\n",
    "         UKRoad[UKRoad[\"Road_Surface_Conditions\"] == \"Snow\"][\"Number_of_Casualties\"],\n",
    "         UKRoad[UKRoad[\"Road_Surface_Conditions\"] == \"Flood over 3cm. deep\"][\"Number_of_Casualties\"])"
   ]
  },
  {
   "cell_type": "markdown",
   "id": "db07afc5-5ea8-4ee6-952e-cba701a1e5b4",
   "metadata": {},
   "source": [
    "<h4>Insights:</h4>\n",
    "<h4>Yes, road surface conditions correlate with the number of casualties.</h4>\n",
    "<hr>"
   ]
  },
  {
   "cell_type": "markdown",
   "id": "a8efe46f-7c7f-48df-9ce7-9b4f5773a89c",
   "metadata": {},
   "source": [
    "<h1>Univariate/Bivariate/Multivariate Analysis</h1>\n",
    "<h2>Date Time Insights</h2>"
   ]
  },
  {
   "cell_type": "code",
   "execution_count": 59,
   "id": "277eb59c-d68a-41d8-9804-a609821e0f8d",
   "metadata": {},
   "outputs": [],
   "source": [
    "import matplotlib.pyplot as plt\n",
    "yearly_severity = UKRoad.groupby(['Accident_Severity','Year']).size().unstack(level=0)"
   ]
  },
  {
   "cell_type": "code",
   "execution_count": 60,
   "id": "fbf975c2-a9f8-4147-88d1-442262e87859",
   "metadata": {},
   "outputs": [
    {
     "data": {
      "text/html": [
       "<div>\n",
       "<style scoped>\n",
       "    .dataframe tbody tr th:only-of-type {\n",
       "        vertical-align: middle;\n",
       "    }\n",
       "\n",
       "    .dataframe tbody tr th {\n",
       "        vertical-align: top;\n",
       "    }\n",
       "\n",
       "    .dataframe thead th {\n",
       "        text-align: right;\n",
       "    }\n",
       "</style>\n",
       "<table border=\"1\" class=\"dataframe\">\n",
       "  <thead>\n",
       "    <tr style=\"text-align: right;\">\n",
       "      <th>Accident_Severity</th>\n",
       "      <th>Fatal</th>\n",
       "      <th>Serious</th>\n",
       "      <th>Slight</th>\n",
       "    </tr>\n",
       "    <tr>\n",
       "      <th>Year</th>\n",
       "      <th></th>\n",
       "      <th></th>\n",
       "      <th></th>\n",
       "    </tr>\n",
       "  </thead>\n",
       "  <tbody>\n",
       "    <tr>\n",
       "      <th>2019</th>\n",
       "      <td>2714</td>\n",
       "      <td>24322</td>\n",
       "      <td>155079</td>\n",
       "    </tr>\n",
       "    <tr>\n",
       "      <th>2020</th>\n",
       "      <td>2341</td>\n",
       "      <td>23121</td>\n",
       "      <td>145129</td>\n",
       "    </tr>\n",
       "    <tr>\n",
       "      <th>2021</th>\n",
       "      <td>2057</td>\n",
       "      <td>21997</td>\n",
       "      <td>139500</td>\n",
       "    </tr>\n",
       "    <tr>\n",
       "      <th>2022</th>\n",
       "      <td>1549</td>\n",
       "      <td>18777</td>\n",
       "      <td>124093</td>\n",
       "    </tr>\n",
       "  </tbody>\n",
       "</table>\n",
       "</div>"
      ],
      "text/plain": [
       "Accident_Severity  Fatal  Serious  Slight\n",
       "Year                                     \n",
       "2019                2714    24322  155079\n",
       "2020                2341    23121  145129\n",
       "2021                2057    21997  139500\n",
       "2022                1549    18777  124093"
      ]
     },
     "execution_count": 60,
     "metadata": {},
     "output_type": "execute_result"
    }
   ],
   "source": [
    "yearly_severity"
   ]
  },
  {
   "cell_type": "markdown",
   "id": "2cd2783f-9811-4314-b611-2021fc2ff9a4",
   "metadata": {},
   "source": [
    "<h4>21. Insights:</h4>\n",
    "<h4>According to the data above, all types of Severity (Fatal, Serious and Slight) are decreasing from 2019 to 2022. Fatal accidents dropped from <b>2714</b> to <b>1549</b>, which is about 43% fatality reduction.</b></h4>\n",
    "<hr>\n",
    "<h4>22. Insights:</h4>\n",
    "<h4>Following the Insights in number 21. The reduction of accident in 2020 and 2021 are mostly due to the Impact of Covid, it's possible that the reduced travel, stric rules about going outside contributed the drop of accidents. </h4>\n",
    "<hr>\n",
    "<h4>23. Insights:</h4>\n",
    "<h4>Even the restrictions are lifted in late 2021 to 2022, the decline still persisted. This indicates that the effect of the strict rules are still applied eventhough the lockdown are done.</h4>\n",
    "<hr>"
   ]
  },
  {
   "cell_type": "markdown",
   "id": "d7a2f64c-d3a2-46b9-92ce-51e8da760bf3",
   "metadata": {},
   "source": [
    "<h2>24. Which months record the highest number of accidents?</h2>"
   ]
  },
  {
   "cell_type": "code",
   "execution_count": 91,
   "id": "011126c4-de6b-495e-9cc7-0e0f564dc153",
   "metadata": {},
   "outputs": [],
   "source": [
    "month_counts = UKRoad[\"Month\"].value_counts().sort_index()"
   ]
  },
  {
   "cell_type": "code",
   "execution_count": 89,
   "id": "04a1381f-623c-4cb5-a1a7-13a7b36b4f19",
   "metadata": {},
   "outputs": [
    {
     "data": {
      "image/png": "[encoded data removed]",
      "text/plain": [
       "<Figure size 1000x800 with 1 Axes>"
      ]
     },
     "metadata": {},
     "output_type": "display_data"
    }
   ],
   "source": [
    "labels = [\"January\", \"February\", \"March\", \"April\", \"May\", \"June\", \n",
    "          \"July\", \"August\", \"September\", \"October\", \"November\", \"December\"]\n",
    "month_counts.plot(kind='bar', figsize=(10,8))\n",
    "plt.xlabel('Months')\n",
    "plt.ylabel('Number of accidents')\n",
    "plt.title('Accidents per month')\n",
    "plt.xticks(ticks=range(12), labels=labels, rotation=60)\n",
    "plt.show()"
   ]
  },
  {
   "cell_type": "markdown",
   "id": "a45de442-4f60-4f44-9619-7732d4255a36",
   "metadata": {},
   "source": [
    "<h4>Insights:</h4>\n",
    "<h4>With the data provided by our bargraph, it shows that november is the month where most accidents occurs, while the lowest is the month of february with the lowest. So in conclusion, November has about 22.1% more casualties than February.</h4>\n",
    "<hr>"
   ]
  },
  {
   "cell_type": "markdown",
   "id": "31a2f48d-a173-4828-ae09-be3e7b34facb",
   "metadata": {},
   "source": [
    "<h2>25. Which months record the highest number of fatal accidents?</h2>"
   ]
  },
  {
   "cell_type": "code",
   "execution_count": 105,
   "id": "c462251b-313d-48b5-9aca-094cb5f2c3fb",
   "metadata": {},
   "outputs": [],
   "source": [
    "fatalpermonth = UKRoad[UKRoad[\"Accident_Severity\"] == \"Fatal\"][\"Month\"].value_counts().sort_index()"
   ]
  },
  {
   "cell_type": "code",
   "execution_count": 109,
   "id": "f3b3ded5-4d54-461d-a16e-de1668c60133",
   "metadata": {},
   "outputs": [],
   "source": [
    "#Bargraph\n",
    "# labels = [\"January\", \"February\", \"March\", \"April\", \"May\", \"June\", \n",
    "#           \"July\", \"August\", \"September\", \"October\", \"November\", \"December\"]\n",
    "# fatalpermonth.plot(kind='bar', figsize=(10,8))\n",
    "# plt.xlabel('Months')\n",
    "# plt.ylabel('Number of accidents')\n",
    "# plt.title('Accidents per month')\n",
    "# plt.xticks(ticks=range(12), labels=labels, rotation=60)\n",
    "# plt.show()"
   ]
  },
  {
   "cell_type": "code",
   "execution_count": 107,
   "id": "e55626b4-7842-4432-b8b4-6119b9374b9f",
   "metadata": {},
   "outputs": [
    {
     "data": {
      "image/png": "[encoded data removed]",
      "text/plain": [
       "<Figure size 1000x800 with 1 Axes>"
      ]
     },
     "metadata": {},
     "output_type": "display_data"
    }
   ],
   "source": [
    "labels = [\"January\", \"February\", \"March\", \"April\", \"May\", \"June\", \n",
    "          \"July\", \"August\", \"September\", \"October\", \"November\", \"December\"]\n",
    "fatalpermonth.plot(kind='line', figsize=(10,8), marker='o')\n",
    "plt.xlabel('Months')\n",
    "plt.ylabel('Number of accidents')\n",
    "plt.title('Fatalities per month')\n",
    "plt.xticks(ticks=range(1, 13), labels=labels, rotation=60)\n",
    "plt.show()"
   ]
  },
  {
   "cell_type": "markdown",
   "id": "12bdff88-7054-4f0b-9b5b-20534019be3e",
   "metadata": {},
   "source": [
    "<h4>Insights:</h4>\n",
    "<h4>Comparing the previous data in Number 24. This data shows the fatalities of the accidents. It shows here that August have the highest fatal accidents, followed by Octobeer. In the previous data we have November having the highest accidents than other months, but here it's show that november is 5th highest in terms of fatal accidents. Moreover, the month of February in the previous data having the lowest accidents is actually having the lowest fatal accidents in this data.</h4>\n",
    "<hr>"
   ]
  },
  {
   "cell_type": "code",
   "execution_count": null,
   "id": "a148da5f-9efa-4533-8a96-291277efed1b",
   "metadata": {},
   "outputs": [],
   "source": []
  }
 ],
 "metadata": {
  "kernelspec": {
   "display_name": "Python 3 (ipykernel)",
   "language": "python",
   "name": "python3"
  },
  "language_info": {
   "codemirror_mode": {
    "name": "ipython",
    "version": 3
   },
   "file_extension": ".py",
   "mimetype": "text/x-python",
   "name": "python",
   "nbconvert_exporter": "python",
   "pygments_lexer": "ipython3",
   "version": "3.13.1"
  }
 },
 "nbformat": 4,
 "nbformat_minor": 5
}
