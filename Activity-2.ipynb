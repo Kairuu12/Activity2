{
 "cells": [
  {
   "cell_type": "markdown",
   "id": "f47d5c55-e623-40fd-a259-f3a53ed8fa4d",
   "metadata": {},
   "source": [
    "<h1>Project: UK Road Accident</h1>\n",
    "<h2>Analyst: Kyle M. De Los Santos</h2>"
   ]
  },
  {
   "cell_type": "code",
   "execution_count": 1,
   "id": "03767e8c-eb3c-448a-8292-b1c8f1c88b8d",
   "metadata": {},
   "outputs": [],
   "source": [
    "import numpy as np\n",
    "import pandas as pd\n",
    "import warnings\n",
    "from scipy.stats import f_oneway\n",
    "warnings.filterwarnings(\"ignore\")"
   ]
  },
  {
   "cell_type": "code",
   "execution_count": 4,
   "id": "2cb7a876-0fe9-4b73-b937-9ebcdde3e2c4",
   "metadata": {},
   "outputs": [],
   "source": [
    "UKRoad = pd.read_csv(\"Datasets\\\\accident_data.csv\")"
   ]
  },
  {
   "cell_type": "code",
   "execution_count": 5,
   "id": "96c166fb-ab38-4eff-b713-8cf6f19e1e33",
   "metadata": {},
   "outputs": [
    {
     "data": {
      "text/html": [
       "<div>\n",
       "<style scoped>\n",
       "    .dataframe tbody tr th:only-of-type {\n",
       "        vertical-align: middle;\n",
       "    }\n",
       "\n",
       "    .dataframe tbody tr th {\n",
       "        vertical-align: top;\n",
       "    }\n",
       "\n",
       "    .dataframe thead th {\n",
       "        text-align: right;\n",
       "    }\n",
       "</style>\n",
       "<table border=\"1\" class=\"dataframe\">\n",
       "  <thead>\n",
       "    <tr style=\"text-align: right;\">\n",
       "      <th></th>\n",
       "      <th>Index</th>\n",
       "      <th>Accident_Severity</th>\n",
       "      <th>Accident Date</th>\n",
       "      <th>Latitude</th>\n",
       "      <th>Light_Conditions</th>\n",
       "      <th>District Area</th>\n",
       "      <th>Longitude</th>\n",
       "      <th>Number_of_Casualties</th>\n",
       "      <th>Number_of_Vehicles</th>\n",
       "      <th>Road_Surface_Conditions</th>\n",
       "      <th>Road_Type</th>\n",
       "      <th>Urban_or_Rural_Area</th>\n",
       "      <th>Weather_Conditions</th>\n",
       "      <th>Vehicle_Type</th>\n",
       "    </tr>\n",
       "  </thead>\n",
       "  <tbody>\n",
       "    <tr>\n",
       "      <th>0</th>\n",
       "      <td>200701BS64157</td>\n",
       "      <td>Serious</td>\n",
       "      <td>05/06/2019</td>\n",
       "      <td>51.506187</td>\n",
       "      <td>Darkness - lights lit</td>\n",
       "      <td>Kensington and Chelsea</td>\n",
       "      <td>-0.209082</td>\n",
       "      <td>1</td>\n",
       "      <td>2</td>\n",
       "      <td>Dry</td>\n",
       "      <td>Single carriageway</td>\n",
       "      <td>Urban</td>\n",
       "      <td>Fine no high winds</td>\n",
       "      <td>Car</td>\n",
       "    </tr>\n",
       "    <tr>\n",
       "      <th>1</th>\n",
       "      <td>200701BS65737</td>\n",
       "      <td>Serious</td>\n",
       "      <td>02/07/2019</td>\n",
       "      <td>51.495029</td>\n",
       "      <td>Daylight</td>\n",
       "      <td>Kensington and Chelsea</td>\n",
       "      <td>-0.173647</td>\n",
       "      <td>1</td>\n",
       "      <td>2</td>\n",
       "      <td>Wet or damp</td>\n",
       "      <td>Single carriageway</td>\n",
       "      <td>Urban</td>\n",
       "      <td>Raining no high winds</td>\n",
       "      <td>Car</td>\n",
       "    </tr>\n",
       "    <tr>\n",
       "      <th>2</th>\n",
       "      <td>200701BS66127</td>\n",
       "      <td>Serious</td>\n",
       "      <td>26/08/2019</td>\n",
       "      <td>51.517715</td>\n",
       "      <td>Darkness - lighting unknown</td>\n",
       "      <td>Kensington and Chelsea</td>\n",
       "      <td>-0.210215</td>\n",
       "      <td>1</td>\n",
       "      <td>3</td>\n",
       "      <td>Dry</td>\n",
       "      <td>NaN</td>\n",
       "      <td>Urban</td>\n",
       "      <td>NaN</td>\n",
       "      <td>Taxi/Private hire car</td>\n",
       "    </tr>\n",
       "    <tr>\n",
       "      <th>3</th>\n",
       "      <td>200701BS66128</td>\n",
       "      <td>Serious</td>\n",
       "      <td>16/08/2019</td>\n",
       "      <td>51.495478</td>\n",
       "      <td>Daylight</td>\n",
       "      <td>Kensington and Chelsea</td>\n",
       "      <td>-0.202731</td>\n",
       "      <td>1</td>\n",
       "      <td>4</td>\n",
       "      <td>Dry</td>\n",
       "      <td>Single carriageway</td>\n",
       "      <td>Urban</td>\n",
       "      <td>Fine no high winds</td>\n",
       "      <td>Bus or coach (17 or more pass seats)</td>\n",
       "    </tr>\n",
       "    <tr>\n",
       "      <th>4</th>\n",
       "      <td>200701BS66837</td>\n",
       "      <td>Slight</td>\n",
       "      <td>03/09/2019</td>\n",
       "      <td>51.488576</td>\n",
       "      <td>Darkness - lights lit</td>\n",
       "      <td>Kensington and Chelsea</td>\n",
       "      <td>-0.192487</td>\n",
       "      <td>1</td>\n",
       "      <td>2</td>\n",
       "      <td>Dry</td>\n",
       "      <td>NaN</td>\n",
       "      <td>Urban</td>\n",
       "      <td>NaN</td>\n",
       "      <td>Other vehicle</td>\n",
       "    </tr>\n",
       "    <tr>\n",
       "      <th>...</th>\n",
       "      <td>...</td>\n",
       "      <td>...</td>\n",
       "      <td>...</td>\n",
       "      <td>...</td>\n",
       "      <td>...</td>\n",
       "      <td>...</td>\n",
       "      <td>...</td>\n",
       "      <td>...</td>\n",
       "      <td>...</td>\n",
       "      <td>...</td>\n",
       "      <td>...</td>\n",
       "      <td>...</td>\n",
       "      <td>...</td>\n",
       "      <td>...</td>\n",
       "    </tr>\n",
       "    <tr>\n",
       "      <th>660674</th>\n",
       "      <td>201091NM01760</td>\n",
       "      <td>Slight</td>\n",
       "      <td>18/02/2022</td>\n",
       "      <td>57.374005</td>\n",
       "      <td>Daylight</td>\n",
       "      <td>Highland</td>\n",
       "      <td>-3.467828</td>\n",
       "      <td>2</td>\n",
       "      <td>1</td>\n",
       "      <td>Dry</td>\n",
       "      <td>Single carriageway</td>\n",
       "      <td>Rural</td>\n",
       "      <td>Fine no high winds</td>\n",
       "      <td>Car</td>\n",
       "    </tr>\n",
       "    <tr>\n",
       "      <th>660675</th>\n",
       "      <td>201091NM01881</td>\n",
       "      <td>Slight</td>\n",
       "      <td>21/02/2022</td>\n",
       "      <td>57.232273</td>\n",
       "      <td>Darkness - no lighting</td>\n",
       "      <td>Highland</td>\n",
       "      <td>-3.809281</td>\n",
       "      <td>1</td>\n",
       "      <td>1</td>\n",
       "      <td>Frost or ice</td>\n",
       "      <td>Single carriageway</td>\n",
       "      <td>Rural</td>\n",
       "      <td>Fine no high winds</td>\n",
       "      <td>Car</td>\n",
       "    </tr>\n",
       "    <tr>\n",
       "      <th>660676</th>\n",
       "      <td>201091NM01935</td>\n",
       "      <td>Slight</td>\n",
       "      <td>23/02/2022</td>\n",
       "      <td>57.585044</td>\n",
       "      <td>Daylight</td>\n",
       "      <td>Highland</td>\n",
       "      <td>-3.862727</td>\n",
       "      <td>1</td>\n",
       "      <td>3</td>\n",
       "      <td>Frost or ice</td>\n",
       "      <td>Single carriageway</td>\n",
       "      <td>Rural</td>\n",
       "      <td>Fine no high winds</td>\n",
       "      <td>Car</td>\n",
       "    </tr>\n",
       "    <tr>\n",
       "      <th>660677</th>\n",
       "      <td>201091NM01964</td>\n",
       "      <td>Serious</td>\n",
       "      <td>23/02/2022</td>\n",
       "      <td>57.214898</td>\n",
       "      <td>Darkness - no lighting</td>\n",
       "      <td>Highland</td>\n",
       "      <td>-3.823997</td>\n",
       "      <td>1</td>\n",
       "      <td>2</td>\n",
       "      <td>Wet or damp</td>\n",
       "      <td>Single carriageway</td>\n",
       "      <td>Rural</td>\n",
       "      <td>Fine no high winds</td>\n",
       "      <td>Motorcycle over 500cc</td>\n",
       "    </tr>\n",
       "    <tr>\n",
       "      <th>660678</th>\n",
       "      <td>201091NM02142</td>\n",
       "      <td>Serious</td>\n",
       "      <td>28/02/2022</td>\n",
       "      <td>57.575210</td>\n",
       "      <td>Daylight</td>\n",
       "      <td>Highland</td>\n",
       "      <td>-3.895673</td>\n",
       "      <td>1</td>\n",
       "      <td>1</td>\n",
       "      <td>Wet or damp</td>\n",
       "      <td>Dual carriageway</td>\n",
       "      <td>Rural</td>\n",
       "      <td>Snowing no high winds</td>\n",
       "      <td>Car</td>\n",
       "    </tr>\n",
       "  </tbody>\n",
       "</table>\n",
       "<p>660679 rows × 14 columns</p>\n",
       "</div>"
      ],
      "text/plain": [
       "                Index Accident_Severity Accident Date   Latitude  \\\n",
       "0       200701BS64157           Serious    05/06/2019  51.506187   \n",
       "1       200701BS65737           Serious    02/07/2019  51.495029   \n",
       "2       200701BS66127           Serious    26/08/2019  51.517715   \n",
       "3       200701BS66128           Serious    16/08/2019  51.495478   \n",
       "4       200701BS66837            Slight    03/09/2019  51.488576   \n",
       "...               ...               ...           ...        ...   \n",
       "660674  201091NM01760            Slight    18/02/2022  57.374005   \n",
       "660675  201091NM01881            Slight    21/02/2022  57.232273   \n",
       "660676  201091NM01935            Slight    23/02/2022  57.585044   \n",
       "660677  201091NM01964           Serious    23/02/2022  57.214898   \n",
       "660678  201091NM02142           Serious    28/02/2022  57.575210   \n",
       "\n",
       "                   Light_Conditions           District Area  Longitude  \\\n",
       "0             Darkness - lights lit  Kensington and Chelsea  -0.209082   \n",
       "1                          Daylight  Kensington and Chelsea  -0.173647   \n",
       "2       Darkness - lighting unknown  Kensington and Chelsea  -0.210215   \n",
       "3                          Daylight  Kensington and Chelsea  -0.202731   \n",
       "4             Darkness - lights lit  Kensington and Chelsea  -0.192487   \n",
       "...                             ...                     ...        ...   \n",
       "660674                     Daylight                Highland  -3.467828   \n",
       "660675       Darkness - no lighting                Highland  -3.809281   \n",
       "660676                     Daylight                Highland  -3.862727   \n",
       "660677       Darkness - no lighting                Highland  -3.823997   \n",
       "660678                     Daylight                Highland  -3.895673   \n",
       "\n",
       "        Number_of_Casualties  Number_of_Vehicles Road_Surface_Conditions  \\\n",
       "0                          1                   2                     Dry   \n",
       "1                          1                   2             Wet or damp   \n",
       "2                          1                   3                     Dry   \n",
       "3                          1                   4                     Dry   \n",
       "4                          1                   2                     Dry   \n",
       "...                      ...                 ...                     ...   \n",
       "660674                     2                   1                     Dry   \n",
       "660675                     1                   1            Frost or ice   \n",
       "660676                     1                   3            Frost or ice   \n",
       "660677                     1                   2             Wet or damp   \n",
       "660678                     1                   1             Wet or damp   \n",
       "\n",
       "                 Road_Type Urban_or_Rural_Area     Weather_Conditions  \\\n",
       "0       Single carriageway               Urban     Fine no high winds   \n",
       "1       Single carriageway               Urban  Raining no high winds   \n",
       "2                      NaN               Urban                    NaN   \n",
       "3       Single carriageway               Urban     Fine no high winds   \n",
       "4                      NaN               Urban                    NaN   \n",
       "...                    ...                 ...                    ...   \n",
       "660674  Single carriageway               Rural     Fine no high winds   \n",
       "660675  Single carriageway               Rural     Fine no high winds   \n",
       "660676  Single carriageway               Rural     Fine no high winds   \n",
       "660677  Single carriageway               Rural     Fine no high winds   \n",
       "660678    Dual carriageway               Rural  Snowing no high winds   \n",
       "\n",
       "                                Vehicle_Type  \n",
       "0                                        Car  \n",
       "1                                        Car  \n",
       "2                      Taxi/Private hire car  \n",
       "3       Bus or coach (17 or more pass seats)  \n",
       "4                              Other vehicle  \n",
       "...                                      ...  \n",
       "660674                                   Car  \n",
       "660675                                   Car  \n",
       "660676                                   Car  \n",
       "660677                 Motorcycle over 500cc  \n",
       "660678                                   Car  \n",
       "\n",
       "[660679 rows x 14 columns]"
      ]
     },
     "execution_count": 5,
     "metadata": {},
     "output_type": "execute_result"
    }
   ],
   "source": [
    "UKRoad"
   ]
  },
  {
   "cell_type": "markdown",
   "id": "a912dc6c-f732-45ad-ae7a-0ffbf34cd62a",
   "metadata": {},
   "source": [
    "<h1>Filling Up Null Values and Changing DataTypes</h1>"
   ]
  },
  {
   "cell_type": "code",
   "execution_count": 6,
   "id": "a7f0ab67-908d-4b79-8ca3-077d7f3cd675",
   "metadata": {},
   "outputs": [
    {
     "data": {
      "text/plain": [
       "Index                          0\n",
       "Accident_Severity              0\n",
       "Accident Date                  0\n",
       "Latitude                      25\n",
       "Light_Conditions               0\n",
       "District Area                  0\n",
       "Longitude                     26\n",
       "Number_of_Casualties           0\n",
       "Number_of_Vehicles             0\n",
       "Road_Surface_Conditions      726\n",
       "Road_Type                   4520\n",
       "Urban_or_Rural_Area           15\n",
       "Weather_Conditions         14128\n",
       "Vehicle_Type                   0\n",
       "dtype: int64"
      ]
     },
     "execution_count": 6,
     "metadata": {},
     "output_type": "execute_result"
    }
   ],
   "source": [
    "UKRoad.isnull().sum()"
   ]
  },
  {
   "cell_type": "code",
   "execution_count": 86,
   "id": "bd8de360-ad4d-44fd-937b-98b6fdc927e4",
   "metadata": {},
   "outputs": [
    {
     "data": {
      "text/plain": [
       "Index                      0\n",
       "Accident_Severity          0\n",
       "Accident Date              0\n",
       "Latitude                   0\n",
       "Light_Conditions           0\n",
       "District Area              0\n",
       "Longitude                  0\n",
       "Number_of_Casualties       0\n",
       "Number_of_Vehicles         0\n",
       "Road_Surface_Conditions    0\n",
       "Road_Type                  0\n",
       "Urban_or_Rural_Area        0\n",
       "Weather_Conditions         0\n",
       "Vehicle_Type               0\n",
       "Year                       0\n",
       "Day                        0\n",
       "Month                      0\n",
       "Day of Week                0\n",
       "dtype: int64"
      ]
     },
     "execution_count": 86,
     "metadata": {},
     "output_type": "execute_result"
    }
   ],
   "source": [
    "UKRoad[\"Latitude\"] = UKRoad[\"Latitude\"].fillna(UKRoad[\"Latitude\"].mode()[0])\n",
    "UKRoad[\"Longitude\"] = UKRoad[\"Longitude\"].fillna(UKRoad[\"Longitude\"].mode()[0])\n",
    "UKRoad[\"Road_Surface_Conditions\"] = UKRoad[\"Road_Surface_Conditions\"].fillna(UKRoad[\"Road_Surface_Conditions\"].mode()[0])\n",
    "UKRoad[\"Road_Type\"] = UKRoad[\"Road_Type\"].fillna(UKRoad[\"Road_Type\"].mode()[0])\n",
    "UKRoad[\"Urban_or_Rural_Area\"] = UKRoad[\"Urban_or_Rural_Area\"].fillna(UKRoad[\"Urban_or_Rural_Area\"].mode()[0])\n",
    "UKRoad[\"Weather_Conditions\"] = UKRoad[\"Weather_Conditions\"].fillna(UKRoad[\"Weather_Conditions\"].mode()[0])\n",
    "UKRoad.isnull().sum()"
   ]
  },
  {
   "cell_type": "code",
   "execution_count": 97,
   "id": "d5aca9ab-c6f1-492e-8529-282646866b9e",
   "metadata": {},
   "outputs": [
    {
     "data": {
      "text/plain": [
       "Index                            category\n",
       "Accident_Severity                category\n",
       "Accident Date              datetime64[ns]\n",
       "Latitude                          float64\n",
       "Light_Conditions                 category\n",
       "District Area                      object\n",
       "Longitude                         float64\n",
       "Number_of_Casualties                int64\n",
       "Number_of_Vehicles                  int64\n",
       "Road_Surface_Conditions          category\n",
       "Road_Type                        category\n",
       "Urban_or_Rural_Area              category\n",
       "Weather_Conditions               category\n",
       "Vehicle_Type                     category\n",
       "Year                                int32\n",
       "Day                                 int32\n",
       "Month                               int32\n",
       "Day of Week                         int32\n",
       "dtype: object"
      ]
     },
     "execution_count": 97,
     "metadata": {},
     "output_type": "execute_result"
    }
   ],
   "source": [
    "UKRoad[\"Index\"] = UKRoad[\"Index\"].astype(\"category\")\n",
    "UKRoad[\"Accident_Severity\"] = UKRoad[\"Accident_Severity\"].astype(\"category\")\n",
    "UKRoad[\"Light_Conditions\"] = UKRoad[\"Light_Conditions\"].astype(\"category\")\n",
    "UKRoad[\"District Area\"] = UKRoad[\"District Area\"].astype(\"object\")\n",
    "UKRoad[\"Road_Surface_Conditions\"] = UKRoad[\"Road_Surface_Conditions\"].astype(\"category\")\n",
    "UKRoad[\"Road_Type\"] = UKRoad[\"Road_Type\"].astype(\"category\")\n",
    "UKRoad[\"Urban_or_Rural_Area\"] = UKRoad[\"Urban_or_Rural_Area\"].astype(\"category\")\n",
    "UKRoad[\"Weather_Conditions\"] = UKRoad[\"Weather_Conditions\"].astype(\"category\")\n",
    "UKRoad[\"Vehicle_Type\"] = UKRoad[\"Vehicle_Type\"].astype(\"category\")\n",
    "UKRoad.dtypes"
   ]
  },
  {
   "cell_type": "markdown",
   "id": "91481be3-f84a-4a29-b0c7-ddd8f2fa78eb",
   "metadata": {},
   "source": [
    "<h1>Changing the Accident Date to a Datetime dtypes using pandas</h1>"
   ]
  },
  {
   "cell_type": "code",
   "execution_count": 9,
   "id": "f6abd639-4563-40ad-9ee9-822ea0b1daeb",
   "metadata": {},
   "outputs": [
    {
     "data": {
      "text/plain": [
       "Index                            category\n",
       "Accident_Severity                category\n",
       "Accident Date              datetime64[ns]\n",
       "Latitude                          float64\n",
       "Light_Conditions                 category\n",
       "District Area                    category\n",
       "Longitude                         float64\n",
       "Number_of_Casualties                int64\n",
       "Number_of_Vehicles                  int64\n",
       "Road_Surface_Conditions          category\n",
       "Road_Type                        category\n",
       "Urban_or_Rural_Area              category\n",
       "Weather_Conditions               category\n",
       "Vehicle_Type                     category\n",
       "Year                                int32\n",
       "Day                                 int32\n",
       "Month                               int32\n",
       "Day of Week                         int32\n",
       "dtype: object"
      ]
     },
     "execution_count": 9,
     "metadata": {},
     "output_type": "execute_result"
    }
   ],
   "source": [
    "UKRoad[\"Accident Date\"] = pd.to_datetime(UKRoad[\"Accident Date\"], dayfirst = True, errors = \"coerce\")\n",
    "UKRoad[\"Year\"] = UKRoad[\"Accident Date\"].dt.year\n",
    "UKRoad[\"Day\"] = UKRoad[\"Accident Date\"].dt.day\n",
    "UKRoad[\"Month\"] = UKRoad[\"Accident Date\"].dt.month\n",
    "UKRoad[\"Day of Week\"] = UKRoad[\"Accident Date\"].dt.dayofweek\n",
    "UKRoad.dtypes"
   ]
  },
  {
   "cell_type": "markdown",
   "id": "981d233d-d83e-4b87-a33e-7dc8c76001fc",
   "metadata": {},
   "source": [
    "<h1>Exploratory Data Analysis (EDA)</h1>\n",
    "<hr>"
   ]
  },
  {
   "cell_type": "markdown",
   "id": "f3041a7e-fce2-49c4-919b-048acc2172cf",
   "metadata": {},
   "source": [
    "<h2>Basic Insights</h2>\n",
    "<h2>1. What is the common Accident Severity in UK?</h2>"
   ]
  },
  {
   "cell_type": "code",
   "execution_count": 10,
   "id": "c061ee1c-d053-489e-b394-b59a069d5aa2",
   "metadata": {},
   "outputs": [],
   "source": [
    "AccSev = UKRoad[\"Accident_Severity\"].value_counts()"
   ]
  },
  {
   "cell_type": "code",
   "execution_count": 11,
   "id": "558cbb27-91b2-4a8a-a052-01593ae34be3",
   "metadata": {},
   "outputs": [
    {
     "data": {
      "text/plain": [
       "Accident_Severity\n",
       "Slight     563801\n",
       "Serious     88217\n",
       "Fatal        8661\n",
       "Name: count, dtype: int64"
      ]
     },
     "execution_count": 11,
     "metadata": {},
     "output_type": "execute_result"
    }
   ],
   "source": [
    "AccSev"
   ]
  },
  {
   "cell_type": "markdown",
   "id": "2df5779f-4341-4f71-9e97-2a3165d62448",
   "metadata": {},
   "source": [
    "<h4>Insights:</h4>\n",
    "<h4>As we can see in the Data, the most frequent or common Accident Severity is <b>Slight</b> with a total of <b>563801</b></h4>\n",
    "<hr>"
   ]
  },
  {
   "cell_type": "markdown",
   "id": "c1d66d61-bc00-45f8-9f92-287b1388b19d",
   "metadata": {},
   "source": [
    "<h2>2. Which district area has the highest number of accidents recorded?</h2>"
   ]
  },
  {
   "cell_type": "code",
   "execution_count": 12,
   "id": "c95d4e43-cb72-41f2-a4a7-cbd92aff140c",
   "metadata": {},
   "outputs": [],
   "source": [
    "DisAcc = UKRoad[\"District Area\"].value_counts()"
   ]
  },
  {
   "cell_type": "code",
   "execution_count": 13,
   "id": "1b5c7dbf-b8df-4430-b70e-aa781cdee17d",
   "metadata": {},
   "outputs": [
    {
     "data": {
      "text/plain": [
       "District Area\n",
       "Birmingham            13491\n",
       "Leeds                  8898\n",
       "Manchester             6720\n",
       "Bradford               6212\n",
       "Sheffield              5710\n",
       "                      ...  \n",
       "Berwick-upon-Tweed      153\n",
       "Teesdale                142\n",
       "Shetland Islands        133\n",
       "Orkney Islands          117\n",
       "Clackmannanshire         91\n",
       "Name: count, Length: 422, dtype: int64"
      ]
     },
     "execution_count": 13,
     "metadata": {},
     "output_type": "execute_result"
    }
   ],
   "source": [
    "DisAcc"
   ]
  },
  {
   "cell_type": "markdown",
   "id": "97c25ab8-7ff5-4bdd-9525-c71baafcbf43",
   "metadata": {},
   "source": [
    "<h4>Insights:</h4>\n",
    "<h4>The majority of Accidents Occured in the District Area of <b>Birmingham</b> with a total of <b>13491</b> while <b>Clackmannanshire</b> is the least in terms of Accidents with the toal of <b>91</b></h4>\n",
    "<hr>"
   ]
  },
  {
   "cell_type": "markdown",
   "id": "d3345f94-09f2-4be1-80e1-a5e122311dd0",
   "metadata": {},
   "source": [
    "<h2>3. How many accidents happened in urban vs rural areas?</h2>"
   ]
  },
  {
   "cell_type": "code",
   "execution_count": 14,
   "id": "f1f38250-c537-49b2-8598-5f0983b618c4",
   "metadata": {},
   "outputs": [],
   "source": [
    "Urral = UKRoad['Urban_or_Rural_Area'].value_counts()"
   ]
  },
  {
   "cell_type": "code",
   "execution_count": 15,
   "id": "a676ec9f-408b-4289-bd8d-3e42a9c1d25b",
   "metadata": {},
   "outputs": [
    {
     "data": {
      "text/plain": [
       "Urban_or_Rural_Area\n",
       "Urban          421678\n",
       "Rural          238990\n",
       "Unallocated        11\n",
       "Name: count, dtype: int64"
      ]
     },
     "execution_count": 15,
     "metadata": {},
     "output_type": "execute_result"
    }
   ],
   "source": [
    "Urral"
   ]
  },
  {
   "cell_type": "markdown",
   "id": "d8aaebfd-02bc-405b-842f-dbe321b94bca",
   "metadata": {},
   "source": [
    "<h4>Insights:</h4>\n",
    "<h4>Majority of the accidents occured in <b>Urban Area</b> which is predictable since Urban Area are more prone to vehicle related incidents while the Rural Area have less accidents since Rural Area rarely have a traffic, activities on the road and less density of people on the road</h4>\n",
    "<hr>"
   ]
  },
  {
   "cell_type": "markdown",
   "id": "b7384595-1662-443f-b7f0-42a4d7b35209",
   "metadata": {},
   "source": [
    "<h2>4. What is the average number of casualties per accident?</h2>"
   ]
  },
  {
   "cell_type": "code",
   "execution_count": 16,
   "id": "ba15b4df-c326-49c6-b831-4c0b3ac26039",
   "metadata": {},
   "outputs": [],
   "source": [
    "CasAve = UKRoad[\"Number_of_Casualties\"].mean()"
   ]
  },
  {
   "cell_type": "code",
   "execution_count": 17,
   "id": "6381dede-3b0e-4297-81b8-3d376ca1b8ec",
   "metadata": {},
   "outputs": [
    {
     "data": {
      "text/plain": [
       "np.float64(1.357040257068864)"
      ]
     },
     "execution_count": 17,
     "metadata": {},
     "output_type": "execute_result"
    }
   ],
   "source": [
    "CasAve"
   ]
  },
  {
   "cell_type": "markdown",
   "id": "9b922075-239e-49c4-8b6f-3a38cb4f2e54",
   "metadata": {
    "jp-MarkdownHeadingCollapsed": true
   },
   "source": [
    "<h4>Insights:</h4>\n",
    "<h4>Each accident results in about <b>1.36</b> casualties. This means that, on average, each accident involves about 1 to 2 casualties,</h4>"
   ]
  },
  {
   "cell_type": "markdown",
   "id": "0dd2e57f-2532-4b5f-9acc-f5d0eef85bf1",
   "metadata": {},
   "source": [
    "<h2>5. What are the most common weather conditions during accidents?</h2>"
   ]
  },
  {
   "cell_type": "code",
   "execution_count": 18,
   "id": "b35b764d-6b6d-4a62-9b5b-965235d890fc",
   "metadata": {},
   "outputs": [],
   "source": [
    "WeaCon = UKRoad[\"Weather_Conditions\"].value_counts()"
   ]
  },
  {
   "cell_type": "code",
   "execution_count": 19,
   "id": "d9bb3b05-abcb-42bf-8262-643b187fef59",
   "metadata": {
    "scrolled": true
   },
   "outputs": [
    {
     "data": {
      "text/plain": [
       "Weather_Conditions\n",
       "Fine no high winds       535013\n",
       "Raining no high winds     79696\n",
       "Other                     17150\n",
       "Raining + high winds       9615\n",
       "Fine + high winds          8554\n",
       "Snowing no high winds      6238\n",
       "Fog or mist                3528\n",
       "Snowing + high winds        885\n",
       "Name: count, dtype: int64"
      ]
     },
     "execution_count": 19,
     "metadata": {},
     "output_type": "execute_result"
    }
   ],
   "source": [
    "WeaCon"
   ]
  },
  {
   "cell_type": "markdown",
   "id": "c9d42624-6eb8-4658-aed6-9df727ede55c",
   "metadata": {},
   "source": [
    "<h4>Insights:</h4>\n",
    "<h4>Most accidents happened during the conditions of <b>Fine no high winds</b> which is quite weird since I expect the accidents to spike when it has bad weather conditions.</h4>\n",
    "<hr>"
   ]
  },
  {
   "cell_type": "markdown",
   "id": "207463d8-a80d-45e8-9d9b-03575785061d",
   "metadata": {},
   "source": [
    "<h2>Comparison Insights/Question</h2>\n",
    "<h2>6. Do urban accidents tend to have more casualties than rural accidents?</h2>"
   ]
  },
  {
   "cell_type": "code",
   "execution_count": 20,
   "id": "88b51bf9-d832-481b-9c86-0bb0d1768ee9",
   "metadata": {},
   "outputs": [],
   "source": [
    "urban_casualties = UKRoad[UKRoad['Urban_or_Rural_Area'] == 'Urban']['Number_of_Casualties']\n",
    "rural_casualties = UKRoad[UKRoad['Urban_or_Rural_Area'] == 'Rural']['Number_of_Casualties']"
   ]
  },
  {
   "cell_type": "code",
   "execution_count": 21,
   "id": "dfd71272-c5aa-4516-90cf-2ded2eec2d97",
   "metadata": {},
   "outputs": [
    {
     "data": {
      "text/plain": [
       "np.int64(543040)"
      ]
     },
     "execution_count": 21,
     "metadata": {},
     "output_type": "execute_result"
    }
   ],
   "source": [
    "urban_casualties.sum()"
   ]
  },
  {
   "cell_type": "code",
   "execution_count": 22,
   "id": "2f2af481-4888-410f-af47-112c5d3d58cc",
   "metadata": {},
   "outputs": [
    {
     "data": {
      "text/plain": [
       "np.float64(1.2878072842310957)"
      ]
     },
     "execution_count": 22,
     "metadata": {},
     "output_type": "execute_result"
    }
   ],
   "source": [
    "urban_casualties.mean()"
   ]
  },
  {
   "cell_type": "code",
   "execution_count": 23,
   "id": "cb24f934-c9a3-4c9e-a085-aff37bc75665",
   "metadata": {},
   "outputs": [
    {
     "data": {
      "text/plain": [
       "np.int64(353515)"
      ]
     },
     "execution_count": 23,
     "metadata": {},
     "output_type": "execute_result"
    }
   ],
   "source": [
    "rural_casualties.sum()"
   ]
  },
  {
   "cell_type": "code",
   "execution_count": 24,
   "id": "8c0195e6-664a-47d7-960b-21dafce00660",
   "metadata": {},
   "outputs": [
    {
     "data": {
      "text/plain": [
       "np.float64(1.4792041508012888)"
      ]
     },
     "execution_count": 24,
     "metadata": {},
     "output_type": "execute_result"
    }
   ],
   "source": [
    "rural_casualties.mean()"
   ]
  },
  {
   "cell_type": "markdown",
   "id": "34aaf68b-9df6-4d35-ae03-db8823628242",
   "metadata": {},
   "source": [
    "<h4>Insights:</h4>\n",
    "<h4>Yes, comparing the two Urban tend to have more accidents than Rural Area. Still, Urban areas in the previous insights have a significantly larger accident, somehow their casualties are quite close. I think it suggest that Rural Area is tend to have severe or slightly more dangerous than Urban Areas</h4>\n",
    "<hr>"
   ]
  },
  {
   "cell_type": "markdown",
   "id": "d45f4ea9-e03e-4408-a250-2928bb95cc30",
   "metadata": {},
   "source": [
    "<h2>7. Is the average number of casualties higher in bad weather than in good weather?</h2>"
   ]
  },
  {
   "cell_type": "code",
   "execution_count": 25,
   "id": "44247b1e-4127-422e-95d6-e03e7c35bf8c",
   "metadata": {},
   "outputs": [],
   "source": [
    "good_conditions = UKRoad[(UKRoad[\"Weather_Conditions\"] == \"Fine no high winds\")|\n",
    "                        (UKRoad[\"Weather_Conditions\"] == \"Raining no high winds\")|\n",
    "                        (UKRoad[\"Weather_Conditions\"] == \"Snowing no high winds\")]['Number_of_Casualties']\n",
    "\n",
    "bad_conditions = UKRoad[(UKRoad[\"Weather_Conditions\"] == \"Raining + high winds\")|\n",
    "                        (UKRoad[\"Weather_Conditions\"] == \"Fine + high winds\")|\n",
    "                        (UKRoad[\"Weather_Conditions\"] == \"Snowing + high winds\")]['Number_of_Casualties']"
   ]
  },
  {
   "cell_type": "code",
   "execution_count": 26,
   "id": "1b0f4050-07f7-4f58-a1e9-c9ba9ff44a8b",
   "metadata": {},
   "outputs": [
    {
     "data": {
      "text/plain": [
       "np.float64(1.355146252417678)"
      ]
     },
     "execution_count": 26,
     "metadata": {},
     "output_type": "execute_result"
    }
   ],
   "source": [
    "good_conditions.mean()"
   ]
  },
  {
   "cell_type": "code",
   "execution_count": 27,
   "id": "087adbab-f4c9-4c6e-813c-07dbfc70b621",
   "metadata": {},
   "outputs": [
    {
     "data": {
      "text/plain": [
       "np.float64(1.402960008397187)"
      ]
     },
     "execution_count": 27,
     "metadata": {},
     "output_type": "execute_result"
    }
   ],
   "source": [
    "bad_conditions.mean()"
   ]
  },
  {
   "cell_type": "markdown",
   "id": "8335e5ad-e810-4464-b83e-733dc4cf7aeb",
   "metadata": {},
   "source": [
    "<h4>Insights:</h4>\n",
    "<h4>Yes, the average of number of casualties is higher in bad weather with the average of 1.40, while good weather only had 1.35. Note that I didnt add others and fog and mist since I dont know what type of weather the two are.</h4>\n",
    "<hr>"
   ]
  },
  {
   "cell_type": "markdown",
   "id": "6b39356b-ee25-4eda-ad40-24e43e5bd36f",
   "metadata": {},
   "source": [
    "<h2>8. Do accidents with multiple vehicles cause more casualties than single-vehicle accidents?</h2>"
   ]
  },
  {
   "cell_type": "code",
   "execution_count": 28,
   "id": "8e2d88eb-cf21-4a25-a8c7-e913c07b16cc",
   "metadata": {},
   "outputs": [],
   "source": [
    "single_vehicle = UKRoad[UKRoad[\"Number_of_Vehicles\"] == 1]['Number_of_Casualties']\n",
    "multiple_vehicle = UKRoad[UKRoad[\"Number_of_Vehicles\"] > 1]['Number_of_Casualties']"
   ]
  },
  {
   "cell_type": "code",
   "execution_count": 29,
   "id": "c05df9ad-b1d5-4f01-ba32-5cd0e8322ace",
   "metadata": {},
   "outputs": [
    {
     "data": {
      "text/plain": [
       "np.int64(235108)"
      ]
     },
     "execution_count": 29,
     "metadata": {},
     "output_type": "execute_result"
    }
   ],
   "source": [
    "single_vehicle.sum()"
   ]
  },
  {
   "cell_type": "code",
   "execution_count": 30,
   "id": "55424308-ad81-4772-9faa-3ac428854286",
   "metadata": {},
   "outputs": [
    {
     "data": {
      "text/plain": [
       "np.int64(661460)"
      ]
     },
     "execution_count": 30,
     "metadata": {},
     "output_type": "execute_result"
    }
   ],
   "source": [
    "multiple_vehicle.sum()"
   ]
  },
  {
   "cell_type": "markdown",
   "id": "ab764514-7d94-4d65-86c2-41bd2c83c4d4",
   "metadata": {},
   "source": [
    "<h4>Insights:</h4>\n",
    "<h4>Accidents involving Multiple vehicles tend to have more casualties than a Single Vehicle. Which is understandble since, Multiple vehicles tend to have more passengers which increases the casualties.</h4>\n",
    "<hr>"
   ]
  },
  {
   "cell_type": "markdown",
   "id": "c5eefae5-f06c-4be6-a5ad-0e0d404df755",
   "metadata": {},
   "source": [
    "<h2>9. Do accidents under “Darkness – no lighting” lead to more fatalities than those in “Daylight”?</h2>"
   ]
  },
  {
   "cell_type": "code",
   "execution_count": 31,
   "id": "002e7b1d-3603-4dd1-b76a-c633cc3aa0e6",
   "metadata": {},
   "outputs": [
    {
     "data": {
      "text/plain": [
       "Light_Conditions\n",
       "Daylight                       484880\n",
       "Darkness - lights lit          129335\n",
       "Darkness - no lighting          37437\n",
       "Darkness - lighting unknown      6484\n",
       "Darkness - lights unlit          2543\n",
       "Name: count, dtype: int64"
      ]
     },
     "execution_count": 31,
     "metadata": {},
     "output_type": "execute_result"
    }
   ],
   "source": [
    "Darknolight = UKRoad[UKRoad[\"Light_Conditions\"] == \"Darkness - no lighting\"]['Number_of_Casualties']\n",
    "Daylight = UKRoad[UKRoad[\"Light_Conditions\"] == \"Daylight\"]['Number_of_Casualties']\n",
    "UKRoad[\"Light_Conditions\"].value_counts()"
   ]
  },
  {
   "cell_type": "code",
   "execution_count": 32,
   "id": "ed226eaf-dfa7-4564-9210-ed89bdc9a969",
   "metadata": {},
   "outputs": [
    {
     "data": {
      "text/plain": [
       "np.int64(57715)"
      ]
     },
     "execution_count": 32,
     "metadata": {},
     "output_type": "execute_result"
    }
   ],
   "source": [
    "Darknolight.sum()"
   ]
  },
  {
   "cell_type": "code",
   "execution_count": 33,
   "id": "f5319cc7-eaa2-4a03-9f60-864b9c7bbda0",
   "metadata": {},
   "outputs": [
    {
     "data": {
      "text/plain": [
       "np.int64(649889)"
      ]
     },
     "execution_count": 33,
     "metadata": {},
     "output_type": "execute_result"
    }
   ],
   "source": [
    "Daylight.sum()"
   ]
  },
  {
   "cell_type": "markdown",
   "id": "88f294eb-bb3e-4698-966e-b08ad0d5da7e",
   "metadata": {},
   "source": [
    "<h4>Insights:</h4>\n",
    "<h4>Surprisingly, No, Daylight tend to have more fatalities than those in Darkness no Lighting. According to the Data in the UK Road Accidents there are atleast 484,880 incidents that happen during daylight and if you look at the total casualties it results in 649,889 which is large in comparison to the incidents. This indicates that each daylight accident involved slightly more than one casualty.</h4>\n",
    "<hr>"
   ]
  },
  {
   "cell_type": "markdown",
   "id": "71d7b65b-1a3d-4ad0-8270-9498932607dd",
   "metadata": {},
   "source": [
    "<h2>10. Do wet/icy roads lead to more casualties than dry roads?</h2>"
   ]
  },
  {
   "cell_type": "code",
   "execution_count": 34,
   "id": "4d842d2d-bb62-4bec-9438-ef53e964a447",
   "metadata": {},
   "outputs": [
    {
     "data": {
      "text/plain": [
       "Road_Surface_Conditions\n",
       "Dry                     448547\n",
       "Wet or damp             186708\n",
       "Frost or ice             18517\n",
       "Snow                      5890\n",
       "Flood over 3cm. deep      1017\n",
       "Name: count, dtype: int64"
      ]
     },
     "execution_count": 34,
     "metadata": {},
     "output_type": "execute_result"
    }
   ],
   "source": [
    "UKRoad[\"Road_Surface_Conditions\"].value_counts()"
   ]
  },
  {
   "cell_type": "code",
   "execution_count": 35,
   "id": "f11b0b8f-b056-4759-8258-733b14d87564",
   "metadata": {},
   "outputs": [],
   "source": [
    "weticy = UKRoad[(UKRoad[\"Road_Surface_Conditions\"] == \"Wet or damp\")|\n",
    "                (UKRoad[\"Road_Surface_Conditions\"] == \"Frost or ice\")][\"Number_of_Casualties\"]\n",
    "dryroa = UKRoad[UKRoad[\"Road_Surface_Conditions\"] == \"Dry\"][\"Number_of_Casualties\"]"
   ]
  },
  {
   "cell_type": "code",
   "execution_count": 36,
   "id": "fb6e74c0-6fd3-41ec-a3da-9aa92dbf6539",
   "metadata": {},
   "outputs": [
    {
     "data": {
      "text/plain": [
       "np.int64(288433)"
      ]
     },
     "execution_count": 36,
     "metadata": {},
     "output_type": "execute_result"
    }
   ],
   "source": [
    "weticy.sum()"
   ]
  },
  {
   "cell_type": "code",
   "execution_count": 37,
   "id": "cd9b54c6-5f51-401a-ae45-3077dd3e4d1a",
   "metadata": {},
   "outputs": [
    {
     "data": {
      "text/plain": [
       "np.int64(598606)"
      ]
     },
     "execution_count": 37,
     "metadata": {},
     "output_type": "execute_result"
    }
   ],
   "source": [
    "dryroa.sum()"
   ]
  },
  {
   "cell_type": "markdown",
   "id": "dde64b4c-07bc-40fc-836d-5d6e168ef29a",
   "metadata": {},
   "source": [
    "<h4>Insights:</h4>\n",
    "<h4>No, wet/icy roads doesn't lead to more casualties compared to Dry Roads. Which kinda makes sense, Drivers tend to control their speed which helps to reduce road accidents.</h4>\n",
    "<hr>"
   ]
  },
  {
   "cell_type": "markdown",
   "id": "6c4e1ce9-efa6-4259-af31-9f800154c8fd",
   "metadata": {},
   "source": [
    "<h2>11. Do motorcycles have a higher rate of serious/fatal accidents compared to cars?</h2>"
   ]
  },
  {
   "cell_type": "code",
   "execution_count": 38,
   "id": "384ed782-2630-4976-acdf-3a650c8b8648",
   "metadata": {},
   "outputs": [],
   "source": [
    "motor = UKRoad[(UKRoad[\"Vehicle_Type\"] == \"Motorcycle over 500cc\")|\n",
    "               (UKRoad[\"Vehicle_Type\"] == \"Motorcycle 125cc and under\")|\n",
    "               (UKRoad[\"Vehicle_Type\"] == \"Motorcycle over 125cc and up to 500cc\")|\n",
    "               (UKRoad[\"Vehicle_Type\"] == \"Motorcycle 50cc and under\")]\n",
    "cars = UKRoad[UKRoad[\"Vehicle_Type\"] == \"Car\"]"
   ]
  },
  {
   "cell_type": "code",
   "execution_count": 39,
   "id": "c292456a-9c3e-4407-b6ec-f95a22cf683b",
   "metadata": {},
   "outputs": [],
   "source": [
    "motor_severe = motor[(motor[\"Accident_Severity\"] == \"Fatal\") | \n",
    "                     (motor[\"Accident_Severity\"] == \"Serious\")]\n",
    "car_severe = cars[(cars[\"Accident_Severity\"] == \"Fatal\") | \n",
    "                     (cars[\"Accident_Severity\"] == \"Serious\")]"
   ]
  },
  {
   "cell_type": "code",
   "execution_count": 40,
   "id": "3402fa90-97e5-49fd-b320-7aaa4ef62904",
   "metadata": {},
   "outputs": [
    {
     "data": {
      "text/plain": [
       "np.int64(8244)"
      ]
     },
     "execution_count": 40,
     "metadata": {},
     "output_type": "execute_result"
    }
   ],
   "source": [
    "motor_severe.value_counts().sum()"
   ]
  },
  {
   "cell_type": "code",
   "execution_count": 41,
   "id": "7ab494cb-62f4-4f2a-b692-eafefe178b79",
   "metadata": {},
   "outputs": [
    {
     "data": {
      "text/plain": [
       "np.int64(73038)"
      ]
     },
     "execution_count": 41,
     "metadata": {},
     "output_type": "execute_result"
    }
   ],
   "source": [
    "car_severe.value_counts().sum()"
   ]
  },
  {
   "cell_type": "markdown",
   "id": "cb7ff27e-3229-4d75-af75-5ae4ffc108c1",
   "metadata": {},
   "source": [
    "<h4>Insights:</h4>\n",
    "<h4>Apparently not, despite combining 4 types of motocycles it's still doesn't have a higher rate of Serious/Fatal accidents compared to Cars. It indicates that there are motorcycle drivers dont risk themself getting injured that's why the result is low</h4>\n",
    "<hr>"
   ]
  },
  {
   "cell_type": "markdown",
   "id": "33812419-b994-4799-926d-c652facac245",
   "metadata": {},
   "source": [
    "<h2>12. Do accidents involving buses or heavy vehicles lead to more casualties on average compared to cars and motorcycles?</h2>"
   ]
  },
  {
   "cell_type": "code",
   "execution_count": 42,
   "id": "68d087cf-9f69-45ec-962c-09f0bb2b31cd",
   "metadata": {},
   "outputs": [],
   "source": [
    "heavycars = UKRoad[(UKRoad[\"Vehicle_Type\"] == \"Goods 7.5 tonnes mgw and over\")|\n",
    "                   (UKRoad[\"Vehicle_Type\"] == \"Goods over 3.5t. and under 7.5t\")|\n",
    "                   (UKRoad[\"Vehicle_Type\"] == \"Bus or coach (17 or more pass seats)\")|\n",
    "                   (UKRoad[\"Vehicle_Type\"] == \"Minibus (8 - 16 passenger seats)\")|\n",
    "                   (UKRoad[\"Vehicle_Type\"] == \"Agricultural vehicle\")]\n",
    "\n",
    "carmotor = UKRoad[(UKRoad[\"Vehicle_Type\"] == \"Motorcycle over 500cc\")|\n",
    "                  (UKRoad[\"Vehicle_Type\"] == \"Motorcycle 125cc and under\")|\n",
    "                  (UKRoad[\"Vehicle_Type\"] == \"Motorcycle over 125cc and up to 500cc\")|\n",
    "                  (UKRoad[\"Vehicle_Type\"] == \"Motorcycle 50cc and under\")|\n",
    "                  (UKRoad[\"Vehicle_Type\"] == \"Car\")]"
   ]
  },
  {
   "cell_type": "code",
   "execution_count": 43,
   "id": "108f4bcf-25af-4dfd-a12a-734be1311fe7",
   "metadata": {},
   "outputs": [
    {
     "data": {
      "text/plain": [
       "np.int64(71892)"
      ]
     },
     "execution_count": 43,
     "metadata": {},
     "output_type": "execute_result"
    }
   ],
   "source": [
    "heavycars[\"Number_of_Casualties\"].sum()"
   ]
  },
  {
   "cell_type": "code",
   "execution_count": 44,
   "id": "fd0fea6e-253d-410b-8fbe-b7996289a2d0",
   "metadata": {},
   "outputs": [
    {
     "data": {
      "text/plain": [
       "np.int64(752372)"
      ]
     },
     "execution_count": 44,
     "metadata": {},
     "output_type": "execute_result"
    }
   ],
   "source": [
    "carmotor[\"Number_of_Casualties\"].sum()"
   ]
  },
  {
   "cell_type": "markdown",
   "id": "11cb6f58-1824-41c4-9c0f-a5191d3cd13b",
   "metadata": {},
   "source": [
    "<h4>Insights:</h4>\n",
    "<h4>Comparing the Buses/Heavy Vehicles casualties to Cars and Motorcycles, the answer is NO. Which is quite understandble, these heavy vehicles have the greater chance to survive resulting in less casualties than cars and motorcycles. I also think that it's because the heavy vehicles can survive but can cause casualties to cars and motocycles.</h4>\n",
    "<hr>"
   ]
  },
  {
   "cell_type": "markdown",
   "id": "fed7e112-182a-4043-bbc0-1718a8693949",
   "metadata": {},
   "source": [
    "<h2>13. Do more fatal accidents happen at single carriageway compared to dual carriageway?</h2>"
   ]
  },
  {
   "cell_type": "code",
   "execution_count": 45,
   "id": "59072b1f-eeb7-4c29-a2d4-94f014487286",
   "metadata": {},
   "outputs": [],
   "source": [
    "Single = UKRoad[UKRoad[\"Road_Type\"] == \"Single carriageway\"]\n",
    "Dual = UKRoad[UKRoad[\"Road_Type\"] == \"Dual carriageway\"]"
   ]
  },
  {
   "cell_type": "code",
   "execution_count": 46,
   "id": "7448137f-c02a-49ea-9467-a72cfb047bd5",
   "metadata": {},
   "outputs": [],
   "source": [
    "Singleacc = Single[Single[\"Accident_Severity\"] == \"Fatal\"]\n",
    "Dualacc = Dual[Dual[\"Accident_Severity\"] == \"Fatal\"]"
   ]
  },
  {
   "cell_type": "code",
   "execution_count": 47,
   "id": "5d8393be-a9f6-4c26-bcf7-72a1547a73cf",
   "metadata": {},
   "outputs": [
    {
     "data": {
      "text/plain": [
       "np.int64(6560)"
      ]
     },
     "execution_count": 47,
     "metadata": {},
     "output_type": "execute_result"
    }
   ],
   "source": [
    "Singleacc.value_counts().sum()"
   ]
  },
  {
   "cell_type": "code",
   "execution_count": 48,
   "id": "4a5bd256-f966-49b9-8db1-3b32ace30b3e",
   "metadata": {},
   "outputs": [
    {
     "data": {
      "text/plain": [
       "np.int64(1815)"
      ]
     },
     "execution_count": 48,
     "metadata": {},
     "output_type": "execute_result"
    }
   ],
   "source": [
    "Dualacc.value_counts().sum()"
   ]
  },
  {
   "cell_type": "markdown",
   "id": "851537e6-2a0b-4a05-99fe-3c2186f7731c",
   "metadata": {},
   "source": [
    "<h4>Insights:</h4>\n",
    "<h4>Yes, the answer above shows that Single Carriageway are more prone to fatall accidents, than Dual Carriageway.</h4>\n",
    "<hr>"
   ]
  },
  {
   "cell_type": "markdown",
   "id": "4d6d0e43-f047-4925-be39-a4b18531ab8f",
   "metadata": {},
   "source": [
    "<h2>14. In urban areas, are night-time accidents more serious than daytime accidents?</h2>"
   ]
  },
  {
   "cell_type": "code",
   "execution_count": 49,
   "id": "addd3b21-715c-4c70-9995-778cc4fbeb50",
   "metadata": {},
   "outputs": [],
   "source": [
    "urban = UKRoad[UKRoad[\"Urban_or_Rural_Area\"] == \"Urban\"]"
   ]
  },
  {
   "cell_type": "code",
   "execution_count": 50,
   "id": "4e2fae90-cdc3-4c84-9ebf-15996d32fe86",
   "metadata": {},
   "outputs": [],
   "source": [
    "night = urban[(urban[\"Light_Conditions\"] == \"Darkness - lights lit\")|\n",
    "               (urban[\"Light_Conditions\"] == \"Darkness - no lighting\")|\n",
    "               (urban[\"Light_Conditions\"] == \"Darkness - lighting unknown\")|\n",
    "               (urban[\"Light_Conditions\"] == \"Darkness - lights unlit\")]\n",
    "day = urban[(UKRoad[\"Light_Conditions\"] == \"Daylight\")]"
   ]
  },
  {
   "cell_type": "code",
   "execution_count": 51,
   "id": "235d7012-cf43-47ea-8bfa-72aca310679d",
   "metadata": {},
   "outputs": [
    {
     "data": {
      "text/plain": [
       "np.int64(16276)"
      ]
     },
     "execution_count": 51,
     "metadata": {},
     "output_type": "execute_result"
    }
   ],
   "source": [
    "night[night[\"Accident_Severity\"] == \"Serious\"].value_counts().sum()"
   ]
  },
  {
   "cell_type": "code",
   "execution_count": 52,
   "id": "5601ba5f-4d29-45c7-a7a5-9c4723cc5923",
   "metadata": {},
   "outputs": [
    {
     "data": {
      "text/plain": [
       "np.int64(34628)"
      ]
     },
     "execution_count": 52,
     "metadata": {},
     "output_type": "execute_result"
    }
   ],
   "source": [
    "day[day[\"Accident_Severity\"] == \"Serious\"].value_counts().sum()"
   ]
  },
  {
   "cell_type": "markdown",
   "id": "007afc96-d706-42c6-87e3-189781b9520e",
   "metadata": {},
   "source": [
    "<h4>Insights:</h4>\n",
    "<h4>No, Night time accidents in Urban areas have less serious accidents than daytime accidents. This indicates that there are drivers in Night-time to be cautious not contributing to the rest of the Serious Accidents</h4>\n",
    "<hr>"
   ]
  },
  {
   "cell_type": "markdown",
   "id": "b85a65f6-f140-4b05-93ee-fa2eff1c4cd1",
   "metadata": {},
   "source": [
    "<h2>15. Do foggy conditions lead to more multi-vehicle casualties compared to clear weather?</h2>"
   ]
  },
  {
   "cell_type": "code",
   "execution_count": 53,
   "id": "da4021bf-34ca-49b0-8897-1ee7c6fc6deb",
   "metadata": {},
   "outputs": [],
   "source": [
    "foggymulti = UKRoad[(UKRoad[\"Weather_Conditions\"] == \"Fog or mist\") & \n",
    "                    (UKRoad[\"Number_of_Vehicles\"] > 1)] \n",
    "clearmulti = UKRoad[(UKRoad[\"Weather_Conditions\"] == \"Fine no high winds\") & \n",
    "                    (UKRoad[\"Number_of_Vehicles\"] > 1)]"
   ]
  },
  {
   "cell_type": "code",
   "execution_count": 54,
   "id": "b6cbf7ad-e397-4461-8d95-86b1b6a5af23",
   "metadata": {},
   "outputs": [
    {
     "data": {
      "text/plain": [
       "np.int64(3365)"
      ]
     },
     "execution_count": 54,
     "metadata": {},
     "output_type": "execute_result"
    }
   ],
   "source": [
    "foggymulti[\"Number_of_Casualties\"].sum()"
   ]
  },
  {
   "cell_type": "code",
   "execution_count": 55,
   "id": "5fa058b1-11d1-44c7-aa0b-90890b735148",
   "metadata": {},
   "outputs": [
    {
     "data": {
      "text/plain": [
       "np.int64(535686)"
      ]
     },
     "execution_count": 55,
     "metadata": {},
     "output_type": "execute_result"
    }
   ],
   "source": [
    "clearmulti[\"Number_of_Casualties\"].sum()"
   ]
  },
  {
   "cell_type": "markdown",
   "id": "c5e022e8-b2ed-413e-8b59-ab1936fb37eb",
   "metadata": {},
   "source": [
    "<h4>Insights:</h4>\n",
    "<h4>No, foggy conditions have fewer casualties than clear weather. Because it indicates that driver that are in the foggy conditions are more careful for their safety than the drivers in clear weather who possibly risk danger.</h4>\n",
    "<hr>"
   ]
  },
  {
   "cell_type": "markdown",
   "id": "3268abb6-7006-4adc-b18f-6f7dd7c3206e",
   "metadata": {},
   "source": [
    "<h2>Correlational Insight</h2>\n",
    "<h2>16. Does the type of road (single carriageway, dual carriageway, roundabout, etc.) correlate with the number of casualties?</h2>"
   ]
  },
  {
   "cell_type": "code",
   "execution_count": 56,
   "id": "276c47a0-78b7-4dca-9c8b-ee713c8e0279",
   "metadata": {},
   "outputs": [
    {
     "data": {
      "text/plain": [
       "F_onewayResult(statistic=np.float64(819.3651972547109), pvalue=np.float64(0.0))"
      ]
     },
     "execution_count": 56,
     "metadata": {},
     "output_type": "execute_result"
    }
   ],
   "source": [
    "f_oneway(UKRoad[UKRoad[\"Road_Type\"] == \"Single carriageway\"][\"Number_of_Casualties\"],\n",
    "         UKRoad[UKRoad[\"Road_Type\"] == \"Dual carriageway\"][\"Number_of_Casualties\"],\n",
    "         UKRoad[UKRoad[\"Road_Type\"] == \"Roundabout\"][\"Number_of_Casualties\"],\n",
    "         UKRoad[UKRoad[\"Road_Type\"] == \"One way street\"][\"Number_of_Casualties\"],\n",
    "         UKRoad[UKRoad[\"Road_Type\"] == \"Slip road\"][\"Number_of_Casualties\"])"
   ]
  },
  {
   "cell_type": "markdown",
   "id": "830090e3-8fec-4ebd-9b4d-18ac50b47d66",
   "metadata": {},
   "source": [
    "<h4>Insights:</h4>\n",
    "<h4>It appears that there are no correlation between the type of roads with the number of casualties. Since, the PValue of the two variables results is 0.0.</h4>\n",
    "<hr>"
   ]
  },
  {
   "cell_type": "markdown",
   "id": "fb129429-b09d-4ba8-bac4-aef562263c4d",
   "metadata": {},
   "source": [
    "<h2>17. Do weather conditions correlate with the number of vehicles involved in accidents?</h2>"
   ]
  },
  {
   "cell_type": "code",
   "execution_count": 57,
   "id": "5bc72f8a-9ded-4a6d-bffb-f11efbab93a3",
   "metadata": {},
   "outputs": [
    {
     "data": {
      "text/plain": [
       "F_onewayResult(statistic=np.float64(43.91229979962255), pvalue=np.float64(1.656209490583519e-62))"
      ]
     },
     "execution_count": 57,
     "metadata": {},
     "output_type": "execute_result"
    }
   ],
   "source": [
    "f_oneway(UKRoad[UKRoad[\"Weather_Conditions\"] == \"Fine no high winds\"][\"Number_of_Vehicles\"],\n",
    "         UKRoad[UKRoad[\"Weather_Conditions\"] == \"Raining no high winds\"][\"Number_of_Vehicles\"],\n",
    "         UKRoad[UKRoad[\"Weather_Conditions\"] == \"Other\"][\"Number_of_Vehicles\"],\n",
    "         UKRoad[UKRoad[\"Weather_Conditions\"] == \"Raining + high winds\"][\"Number_of_Vehicles\"],\n",
    "         UKRoad[UKRoad[\"Weather_Conditions\"] == \"Fine + high winds\"][\"Number_of_Vehicles\"],\n",
    "         UKRoad[UKRoad[\"Weather_Conditions\"] == \"Snowing no high winds\"][\"Number_of_Vehicles\"],\n",
    "         UKRoad[UKRoad[\"Weather_Conditions\"] == \"Fog or mist\"][\"Number_of_Vehicles\"],\n",
    "         UKRoad[UKRoad[\"Weather_Conditions\"] == \"Snowing + high winds\"][\"Number_of_Vehicles\"])"
   ]
  },
  {
   "cell_type": "markdown",
   "id": "dc582fb8-48fa-43bb-8891-050dd42f0c84",
   "metadata": {},
   "source": [
    "<h4>Insights:</h4>\n",
    "<h4>It Correlates!, the number of vehicles involved in accidents correlates with weather conditions.</h4>\n",
    "<hr>"
   ]
  },
  {
   "cell_type": "markdown",
   "id": "307faaf6-4028-4abc-8b59-5389536ea2ee",
   "metadata": {},
   "source": [
    "<h2>18. Does the number of vehicles involved correlate with accident severity (fatal, serious, slight)?</h2>"
   ]
  },
  {
   "cell_type": "code",
   "execution_count": 58,
   "id": "b50d8f49-ff5d-4551-b931-dc05b4283049",
   "metadata": {},
   "outputs": [
    {
     "data": {
      "text/plain": [
       "F_onewayResult(statistic=np.float64(2383.6601993261174), pvalue=np.float64(0.0))"
      ]
     },
     "execution_count": 58,
     "metadata": {},
     "output_type": "execute_result"
    }
   ],
   "source": [
    "f_oneway(UKRoad[UKRoad[\"Accident_Severity\"] == \"Slight\"][\"Number_of_Vehicles\"],\n",
    "         UKRoad[UKRoad[\"Accident_Severity\"] == \"Serious\"][\"Number_of_Vehicles\"],\n",
    "         UKRoad[UKRoad[\"Accident_Severity\"] == \"Fatal\"][\"Number_of_Vehicles\"])"
   ]
  },
  {
   "cell_type": "markdown",
   "id": "a6d6327e-a270-45fc-bfcb-7ca4f9cd8444",
   "metadata": {},
   "source": [
    "<h4>Insights:</h4>\n",
    "<h4>It does not correlate.</h4>\n",
    "<hr>"
   ]
  },
  {
   "cell_type": "markdown",
   "id": "dc42c681-d3b5-49a5-8896-29c886213ead",
   "metadata": {},
   "source": [
    "<h2>19. Is there a correlation between the number of vehicles involved and the number of casualties in an accident?</h2>"
   ]
  },
  {
   "cell_type": "code",
   "execution_count": 59,
   "id": "e538c2ce-df80-4253-97f6-3141f7099eec",
   "metadata": {},
   "outputs": [
    {
     "data": {
      "text/html": [
       "<div>\n",
       "<style scoped>\n",
       "    .dataframe tbody tr th:only-of-type {\n",
       "        vertical-align: middle;\n",
       "    }\n",
       "\n",
       "    .dataframe tbody tr th {\n",
       "        vertical-align: top;\n",
       "    }\n",
       "\n",
       "    .dataframe thead th {\n",
       "        text-align: right;\n",
       "    }\n",
       "</style>\n",
       "<table border=\"1\" class=\"dataframe\">\n",
       "  <thead>\n",
       "    <tr style=\"text-align: right;\">\n",
       "      <th></th>\n",
       "      <th>Number_of_Casualties</th>\n",
       "      <th>Number_of_Vehicles</th>\n",
       "    </tr>\n",
       "  </thead>\n",
       "  <tbody>\n",
       "    <tr>\n",
       "      <th>Number_of_Casualties</th>\n",
       "      <td>1.000000</td>\n",
       "      <td>0.228889</td>\n",
       "    </tr>\n",
       "    <tr>\n",
       "      <th>Number_of_Vehicles</th>\n",
       "      <td>0.228889</td>\n",
       "      <td>1.000000</td>\n",
       "    </tr>\n",
       "  </tbody>\n",
       "</table>\n",
       "</div>"
      ],
      "text/plain": [
       "                      Number_of_Casualties  Number_of_Vehicles\n",
       "Number_of_Casualties              1.000000            0.228889\n",
       "Number_of_Vehicles                0.228889            1.000000"
      ]
     },
     "execution_count": 59,
     "metadata": {},
     "output_type": "execute_result"
    }
   ],
   "source": [
    "UKRoad[[\"Number_of_Casualties\",\"Number_of_Vehicles\"]].corr()"
   ]
  },
  {
   "cell_type": "markdown",
   "id": "8c53188d-e642-430b-bb43-0f88ab3347a6",
   "metadata": {},
   "source": [
    "<h4>Insights:</h4>\n",
    "<h4>There is a weak positive correlation between the number of vehicles and the number of casualties in accidents.</h4>\n",
    "<hr>"
   ]
  },
  {
   "cell_type": "markdown",
   "id": "68aed574-8d7a-4291-bf6a-bf74efe4a6c9",
   "metadata": {},
   "source": [
    "<h2>20. Does the number of casualties correlate with road surface conditions (e.g., icy/wet vs dry)?</h2>"
   ]
  },
  {
   "cell_type": "code",
   "execution_count": 60,
   "id": "463b861d-1b8c-4449-b5e6-841987a0f931",
   "metadata": {},
   "outputs": [
    {
     "data": {
      "text/plain": [
       "F_onewayResult(statistic=np.float64(291.795863453585), pvalue=np.float64(3.459691867779366e-251))"
      ]
     },
     "execution_count": 60,
     "metadata": {},
     "output_type": "execute_result"
    }
   ],
   "source": [
    "f_oneway(UKRoad[UKRoad[\"Road_Surface_Conditions\"] == \"Dry\"][\"Number_of_Casualties\"],\n",
    "         UKRoad[UKRoad[\"Road_Surface_Conditions\"] == \"Wet or damp\"][\"Number_of_Casualties\"],\n",
    "         UKRoad[UKRoad[\"Road_Surface_Conditions\"] == \"Frost or ice\"][\"Number_of_Casualties\"],\n",
    "         UKRoad[UKRoad[\"Road_Surface_Conditions\"] == \"Snow\"][\"Number_of_Casualties\"],\n",
    "         UKRoad[UKRoad[\"Road_Surface_Conditions\"] == \"Flood over 3cm. deep\"][\"Number_of_Casualties\"])"
   ]
  },
  {
   "cell_type": "markdown",
   "id": "db07afc5-5ea8-4ee6-952e-cba701a1e5b4",
   "metadata": {},
   "source": [
    "<h4>Insights:</h4>\n",
    "<h4>Yes, road surface conditions correlate with the number of casualties.</h4>\n",
    "<hr>"
   ]
  },
  {
   "cell_type": "markdown",
   "id": "a8efe46f-7c7f-48df-9ce7-9b4f5773a89c",
   "metadata": {},
   "source": [
    "<h1>Univariate/Bivariate/Multivariate Analysis</h1>\n",
    "<h2>Date Time Insights</h2>"
   ]
  },
  {
   "cell_type": "code",
   "execution_count": 61,
   "id": "277eb59c-d68a-41d8-9804-a609821e0f8d",
   "metadata": {},
   "outputs": [],
   "source": [
    "import matplotlib.pyplot as plt\n",
    "yearly_severity = UKRoad.groupby(['Accident_Severity','Year']).size().unstack(level=0)"
   ]
  },
  {
   "cell_type": "code",
   "execution_count": 62,
   "id": "fbf975c2-a9f8-4147-88d1-442262e87859",
   "metadata": {},
   "outputs": [
    {
     "data": {
      "text/html": [
       "<div>\n",
       "<style scoped>\n",
       "    .dataframe tbody tr th:only-of-type {\n",
       "        vertical-align: middle;\n",
       "    }\n",
       "\n",
       "    .dataframe tbody tr th {\n",
       "        vertical-align: top;\n",
       "    }\n",
       "\n",
       "    .dataframe thead th {\n",
       "        text-align: right;\n",
       "    }\n",
       "</style>\n",
       "<table border=\"1\" class=\"dataframe\">\n",
       "  <thead>\n",
       "    <tr style=\"text-align: right;\">\n",
       "      <th>Accident_Severity</th>\n",
       "      <th>Fatal</th>\n",
       "      <th>Serious</th>\n",
       "      <th>Slight</th>\n",
       "    </tr>\n",
       "    <tr>\n",
       "      <th>Year</th>\n",
       "      <th></th>\n",
       "      <th></th>\n",
       "      <th></th>\n",
       "    </tr>\n",
       "  </thead>\n",
       "  <tbody>\n",
       "    <tr>\n",
       "      <th>2019</th>\n",
       "      <td>2714</td>\n",
       "      <td>24322</td>\n",
       "      <td>155079</td>\n",
       "    </tr>\n",
       "    <tr>\n",
       "      <th>2020</th>\n",
       "      <td>2341</td>\n",
       "      <td>23121</td>\n",
       "      <td>145129</td>\n",
       "    </tr>\n",
       "    <tr>\n",
       "      <th>2021</th>\n",
       "      <td>2057</td>\n",
       "      <td>21997</td>\n",
       "      <td>139500</td>\n",
       "    </tr>\n",
       "    <tr>\n",
       "      <th>2022</th>\n",
       "      <td>1549</td>\n",
       "      <td>18777</td>\n",
       "      <td>124093</td>\n",
       "    </tr>\n",
       "  </tbody>\n",
       "</table>\n",
       "</div>"
      ],
      "text/plain": [
       "Accident_Severity  Fatal  Serious  Slight\n",
       "Year                                     \n",
       "2019                2714    24322  155079\n",
       "2020                2341    23121  145129\n",
       "2021                2057    21997  139500\n",
       "2022                1549    18777  124093"
      ]
     },
     "execution_count": 62,
     "metadata": {},
     "output_type": "execute_result"
    }
   ],
   "source": [
    "yearly_severity"
   ]
  },
  {
   "cell_type": "markdown",
   "id": "2cd2783f-9811-4314-b611-2021fc2ff9a4",
   "metadata": {},
   "source": [
    "<h4>21. Insights:</h4>\n",
    "<h4>According to the data above, all types of Severity (Fatal, Serious and Slight) are decreasing from 2019 to 2022. Fatal accidents dropped from <b>2714</b> to <b>1549</b>, which is about 43% fatality reduction.</b></h4>\n",
    "<hr>\n",
    "<h4>22. Insights:</h4>\n",
    "<h4>Following the Insights in number 21. The reduction of accident in 2020 and 2021 are mostly due to the Impact of Covid, it's possible that the reduced travel, stric rules about going outside contributed the drop of accidents. </h4>\n",
    "<hr>\n",
    "<h4>23. Insights:</h4>\n",
    "<h4>Even the restrictions are lifted in late 2021 to 2022, the decline still persisted. This indicates that the effect of the strict rules are still applied eventhough the lockdown are done.</h4>\n",
    "<hr>"
   ]
  },
  {
   "cell_type": "markdown",
   "id": "d7a2f64c-d3a2-46b9-92ce-51e8da760bf3",
   "metadata": {},
   "source": [
    "<h2>24. Which months record the highest number of accidents?</h2>"
   ]
  },
  {
   "cell_type": "code",
   "execution_count": 63,
   "id": "011126c4-de6b-495e-9cc7-0e0f564dc153",
   "metadata": {},
   "outputs": [],
   "source": [
    "month_counts = UKRoad[\"Month\"].value_counts().sort_index()"
   ]
  },
  {
   "cell_type": "code",
   "execution_count": 64,
   "id": "04a1381f-623c-4cb5-a1a7-13a7b36b4f19",
   "metadata": {},
   "outputs": [
    {
     "data": {
      "image/png": "[encoded data removed]",
      "text/plain": [
       "<Figure size 1000x800 with 1 Axes>"
      ]
     },
     "metadata": {},
     "output_type": "display_data"
    }
   ],
   "source": [
    "labels = [\"January\", \"February\", \"March\", \"April\", \"May\", \"June\", \n",
    "          \"July\", \"August\", \"September\", \"October\", \"November\", \"December\"]\n",
    "month_counts.plot(kind='bar', figsize=(10,8))\n",
    "plt.xlabel('Months')\n",
    "plt.ylabel('Number of accidents')\n",
    "plt.title('Accidents per month')\n",
    "plt.xticks(ticks=range(12), labels=labels, rotation=60)\n",
    "plt.show()"
   ]
  },
  {
   "cell_type": "markdown",
   "id": "a45de442-4f60-4f44-9619-7732d4255a36",
   "metadata": {},
   "source": [
    "<h4>Insights:</h4>\n",
    "<h4>With the data provided by our bargraph, it shows that november is the month where most accidents occurs, while the lowest is the month of february with the lowest. So in conclusion, November has about 22.1% more casualties than February.</h4>\n",
    "<hr>"
   ]
  },
  {
   "cell_type": "markdown",
   "id": "31a2f48d-a173-4828-ae09-be3e7b34facb",
   "metadata": {},
   "source": [
    "<h2>25. Which months record the highest number of fatal accidents?</h2>"
   ]
  },
  {
   "cell_type": "code",
   "execution_count": 65,
   "id": "c462251b-313d-48b5-9aca-094cb5f2c3fb",
   "metadata": {},
   "outputs": [],
   "source": [
    "fatalpermonth = UKRoad[UKRoad[\"Accident_Severity\"] == \"Fatal\"][\"Month\"].value_counts().sort_index()"
   ]
  },
  {
   "cell_type": "code",
   "execution_count": 70,
   "id": "f3b3ded5-4d54-461d-a16e-de1668c60133",
   "metadata": {},
   "outputs": [],
   "source": [
    "#Bargraph\n",
    "# labels = [\"January\", \"February\", \"March\", \"April\", \"May\", \"June\", \n",
    "#           \"July\", \"August\", \"September\", \"October\", \"November\", \"December\"]\n",
    "# fatalpermonth.plot(kind='bar', figsize=(10,8))\n",
    "# plt.xlabel('Months')\n",
    "# plt.ylabel('Number of accidents')\n",
    "# plt.title('Accidents per month')\n",
    "# plt.xticks(ticks=range(12), labels=labels, rotation=60)\n",
    "# plt.show()"
   ]
  },
  {
   "cell_type": "code",
   "execution_count": 67,
   "id": "e55626b4-7842-4432-b8b4-6119b9374b9f",
   "metadata": {},
   "outputs": [
    {
     "data": {
      "image/png": "[encoded data removed]",
      "text/plain": [
       "<Figure size 1000x800 with 1 Axes>"
      ]
     },
     "metadata": {},
     "output_type": "display_data"
    }
   ],
   "source": [
    "labels = [\"January\", \"February\", \"March\", \"April\", \"May\", \"June\", \n",
    "          \"July\", \"August\", \"September\", \"October\", \"November\", \"December\"]\n",
    "fatalpermonth.plot(kind='line', figsize=(10,8), marker='o')\n",
    "plt.xlabel('Months')\n",
    "plt.ylabel('Number of accidents')\n",
    "plt.title('Fatalities per month')\n",
    "plt.xticks(ticks=range(1, 13), labels=labels, rotation=60)\n",
    "plt.show()"
   ]
  },
  {
   "cell_type": "markdown",
   "id": "12bdff88-7054-4f0b-9b5b-20534019be3e",
   "metadata": {},
   "source": [
    "<h4>Insights:</h4>\n",
    "<h4>Comparing the previous data in Number 24. This data shows the fatalities of the accidents. It shows here that August have the highest fatal accidents, followed by Octobeer. In the previous data we have November having the highest accidents than other months, but here it's show that november is 5th highest in terms of fatal accidents. Moreover, the month of February in the previous data having the lowest accidents is actually having the lowest fatal accidents in this data.</h4>\n",
    "<hr>"
   ]
  },
  {
   "cell_type": "markdown",
   "id": "96d5205d-52bd-489b-ba8b-23e34c09368f",
   "metadata": {},
   "source": [
    "<h1>GEO SPATIAL</h1>\n",
    "<h2>Using FOLIUM and LEAFLET JS</h2>"
   ]
  },
  {
   "cell_type": "code",
   "execution_count": 73,
   "id": "30a5ea91-2a92-4b3b-8020-a0c1b7553d27",
   "metadata": {},
   "outputs": [],
   "source": [
    "import folium\n",
    "from folium.plugins import HeatMap"
   ]
  },
  {
   "cell_type": "code",
   "execution_count": 98,
   "id": "3b6f7058-735a-492c-b44b-aca04df63397",
   "metadata": {},
   "outputs": [
    {
     "data": {
      "text/plain": [
       "array(['Kensington and Chelsea', 'Westminster', 'Richmond upon Thames',\n",
       "       'Hammersmith and Fulham', 'Hounslow', 'Tower Hamlets',\n",
       "       'City of London', 'Southwark', 'Camden', 'Hackney', 'Islington',\n",
       "       'Barnet', 'Brent', 'Haringey', 'Merton', 'Ealing', 'Enfield',\n",
       "       'Greenwich', 'Newham', 'London Airport (Heathrow)', 'Hillingdon',\n",
       "       'Waltham Forest', 'Redbridge', 'Barking and Dagenham', 'Bromley',\n",
       "       'Havering', 'Croydon', 'Lambeth', 'Wandsworth', 'Sutton', 'Bexley',\n",
       "       'Lewisham', 'Harrow', 'Kingston upon Thames', 'Barrow-in-Furness',\n",
       "       'South Lakeland', 'Carlisle', 'Eden', 'Allerdale', 'Copeland',\n",
       "       'Fylde', 'Blackpool', 'Wyre', 'Lancaster', 'Chorley',\n",
       "       'West Lancashire', 'South Ribble', 'Preston',\n",
       "       'Blackburn with Darwen', 'Hyndburn', 'Ribble Valley', 'Burnley',\n",
       "       'Pendle', 'Rossendale', 'Wirral', 'Liverpool', 'Sefton',\n",
       "       'Knowsley', 'St. Helens', 'Manchester', 'Salford', 'Tameside',\n",
       "       'Stockport', 'Bolton', 'Wigan', 'Trafford', 'Bury', 'Rochdale',\n",
       "       'Oldham', 'Chester', 'Vale Royal', 'Halton', 'Warrington',\n",
       "       'Crewe and ntwich', 'Ellesmere Port and Neston', 'Congleton',\n",
       "       'Macclesfield', 'Crewe and Nantwich', 'Blyth Valley', 'Sunderland',\n",
       "       'Gateshead', 'North Tyneside', 'Tynedale', 'Berwick-upon-Tweed',\n",
       "       'Newcastle upon Tyne', 'Castle Morpeth', 'South Tyneside',\n",
       "       'Wansbeck', 'Alnwick', 'Wear Valley', 'Sedgefield', 'Durham',\n",
       "       'Easington', 'Chester-le-Street', 'Derwentside', 'Teesdale',\n",
       "       'Darlington', 'Craven', 'Hambleton', 'Richmondshire', 'York',\n",
       "       'Harrogate', 'Selby', 'Scarborough', 'Ryedale', 'Kirklees',\n",
       "       'Leeds', 'Wakefield', 'Bradford', 'Calderdale', 'Doncaster',\n",
       "       'Barnsley', 'Sheffield', 'Rotherham', 'North East Lincolnshire',\n",
       "       'North Lincolnshire', 'East Riding of Yorkshire',\n",
       "       'Kingston upon Hull, City of', 'Redcar and Cleveland',\n",
       "       'Hartlepool', 'Middlesbrough', 'Stockton-on-Tees', 'Birmingham',\n",
       "       'Wolverhampton', 'Walsall', 'Dudley', 'Sandwell', 'Solihull',\n",
       "       'Coventry', 'Newcastle-under-Lyme', 'Stafford',\n",
       "       'East Staffordshire', 'South Staffordshire', 'Lichfield',\n",
       "       'Stoke-on-Trent', 'Cannock Chase', 'Tamworth',\n",
       "       'Staffordshire Moorlands', 'Malvern Hills', 'Worcester',\n",
       "       'Wychavon', 'Wyre Forest', 'Redditch', 'Bromsgrove',\n",
       "       'Herefordshire, County of', 'Telford and Wrekin',\n",
       "       'South Shropshire', 'Bridgnorth', 'Shrewsbury and Atcham',\n",
       "       'North Shropshire', 'Oswestry', 'Warwick', 'Stratford-upon-Avon',\n",
       "       'Rugby', 'North Warwickshire', 'Nuneaton and Bedworth',\n",
       "       'Amber Valley', 'Erewash', 'Bolsover', 'High Peak',\n",
       "       'Derbyshire Dales', 'North East Derbyshire', 'Chesterfield',\n",
       "       'Derby', 'South Derbyshire', 'Ashfield', 'Mansfield',\n",
       "       'Newark and Sherwood', 'Bassetlaw', 'Gedling', 'Rushcliffe',\n",
       "       'Nottingham', 'Broxtowe', 'South Holland', 'South Kesteven',\n",
       "       'North Kesteven', 'East Lindsey', 'Boston', 'West Lindsey',\n",
       "       'Lincoln', 'Hinckley and Bosworth', 'Harborough', 'Leicester',\n",
       "       'Rutland', 'Charnwood', 'Melton', 'North West Leicestershire',\n",
       "       'Blaby', 'Oadby and Wigston', 'South Northamptonshire',\n",
       "       'Northampton', 'Kettering', 'Corby', 'Daventry',\n",
       "       'East Northamptonshire', 'Wellingborough', 'South Cambridgeshire',\n",
       "       'Fenland', 'Huntingdonshire', 'Peterborough',\n",
       "       'East Cambridgeshire', 'Cambridge', \"King's Lynn and West Norfolk\",\n",
       "       'Norwich', 'Breckland', 'South Norfolk', 'Broadland',\n",
       "       'Great Yarmouth', 'North Norfolk', 'St. Edmundsbury', 'Babergh',\n",
       "       'Mid Suffolk', 'Forest Heath', 'Suffolk Coastal', 'Ipswich',\n",
       "       'Waveney', 'Luton', 'Mid Bedfordshire', 'Bedford',\n",
       "       'South Bedfordshire', 'East Hertfordshire', 'North Hertfordshire',\n",
       "       'Welwyn Hatfield', 'St. Albans', 'Hertsmere', 'Three Rivers',\n",
       "       'Watford', 'Dacorum', 'Broxbourne', 'Stevege', 'Stevenage',\n",
       "       'Epping Forest', 'Brentwood', 'Castle Point', 'Uttlesford',\n",
       "       'Chelmsford', 'Basildon', 'Tendring', 'Colchester', 'Thurrock',\n",
       "       'Braintree', 'Rochford', 'Maldon', 'Southend-on-Sea', 'Harlow',\n",
       "       'Aylesbury Vale', 'Wycombe', 'South Bucks', 'Chiltern', 'Slough',\n",
       "       'Windsor and Maidenhead', 'South Oxfordshire', 'Milton Keynes',\n",
       "       'Cherwell', 'Vale of White Horse', 'West Oxfordshire', 'Oxford',\n",
       "       'Reading', 'West Berkshire', 'Wokingham', 'Bracknell Forest',\n",
       "       'Eastleigh', 'Test Valley', 'Portsmouth', 'Winchester',\n",
       "       'Basingstoke and Deane', 'Southampton', 'Fareham', 'Hart',\n",
       "       'Gosport', 'Havant', 'Isle of Wight', 'East Hampshire', 'Rushmoor',\n",
       "       'New Forest', 'Elmbridge', 'Mole Valley', 'Guildford',\n",
       "       'Spelthorne', 'Epsom and Ewell', 'Runnymede', 'Woking',\n",
       "       'Reigate and Banstead', 'Surrey Heath', 'Waverley', 'Tandridge',\n",
       "       'Medway', 'Thanet', 'Shepway', 'Ashford', 'Maidstone', 'Dover',\n",
       "       'Tunbridge Wells', 'Canterbury', 'Tonbridge and Malling', 'Swale',\n",
       "       'Dartford', 'Sevenoaks', 'Gravesham', 'Brighton and Hove',\n",
       "       'Chichester', 'Rother', 'Lewes', 'Wealden', 'Eastbourne',\n",
       "       'Hastings', 'Crawley', 'Horsham', 'Mid Sussex', 'Arun', 'Adur',\n",
       "       'Worthing', 'Kerrier', 'Restormel', 'Carrick', 'Penwith',\n",
       "       'North Cornwall', 'West Devon', 'Torridge', 'Caradon',\n",
       "       'North Devon', 'Mid Devon', 'Exeter', 'East Devon', 'Teignbridge',\n",
       "       'Plymouth', 'South Hams', 'Torbay', 'Bristol, City of',\n",
       "       'South Somerset', 'Sedgemoor', 'Mendip', 'Taunton Deane',\n",
       "       'South Gloucestershire', 'North Somerset',\n",
       "       'Bath and North East Somerset', 'West Somerset', 'Stroud',\n",
       "       'Tewkesbury', 'Gloucester', 'Cotswold', 'Cheltenham',\n",
       "       'Forest of Dean', 'Salisbury', 'Kennet', 'West Wiltshire',\n",
       "       'North Wiltshire', 'Swindon', 'Bournemouth', 'Poole',\n",
       "       'East Dorset', 'West Dorset', 'Weymouth and Portland',\n",
       "       'Christchurch', 'Purbeck', 'North Dorset', 'Isle of Anglesey',\n",
       "       'Conwy', 'Denbighshire', 'Flintshire', 'Wrexham', 'Gwynedd',\n",
       "       'Monmouthshire', 'Newport', 'Caerphilly', 'Torfaen', 'Blaeu Gwent',\n",
       "       'Blaenau Gwent', 'Merthyr Tydfil', 'The Vale of Glamorgan',\n",
       "       'Cardiff', 'Rhondda, Cynon, Taff', 'Swansea', 'Bridgend',\n",
       "       'Neath Port Talbot', 'Carmarthenshire', 'Ceredigion',\n",
       "       'Pembrokeshire', 'Powys', 'Highland', 'Western Isles',\n",
       "       'Orkney Islands', 'Shetland Islands', 'Aberdeenshire', 'Moray',\n",
       "       'Aberdeen City', 'Dundee City', 'Angus', 'Perth and Kinross',\n",
       "       'Fife', 'East Lothian', 'Midlothian', 'Scottish Borders',\n",
       "       'Edinburgh, City of', 'West Lothian', 'Falkirk',\n",
       "       'Clackmannanshire', 'Stirling', 'Clackmannshire', 'Glasgow City',\n",
       "       'East Dunbartonshire', 'North Larkshire', 'North Lanarkshire',\n",
       "       'Renfrewshire', 'East Renfrewshire', 'East Ayrshire',\n",
       "       'South Larkshire', 'Inverclyde', 'West Dunbartonshire',\n",
       "       'Argyll and Bute', 'South Lanarkshire', 'North Ayrshire',\n",
       "       'South Ayrshire', 'Dumfries and Galloway', 'Cheshire East',\n",
       "       'Cheshire West and Chester', 'Northumberland', 'County Durham',\n",
       "       'Shropshire', 'Central Bedfordshire', 'Cornwall', 'Wiltshire'],\n",
       "      dtype=object)"
      ]
     },
     "execution_count": 98,
     "metadata": {},
     "output_type": "execute_result"
    }
   ],
   "source": [
    "UKRoad[\"District Area\"].unique()"
   ]
  },
  {
   "cell_type": "code",
   "execution_count": 99,
   "id": "d05a9e58-afb4-4150-bcc8-fd4ea5a139b4",
   "metadata": {},
   "outputs": [],
   "source": [
    "#Kensington and Chelsea\n",
    "Ken_Chel_DF = UKRoad[UKRoad[\"District Area\"] == 'Kensington and Chelsea']"
   ]
  },
  {
   "cell_type": "code",
   "execution_count": 88,
   "id": "b5ad45ce-1d2c-4f42-ab9e-1001c678d294",
   "metadata": {},
   "outputs": [
    {
     "data": {
      "text/html": [
       "<div style=\"width:100%;\"><div style=\"position:relative;width:100%;height:0;padding-bottom:60%;\"><span style=\"color:#565656\">Make this Notebook Trusted to load map: File -> Trust Notebook</span><iframe srcdoc=\"&lt;!DOCTYPE html&gt;\n",
       "&lt;html&gt;\n",
       "&lt;head&gt;\n",
       "    \n",
       "    &lt;meta http-equiv=&quot;content-type&quot; content=&quot;text/html; charset=UTF-8&quot; /&gt;\n",
       "    \n",
       "        &lt;script&gt;\n",
       "            L_NO_TOUCH = false;\n",
       "            L_DISABLE_3D = false;\n",
       "        &lt;/script&gt;\n",
       "    \n",
       "    &lt;style&gt;html, body {width: 100%;height: 100%;margin: 0;padding: 0;}&lt;/style&gt;\n",
       "    &lt;style&gt;#map {position:absolute;top:0;bottom:0;right:0;left:0;}&lt;/style&gt;\n",
       "    &lt;script src=&quot;https://cdn.jsdelivr.net/npm/leaflet@1.9.3/dist/leaflet.js&quot;&gt;&lt;/script&gt;\n",
       "    &lt;script src=&quot;https://code.jquery.com/jquery-3.7.1.min.js&quot;&gt;&lt;/script&gt;\n",
       "    &lt;script src=&quot;https://cdn.jsdelivr.net/npm/bootstrap@5.2.2/dist/js/bootstrap.bundle.min.js&quot;&gt;&lt;/script&gt;\n",
       "    &lt;script src=&quot;https://cdnjs.cloudflare.com/ajax/libs/Leaflet.awesome-markers/2.0.2/leaflet.awesome-markers.js&quot;&gt;&lt;/script&gt;\n",
       "    &lt;link rel=&quot;stylesheet&quot; href=&quot;https://cdn.jsdelivr.net/npm/leaflet@1.9.3/dist/leaflet.css&quot;/&gt;\n",
       "    &lt;link rel=&quot;stylesheet&quot; href=&quot;https://cdn.jsdelivr.net/npm/bootstrap@5.2.2/dist/css/bootstrap.min.css&quot;/&gt;\n",
       "    &lt;link rel=&quot;stylesheet&quot; href=&quot;https://netdna.bootstrapcdn.com/bootstrap/3.0.0/css/bootstrap-glyphicons.css&quot;/&gt;\n",
       "    &lt;link rel=&quot;stylesheet&quot; href=&quot;https://cdn.jsdelivr.net/npm/@fortawesome/fontawesome-free@6.2.0/css/all.min.css&quot;/&gt;\n",
       "    &lt;link rel=&quot;stylesheet&quot; href=&quot;https://cdnjs.cloudflare.com/ajax/libs/Leaflet.awesome-markers/2.0.2/leaflet.awesome-markers.css&quot;/&gt;\n",
       "    &lt;link rel=&quot;stylesheet&quot; href=&quot;https://cdn.jsdelivr.net/gh/python-visualization/folium/folium/templates/leaflet.awesome.rotate.min.css&quot;/&gt;\n",
       "    \n",
       "            &lt;meta name=&quot;viewport&quot; content=&quot;width=device-width,\n",
       "                initial-scale=1.0, maximum-scale=1.0, user-scalable=no&quot; /&gt;\n",
       "            &lt;style&gt;\n",
       "                #map_9b52759b50f7f901d2067b24fda30ab7 {\n",
       "                    position: relative;\n",
       "                    width: 100.0%;\n",
       "                    height: 100.0%;\n",
       "                    left: 0.0%;\n",
       "                    top: 0.0%;\n",
       "                }\n",
       "                .leaflet-container { font-size: 1rem; }\n",
       "            &lt;/style&gt;\n",
       "        \n",
       "    &lt;script src=&quot;https://cdn.jsdelivr.net/gh/python-visualization/folium@main/folium/templates/leaflet_heat.min.js&quot;&gt;&lt;/script&gt;\n",
       "&lt;/head&gt;\n",
       "&lt;body&gt;\n",
       "    \n",
       "    \n",
       "            &lt;div class=&quot;folium-map&quot; id=&quot;map_9b52759b50f7f901d2067b24fda30ab7&quot; &gt;&lt;/div&gt;\n",
       "        \n",
       "&lt;/body&gt;\n",
       "&lt;script&gt;\n",
       "    \n",
       "    \n",
       "            var map_9b52759b50f7f901d2067b24fda30ab7 = L.map(\n",
       "                &quot;map_9b52759b50f7f901d2067b24fda30ab7&quot;,\n",
       "                {\n",
       "                    center: [0.0, 0.0],\n",
       "                    crs: L.CRS.EPSG3857,\n",
       "                    ...{\n",
       "  &quot;zoom&quot;: 1,\n",
       "  &quot;zoomControl&quot;: true,\n",
       "  &quot;preferCanvas&quot;: false,\n",
       "  &quot;locations&quot;: [\n",
       "51.49773659914255,\n",
       "-0.1872368245802072,\n",
       "],\n",
       "}\n",
       "\n",
       "                }\n",
       "            );\n",
       "\n",
       "            \n",
       "\n",
       "        \n",
       "    \n",
       "            var tile_layer_cd8a64cd4568f47036c271a3224dbbe7 = L.tileLayer(\n",
       "                &quot;https://tile.openstreetmap.org/{z}/{x}/{y}.png&quot;,\n",
       "                {\n",
       "  &quot;minZoom&quot;: 0,\n",
       "  &quot;maxZoom&quot;: 19,\n",
       "  &quot;maxNativeZoom&quot;: 19,\n",
       "  &quot;noWrap&quot;: false,\n",
       "  &quot;attribution&quot;: &quot;\\u0026copy; \\u003ca href=\\&quot;https://www.openstreetmap.org/copyright\\&quot;\\u003eOpenStreetMap\\u003c/a\\u003e contributors&quot;,\n",
       "  &quot;subdomains&quot;: &quot;abc&quot;,\n",
       "  &quot;detectRetina&quot;: false,\n",
       "  &quot;tms&quot;: false,\n",
       "  &quot;opacity&quot;: 1,\n",
       "}\n",
       "\n",
       "            );\n",
       "        \n",
       "    \n",
       "            tile_layer_cd8a64cd4568f47036c271a3224dbbe7.addTo(map_9b52759b50f7f901d2067b24fda30ab7);\n",
       "        \n",
       "    \n",
       "            var heat_map_57fac1f895fe4d041f9ee5ab172bedde = L.heatLayer(\n",
       "                [[51.506187, -0.209082], [51.495029, -0.173647], [51.517715, -0.210215], [51.495478, -0.202731], [51.488576, -0.192487], [51.49775, -0.192556], [51.501405, -0.161577], [51.48226, -0.179486], [51.493319, -0.173572], [51.484539, -0.175651], [51.491944, -0.171898], [51.499127, -0.159652], [51.500823, -0.193587], [51.508999, -0.210701], [51.485125, -0.167129], [51.488576, -0.192487], [51.49349, -0.19042], [51.508445, -0.215622], [51.49759, -0.159138], [51.482988, -0.174272], [51.505996, -0.214277], [51.486795, -0.170375], [51.499983, -0.179933], [51.485674, -0.150543], [51.498157, -0.201473], [51.493311, -0.190427], [51.49806, -0.166178], [51.490526, -0.196443], [51.513352, -0.207216], [51.514951, -0.217674], [51.514489, -0.199244], [51.480325, -0.1823], [51.494902, -0.182872], [51.514399, -0.199248], [51.498244, -0.201325], [51.524885, -0.214547], [51.497451, -0.167499], [51.492577, -0.183685], [51.508535, -0.215619], [51.493766, -0.17341], [51.48943, -0.172142], [51.493753, -0.178308], [51.481746, -0.17533], [51.49721, -0.157856], [51.485216, -0.149986], [51.485589, -0.150835], [51.488489, -0.192634], [51.485849, -0.17315], [51.481152, -0.183419], [51.492624, -0.157897], [51.49859, -0.165581], [51.482775, -0.177882], [51.491908, -0.192787], [51.497451, -0.167499], [51.510711, -0.216831], [51.500933, -0.19488], [51.497725, -0.202642], [51.48849, -0.181111], [51.491499, -0.172204], [51.528344, -0.217295], [51.480261, -0.178126], [51.489416, -0.19447], [51.4996, -0.207611], [51.494905, -0.183016], [51.492622, -0.157753], [51.503223, -0.191763], [51.497541, -0.167496], [51.514399, -0.199248], [51.511079, -0.205576], [51.50689, -0.208046], [51.487655, -0.167892], [51.506014, -0.209521], [51.480458, -0.185031], [51.493503, -0.173852], [51.484449, -0.175654], [51.491742, -0.164703], [51.490715, -0.19125], [51.498204, -0.192826], [51.486026, -0.161476], [51.510897, -0.205439], [51.501428, -0.191978], [51.494612, -0.18735], [51.493914, -0.177149], [51.522561, -0.221413], [51.518081, -0.210633], [51.490546, -0.186071], [51.482076, -0.173445], [51.482637, -0.186385], [51.48757, -0.168184], [51.496411, -0.164228], [51.500497, -0.195761], [51.495191, -0.18992], [51.5159, -0.209133], [51.480177, -0.178561], [51.50768, -0.195045], [51.487141, -0.169497], [51.496464, -0.179209], [51.485757, -0.150108], [51.48342, -0.167342], [51.518935, -0.225446], [51.49566, -0.173766], [51.484962, -0.185572], [51.49557, -0.17377], [51.51417, -0.20776], [51.485323, -0.174035], [51.496174, -0.207025], [51.508537, -0.215763], [51.488988, -0.190022], [51.509605, -0.197419], [51.487745, -0.167889], [51.493252, -0.169252], [51.5159, -0.209133], [51.517252, -0.203459], [51.483422, -0.167486], [51.494624, -0.193976], [51.519685, -0.215615], [51.484044, -0.184312], [51.485364, -0.188293], [51.517171, -0.209948], [51.491964, -0.161669], [51.479733, -0.178867], [51.498154, -0.166463], [51.49747, -0.197754], [51.499443, -0.197388], [51.494469, -0.195567], [51.488439, -0.166276], [51.5159, -0.209133], [51.507806, -0.203254], [51.508472, -0.19977], [51.494508, -0.174821], [51.493429, -0.169101], [51.48295, -0.177587], [51.502197, -0.189354], [51.491149, -0.172794], [51.48555, -0.177051], [51.488394, -0.19235], [51.523076, -0.219807], [51.482079, -0.173589], [51.488093, -0.167154], [51.501198, -0.159857], [51.495361, -0.177668], [51.496171, -0.206881], [51.489416, -0.19447], [51.498838, -0.198997], [51.493269, -0.181929], [51.485757, -0.150108], [51.502405, -0.191219], [51.51502, -0.204556], [51.490172, -0.190983], [51.48803, -0.174647], [51.483586, -0.166471], [51.480806, -0.184297], [51.496507, -0.158893], [51.511923, -0.201939], [51.483334, -0.167633], [51.495557, -0.16138], [51.483247, -0.167781], [51.490753, -0.182029], [51.513895, -0.201573], [51.500731, -0.193447], [51.5119, -0.19459], [51.495042, -0.180274], [51.518298, -0.207166], [51.522177, -0.208022], [51.493411, -0.173712], [51.491484, -0.188627], [51.496489, -0.169267], [51.509374, -0.194114], [51.502577, -0.214123], [51.498513, -0.183737], [51.498926, -0.198849], [51.482079, -0.173589], [51.504331, -0.193593], [51.492471, -0.200112], [51.508564, -0.19991], [51.50003, -0.159904], [51.482689, -0.178173], [51.516717, -0.209678], [51.498763, -0.165142], [51.492622, -0.157753], [51.524885, -0.214547], [51.480436, -0.177831], [51.491172, -0.191664], [51.494635, -0.194696], [51.508763, -0.195291], [51.481575, -0.181674], [51.494813, -0.182876], [51.496577, -0.169119], [51.51499, -0.208448], [51.515247, -0.213483], [51.509886, -0.198129], [51.506783, -0.206897], [51.508882, -0.197159], [51.495137, -0.192227], [51.482076, -0.173445], [51.492597, -0.19665], [51.508622, -0.203655], [51.500481, -0.16003], [51.501277, -0.193858], [51.508972, -0.197156], [51.491632, -0.192366], [51.509377, -0.194258], [51.49249, -0.166546], [51.487745, -0.167889], [51.496174, -0.207025], [51.494683, -0.191957], [51.499127, -0.159652], [51.498924, -0.198705], [51.485323, -0.162512], [51.490753, -0.182029], [51.499048, -0.160375], [51.488749, -0.192048], [51.482987, -0.185795], [51.485757, -0.150108], [51.4896, -0.194751], [51.525887, -0.215373], [51.497125, -0.204539], [51.501023, -0.160152], [51.5159, -0.209133], [51.482577, -0.170976], [51.492186, -0.187446], [51.492388, -0.183117], [51.503679, -0.215664], [51.47855, -0.183811], [51.480878, -0.183142], [51.505595, -0.211555], [51.48097, -0.183282], [51.488264, -0.166571], [51.487745, -0.167889], [51.514543, -0.214519], [51.519477, -0.20784], [51.509374, -0.194114], [51.492183, -0.187302], [51.493759, -0.17874], [51.481593, -0.182826], [51.494683, -0.168763], [51.491632, -0.192366], [51.499127, -0.159652], [51.493759, -0.17874], [51.487538, -0.195121], [51.519477, -0.20784], [51.520003, -0.224684], [51.499353, -0.197391], [51.508445, -0.215622], [51.528065, -0.216729], [51.481746, -0.17533], [51.494339, -0.15826], [51.51417, -0.20776], [51.484042, -0.161124], [51.490548, -0.186215], [51.499724, -0.163374], [51.497381, -0.203664], [51.490131, -0.176724], [51.490065, -0.195741], [51.499516, -0.208047], [51.515917, -0.216195], [51.480177, -0.178561], [51.525792, -0.215088], [51.483644, -0.164452], [51.484282, -0.159242], [51.507115, -0.199247], [51.494177, -0.182469], [51.486624, -0.170958], [51.49566, -0.173766], [51.508706, -0.197455], [51.504851, -0.198183], [51.499727, -0.163518], [51.488003, -0.167158], [51.490263, -0.16217], [51.515667, -0.205683], [51.496492, -0.169411], [51.498743, -0.210382], [51.497138, -0.159012], [51.494612, -0.18735], [51.489787, -0.195176], [51.509125, -0.195421], [51.493771, -0.173698], [51.494369, -0.200757], [51.519227, -0.215057], [51.484658, -0.165996], [51.489262, -0.190299], [51.487538, -0.195121], [51.486968, -0.169936], [51.500192, -0.211046], [51.493759, -0.17874], [51.494267, -0.170941], [51.485757, -0.150108], [51.497053, -0.159303], [51.506781, -0.206753], [51.488958, -0.164959], [51.484276, -0.176093], [51.483635, -0.163876], [51.493285, -0.194606], [51.517336, -0.214843], [51.51764, -0.205318], [51.507539, -0.209317], [51.52198, -0.212787], [51.497451, -0.167499], [51.49766, -0.19256], [51.494688, -0.192245], [51.496235, -0.170285], [51.50863, -0.198322], [51.489945, -0.170537], [51.526101, -0.211761], [51.493681, -0.179464], [51.496515, -0.205859], [51.488769, -0.193344], [51.48567, -0.150255], [51.497073, -0.183651], [51.500012, -0.158752], [51.485266, -0.181959], [51.510715, -0.205302], [51.49456, -0.189801], [51.49981, -0.163082], [51.491173, -0.18014], [51.490791, -0.161428], [51.483422, -0.167486], [51.508564, -0.19991], [51.490681, -0.183184], [51.485178, -0.187868], [51.499024, -0.164555], [51.492137, -0.178517], [51.49725, -0.206839], [51.522162, -0.212924], [51.499355, -0.197535], [51.50888, -0.197015], [51.49566, -0.173766], [51.484274, -0.17595], [51.496381, -0.173881], [51.495361, -0.177668], [51.503133, -0.191767], [51.497628, -0.167348], [51.49747, -0.197754], [51.499504, -0.183842], [51.526244, -0.215215], [51.491519, -0.179262], [51.489622, -0.155713], [51.482076, -0.173445], [51.496752, -0.168824], [51.495811, -0.171887], [51.496665, -0.168972], [51.497309, -0.20482], [51.483163, -0.1855], [51.490434, -0.167349], [51.482076, -0.173445], [51.506187, -0.209082], [51.50143, -0.192122], [51.505595, -0.211555], [51.489879, -0.195316], [51.499521, -0.208335], [51.482326, -0.172139], [51.509515, -0.197423], [51.50228, -0.188919], [51.519714, -0.211578], [51.526336, -0.215355], [51.492652, -0.200249], [51.497984, -0.201912], [51.489352, -0.190296], [51.495768, -0.192346], [51.499011, -0.198558], [51.504927, -0.214895], [51.502134, -0.191086], [51.492773, -0.167399], [51.483035, -0.177295], [51.501571, -0.160706], [51.509515, -0.197423], [51.502224, -0.191082], [51.487491, -0.168907], [51.480806, -0.184297], [51.495478, -0.202731], [51.495117, -0.1735], [51.519986, -0.211712], [51.485505, -0.174172], [51.494756, -0.185039], [51.481487, -0.181822], [51.495804, -0.171455], [51.513856, -0.20489], [51.501516, -0.191831], [51.486276, -0.171693], [51.491661, -0.15952], [51.497288, -0.197617], [51.494713, -0.199735], [51.516991, -0.209955], [51.499026, -0.164699], [51.497242, -0.194593], [51.497968, -0.166038], [51.516325, -0.213441], [51.487743, -0.167745], [51.517252, -0.203459], [51.486792, -0.170231], [51.482637, -0.186385], [51.521811, -0.225334], [51.482547, -0.186388], [51.510993, -0.199958], [51.502069, -0.18691], [51.496855, -0.163921], [51.522177, -0.208022], [51.483357, -0.174834], [51.49226, -0.157624], [51.50821, -0.212029], [51.488425, -0.176936], [51.497051, -0.159159], [51.486376, -0.160886], [51.500641, -0.19345], [51.508641, -0.199042], [51.48106, -0.183279], [51.504331, -0.193593], [51.508882, -0.197159], [51.48266, -0.170541], [51.504223, -0.192444], [51.481574, -0.187435], [51.4971, -0.16809], [51.491824, -0.198985], [51.508806, -0.203936], [51.49262, -0.157609], [51.511923, -0.201939], [51.496411, -0.164228], [51.498675, -0.165289], [51.481486, -0.187583], [51.503223, -0.191763], [51.509607, -0.197563], [51.501113, -0.160148], [51.491593, -0.17825], [51.485757, -0.150108], [51.493177, -0.176026], [51.489129, -0.164376], [51.496518, -0.206003], [51.499009, -0.198414], [51.511833, -0.201943], [51.51417, -0.20776], [51.497188, -0.167942], [51.499024, -0.164555], [51.487637, -0.178264], [51.49454, -0.188505], [51.491732, -0.198845], [51.501947, -0.190661], [51.489302, -0.175461], [51.500994, -0.193004], [51.492953, -0.173154], [51.506936, -0.199254], [51.49566, -0.173766], [51.520266, -0.218331], [51.498926, -0.198849], [51.499024, -0.164555], [51.516658, -0.205789], [51.50203, -0.190226], [51.497524, -0.183777], [51.499199, -0.16426], [51.518806, -0.211037], [51.48901, -0.191461], [51.488093, -0.167154], [51.488425, -0.176936], [51.496019, -0.196947], [51.487618, -0.188636], [51.515838, -0.2051], [51.500567, -0.194462], [51.492931, -0.200814], [51.518806, -0.211037], [51.496038, -0.192336], [51.504874, -0.193859], [51.506358, -0.208499], [51.481746, -0.17533], [51.489787, -0.195176], [51.499239, -0.195811], [51.492371, -0.193633], [51.496381, -0.173881], [51.499289, -0.164256], [51.509129, -0.195709], [51.482549, -0.186532], [51.521829, -0.226487], [51.485757, -0.150108], [51.496174, -0.207025], [51.489389, -0.163789], [51.491632, -0.192366], [51.491279, -0.163857], [51.488673, -0.169724], [51.485496, -0.173596], [51.498269, -0.16228], [51.491861, -0.201432], [51.509044, -0.196], [51.494756, -0.185039], [51.481744, -0.175186], [51.495773, -0.16944], [51.495716, -0.171603], [51.505512, -0.21199], [51.485757, -0.150108], [51.494588, -0.162716], [51.484188, -0.176241], [51.482865, -0.177878], [51.486145, -0.180628], [51.501947, -0.190661], [51.517796, -0.215545], [51.500304, -0.194905], [51.494835, -0.184316], [51.493435, -0.158008], [51.494521, -0.158397], [51.488145, -0.193656], [51.502314, -0.214565], [51.482637, -0.186385], [51.495204, -0.179115], [51.491782, -0.178819], [51.504931, -0.215183], [51.522085, -0.201972], [51.483603, -0.184906], [51.487628, -0.195117], [51.491874, -0.184722], [51.497013, -0.168237], [51.482076, -0.173445], [51.504851, -0.198183], [51.504841, -0.215187], [51.496605, -0.205856], [51.490972, -0.190375], [51.509293, -0.194693], [51.508882, -0.197159], [51.488776, -0.176346], [51.500304, -0.194905], [51.514399, -0.199248], [51.500819, -0.193299], [51.495773, -0.16944], [51.500731, -0.193447], [51.487369, -0.195848], [51.497035, -0.204542], [51.495204, -0.179115], [51.485669, -0.173157], [51.494087, -0.182473], [51.495206, -0.179259], [51.509127, -0.195565], [51.517749, -0.200701], [51.484349, -0.186605], [51.482079, -0.173589], [51.487657, -0.168036], [51.48615, -0.169393], [51.497015, -0.168381], [51.502134, -0.191086], [51.513744, -0.203453], [51.490351, -0.162022], [51.482074, -0.173301], [51.500738, -0.193879], [51.484361, -0.175802], [51.494319, -0.174252], [51.484887, -0.174917], [51.48217, -0.17949], [51.494613, -0.193257], [51.497288, -0.197617], [51.509374, -0.194114], [51.487637, -0.178264], [51.482582, -0.171264], [51.523887, -0.21401], [51.498153, -0.183752], [51.495202, -0.178971], [51.484361, -0.175802], [51.489214, -0.164084], [51.491951, -0.201429], [51.493084, -0.199079], [51.495361, -0.177668], [51.516658, -0.205789], [51.516749, -0.20002], [51.490546, -0.186071], [51.523059, -0.206834], [51.481746, -0.17533], [51.51417, -0.20776], [51.482074, -0.173301], [51.492655, -0.200393], [51.48166, -0.181383], [51.4975, -0.159141], [51.494902, -0.182872], [51.504784, -0.193863], [51.489306, -0.175749], [51.523238, -0.206827], [51.497015, -0.168381], [51.483301, -0.176997], [51.517386, -0.206337], [51.484977, -0.174913], [51.503958, -0.21623], [51.483603, -0.184906], [51.505512, -0.21199], [51.484875, -0.18572], [51.515928, -0.205097], [51.516875, -0.21414], [51.507123, -0.205587], [51.498826, -0.19237], [51.487452, -0.195412], [51.491661, -0.15952], [51.495745, -0.196669], [51.493995, -0.182332], [51.491964, -0.161669], [51.495858, -0.192343], [51.490753, -0.182029], [51.523668, -0.217334], [51.497015, -0.168381], [51.490863, -0.177559], [51.497671, -0.20495], [51.493269, -0.181929], [51.492337, -0.156756], [51.495204, -0.179115], [51.514399, -0.199248], [51.502208, -0.213561], [51.490534, -0.191113], [51.52278, -0.206269], [51.500282, -0.211043], [51.523754, -0.217042], [51.483603, -0.184906], [51.485093, -0.182398], [51.487635, -0.17812], [51.485418, -0.151418], [51.50526, -0.213153], [51.482608, -0.178752], [51.505512, -0.21199], [51.495501, -0.175069], [51.492396, -0.166262], [51.508972, -0.197156], [51.489096, -0.19117], [51.491499, -0.172204], [51.49327, -0.176167], [51.507804, -0.20311], [51.496824, -0.167669], [51.483838, -0.176831], [51.509605, -0.197419], [51.518002, -0.211357], [51.495658, -0.173622], [51.519928, -0.225696], [51.49164, -0.198704], [51.485967, -0.180779], [51.506866, -0.206462], [51.515955, -0.212735], [51.509795, -0.192224], [51.508882, -0.197159], [51.496257, -0.20659], [51.493568, -0.16074], [51.494685, -0.168907], [51.481062, -0.183423], [51.484887, -0.174917], [51.517706, -0.209639], [51.51508, -0.208445], [51.49344, -0.175584], [51.483422, -0.167486], [51.497434, -0.18378], [51.498958, -0.160379], [51.489352, -0.190296], [51.499129, -0.159796], [51.488351, -0.166424], [51.51944, -0.211301], [51.510076, -0.216423], [51.480718, -0.184445], [51.485669, -0.173157], [51.520192, -0.213434], [51.495199, -0.196259], [51.499621, -0.179803], [51.485939, -0.150244], [51.509876, -0.191644], [51.510094, -0.188321], [51.499983, -0.179933], [51.486674, -0.151223], [51.499533, -0.179951], [51.510016, -0.189044], [51.510036, -0.190341], [51.509944, -0.1902], [51.50043, -0.162481], [51.489975, -0.155267], [51.486953, -0.151788], [51.500645, -0.159014], [51.510106, -0.189041], [51.490623, -0.173679], [51.496005, -0.207752], [51.48299, -0.185939], [51.505345, -0.212862], [51.492482, -0.200832], [51.488425, -0.176936], [51.528061, -0.216441], [51.528922, -0.219868], [51.529122, -0.221158], [51.49467, -0.191093], [51.490033, -0.18782], [51.505591, -0.211267], [51.518348, -0.216388], [51.491279, -0.163857], [51.494469, -0.195567], [51.491748, -0.159373], [51.493429, -0.169101], [51.505938, -0.198717], [51.483675, -0.183751], [51.493649, -0.171686], [51.512276, -0.201493], [51.506097, -0.209086], [51.489352, -0.190296], [51.516658, -0.205789], [51.494582, -0.191241], [51.499519, -0.208191], [51.51417, -0.20776], [51.499724, -0.163374], [51.487581, -0.168903], [51.487455, -0.195556], [51.492655, -0.200393], [51.506812, -0.214677], [51.496323, -0.170138], [51.502042, -0.190946], [51.492733, -0.193763], [51.493271, -0.199504], [51.491521, -0.179406], [51.484909, -0.176356], [51.509965, -0.197405], [51.490631, -0.185779], [51.509712, -0.192659], [51.494069, -0.158271], [51.482141, -0.18338], [51.515424, -0.213332], [51.478418, -0.18108], [51.488522, -0.165841], [51.50235, -0.187619], [51.523076, -0.219807], [51.494902, -0.182872], [51.523431, -0.213595], [51.495117, -0.1735], [51.483165, -0.185644], [51.489416, -0.19447], [51.480874, -0.177093], [51.49617, -0.183398], [51.482413, -0.171991], [51.518171, -0.21063], [51.487547, -0.178268], [51.481914, -0.180364], [51.495808, -0.183269], [51.485581, -0.173305], [51.492941, -0.183959], [51.491139, -0.160694], [51.491174, -0.191808], [51.522649, -0.221266], [51.490715, -0.19125], [51.515838, -0.2051], [51.500735, -0.159011], [51.51248, -0.20307], [51.509377, -0.194258], [51.489216, -0.164228], [51.482582, -0.171264], [51.495747, -0.185144], [51.481712, -0.173171], [51.499727, -0.163518], [51.52198, -0.212787], [51.501603, -0.191683], [51.494683, -0.191957], [51.494133, -0.191259], [51.492565, -0.200396], [51.488715, -0.160936], [51.496653, -0.19721], [51.488425, -0.176936], [51.496822, -0.161762], [51.489353, -0.178772], [51.502587, -0.191356], [51.500648, -0.21146], [51.508882, -0.197159], [51.506957, -0.194786], [51.509706, -0.198136], [51.508884, -0.197303], [51.497378, -0.197613], [51.50905, -0.196432], [51.518806, -0.211037], [51.498412, -0.165732], [51.486375, -0.189693], [51.503405, -0.1919], [51.522528, -0.207432], [51.492482, -0.200832], [51.495811, -0.171887], [51.482725, -0.186237], [51.51944, -0.211301], [51.509712, -0.192659], [51.484087, -0.164002], [51.508709, -0.197599], [51.516491, -0.20666], [51.516717, -0.209678], [51.484044, -0.184312], [51.484703, -0.163113], [51.489286, -0.174453], [51.489216, -0.164228], [51.517888, -0.215686], [51.502039, -0.190802], [51.482514, -0.178468], [51.499443, -0.197388], [51.501639, -0.193987], [51.483182, -0.169368], [51.491719, -0.157501], [51.492657, -0.200537], [51.498154, -0.166463], [51.497449, -0.167355], [51.493352, -0.198925], [51.513831, -0.197396], [51.482395, -0.182362], [51.485093, -0.182398], [51.525884, -0.215229], [51.506542, -0.214688], [51.489306, -0.175749], [51.513126, -0.204198], [51.482519, -0.178756], [51.496745, -0.19735], [51.500943, -0.189692], [51.494627, -0.19412], [51.485362, -0.188149], [51.51499, -0.208448], [51.491438, -0.162555], [51.496607, -0.206], [51.496774, -0.18179], [51.482076, -0.173445], [51.485148, -0.17433], [51.489738, -0.163055], [51.492402, -0.172456], [51.495202, -0.178971], [51.492096, -0.158639], [51.490791, -0.196145], [51.501774, -0.1911], [51.480177, -0.178561], [51.484349, -0.186605], [51.48106, -0.183279], [51.490037, -0.170678], [51.497013, -0.168237], [51.514399, -0.199248], [51.497924, -0.198024], [51.496088, -0.207317], [51.520189, -0.225109], [51.48488, -0.162962], [51.495478, -0.202731], [51.49674, -0.197062], [51.518905, -0.21752], [51.482079, -0.173589], [51.506016, -0.209665], [51.493707, -0.158142], [51.516263, -0.209407], [51.520858, -0.209948], [51.496918, -0.179479], [51.522706, -0.213191], [51.488576, -0.192487], [51.507462, -0.204277], [51.497138, -0.159012], [51.498244, -0.201325], [51.522822, -0.220826], [51.481991, -0.173736], [51.523887, -0.21401], [51.498588, -0.165437], [51.488425, -0.176936], [51.492157, -0.156763], [51.497685, -0.165185], [51.482637, -0.186385], [51.509377, -0.194258], [51.518348, -0.216388], [51.492652, -0.200249], [51.508882, -0.197159], [51.493968, -0.174842], [51.492127, -0.201134], [51.494672, -0.191237], [51.482582, -0.171264], [51.482076, -0.173445], [51.493598, -0.168374], [51.516263, -0.209407], [51.500477, -0.194465], [51.485757, -0.150108], [51.482908, -0.169091], [51.523328, -0.218644], [51.51499, -0.208448], [51.507123, -0.205587], [51.486582, -0.151083], [51.482519, -0.178756], [51.493607, -0.16895], [51.48849, -0.181111], [51.479238, -0.181767], [51.502058, -0.18619], [51.490991, -0.197433], [51.493829, -0.177441], [51.482076, -0.173445], [51.500731, -0.193447], [51.501863, -0.185189], [51.487655, -0.167892], [51.497015, -0.168381], [51.496171, -0.206881], [51.492045, -0.178376], [51.489129, -0.164376], [51.496291, -0.19708], [51.493429, -0.169101], [51.502114, -0.18979], [51.504759, -0.198043], [51.486008, -0.177609], [51.492723, -0.181519], [51.509285, -0.194117], [51.518889, -0.204692], [51.491424, -0.155929], [51.495809, -0.171743], [51.497671, -0.18161], [51.494897, -0.200016], [51.522177, -0.208022], [51.519352, -0.217358], [51.483838, -0.176831], [51.497662, -0.192704], [51.494452, -0.188653], [51.506443, -0.208207], [51.514951, -0.217674], [51.482637, -0.186385], [51.490249, -0.196022], [51.490037, -0.170678], [51.500731, -0.193447], [51.481575, -0.181674], [51.494902, -0.182872], [51.511859, -0.197763], [51.494593, -0.168767], [51.488576, -0.192487], [51.491499, -0.172204], [51.497799, -0.166765], [51.515078, -0.208301], [51.498759, -0.19972], [51.490546, -0.186071], [51.50921, -0.195129], [51.501954, -0.191093], [51.490998, -0.163149], [51.488576, -0.192487], [51.517674, -0.201713], [51.485308, -0.150126], [51.488425, -0.176936], [51.48342, -0.167342], [51.492941, -0.183959], [51.48011, -0.180004], [51.484584, -0.149867], [51.483301, -0.176997], [51.48844, -0.189467], [51.51508, -0.208445], [51.480177, -0.178561], [51.497125, -0.204539], [51.486376, -0.160886], [51.481743, -0.180947], [51.499729, -0.2102], [51.509374, -0.194114], [51.48342, -0.167342], [51.526246, -0.215359], [51.509045, -0.213726], [51.481488, -0.176061], [51.508909, -0.210705], [51.490874, -0.160993], [51.495658, -0.173622], [51.49261, -0.185845], [51.496603, -0.205712], [51.498495, -0.159533], [51.486439, -0.176439], [51.481575, -0.181674], [51.488425, -0.176936], [51.521437, -0.21252], [51.48783, -0.167597], [51.489943, -0.187823], [51.496174, -0.207025], [51.498872, -0.183723], [51.493013, -0.194472], [51.487021, -0.179153], [51.495197, -0.196115], [51.496607, -0.206], [51.501516, -0.191831], [51.499614, -0.196805], [51.496579, -0.192458], [51.508146, -0.201944], [51.488481, -0.157488], [51.489442, -0.190292], [51.495117, -0.1735], [51.485757, -0.150108], [51.494615, -0.193401], [51.497541, -0.167496], [51.512933, -0.197432], [51.48889, -0.154879], [51.495208, -0.179403], [51.486026, -0.161476], [51.496238, -0.170429], [51.501308, -0.161149], [51.518171, -0.21063], [51.496605, -0.205856], [51.494682, -0.186051], [51.487021, -0.179153], [51.481575, -0.181674], [51.498497, -0.20607], [51.512346, -0.21792], [51.498924, -0.198705], [51.521826, -0.226343], [51.490517, -0.178437], [51.483253, -0.185496], [51.490263, -0.16217], [51.502157, -0.186762], [51.514951, -0.217674], [51.517796, -0.215545], [51.498244, -0.201325], [51.494902, -0.182872], [51.509733, -0.199864], [51.497605, -0.183197], [51.501954, -0.191093], [51.488921, -0.156894], [51.489535, -0.155861], [51.510441, -0.199115], [51.490182, -0.156987], [51.480806, -0.184297], [51.51502, -0.204556], [51.484809, -0.187307], [51.497193, -0.16823], [51.4829, -0.185942], [51.498501, -0.200451], [51.501476, -0.212725], [51.496665, -0.168972], [51.49204, -0.183851], [51.48936, -0.156156], [51.515838, -0.216919], [51.497808, -0.161578], [51.500299, -0.159893], [51.506187, -0.209082], [51.496588, -0.181365], [51.498244, -0.201325], [51.496603, -0.205712], [51.481829, -0.180656], [51.496409, -0.198948], [51.506415, -0.194663], [51.492277, -0.193349], [51.506323, -0.194523], [51.50012, -0.1599], [51.499958, -0.195783], [51.482516, -0.178612], [51.492096, -0.158639], [51.524032, -0.205787], [51.490898, -0.197293], [51.495478, -0.202731], [51.491173, -0.18014], [51.480175, -0.178417], [51.482987, -0.185795], [51.498536, -0.202755], [51.517796, -0.215545], [51.493013, -0.194472], [51.508522, -0.197174], [51.48299, -0.185939], [51.502161, -0.18705], [51.517125, -0.212833], [51.507208, -0.205295], [51.51417, -0.20776], [51.501385, -0.160281], [51.495271, -0.177671], [51.483422, -0.167486], [51.491762, -0.171761], [51.483301, -0.176997], [51.509423, -0.197282], [51.485617, -0.181369], [51.492274, -0.193205], [51.491865, -0.178384], [51.494835, -0.184316], [51.48849, -0.181111], [51.497824, -0.179875], [51.487945, -0.169177], [51.494995, -0.183013], [51.499037, -0.159656], [51.48892, -0.191465], [51.488958, -0.164959], [51.487162, -0.188222], [51.514168, -0.207616], [51.499355, -0.197535], [51.513129, -0.204342], [51.492657, -0.200537], [51.493431, -0.169245], [51.491782, -0.178819], [51.498924, -0.198705], [51.502163, -0.187194], [51.489442, -0.190292], [51.514951, -0.217674], [51.483253, -0.185496], [51.493937, -0.201927], [51.493831, -0.195016], [51.481137, -0.176651], [51.494902, -0.182872], [51.484284, -0.159385], [51.484361, -0.175802], [51.49815, -0.166175], [51.509374, -0.194114], [51.505849, -0.210536], [51.513245, -0.217885], [51.522886, -0.213184], [51.506526, -0.207772], [51.489352, -0.190296], [51.521421, -0.205601], [51.503223, -0.191763], [51.498223, -0.1594], [51.498237, -0.166027], [51.482079, -0.173589], [51.485362, -0.188149], [51.500192, -0.211046], [51.480085, -0.178421], [51.500731, -0.193447], [51.484887, -0.174917], [51.489306, -0.175749], [51.481309, -0.187734], [51.486795, -0.170375], [51.489352, -0.190296], [51.486882, -0.170228], [51.497136, -0.158868], [51.483721, -0.163585], [51.482079, -0.173589], [51.499127, -0.159652], [51.480874, -0.177093], [51.486622, -0.170814], [51.517796, -0.215545], [51.508564, -0.19991], [51.502056, -0.186046], [51.505345, -0.212862], [51.487724, -0.178116], [51.48106, -0.183279], [51.488489, -0.192634], [51.497968, -0.166038], [51.5172, -0.211821], [51.514854, -0.205427], [51.497219, -0.204823], [51.500392, -0.194757], [51.485756, -0.17301], [51.515911, -0.215763], [51.480177, -0.178561], [51.484044, -0.184312], [51.500284, -0.211187], [51.506957, -0.194786], [51.508555, -0.199334], [51.483163, -0.1855], [51.509289, -0.194405], [51.481516, -0.183693], [51.487399, -0.168767], [51.496411, -0.164228], [51.494835, -0.184316], [51.499019, -0.210804], [51.490614, -0.161579], [51.500497, -0.195761], [51.48149, -0.176205], [51.491499, -0.172204], [51.481746, -0.17533], [51.490611, -0.155673], [51.493899, -0.176142], [51.487399, -0.168767], [51.510877, -0.198234], [51.496321, -0.169994], [51.492876, -0.156734], [51.486622, -0.170814], [51.494598, -0.192249], [51.503223, -0.191763], [51.488576, -0.192487], [51.490988, -0.197289], [51.514951, -0.217674], [51.498722, -0.179839], [51.496898, -0.160894], [51.4985, -0.165584], [51.499872, -0.196074], [51.495804, -0.171455], [51.494743, -0.195845], [51.503405, -0.1919], [51.496174, -0.207025], [51.494909, -0.183304], [51.484046, -0.184456], [51.495478, -0.202731], [51.506775, -0.194649], [51.490863, -0.177559], [51.492207, -0.159931], [51.497381, -0.203664], [51.480199, -0.185761], [51.494902, -0.182872], [51.499731, -0.210344], [51.4967, -0.15975], [51.498154, -0.166463], [51.509123, -0.195277], [51.50226, -0.187623], [51.494533, -0.188073], [51.497451, -0.167499], [51.514489, -0.199244], [51.498834, -0.198709], [51.492527, -0.197949], [51.500659, -0.194602], [51.482637, -0.186385], [51.494798, -0.199444], [51.488956, -0.164815], [51.506103, -0.209518], [51.48887, -0.165107], [51.51773, -0.205314], [51.501945, -0.190517], [51.489523, -0.189713], [51.491357, -0.157372], [51.495361, -0.177668], [51.500475, -0.194321], [51.499355, -0.197535], [51.486968, -0.169936], [51.509624, -0.192807], [51.501842, -0.213143], [51.490546, -0.186071], [51.518, -0.211213], [51.495433, -0.176512], [51.497048, -0.159015], [51.484856, -0.15], [51.504646, -0.208278], [51.494469, -0.195567], [51.494672, -0.191237], [51.496864, -0.205125], [51.497449, -0.167355], [51.485323, -0.174035], [51.496893, -0.160606], [51.489879, -0.195316], [51.517263, -0.210089], [51.481575, -0.181674], [51.492852, -0.189869], [51.48149, -0.176205], [51.494675, -0.156806], [51.490182, -0.156987], [51.480175, -0.178417], [51.509377, -0.194258], [51.493829, -0.177441], [51.479238, -0.181767], [51.518083, -0.210777], [51.487491, -0.168907], [51.484901, -0.187447], [51.493762, -0.173122], [51.483301, -0.176997], [51.482582, -0.171264], [51.518348, -0.216388], [51.48342, -0.167342], [51.487853, -0.169037], [51.51944, -0.211301], [51.481743, -0.180947], [51.504213, -0.197632], [51.501842, -0.213143], [51.501543, -0.199466], [51.509125, -0.195421], [51.488673, -0.169724], [51.502161, -0.18705], [51.483253, -0.185496], [51.495229, -0.169173], [51.495009, -0.166589], [51.513468, -0.203032], [51.505345, -0.212862], [51.507804, -0.20311], [51.49201, -0.19941], [51.522649, -0.221266], [51.491174, -0.191808], [51.487655, -0.167892], [51.489787, -0.195176], [51.480199, -0.185761], [51.494377, -0.195427], [51.502269, -0.188199], [51.508472, -0.19977], [51.482637, -0.186385], [51.492899, -0.169699], [51.488673, -0.169724], [51.493937, -0.201927], [51.502395, -0.213986], [51.481318, -0.182548], [51.513378, -0.197126], [51.509035, -0.195424], [51.501275, -0.193714], [51.512488, -0.197738], [51.514937, -0.210901], [51.511739, -0.201658], [51.516347, -0.214881], [51.507464, -0.204421], [51.493639, -0.188397], [51.508488, -0.200778], [51.480878, -0.183142], [51.507464, -0.204421], [51.493429, -0.169101], [51.491173, -0.18014], [51.517717, -0.210359], [51.516722, -0.209966], [51.494902, -0.182872], [51.492553, -0.19377], [51.490919, -0.181158], [51.492655, -0.200393], [51.50501, -0.21446], [51.486613, -0.187667], [51.523977, -0.214006], [51.487635, -0.17812], [51.492563, -0.200252], [51.511769, -0.197766], [51.495927, -0.196806], [51.495806, -0.171599], [51.482624, -0.173999], [51.48015, -0.182595], [51.503665, -0.197077], [51.508474, -0.199914], [51.484179, -0.175665], [51.501864, -0.191097], [51.499011, -0.198558], [51.508558, -0.199478], [51.512128, -0.197752], [51.497894, -0.207822], [51.485093, -0.182398], [51.48885, -0.175335], [51.484035, -0.160692], [51.481575, -0.181674], [51.509129, -0.195709], [51.487945, -0.169177], [51.497729, -0.17959], [51.494159, -0.158267], [51.498812, -0.179835], [51.504784, -0.193863], [51.488093, -0.167154], [51.492747, -0.200533], [51.523887, -0.21401], [51.514854, -0.205427], [51.498629, -0.208802], [51.520086, -0.224248], [51.495029, -0.173647], [51.514852, -0.205283], [51.498843, -0.199285], [51.482535, -0.174003], [51.478854, -0.180198], [51.494395, -0.173384], [51.480874, -0.177093], [51.495478, -0.202731], [51.516658, -0.205789], [51.481318, -0.182548], [51.496249, -0.165387], [51.519712, -0.211434], [51.497138, -0.159012], [51.492102, -0.19955], [51.523944, -0.205935], [51.507588, -0.194905], [51.493595, -0.16823], [51.48106, -0.183279], [51.517929, -0.224332], [51.49175, -0.159517], [51.499727, -0.163518], [51.496383, -0.156737], [51.518905, -0.21752], [51.514399, -0.199248], [51.515031, -0.199367], [51.481914, -0.180364], [51.492183, -0.187302], [51.498905, -0.209223], [51.480874, -0.177093], [51.502119, -0.213564], [51.487713, -0.194826], [51.522088, -0.208026], [51.491082, -0.191668], [51.501952, -0.190949], [51.487637, -0.178264], [51.516658, -0.205789], [51.48936, -0.156156], [51.48011, -0.180004], [51.490805, -0.191246], [51.517171, -0.209948], [51.496259, -0.206734], [51.506544, -0.214832], [51.494006, -0.183052], [51.493661, -0.172405], [51.498924, -0.198705], [51.483411, -0.166766], [51.495174, -0.183006], [51.497379, -0.20352], [51.49584, -0.173759], [51.491742, -0.164703], [51.5159, -0.209133], [51.495501, -0.175069], [51.497819, -0.179587], [51.496259, -0.206734], [51.481062, -0.183423], [51.487628, -0.195117], [51.482777, -0.178026], [51.518804, -0.210893], [51.491519, -0.179262], [51.496432, -0.206295], [51.505238, -0.194133], [51.497013, -0.168237], [51.514953, -0.217818], [51.513554, -0.20274], [51.483996, -0.187051], [51.490988, -0.197289], [51.492821, -0.187853], [51.499711, -0.1798], [51.492553, -0.19377], [51.493348, -0.175443], [51.491497, -0.17206], [51.51954, -0.206108], [51.505994, -0.214133], [51.482076, -0.173445], [51.494685, -0.192101], [51.524115, -0.223083], [51.483799, -0.185907], [51.4887, -0.16569], [51.518002, -0.211357], [51.487797, -0.188629], [51.50557, -0.198155], [51.499443, -0.197388], [51.511985, -0.21779], [51.48944, -0.190148], [51.487489, -0.168763], [51.501113, -0.160148], [51.516715, -0.209534], [51.50065, -0.194026], [51.490535, -0.162303], [51.492747, -0.200533], [51.500567, -0.194462], [51.488763, -0.16972], [51.485969, -0.180923], [51.483815, -0.163869], [51.489716, -0.190569], [51.489738, -0.163055], [51.503127, -0.214822], [51.481062, -0.183423], [51.500641, -0.19345], [51.518804, -0.210893], [51.509968, -0.191784], [51.485667, -0.150111], [51.510018, -0.189188], [51.485665, -0.149968], [51.489535, -0.155861], [51.489973, -0.155123], [51.514489, -0.199244], [51.509946, -0.190344], [51.487045, -0.151928], [51.48567, -0.150255], [51.510018, -0.189188], [51.485753, -0.14982], [51.485937, -0.150101], [51.500428, -0.162337], [51.522177, -0.202112], [51.499904, -0.163367], [51.497369, -0.156553], [51.489798, -0.155418], [51.501689, -0.191392], [51.4802, -0.180001], [51.497458, -0.208704], [51.49643, -0.206151], [51.503495, -0.215384], [51.489529, -0.190144], [51.528627, -0.218149], [51.529019, -0.220297], [51.528344, -0.217295], [51.528629, -0.218293], [51.528631, -0.218437], [51.529505, -0.222728], [51.512273, -0.201349], [51.514399, -0.199248], [51.486668, -0.179599], [51.507804, -0.20311], [51.482076, -0.173445], [51.493415, -0.185525], [51.480177, -0.178561], [51.491957, -0.178524], [51.49646, -0.167395], [51.48115, -0.183275], [51.482076, -0.173445], [51.494995, -0.183013], [51.498778, -0.206779], [51.506187, -0.209082], [51.493077, -0.169548], [51.482076, -0.173445], [51.488673, -0.169724], [51.482363, -0.186108], [51.49391, -0.176861], [51.509296, -0.194837], [51.50228, -0.188919], [51.507588, -0.194905], [51.488585, -0.193063], [51.528344, -0.217295], [51.499201, -0.164404], [51.517081, -0.204042], [51.48944, -0.190148], [51.494521, -0.158397], [51.508624, -0.203799], [51.491173, -0.18014], [51.495478, -0.202731], [51.495658, -0.173622], [51.499727, -0.163518], [51.507802, -0.202966], [51.508972, -0.197156], [51.513036, -0.204201], [51.512443, -0.206531], [51.491908, -0.192787], [51.497811, -0.202351], [51.486273, -0.171549], [51.500738, -0.193879], [51.50012, -0.1599], [51.49209, -0.192924], [51.49105, -0.160698], [51.506379, -0.204031], [51.480175, -0.178417], [51.491836, -0.159225], [51.516717, -0.209678], [51.490115, -0.193146], [51.508943, -0.195284], [51.493264, -0.199072], [51.484765, -0.155621], [51.481746, -0.17533], [51.487666, -0.180135], [51.501516, -0.191831], [51.487794, -0.182579], [51.502058, -0.18619], [51.500994, -0.193004], [51.523977, -0.214006], [51.484368, -0.170473], [51.501169, -0.192709], [51.48299, -0.185939], [51.515582, -0.205975], [51.48375, -0.165456], [51.490919, -0.181158], [51.500731, -0.193447], [51.513804, -0.213251], [51.494663, -0.190661], [51.497543, -0.16764], [51.517475, -0.206333], [51.485759, -0.173154], [51.517796, -0.215545], [51.497048, -0.159015], [51.497103, -0.168234], [51.512346, -0.21792], [51.485757, -0.150108], [51.500856, -0.184076], [51.492471, -0.200112], [51.518131, -0.213947], [51.483345, -0.185636], [51.48115, -0.183275], [51.49266, -0.160201], [51.491935, -0.194515], [51.482328, -0.172282], [51.481572, -0.18153], [51.49892, -0.157931], [51.490315, -0.177005], [51.484361, -0.175802], [51.489535, -0.155861], [51.493429, -0.174864], [51.488481, -0.157488], [51.484361, -0.175802], [51.483603, -0.184906], [51.486622, -0.170814], [51.504966, -0.194], [51.49566, -0.173766], [51.490535, -0.173827], [51.486213, -0.173423], [51.506775, -0.194649], [51.486977, -0.187941], [51.509794, -0.197988], [51.492565, -0.200396], [51.486608, -0.169951], [51.485669, -0.173157], [51.488776, -0.176346], [51.48226, -0.173725], [51.483642, -0.164308], [51.491834, -0.164844], [51.491921, -0.158934], [51.520593, -0.210247], [51.486624, -0.170958], [51.516402, -0.218482], [51.489535, -0.155861], [51.489744, -0.175011], [51.49266, -0.160201], [51.506957, -0.194786], [51.493541, -0.182062], [51.486183, -0.183075], [51.497815, -0.202639], [51.502755, -0.196393], [51.487635, -0.17812], [51.498814, -0.179979], [51.493723, -0.182199], [51.482582, -0.171264], [51.506189, -0.209226], [51.482902, -0.186086], [51.513129, -0.204342], [51.521038, -0.209941], [51.507137, -0.194779], [51.492092, -0.164113], [51.487452, -0.195412], [51.491921, -0.158934], [51.477465, -0.183422], [51.496607, -0.206], [51.494936, -0.185032], [51.492747, -0.200533], [51.499127, -0.159652], [51.502269, -0.188199], [51.488958, -0.164959], [51.500996, -0.193148], [51.496408, -0.169846], [51.494692, -0.192533], [51.490626, -0.191253], [51.492931, -0.200814], [51.521682, -0.210925], [51.480112, -0.180148], [51.490988, -0.197289], [51.485441, -0.181664], [51.492645, -0.193911], [51.499915, -0.210625], [51.477831, -0.183839], [51.508817, -0.210564], [51.48106, -0.183279], [51.498242, -0.201181], [51.489354, -0.19044], [51.501365, -0.19371], [51.495197, -0.196115], [51.481664, -0.187431], [51.497127, -0.204683], [51.481577, -0.176057], [51.495809, -0.171743], [51.481894, -0.173308], [51.506866, -0.206462], [51.493777, -0.174129], [51.495117, -0.1735], [51.48342, -0.167342], [51.507464, -0.204421], [51.49387, -0.17427], [51.504753, -0.215334], [51.483409, -0.166622], [51.480027, -0.18044], [51.495356, -0.183143], [51.508632, -0.198466], [51.493759, -0.17874], [51.482582, -0.171264], [51.504146, -0.210891], [51.507464, -0.204421], [51.486493, -0.179894], [51.495808, -0.183269], [51.500693, -0.162038], [51.483635, -0.163876], [51.495363, -0.177812], [51.492096, -0.158639], [51.480199, -0.185761], [51.509123, -0.195277], [51.490031, -0.187676], [51.486143, -0.180484], [51.49226, -0.157624], [51.517979, -0.204007], [51.495373, -0.172625], [51.477989, -0.182393], [51.493667, -0.184362], [51.488493, -0.192922], [51.48757, -0.168184], [51.480047, -0.181735], [51.480962, -0.176946], [51.484282, -0.159242], [51.4975, -0.164904], [51.509333, -0.197286], [51.499528, -0.197096], [51.523506, -0.206673], [51.507862, -0.195182], [51.500733, -0.193591], [51.499727, -0.163518], [51.497986, -0.207963], [51.496579, -0.192458], [51.506097, -0.209086], [51.508961, -0.196436], [51.486709, -0.170667], [51.502159, -0.186906], [51.491499, -0.172204], [51.481062, -0.183423], [51.496864, -0.205125], [51.512797, -0.20032], [51.492655, -0.200393], [51.482076, -0.173445], [51.489129, -0.164376], [51.493252, -0.169252], [51.480604, -0.182865], [51.492747, -0.200533], [51.493077, -0.169548], [51.498261, -0.19657], [51.480874, -0.177093], [51.484363, -0.158662], [51.51417, -0.20776], [51.490352, -0.190976], [51.49185, -0.171614], [51.497924, -0.198024], [51.503107, -0.207618], [51.488093, -0.167154], [51.506187, -0.209082], [51.514399, -0.199248], [51.503769, -0.192174], [51.480233, -0.18216], [51.4841, -0.176389], [51.502114, -0.18979], [51.50849, -0.200922], [51.492968, -0.162637], [51.49999, -0.163075], [51.519902, -0.212148], [51.508627, -0.215759], [51.506099, -0.20923], [51.502577, -0.214123], [51.502159, -0.186906], [51.482637, -0.186385], [51.484273, -0.158666], [51.497592, -0.159282], [51.496665, -0.168972], [51.506185, -0.208938], [51.517022, -0.206063], [51.491173, -0.18014], [51.485633, -0.165093], [51.512443, -0.206531], [51.501545, -0.19961], [51.503223, -0.191763], [51.487021, -0.179153], [51.484282, -0.159242], [51.486145, -0.180628], [51.502044, -0.19109], [51.494517, -0.169634], [51.505849, -0.210536], [51.49185, -0.171614], [51.499686, -0.183979], [51.492659, -0.200681], [51.512947, -0.204205], [51.482076, -0.173445], [51.52456, -0.210956], [51.486015, -0.172279], [51.525339, -0.214818], [51.501768, -0.184905], [51.490683, -0.183328], [51.494685, -0.192101], [51.493031, -0.183955], [51.515172, -0.208585], [51.48771, -0.188776], [51.48483, -0.182841], [51.493966, -0.174698], [51.494593, -0.168767], [51.495811, -0.171887], [51.493761, -0.178884], [51.494087, -0.182473], [51.482074, -0.173301], [51.48342, -0.167342], [51.501766, -0.184761], [51.489442, -0.190292], [51.490517, -0.178437], [51.484361, -0.175802], [51.487657, -0.168036], [51.507623, -0.21479], [51.51417, -0.20776], [51.493607, -0.16895], [51.487637, -0.178264], [51.489535, -0.155861], [51.495361, -0.177668], [51.494756, -0.185039], [51.485581, -0.173305], [51.507206, -0.205151], [51.520005, -0.224828], [51.511621, -0.194025], [51.521272, -0.213535], [51.512346, -0.21792], [51.494756, -0.185039], [51.502577, -0.214123], [51.496471, -0.173878], [51.49265, -0.200105], [51.486451, -0.171397], [51.488493, -0.181255], [51.499201, -0.164404], [51.503495, -0.215384], [51.491899, -0.157494], [51.482582, -0.171264], [51.500477, -0.194465], [51.499455, -0.209922], [51.51508, -0.208445], [51.499635, -0.163378], [51.492714, -0.157893], [51.486622, -0.170814], [51.496862, -0.204981], [51.487745, -0.167889], [51.523977, -0.214006], [51.500736, -0.193735], [51.494521, -0.158397], [51.506189, -0.209226], [51.492804, -0.15789], [51.493163, -0.186687], [51.486026, -0.161476], [51.495197, -0.178683], [51.484361, -0.175802], [51.51742, -0.202732], [51.494541, -0.182743], [51.486339, -0.18739], [51.517371, -0.211238], [51.494281, -0.177567], [51.478416, -0.180936], [51.517796, -0.215545], [51.496086, -0.207173], [51.509629, -0.193095], [51.514399, -0.199248], [51.493429, -0.169101], [51.48896, -0.165103], [51.48024, -0.182591], [51.495658, -0.173622], [51.480177, -0.178561], [51.482416, -0.172135], [51.517796, -0.215545], [51.498461, -0.157374], [51.499443, -0.197388], [51.490715, -0.19125], [51.483952, -0.184172], [51.495208, -0.179403], [51.499024, -0.164555], [51.499021, -0.164411], [51.502116, -0.189934], [51.502159, -0.186906], [51.493134, -0.156004], [51.492747, -0.200533], [51.493431, -0.169245], [51.494177, -0.182469], [51.481486, -0.187583], [51.492829, -0.17676], [51.503587, -0.215524], [51.49817, -0.161708], [51.480114, -0.186053], [51.490623, -0.173679], [51.516171, -0.209267], [51.483075, -0.185647], [51.49217, -0.157627], [51.52198, -0.212787], [51.494469, -0.195567], [51.493429, -0.169101], [51.492519, -0.156893], [51.494854, -0.203043], [51.488673, -0.169724], [51.516807, -0.209674], [51.496896, -0.16075], [51.495049, -0.174943], [51.480786, -0.177241], [51.48448, -0.183431], [51.483139, -0.178155], [51.48266, -0.170541], [51.518471, -0.218546], [51.50806, -0.202236], [51.491921, -0.158934], [51.492655, -0.200393], [51.502951, -0.19163], [51.522, -0.208173], [51.508127, -0.194884], [51.483253, -0.185496], [51.480287, -0.185614], [51.517458, -0.217], [51.492899, -0.169699], [51.507804, -0.20311], [51.495031, -0.173791], [51.503186, -0.212802], [51.5159, -0.209133], [51.494682, -0.186051], [51.497467, -0.203373], [51.493667, -0.184362], [51.512976, -0.217895], [51.492072, -0.168579], [51.490437, -0.167493], [51.483253, -0.185496], [51.497136, -0.158868], [51.492941, -0.183959], [51.526077, -0.210176], [51.48046, -0.185175], [51.492045, -0.178376], [51.489214, -0.164084], [51.496264, -0.195352], [51.491724, -0.192506], [51.522177, -0.208022], [51.48542, -0.151562], [51.482547, -0.186388], [51.509131, -0.195853], [51.497595, -0.165188], [51.500994, -0.193004], [51.512434, -0.217772], [51.488318, -0.193217], [51.501513, -0.191687], [51.487763, -0.16904], [51.524083, -0.215011], [51.49806, -0.166178], [51.485825, -0.188995], [51.521033, -0.209653], [51.495658, -0.173622], [51.506097, -0.209086], [51.492657, -0.200537], [51.481989, -0.173592], [51.498588, -0.200303], [51.501365, -0.19371], [51.516658, -0.205789], [51.505257, -0.213009], [51.48541, -0.173888], [51.498743, -0.210382], [51.523521, -0.213591], [51.511353, -0.205853], [51.495804, -0.171455], [51.519505, -0.221532], [51.497714, -0.167057], [51.479735, -0.179011], [51.492856, -0.195919], [51.501863, -0.185189], [51.48299, -0.185939], [51.488425, -0.176936], [51.501398, -0.161145], [51.519107, -0.218953], [51.495202, -0.178971], [51.505849, -0.210536], [51.522177, -0.208022], [51.494633, -0.194552], [51.515887, -0.214179], [51.494069, -0.158271], [51.496577, -0.192314], [51.490998, -0.163149], [51.488785, -0.165398], [51.493435, -0.158008], [51.515955, -0.212735], [51.492209, -0.165837], [51.493919, -0.177437], [51.48046, -0.185175], [51.514245, -0.212657], [51.49566, -0.173766], [51.515849, -0.217639], [51.493335, -0.168817], [51.506866, -0.206462], [51.49293, -0.165952], [51.509374, -0.194114], [51.484195, -0.159389], [51.485178, -0.187868], [51.49105, -0.160698], [51.518024, -0.206888], [51.506097, -0.209086], [51.495355, -0.177236], [51.495658, -0.173622], [51.481908, -0.174172], [51.49868, -0.165577], [51.494696, -0.192821], [51.498826, -0.19237], [51.499024, -0.164555], [51.497372, -0.156697], [51.49806, -0.166178], [51.481575, -0.181674], [51.486213, -0.173423], [51.495501, -0.175069], [51.490991, -0.197433], [51.498584, -0.200015], [51.523977, -0.214006], [51.494682, -0.186051], [51.492589, -0.178643], [51.524001, -0.215591], [51.518348, -0.216388], [51.493004, -0.176465], [51.521375, -0.202576], [51.495301, -0.191212], [51.522888, -0.213328], [51.483071, -0.185359], [51.491, -0.163292], [51.49105, -0.160698], [51.495658, -0.173622], [51.487369, -0.195848], [51.507804, -0.20311], [51.493109, -0.183232], [51.496515, -0.205859], [51.522278, -0.202829], [51.489313, -0.181942], [51.489858, -0.188115], [51.488958, -0.164959], [51.494593, -0.168767], [51.497106, -0.19748], [51.499011, -0.198558], [51.506185, -0.208938], [51.48885, -0.175335], [51.503127, -0.214822], [51.499355, -0.197535], [51.514609, -0.195348], [51.522162, -0.212924], [51.497242, -0.194593], [51.515838, -0.2051], [51.488898, -0.190025], [51.482637, -0.186385], [51.511036, -0.19693], [51.494521, -0.158397], [51.503587, -0.192037], [51.526246, -0.215359], [51.510993, -0.199958], [51.48342, -0.167342], [51.480545, -0.184883], [51.497316, -0.164623], [51.49472, -0.182736], [51.508884, -0.197303], [51.492277, -0.193349], [51.495117, -0.1735], [51.497911, -0.179727], [51.481993, -0.17388], [51.517478, -0.206477], [51.502379, -0.20707], [51.50186, -0.185045], [51.492839, -0.200674], [51.515991, -0.203365], [51.487281, -0.195995], [51.494377, -0.195427], [51.492747, -0.200533], [51.49296, -0.167824], [51.495662, -0.17391], [51.517809, -0.2105], [51.485617, -0.181369], [51.496779, -0.159026], [51.497451, -0.167499], [51.486398, -0.150802], [51.496752, -0.168824], [51.515582, -0.205975], [51.491834, -0.159081], [51.485093, -0.182398], [51.494902, -0.182872], [51.493377, -0.194746], [51.523769, -0.20623], [51.498412, -0.165732], [51.506544, -0.214832], [51.507047, -0.194782], [51.48106, -0.183279], [51.494907, -0.18316], [51.519267, -0.21765], [51.4971, -0.16809], [51.517353, -0.210085], [51.498244, -0.201325], [51.492499, -0.178646], [51.495084, -0.183009], [51.484276, -0.176093], [51.488956, -0.164815], [51.510031, -0.207634], [51.521825, -0.208469], [51.486561, -0.190118], [51.518624, -0.2109], [51.514948, -0.21753], [51.510443, -0.205168], [51.495537, -0.17161], [51.482258, -0.173582], [51.498924, -0.198705], [51.517252, -0.203459], [51.500819, -0.193299], [51.50003, -0.159904], [51.480177, -0.178561], [51.501205, -0.160289], [51.498091, -0.17972], [51.515841, -0.217063], [51.506961, -0.212654], [51.481575, -0.181674], [51.484044, -0.184312], [51.486491, -0.17975], [51.506353, -0.208211], [51.481318, -0.182548], [51.495501, -0.175069], [51.519986, -0.211712], [51.513262, -0.207219], [51.485639, -0.177047], [51.490991, -0.197433], [51.489529, -0.190144], [51.492515, -0.16813], [51.497037, -0.204686], [51.501513, -0.191687], [51.522386, -0.221708], [51.495658, -0.173622], [51.492396, -0.166262], [51.505181, -0.213877], [51.486714, -0.170955], [51.504759, -0.198043], [51.482582, -0.171264], [51.49462, -0.193688], [51.495498, -0.174925], [51.514085, -0.196377], [51.503035, -0.214681], [51.48342, -0.167342], [51.4841, -0.176389], [51.494377, -0.195427], [51.494377, -0.195427], [51.480177, -0.178561], [51.5159, -0.209133], [51.497188, -0.167942], [51.488785, -0.165398], [51.50721, -0.205439], [51.504843, -0.215331], [51.487745, -0.167889], [51.497819, -0.179587], [51.508639, -0.198898], [51.497704, -0.18377], [51.50108, -0.192713], [51.486953, -0.151788], [51.497035, -0.204542], [51.486398, -0.150802], [51.49859, -0.165581], [51.489445, -0.155864], [51.498183, -0.17986], [51.486953, -0.151788], [51.485757, -0.150108], [51.520849, -0.203462], [51.497631, -0.167492], [51.49999, -0.163075], [51.499637, -0.163522], [51.484518, -0.157072], [51.527333, -0.215893], [51.510027, -0.189765], [51.487045, -0.151928], [51.509795, -0.192224], [51.510036, -0.190341], [51.48722, -0.151633], [51.481486, -0.187583], [51.503679, -0.215664], [51.503863, -0.215945], [51.501581, -0.213729], [51.521449, -0.201564], [51.52922, -0.22173], [51.528532, -0.217865], [51.506739, -0.204017], [51.495431, -0.176368], [51.495204, -0.179115], [51.519058, -0.209874], [51.485665, -0.149968], [51.492553, -0.19377], [51.516748, -0.205785], [51.51347, -0.203176], [51.485815, -0.165229], [51.485323, -0.174035], [51.496584, -0.192746], [51.494544, -0.188793], [51.496738, -0.179486], [51.481737, -0.174755], [51.507806, -0.203254], [51.514981, -0.219691], [51.484087, -0.164002], [51.509212, -0.195273], [51.507804, -0.20311], [51.513314, -0.198858], [51.484361, -0.175802], [51.484437, -0.157651], [51.481575, -0.181674], [51.514321, -0.217699], [51.505847, -0.210392], [51.484361, -0.175802], [51.485178, -0.187868], [51.492045, -0.178376], [51.485669, -0.173157], [51.486835, -0.178728], [51.496918, -0.179479], [51.499048, -0.160375], [51.494554, -0.195276], [51.492747, -0.200533], [51.494761, -0.185327], [51.482637, -0.186385], [51.483866, -0.184464], [51.511499, -0.197777], [51.495119, -0.173644], [51.484569, -0.183427], [51.495204, -0.179115], [51.520893, -0.212253], [51.497714, -0.167057], [51.49479, -0.158386], [51.490988, -0.197289], [51.485058, -0.168572], [51.526244, -0.215215], [51.518171, -0.21063], [51.495813, -0.172031], [51.495653, -0.179097], [51.493939, -0.202071], [51.490798, -0.173384], [51.49643, -0.206151], [51.494743, -0.195845], [51.499578, -0.159778], [51.484924, -0.154319], [51.482582, -0.171264], [51.500192, -0.211046], [51.488439, -0.166276], [51.493938, -0.184496], [51.497015, -0.168381], [51.487628, -0.195117], [51.509712, -0.192659], [51.516489, -0.206516], [51.497682, -0.159278], [51.51417, -0.20776], [51.498244, -0.201325], [51.487021, -0.179153], [51.481575, -0.181674], [51.499635, -0.209915], [51.497048, -0.159015], [51.508488, -0.200778], [51.492135, -0.178373], [51.482637, -0.186385], [51.484569, -0.183427], [51.48106, -0.183279], [51.49557, -0.17377], [51.492443, -0.163523], [51.498447, -0.208665], [51.494754, -0.184895], [51.497138, -0.159012], [51.523079, -0.219952], [51.516717, -0.209678], [51.491927, -0.199845], [51.502487, -0.214126], [51.508624, -0.215615], [51.495206, -0.179259], [51.495898, -0.17174], [51.507588, -0.194905], [51.49557, -0.17377], [51.499523, -0.202572], [51.498826, -0.19237], [51.482775, -0.177882], [51.516717, -0.209678], [51.499026, -0.164699], [51.503951, -0.192311], [51.493493, -0.190564], [51.514399, -0.199248], [51.488439, -0.166276], [51.498539, -0.208806], [51.492515, -0.16813], [51.492092, -0.164113], [51.491173, -0.18014], [51.494898, -0.182585], [51.490444, -0.191117], [51.485757, -0.150108], [51.501115, -0.160292], [51.487635, -0.17812], [51.481572, -0.18153], [51.516807, -0.209674], [51.504784, -0.193863], [51.515582, -0.205975], [51.489214, -0.164084], [51.517219, -0.219027], [51.522072, -0.212927], [51.495835, -0.196666], [51.499958, -0.195783], [51.492181, -0.187158], [51.49714, -0.159156], [51.491782, -0.178819], [51.480721, -0.184588], [51.518079, -0.210489], [51.481572, -0.18153], [51.486394, -0.185083], [51.51675, -0.205929], [51.509695, -0.197416], [51.498585, -0.165293], [51.488091, -0.16701], [51.4996, -0.207611], [51.522741, -0.221406], [51.523076, -0.219807], [51.485546, -0.18843], [51.495656, -0.173478], [51.494611, -0.193113], [51.499783, -0.196078], [51.486795, -0.170375], [51.498763, -0.165142], [51.492008, -0.199266], [51.498765, -0.165286], [51.483247, -0.167781], [51.491002, -0.180723], [51.494907, -0.18316], [51.482719, -0.174283], [51.490097, -0.174565], [51.500203, -0.159464], [51.485216, -0.149986], [51.483422, -0.167486], [51.490988, -0.197289], [51.508229, -0.201508], [51.509712, -0.192659], [51.484044, -0.184312], [51.493439, -0.198777], [51.494521, -0.158397], [51.517243, -0.214702], [51.481492, -0.176349], [51.493568, -0.16074], [51.498743, -0.163846], [51.518806, -0.211037], [51.488439, -0.166276], [51.492657, -0.200537], [51.516093, -0.2159], [51.526202, -0.212477], [51.480289, -0.185758], [51.492655, -0.200393], [51.494369, -0.200757], [51.523076, -0.219807], [51.488493, -0.181255], [51.522614, -0.21305], [51.489943, -0.187823], [51.500731, -0.193447], [51.480972, -0.183426], [51.5159, -0.209133], [51.519569, -0.20798], [51.501476, -0.212725], [51.490263, -0.16217], [51.481986, -0.173448], [51.482637, -0.186385], [51.509712, -0.192659], [51.498775, -0.206635], [51.489416, -0.19447], [51.500075, -0.162784], [51.496736, -0.167816], [51.494544, -0.188793], [51.484363, -0.158662], [51.491678, -0.183721], [51.496515, -0.205859], [51.498926, -0.198849], [51.483334, -0.167633], [51.497048, -0.159015], [51.49643, -0.206151], [51.510958, -0.197654], [51.479117, -0.179756], [51.489084, -0.173021], [51.489041, -0.176047], [51.493966, -0.174698], [51.508562, -0.199766], [51.497752, -0.1927], [51.490528, -0.196587], [51.496171, -0.206881], [51.519986, -0.211712], [51.519988, -0.211856], [51.498902, -0.179832], [51.483334, -0.167633], [51.494685, -0.192101], [51.50712, -0.205443], [51.481663, -0.175766], [51.487673, -0.169044], [51.512257, -0.217923], [51.485398, -0.150122], [51.496466, -0.185115], [51.508882, -0.197159], [51.516717, -0.209678], [51.481997, -0.18569], [51.494723, -0.18288], [51.510993, -0.199958], [51.509629, -0.193095], [51.499113, -0.164551], [51.516263, -0.209407], [51.483422, -0.167486], [51.505347, -0.213006], [51.497894, -0.207822], [51.496665, -0.168972], [51.492941, -0.183959], [51.488675, -0.181392], [51.482987, -0.185795], [51.493427, -0.168957], [51.51493, -0.204559], [51.484887, -0.174917], [51.518804, -0.210893], [51.525685, -0.208029], [51.490351, -0.162022], [51.502273, -0.188487], [51.487021, -0.179153], [51.501864, -0.191097], [51.498855, -0.159519], [51.500075, -0.162784], [51.487628, -0.195117], [51.497671, -0.18161], [51.487367, -0.195704], [51.519505, -0.221532], [51.49185, -0.171614], [51.480199, -0.185761], [51.501426, -0.191834], [51.508023, -0.199787], [51.501474, -0.212581], [51.517166, -0.203751], [51.512443, -0.206531], [51.491964, -0.161669], [51.496893, -0.160606], [51.481575, -0.181674], [51.493896, -0.164473], [51.517292, -0.217871], [51.522528, -0.207432], [51.512886, -0.217899], [51.502393, -0.213842], [51.51417, -0.20776], [51.492093, -0.187306], [51.509795, -0.192224], [51.495379, -0.155769], [51.483253, -0.185496], [51.508884, -0.197303], [51.494974, -0.199149], [51.499623, -0.179947], [51.507806, -0.203254], [51.488776, -0.176346], [51.498924, -0.198705], [51.48226, -0.173725], [51.493921, -0.195013], [51.492941, -0.183959], [51.50556, -0.215159], [51.494682, -0.186051], [51.495199, -0.178827], [51.499374, -0.163964], [51.514173, -0.19623], [51.518359, -0.223018], [51.517835, -0.212229], [51.484044, -0.184312], [51.489352, -0.190296], [51.49406, -0.174983], [51.494633, -0.194552], [51.52168, -0.222601], [51.520529, -0.211979], [51.502119, -0.213564], [51.517625, -0.210219], [51.520073, -0.211564], [51.517796, -0.215545], [51.491748, -0.159373], [51.487153, -0.181884], [51.500823, -0.193587], [51.516899, -0.209815], [51.486493, -0.179894], [51.497729, -0.17959], [51.504043, -0.192451], [51.491661, -0.15952], [51.498244, -0.201325], [51.517454, -0.216712], [51.492279, -0.164538], [51.49009, -0.162609], [51.495653, -0.196529], [51.497035, -0.204542], [51.511923, -0.201939], [51.517749, -0.206611], [51.489352, -0.190296], [51.480325, -0.1823], [51.496466, -0.185115], [51.490995, -0.157242], [51.49566, -0.173766], [51.492004, -0.187309], [51.497217, -0.204679], [51.493681, -0.179464], [51.503037, -0.214825], [51.492375, -0.193921], [51.500338, -0.162341], [51.500477, -0.194465], [51.484361, -0.175802], [51.499987, -0.185984], [51.494682, -0.186051], [51.492065, -0.156623], [51.510027, -0.189765], [51.494043, -0.191262], [51.480287, -0.185614], [51.490037, -0.170678], [51.497554, -0.203225], [51.499614, -0.196805], [51.501385, -0.160281], [51.513094, -0.213855], [51.504709, -0.212454], [51.498589, -0.20621], [51.487113, -0.179293], [51.482775, -0.177882], [51.497035, -0.204542], [51.509061, -0.197152], [51.49916, -0.161812], [51.496492, -0.169411], [51.494902, -0.182872], [51.517475, -0.206333], [51.492241, -0.191045], [51.526246, -0.215359], [51.505576, -0.198587], [51.500477, -0.194465], [51.52221, -0.204273], [51.491957, -0.178524], [51.499983, -0.179933], [51.498328, -0.20089], [51.493759, -0.17874], [51.488481, -0.157488], [51.482416, -0.172135], [51.490715, -0.19125], [51.484929, -0.154606], [51.520858, -0.209948], [51.484356, -0.15823], [51.480977, -0.183714], [51.483954, -0.184316], [51.521619, -0.212657], [51.484931, -0.15475], [51.513692, -0.217723], [51.517353, -0.210085], [51.500477, -0.194465], [51.48299, -0.185939], [51.490351, -0.162022], [51.490998, -0.163149], [51.518019, -0.2066], [51.493598, -0.168374], [51.499127, -0.159652], [51.480287, -0.185614], [51.522888, -0.213328], [51.500304, -0.194905], [51.481929, -0.187133], [51.519986, -0.211712], [51.509374, -0.194114], [51.484962, -0.185572], [51.516092, -0.204081], [51.489657, -0.175158], [51.51944, -0.211301], [51.486534, -0.170962], [51.495658, -0.173622], [51.503587, -0.192037], [51.509795, -0.192224], [51.508488, -0.200778], [51.499987, -0.162931], [51.484284, -0.159385], [51.494377, -0.195427], [51.490919, -0.181158], [51.493195, -0.194609], [51.481658, -0.181239], [51.506961, -0.212654], [51.52307, -0.213465], [51.490919, -0.181158], [51.516572, -0.20608], [51.482079, -0.173589], [51.482494, -0.171412], [51.504784, -0.193863], [51.48492, -0.182837], [51.506097, -0.209086], [51.485961, -0.180347], [51.522282, -0.203117], [51.481062, -0.183423], [51.48914, -0.194049], [51.481404, -0.182257], [51.494693, -0.186771], [51.493914, -0.177149], [51.486417, -0.180761], [51.480374, -0.185466], [51.49981, -0.163082], [51.495501, -0.175069], [51.484044, -0.184312], [51.517539, -0.21051], [51.488481, -0.157488], [51.497381, -0.203664], [51.505179, -0.213733], [51.496515, -0.205859], [51.495658, -0.173622], [51.485669, -0.173157], [51.480199, -0.185761], [51.489917, -0.157286], [51.486624, -0.170958], [51.485617, -0.181369], [51.508229, -0.201508], [51.484361, -0.175802], [51.50806, -0.202236], [51.483253, -0.185496], [51.511448, -0.217955], [51.497048, -0.159015], [51.517674, -0.201713], [51.496577, -0.169119], [51.496515, -0.205859], [51.513915, -0.196961], [51.489769, -0.182356], [51.50921, -0.195129], [51.504933, -0.215327], [51.512443, -0.206531], [51.501093, -0.193577], [51.489943, -0.187823], [51.487628, -0.195117], [51.491267, -0.197855], [51.49815, -0.166175], [51.509374, -0.194114], [51.495773, -0.16944], [51.494121, -0.202208], [51.498244, -0.201325], [51.494624, -0.16502], [51.493161, -0.186543], [51.485237, -0.174327], [51.495204, -0.179115], [51.480896, -0.184293], [51.497738, -0.197599], [51.487635, -0.17812], [51.520023, -0.214161], [51.517796, -0.215545], [51.481049, -0.176798], [51.490863, -0.177559], [51.490788, -0.184333], [51.494552, -0.195132], [51.526237, -0.214783], [51.481665, -0.181671], [51.506709, -0.213817], [51.519703, -0.222678], [51.483778, -0.184611], [51.495206, -0.179259], [51.484832, -0.182985], [51.489362, -0.1563], [51.499011, -0.198558], [51.498237, -0.166027], [51.517899, -0.210496], [51.501275, -0.193714], [51.482076, -0.173445], [51.516886, -0.208951], [51.492786, -0.156738], [51.480177, -0.178561], [51.51417, -0.20776], [51.499443, -0.197388], [51.480105, -0.179716], [51.519569, -0.20798], [51.491923, -0.159078], [51.492269, -0.158199], [51.48226, -0.173725], [51.489131, -0.181806], [51.491834, -0.164844], [51.501964, -0.185906], [51.495026, -0.185029], [51.501343, -0.19227], [51.52221, -0.204273], [51.504146, -0.210891], [51.487226, -0.169206], [51.486882, -0.170228], [51.519494, -0.203083], [51.482991, -0.174416], [51.516749, -0.20002], [51.508537, -0.215763], [51.498588, -0.165437], [51.486216, -0.150665], [51.484543, -0.175939], [51.4961, -0.196367], [51.487399, -0.168767], [51.494995, -0.183013], [51.479117, -0.179756], [51.517796, -0.215545], [51.494521, -0.158397], [51.522167, -0.213212], [51.504931, -0.215183], [51.496972, -0.159883], [51.502723, -0.211956], [51.488579, -0.192631], [51.501934, -0.213283], [51.486493, -0.179894], [51.51807, -0.209913], [51.503769, -0.192174], [51.518442, -0.210763], [51.490988, -0.197289], [51.501113, -0.160148], [51.480285, -0.18547], [51.505345, -0.212862], [51.496352, -0.183535], [51.492135, -0.178373], [51.480199, -0.185761], [51.525779, -0.208313], [51.498589, -0.20621], [51.486213, -0.173423], [51.504578, -0.192142], [51.492129, -0.201278], [51.50921, -0.195129], [51.484284, -0.159385], [51.490124, -0.164768], [51.495202, -0.178971], [51.491573, -0.159668], [51.508558, -0.199478], [51.482487, -0.182502], [51.496671, -0.204269], [51.517353, -0.210085], [51.526154, -0.215218], [51.490988, -0.197289], [51.480105, -0.179716], [51.517252, -0.203459], [51.496406, -0.169702], [51.492308, -0.166409], [51.48901, -0.191461], [51.502669, -0.214263], [51.500295, -0.211907], [51.485669, -0.173157], [51.518471, -0.218546], [51.499113, -0.164551], [51.493493, -0.190564], [51.498423, -0.183741], [51.492096, -0.158639], [51.493829, -0.177441], [51.495411, -0.175073], [51.507719, -0.203402], [51.493524, -0.175148], [51.496415, -0.205143], [51.509019, -0.194416], [51.5159, -0.209133], [51.510054, -0.197401], [51.494633, -0.194552], [51.480602, -0.182721], [51.502159, -0.186906], [51.504931, -0.215183], [51.493266, -0.199216], [51.49304, -0.178769], [51.518348, -0.216388], [51.491574, -0.188623], [51.493923, -0.195157], [51.493937, -0.201927], [51.490988, -0.197289], [51.506443, -0.208207], [51.498334, -0.201322], [51.488576, -0.192487], [51.49335, -0.175587], [51.523059, -0.206834], [51.502276, -0.188631], [51.494087, -0.182473], [51.484282, -0.159242], [51.480109, -0.185765], [51.508562, -0.199766], [51.508624, -0.203799], [51.484179, -0.175665], [51.490443, -0.173687], [51.498501, -0.200451], [51.494469, -0.195567], [51.497008, -0.179475], [51.484363, -0.175946], [51.510076, -0.216423], [51.502224, -0.191082], [51.49528, -0.178247], [51.492712, -0.157749], [51.49185, -0.171614], [51.501513, -0.191687], [51.493227, -0.161906], [51.52198, -0.212787], [51.501949, -0.190805], [51.482326, -0.172139], [51.512443, -0.206531], [51.487635, -0.17812], [51.484271, -0.175806], [51.491609, -0.179258], [51.48448, -0.183431], [51.497286, -0.156989], [51.506693, -0.206901], [51.486577, -0.173697], [51.497244, -0.194737], [51.494672, -0.202907], [51.480806, -0.184297], [51.518804, -0.210893], [51.497982, -0.207675], [51.50745, -0.215229], [51.496752, -0.168824], [51.505849, -0.210536], [51.517243, -0.214702], [51.493667, -0.184362], [51.523887, -0.21401], [51.48046, -0.185175], [51.480199, -0.185761], [51.519306, -0.220243], [51.482079, -0.173589], [51.49892, -0.157931], [51.499637, -0.163522], [51.508488, -0.200778], [51.508472, -0.19977], [51.522177, -0.208022], [51.500077, -0.162928], [51.492624, -0.157897], [51.49063, -0.162587], [51.51417, -0.20776], [51.517655, -0.224055], [51.485997, -0.165366], [51.525339, -0.214818], [51.487655, -0.167892], [51.492657, -0.200537], [51.514489, -0.199244], [51.492183, -0.187302], [51.526064, -0.215222], [51.506106, -0.209662], [51.488922, -0.191609], [51.498469, -0.210105], [51.501934, -0.213283], [51.489243, -0.160194], [51.496893, -0.160606], [51.516717, -0.209678], [51.484179, -0.175665], [51.509624, -0.20448], [51.485408, -0.173744], [51.50228, -0.188919], [51.526246, -0.215359], [51.492839, -0.200674], [51.480716, -0.184301], [51.500924, -0.182633], [51.506634, -0.214829], [51.494663, -0.190661], [51.514399, -0.199248], [51.482079, -0.173589], [51.484926, -0.154462], [51.481492, -0.182109], [51.481912, -0.18022], [51.486193, -0.189556], [51.513129, -0.204342], [51.515845, -0.217351], [51.499549, -0.163669], [51.486302, -0.184943], [51.490094, -0.157135], [51.521364, -0.201856], [51.499727, -0.163518], [51.499727, -0.163518], [51.509871, -0.191356], [51.492802, -0.157746], [51.489975, -0.155267], [51.510016, -0.189044], [51.487043, -0.151784], [51.499727, -0.163518], [51.510025, -0.18962], [51.499351, -0.179814], [51.485759, -0.150252], [51.509795, -0.192224], [51.486955, -0.151932], [51.489975, -0.155267], [51.510027, -0.189765], [51.509797, -0.192368], [51.510018, -0.189188], [51.499722, -0.16323], [51.485847, -0.150104], [51.51002, -0.189332], [51.500342, -0.162629], [51.498498, -0.16544], [51.509714, -0.192803], [51.514579, -0.199241], [51.509876, -0.191644], [51.48567, -0.150255], [51.496515, -0.205859], [51.515437, -0.220105], [51.487194, -0.196143], [51.515687, -0.218798], [51.484918, -0.182693], [51.483603, -0.184906], [51.529689, -0.22301], [51.529692, -0.223154], [51.481062, -0.183423], [51.494723, -0.18288], [51.5267, -0.21563], [51.488695, -0.165402], [51.516294, -0.205515], [51.495206, -0.179259], [51.481748, -0.175474], [51.490784, -0.184045], [51.510097, -0.188465], [51.513381, -0.203179], [51.501866, -0.191241], [51.5262, -0.212333], [51.488864, -0.176198], [51.492551, -0.170433], [51.480103, -0.179572], [51.49266, -0.160201], [51.486622, -0.170814], [51.500239, -0.196492], [51.487972, -0.194095], [51.481746, -0.17533], [51.491188, -0.18691], [51.502044, -0.19109], [51.500819, -0.193299], [51.529409, -0.2223], [51.526104, -0.211905], [51.495204, -0.179115], [51.489306, -0.175749], [51.520998, -0.213258], [51.497193, -0.16823], [51.480287, -0.185614], [51.492639, -0.187716]],\n",
       "                {\n",
       "  &quot;minOpacity&quot;: 0.5,\n",
       "  &quot;maxZoom&quot;: 18,\n",
       "  &quot;radius&quot;: 25,\n",
       "  &quot;blur&quot;: 15,\n",
       "}\n",
       "            );\n",
       "        \n",
       "    \n",
       "            heat_map_57fac1f895fe4d041f9ee5ab172bedde.addTo(map_9b52759b50f7f901d2067b24fda30ab7);\n",
       "        \n",
       "    \n",
       "            tile_layer_cd8a64cd4568f47036c271a3224dbbe7.addTo(map_9b52759b50f7f901d2067b24fda30ab7);\n",
       "        \n",
       "    \n",
       "            heat_map_57fac1f895fe4d041f9ee5ab172bedde.addTo(map_9b52759b50f7f901d2067b24fda30ab7);\n",
       "        \n",
       "&lt;/script&gt;\n",
       "&lt;/html&gt;\" style=\"position:absolute;width:100%;height:100%;left:0;top:0;border:none !important;\" allowfullscreen webkitallowfullscreen mozallowfullscreen></iframe></div></div>"
      ],
      "text/plain": [
       "<folium.folium.Map at 0x2a981363a80>"
      ]
     },
     "execution_count": 88,
     "metadata": {},
     "output_type": "execute_result"
    }
   ],
   "source": [
    "locations = list(zip(Ken_Chel_DF['Latitude'], Ken_Chel_DF['Longitude']))\n",
    "m = folium.Map(locations = [Ken_Chel_DF['Latitude'].mean(), Ken_Chel_DF['Longitude'].mean()], zoom_start = 10)\n",
    "HeatMap(locations).add_to(m)\n",
    "m.save(\"Ken_Chel_CF.html\")\n",
    "m"
   ]
  },
  {
   "cell_type": "code",
   "execution_count": 101,
   "id": "2fb5397e-4f79-468b-a5f3-36b75f0361d6",
   "metadata": {},
   "outputs": [],
   "source": [
    "#Mid Sussex\n",
    "Mid_Sussex_DF = UKRoad[UKRoad[\"District Area\"] == 'Mid Sussex']"
   ]
  },
  {
   "cell_type": "code",
   "execution_count": 102,
   "id": "ff71238b-3364-4840-bcde-9de9fdca7f0a",
   "metadata": {},
   "outputs": [
    {
     "data": {
      "text/html": [
       "<div style=\"width:100%;\"><div style=\"position:relative;width:100%;height:0;padding-bottom:60%;\"><span style=\"color:#565656\">Make this Notebook Trusted to load map: File -> Trust Notebook</span><iframe srcdoc=\"&lt;!DOCTYPE html&gt;\n",
       "&lt;html&gt;\n",
       "&lt;head&gt;\n",
       "    \n",
       "    &lt;meta http-equiv=&quot;content-type&quot; content=&quot;text/html; charset=UTF-8&quot; /&gt;\n",
       "    \n",
       "        &lt;script&gt;\n",
       "            L_NO_TOUCH = false;\n",
       "            L_DISABLE_3D = false;\n",
       "        &lt;/script&gt;\n",
       "    \n",
       "    &lt;style&gt;html, body {width: 100%;height: 100%;margin: 0;padding: 0;}&lt;/style&gt;\n",
       "    &lt;style&gt;#map {position:absolute;top:0;bottom:0;right:0;left:0;}&lt;/style&gt;\n",
       "    &lt;script src=&quot;https://cdn.jsdelivr.net/npm/leaflet@1.9.3/dist/leaflet.js&quot;&gt;&lt;/script&gt;\n",
       "    &lt;script src=&quot;https://code.jquery.com/jquery-3.7.1.min.js&quot;&gt;&lt;/script&gt;\n",
       "    &lt;script src=&quot;https://cdn.jsdelivr.net/npm/bootstrap@5.2.2/dist/js/bootstrap.bundle.min.js&quot;&gt;&lt;/script&gt;\n",
       "    &lt;script src=&quot;https://cdnjs.cloudflare.com/ajax/libs/Leaflet.awesome-markers/2.0.2/leaflet.awesome-markers.js&quot;&gt;&lt;/script&gt;\n",
       "    &lt;link rel=&quot;stylesheet&quot; href=&quot;https://cdn.jsdelivr.net/npm/leaflet@1.9.3/dist/leaflet.css&quot;/&gt;\n",
       "    &lt;link rel=&quot;stylesheet&quot; href=&quot;https://cdn.jsdelivr.net/npm/bootstrap@5.2.2/dist/css/bootstrap.min.css&quot;/&gt;\n",
       "    &lt;link rel=&quot;stylesheet&quot; href=&quot;https://netdna.bootstrapcdn.com/bootstrap/3.0.0/css/bootstrap-glyphicons.css&quot;/&gt;\n",
       "    &lt;link rel=&quot;stylesheet&quot; href=&quot;https://cdn.jsdelivr.net/npm/@fortawesome/fontawesome-free@6.2.0/css/all.min.css&quot;/&gt;\n",
       "    &lt;link rel=&quot;stylesheet&quot; href=&quot;https://cdnjs.cloudflare.com/ajax/libs/Leaflet.awesome-markers/2.0.2/leaflet.awesome-markers.css&quot;/&gt;\n",
       "    &lt;link rel=&quot;stylesheet&quot; href=&quot;https://cdn.jsdelivr.net/gh/python-visualization/folium/folium/templates/leaflet.awesome.rotate.min.css&quot;/&gt;\n",
       "    \n",
       "            &lt;meta name=&quot;viewport&quot; content=&quot;width=device-width,\n",
       "                initial-scale=1.0, maximum-scale=1.0, user-scalable=no&quot; /&gt;\n",
       "            &lt;style&gt;\n",
       "                #map_1ad7d8719eaff76ca9914ad5b6f66257 {\n",
       "                    position: relative;\n",
       "                    width: 100.0%;\n",
       "                    height: 100.0%;\n",
       "                    left: 0.0%;\n",
       "                    top: 0.0%;\n",
       "                }\n",
       "                .leaflet-container { font-size: 1rem; }\n",
       "            &lt;/style&gt;\n",
       "        \n",
       "    &lt;script src=&quot;https://cdn.jsdelivr.net/gh/python-visualization/folium@main/folium/templates/leaflet_heat.min.js&quot;&gt;&lt;/script&gt;\n",
       "&lt;/head&gt;\n",
       "&lt;body&gt;\n",
       "    \n",
       "    \n",
       "            &lt;div class=&quot;folium-map&quot; id=&quot;map_1ad7d8719eaff76ca9914ad5b6f66257&quot; &gt;&lt;/div&gt;\n",
       "        \n",
       "&lt;/body&gt;\n",
       "&lt;script&gt;\n",
       "    \n",
       "    \n",
       "            var map_1ad7d8719eaff76ca9914ad5b6f66257 = L.map(\n",
       "                &quot;map_1ad7d8719eaff76ca9914ad5b6f66257&quot;,\n",
       "                {\n",
       "                    center: [0.0, 0.0],\n",
       "                    crs: L.CRS.EPSG3857,\n",
       "                    ...{\n",
       "  &quot;zoom&quot;: 1,\n",
       "  &quot;zoomControl&quot;: true,\n",
       "  &quot;preferCanvas&quot;: false,\n",
       "  &quot;locations&quot;: [\n",
       "51.017290855593224,\n",
       "-0.12646894372881354,\n",
       "],\n",
       "}\n",
       "\n",
       "                }\n",
       "            );\n",
       "\n",
       "            \n",
       "\n",
       "        \n",
       "    \n",
       "            var tile_layer_db85b48f0158bbc4433b241d1c37d8b0 = L.tileLayer(\n",
       "                &quot;https://tile.openstreetmap.org/{z}/{x}/{y}.png&quot;,\n",
       "                {\n",
       "  &quot;minZoom&quot;: 0,\n",
       "  &quot;maxZoom&quot;: 19,\n",
       "  &quot;maxNativeZoom&quot;: 19,\n",
       "  &quot;noWrap&quot;: false,\n",
       "  &quot;attribution&quot;: &quot;\\u0026copy; \\u003ca href=\\&quot;https://www.openstreetmap.org/copyright\\&quot;\\u003eOpenStreetMap\\u003c/a\\u003e contributors&quot;,\n",
       "  &quot;subdomains&quot;: &quot;abc&quot;,\n",
       "  &quot;detectRetina&quot;: false,\n",
       "  &quot;tms&quot;: false,\n",
       "  &quot;opacity&quot;: 1,\n",
       "}\n",
       "\n",
       "            );\n",
       "        \n",
       "    \n",
       "            tile_layer_db85b48f0158bbc4433b241d1c37d8b0.addTo(map_1ad7d8719eaff76ca9914ad5b6f66257);\n",
       "        \n",
       "    \n",
       "            var heat_map_1c5712ea1f113e2112ff9f36e933c9a2 = L.heatLayer(\n",
       "                [[51.131859, -0.016924], [51.118702, 0.010948], [51.1309, -0.01868], [51.133566, -0.092465], [50.987745, -0.101157], [51.019965, -0.187532], [50.991665, -0.172105], [51.082773, -0.132678], [51.015814, -0.112843], [50.963797, -0.133038], [50.923369, -0.141345], [50.991683, -0.099999], [51.141702, -0.078548], [51.019962, -0.18739], [50.993033, -0.094529], [51.121844, 0.006083], [50.962765, -0.153017], [50.90663, -0.186391], [51.108366, -0.047787], [51.129221, -0.00989], [50.994658, -0.122679], [51.134368, -0.000521], [50.916848, -0.207476], [51.109667, -0.050304], [51.135037, -0.029366], [50.885195, -0.190209], [51.057358, -0.084896], [50.883108, -0.165979], [50.943179, -0.177139], [51.012863, -0.09172], [50.929254, -0.195473], [51.008313, -0.105022], [51.017648, -0.049319], [51.136027, -0.034756], [51.109032, -0.055331], [51.136879, -0.124921], [50.952935, -0.12308], [51.032915, -0.064225], [51.020168, -0.183247], [51.001308, -0.196526], [51.112286, 0.028386], [50.91931, -0.192158], [51.070154, -0.130902], [50.954448, -0.138966], [50.961587, -0.141102], [51.126868, -0.003703], [51.135132, -0.029648], [51.053352, -0.200641], [50.992479, -0.088139], [51.104727, -0.105366], [51.045367, -0.06128], [51.098952, -0.104174], [51.001669, -0.100161], [51.074575, -0.027797], [50.96316, -0.17237], [51.078522, -0.131136], [50.990369, -0.19866], [50.990277, -0.198521], [50.991966, -0.168388], [50.99936, -0.107524], [50.997253, -0.121862], [50.949264, -0.175193], [51.07636, -0.130938], [51.142113, -0.076244], [50.924295, -0.143016], [50.951904, -0.126111], [50.958811, -0.147478], [50.974256, -0.146009], [51.002487, -0.197193], [51.004989, -0.144499], [50.98731, -0.129958], [51.121659, -0.08481], [51.104541, -0.104945], [51.124556, -0.074973], [50.992225, -0.100119], [51.13418, -0.026544], [51.036324, -0.031418], [51.017294, -0.049619], [51.03493, -0.012792], [50.960552, -0.149545], [50.980424, -0.044469], [51.03711, -0.035379], [51.138024, -0.035815], [50.942283, -0.194683], [50.946859, -0.253159], [50.931324, -0.195535], [51.049854, -0.201204], [51.06396, -0.171399], [51.002842, -0.196894], [50.973146, -0.236932], [50.992061, -0.16867], [50.920529, -0.143735], [51.050404, -0.201896], [51.010726, -0.143272], [51.125587, -0.023623], [51.000501, -0.105768], [50.877778, -0.187511], [50.908865, -0.156859], [50.997432, -0.195964], [51.126873, -0.009277], [51.074266, -0.203826], [50.958665, -0.161012], [50.91178, -0.153472], [51.012068, -0.081631], [51.0024, -0.089869], [51.045175, -0.189402], [50.981373, -0.096431], [51.079944, -0.052982], [51.113604, -0.032993], [51.039855, -0.131409], [51.133656, -0.092461], [50.900902, -0.176658], [51.103323, -0.085425], [50.97895, -0.198817], [51.053177, -0.200933], [50.884192, -0.212711], [51.05157, -0.201708], [51.00722, -0.076699], [51.13842, -0.086833], [50.991325, -0.173401], [51.105675, -0.075329], [51.051483, -0.201855], [50.924081, -0.14089], [51.001207, -0.195818], [51.138121, -0.03624], [50.933878, -0.180492], [51.135035, -0.029224], [50.946637, -0.162483], [51.0945, -0.079363], [50.961699, -0.136825], [51.064565, -0.20463], [50.96687, -0.145306], [51.042356, -0.216616], [50.93584, -0.179419], [51.015814, -0.112843], [50.988567, -0.198445], [50.954372, -0.128575], [51.082946, -0.132243], [51.046694, -0.059941], [50.991498, -0.172967], [51.114853, -0.125384], [50.996391, -0.101944], [51.089454, -0.073289], [50.95714, -0.127325], [50.959792, -0.141316], [51.002911, -0.099113], [50.964555, -0.118624], [51.025716, -0.102315], [51.130421, -0.016985], [51.138123, -0.124013], [51.125879, -0.003746], [50.91684, -0.154979], [50.994841, -0.197062], [50.904819, -0.185608], [51.136044, -0.14025], [50.922053, -0.132149], [50.985146, -0.129617], [51.037723, -0.116232], [51.115569, -0.032195], [50.963498, -0.131199], [50.966604, -0.139904], [51.000858, -0.133546], [51.124793, -0.003364], [51.082856, -0.132246], [50.994477, -0.162162], [50.898513, -0.161961], [50.986172, -0.154511], [50.956969, -0.13915], [51.0046, -0.103462], [51.115327, -0.126936], [50.880317, -0.212149], [50.93245, -0.175424], [51.086235, -0.198508], [51.026322, -0.111988], [50.913051, -0.154275], [51.004153, -0.103623], [51.0038, -0.098506], [51.015814, -0.112843], [51.122168, -0.018196], [50.977424, -0.147307], [51.043805, -0.199727], [51.064983, -0.167791], [51.000929, -0.104467], [51.033057, -0.19672], [50.962777, -0.194031], [50.990274, -0.198379], [51.126048, -0.072767], [50.984359, -0.188065], [50.898544, -0.169639], [51.133479, -0.126059], [50.928371, -0.144846], [50.960341, -0.153256], [50.890619, -0.197819], [51.029711, -0.066212], [51.044617, -0.199838], [50.96796, -0.191836], [51.052037, -0.056721], [51.105103, -0.106351], [51.003932, -0.197565], [51.0199, -0.194949], [50.963115, -0.12979], [50.992236, -0.168378], [51.016848, -0.195353], [50.987637, -0.105579], [51.108798, -0.04134], [50.97777, -0.198151], [50.987505, -0.21131], [50.899585, -0.161492], [50.96795, -0.139708], [50.989273, -0.197563], [51.125976, -0.009458], [50.988096, -0.089601], [51.050459, -0.136546], [51.116103, -0.010597], [50.936803, -0.183509], [50.987819, -0.214148], [50.95884, -0.115579], [50.997633, -0.100896], [50.923973, -0.139756], [51.035499, -0.112185], [51.089541, -0.073142], [51.063884, -0.172259], [50.98168, -0.132178], [51.140027, -0.147523], [51.09895, -0.104031], [50.993227, -0.095376], [51.118612, -0.036639], [51.112198, -0.089202], [51.135698, -0.031197], [50.955537, -0.133939], [50.957958, -0.139111], [50.912867, -0.153998], [50.996364, -0.196718], [50.997045, -0.081395], [50.963497, -0.194003], [50.921176, -0.190663], [51.020989, -0.19562], [51.124262, -0.078986], [50.961427, -0.193941], [51.102512, -0.085316], [51.037905, -0.116367], [50.951338, -0.192909], [50.992664, -0.055783], [51.126545, -0.011149], [51.053265, -0.200787], [50.935421, -0.198792], [50.963535, -0.139173], [51.006171, -0.073036], [50.97323, -0.195335], [50.939523, -0.179133], [50.959753, -0.173073], [50.957427, -0.134006], [50.99547, -0.100557], [51.0292, -0.067945], [50.977377, -0.133063], [50.961138, -0.14112], [51.012869, -0.103125], [51.103863, -0.101973], [51.016091, -0.113259], [50.991473, -0.159858], [50.98141, -0.132189], [50.943089, -0.177143], [51.136517, 1e-06], [50.986475, -0.196959], [50.897033, -0.199705], [51.020058, -0.181968], [50.959297, -0.127238], [50.95179, -0.193034], [51.017475, -0.195186], [51.035819, -0.033437], [50.957726, -0.158486], [50.964746, -0.119328], [51.10745, -0.062969], [50.879929, -0.210315], [51.096776, -0.026995], [50.980741, -0.096314], [51.033543, -0.042519], [50.967898, -0.19369], [50.990291, -0.097348], [51.127313, 0.007034], [50.987655, -0.101161], [50.996579, -0.064027], [50.935283, -0.195666], [50.933872, -0.180065], [51.017461, -0.0489], [50.967442, -0.193281], [51.016405, -0.195798], [50.923945, -0.14929], [50.922061, -0.189775], [51.113075, 0.019133], [51.089551, -0.073713], [51.130069, -0.017429], [51.006389, -0.142019], [51.109105, 0.025103], [50.953815, -0.127458], [51.044321, -0.074164], [50.919372, -0.196139], [51.133048, -0.132794], [51.129817, -0.013152], [51.138031, -0.036244], [51.003343, -0.148413], [50.991408, -0.094168], [51.05022, -0.201618], [50.964469, -0.124466], [51.125029, -0.017216], [50.954181, -0.139119], [51.005923, -0.10184], [50.913373, -0.215434], [50.986287, -0.196396], [50.971601, -0.194686], [50.894435, -0.200374], [51.00424, -0.097918], [51.017475, -0.195186], [51.126132, -0.034605], [51.005641, -0.073628], [50.982415, -0.116334], [50.966174, -0.124255], [50.924286, -0.142447], [50.997047, -0.081538], [50.999788, -0.095107], [51.05344, -0.200494], [50.914553, -0.233883], [51.114323, -0.011674], [51.014703, -0.110892], [50.99954, -0.113075], [50.98251, -0.045521], [50.986515, -0.108474], [50.91928, -0.196001], [51.054894, -0.201437], [51.051748, -0.201559], [51.11698, -0.106723], [50.96477, -0.14895], [50.959026, -0.149748], [51.021027, -0.112631], [50.969977, -0.171248], [50.970257, -0.195023], [51.008163, -0.057558], [51.051151, -0.079302], [50.961642, -0.150214], [50.958447, -0.1586], [50.922572, -0.153471], [50.957602, -0.150659], [50.991175, -0.198487], [51.019422, -0.170016], [51.135594, 0.00139], [51.135021, -0.017789], [50.893479, -0.202544], [50.924538, -0.14699], [50.963594, -0.109263], [51.115037, -0.011357], [50.955392, -0.193321], [50.932922, -0.176829], [51.125792, -0.00918], [50.996714, -0.116325], [50.988571, -0.130049], [50.942776, -0.220999], [50.968339, -0.193104], [51.07204, -0.130683], [50.955445, -0.1338], [51.015254, -0.111582], [51.020899, -0.195624], [50.96559, -0.155326], [50.894842, -0.162959], [50.887949, -0.22906], [51.116243, -0.029452], [50.949115, -0.142881], [50.9878, -0.201182], [51.078577, -0.051897], [50.961327, -0.153074], [50.987657, -0.101303], [50.954313, -0.193363], [50.997004, -0.100922], [50.883833, -0.212725], [50.956969, -0.13915], [50.994354, -0.098322], [51.137479, -0.019542], [50.999544, -0.096685], [50.966539, -0.135777], [51.045949, -0.118894], [50.895217, -0.163939], [50.983715, -0.130102], [50.932917, -0.176544], [51.032325, -0.138558], [51.075012, -0.043053], [51.052877, -0.164274], [51.001216, -0.196387], [51.074505, -0.039648], [50.96558, -0.115307], [51.107302, -0.027261], [50.986441, -0.109475], [50.956699, -0.133465], [51.10333, -0.085854], [50.999521, -0.111936], [51.030839, -0.052902], [51.134745, -0.006794], [50.96817, -0.193822], [50.986651, -0.196667], [51.00587, -0.104123], [51.014975, -0.111023], [50.89869, -0.1675], [50.984271, -0.165129], [51.025917, -0.070649], [51.009318, -0.078465], [51.005044, -0.0976], [50.953473, -0.128611], [51.02, -0.195658], [51.000946, -0.196398], [50.932878, -0.179819], [50.899475, -0.206437], [50.97868, -0.198828], [51.128213, -0.014078], [50.908244, -0.209372], [50.979377, -0.117597], [51.123127, -0.037733], [51.130356, -0.133189], [50.98881, -0.100259], [51.03095, -0.054181], [50.982271, -0.152386], [50.999593, -0.110793], [50.985425, -0.113363], [51.005129, -0.130666], [51.04492, -0.013221], [51.051033, -0.201872], [51.001294, -0.195672], [50.954176, -0.138835], [50.999396, -0.12092], [51.108082, -0.041514], [50.901369, -0.177777], [51.049791, -0.078645], [51.012637, -0.094438], [50.986114, -0.111483], [51.114968, -0.110234], [51.112373, 0.028532], [50.977339, -0.147596], [50.983531, -0.129825], [51.064202, -0.204359], [50.929075, -0.195479], [50.889988, -0.16315], [51.126958, -0.003699], [50.946746, -0.140982], [50.927542, -0.195254], [50.967541, -0.193847], [50.951751, -0.150322], [51.126419, -0.00901], [51.00658, -0.109084], [51.082961, -0.077699], [50.999204, -0.092423], [50.954089, -0.13898], [50.998415, -0.166709], [51.045706, -0.200509], [50.902082, -0.160113], [51.124883, -0.008648], [50.968369, -0.160486], [50.935808, -0.183121], [51.135089, -0.114273], [51.084275, -0.199726], [51.128341, -0.136557], [51.112739, -0.03503], [51.134178, -0.026401], [50.967959, -0.117774], [51.104999, -0.077928], [51.125171, -0.085094], [50.926955, -0.163401], [51.138916, 0.006966], [51.012379, -0.095161], [50.96885, -0.162461], [50.987522, -0.154599], [50.990221, -0.230157], [50.982416, -0.04524], [51.014024, -0.080267], [51.129338, -0.065055], [51.103415, -0.085564], [51.013494, -0.080859], [50.95068, -0.139544], [50.994437, -0.097891], [51.015342, -0.111436], [51.024435, -0.112065], [51.024707, -0.112196], [50.992, -0.091863], [50.998932, -0.092292], [51.037207, -0.197558], [51.135045, -0.0621], [51.064289, -0.204213], [50.901084, -0.176793], [50.984514, -0.047004], [50.938608, -0.207209], [51.0197, -0.142058], [51.124789, -0.008366], [50.901102, -0.160721], [51.005872, -0.104266], [50.996006, -0.100393], [51.083972, -0.197596], [51.005064, -0.065955], [51.003572, -0.10664], [51.006016, -0.080027], [50.924453, -0.15297], [51.023758, -0.171271], [51.105004, -0.105784], [51.043797, -0.199156], [50.980206, -0.198626], [50.966307, -0.126956], [50.90158, -0.17976], [51.014888, -0.111169], [50.957337, -0.134009], [51.124776, -0.088397], [51.015434, -0.111575], [50.994566, -0.100309], [51.132325, -0.002038], [50.988111, -0.198035], [50.964598, -0.121328], [50.894851, -0.163527], [50.93561, -0.199354], [51.124519, -0.008377], [51.123863, -0.006834], [51.089364, -0.073293], [50.990003, -0.198247], [51.024687, -0.196332], [51.126632, -0.011002], [50.954462, -0.128571], [51.093269, -0.1254], [50.907292, -0.188499], [50.955801, -0.139197], [50.924085, -0.141174], [50.995921, -0.100681], [51.109578, -0.050308], [51.133569, -0.126055], [51.006729, -0.198169], [50.899232, -0.161932], [51.075292, -0.15425], [50.985766, -0.112209], [50.906176, -0.157392], [51.039513, -0.088057], [51.020025, -0.073317], [51.075438, -0.047032], [51.123871, -0.007262], [51.137169, -0.12062], [51.13152, -0.028802], [50.901389, -0.179057], [51.07538, -0.154104], [51.012836, -0.197647], [51.030359, -0.196682], [50.965274, -0.118595], [51.131788, -0.002204], [51.113623, -0.00756], [50.96157, -0.117605], [51.006142, -0.132194], [50.999284, -0.102824], [50.965603, -0.11673], [51.00157, -0.105154], [51.066968, -0.084072], [51.041361, -0.19868], [51.062367, -0.167323], [51.091847, -0.076617], [51.070334, -0.142172], [51.120298, -0.003415], [51.119576, -0.083896], [51.135969, 0.021418], [50.895116, -0.163232], [51.133122, -0.126216], [51.109105, 0.025103], [51.107452, -0.063112], [51.109682, -0.029731], [51.113095, -0.11674], [51.141794, -0.078687], [51.009694, -0.140604], [51.056735, -0.112892], [51.100004, -0.021144], [51.110152, -0.112716], [51.033414, -0.196564], [50.999609, -0.11179], [51.133135, -0.132648], [51.048683, -0.201107], [50.963504, -0.109267], [51.125979, -0.009601], [50.970696, -0.194294], [51.139889, -0.116364], [50.908865, -0.156859], [51.000472, -0.092941], [51.079834, -0.203325], [50.986817, -0.195806], [50.885263, -0.165752], [51.111393, 0.022775], [51.00791, -0.141531], [51.100149, -0.056561], [50.967175, -0.193434], [50.899587, -0.161634], [51.081642, -0.209823], [50.957597, -0.150374], [51.106932, -0.086133], [51.062696, -0.136911], [51.030081, -0.110837], [51.125563, -0.016907], [51.005818, -0.073478], [51.103411, -0.085279], [50.993488, -0.100353], [50.901807, -0.182738], [50.987477, -0.209459], [51.041279, -0.130495], [51.1362, -0.094072], [50.926244, -0.198577], [51.056713, -0.083924], [51.066077, -0.157329], [50.962763, -0.158571], [51.051116, -0.201441], [51.027037, -0.111674], [50.916338, -0.191846], [51.098959, -0.104602], [51.132783, -0.127516], [50.89967, -0.207425], [51.009273, -0.075759], [51.103141, -0.08529], [51.002497, -0.079317], [51.030451, -0.196821], [50.928166, -0.166057], [50.995204, -0.073348], [51.043229, -0.051669], [51.03282, -0.216412], [50.894759, -0.163388], [51.015819, -0.113128], [50.939552, -0.180982], [51.045633, -0.189954], [50.991509, -0.128221], [50.964892, -0.139688], [50.935998, -0.195354], [51.133378, -0.125348], [50.891351, -0.198644], [50.972566, -0.170006], [50.887856, -0.193661], [50.987102, -0.196792], [51.103766, -0.101549], [51.009424, -0.140615], [51.102215, -0.089185], [51.085207, -0.133008], [51.137206, -0.106181], [51.136636, 0.02445], [51.13786, 0.005633], [51.141609, -0.078409], [51.051029, -0.201587], [50.899498, -0.161638], [50.931499, -0.195243], [50.996005, -0.196732], [51.002313, -0.128927], [50.958687, -0.134097], [51.028405, -0.068834], [50.947086, -0.162465], [51.131292, -0.129864], [50.959569, -0.127369], [50.923517, -0.139347], [50.989731, -0.198115], [51.075202, -0.154254], [51.000957, -0.089643], [50.977465, -0.132917], [50.96454, -0.123324], [51.091015, -0.075223], [51.012924, -0.197501], [51.015138, -0.121139], [50.942347, -0.222297], [50.992092, -0.092002], [50.924095, -0.153126], [51.104347, -0.104096], [51.013494, -0.080859], [51.100321, -0.056125], [50.962341, -0.131957], [51.061219, -0.106572], [50.933869, -0.179923], [51.11403, -0.031546], [51.122685, -0.038181], [51.13786, 0.005633], [50.947165, -0.116621], [50.942991, -0.193944], [51.071802, -0.08273], [50.990026, -0.176587], [51.134362, -0.026679], [50.963433, -0.149715], [51.024617, -0.1122], [50.996583, -0.064312], [50.993506, -0.095934], [50.893941, -0.162852], [51.070441, -0.160296], [51.136786, -0.124781], [51.082944, -0.1321], [50.959311, -0.173518], [51.023146, -0.093579], [51.137451, -0.115749], [50.96376, -0.193566], [50.977912, -0.132757], [51.123579, -0.000701], [51.061148, -0.135689], [51.060374, -0.038961], [50.886756, -0.192281], [50.901192, -0.160717], [51.136002, -0.092936], [51.082944, -0.1321], [50.902517, -0.182142], [50.957234, -0.138855], [50.963041, -0.108431], [50.944253, -0.176813], [50.94821, -0.12569], [50.975573, -0.115899], [51.126722, -0.010998], [50.987578, -0.210167], [51.040096, -0.198301], [50.952845, -0.15697], [51.126445, -0.010581], [51.006389, -0.108379], [50.879504, -0.188582], [50.990418, -0.23129], [51.059135, -0.202414], [50.959629, -0.194011], [50.992182, -0.091999], [51.003326, -0.108076], [51.126542, -0.011006], [51.008766, -0.138788], [50.905733, -0.186568], [51.025133, -0.231395], [51.100186, -0.021279], [51.060674, -0.203068], [50.951928, -0.150172], [51.00769, -0.029352], [50.98677, -0.107609], [50.984513, -0.129358], [51.000792, -0.090505], [51.112906, 0.023698], [51.007796, -0.095349], [51.110516, -0.112987], [51.08826, -0.071768], [50.922208, -0.153201], [51.102855, -0.095301], [51.00478, -0.103455], [51.127458, -0.011967], [50.991655, -0.159993], [51.123651, 0.000302], [51.106478, -0.085866], [50.988744, -0.198296], [51.042622, -0.015602], [50.947446, -0.162451], [51.015996, -0.112978], [51.128857, -0.014908], [51.134367, -0.026965], [51.017558, -0.194755], [51.031619, -0.196776], [50.969928, -0.173813], [50.990418, -0.23129], [50.878407, -0.187487], [51.112737, -0.034887], [51.115122, -0.086509], [50.9116, -0.153479], [50.97947, -0.117736], [50.901672, -0.179899], [50.902234, -0.181299], [50.902234, -0.181299], [51.114425, -0.007097], [50.977292, -0.133352], [50.924942, -0.155512], [51.034136, -0.196678], [50.975819, -0.13683], [51.136164, -0.125236], [51.021349, -0.195606], [51.028377, -0.196474], [51.123924, -0.005116], [51.065421, -0.16706], [51.048319, -0.200836], [51.049582, -0.201072], [50.940509, -0.178952], [50.88677, -0.164414], [51.001918, -0.104427], [51.13081, -0.018684], [51.056447, -0.078655], [51.135764, -0.06207], [50.942743, -0.224701], [51.136098, -0.093361], [51.048681, -0.200964], [50.992752, -0.055636], [50.941731, -0.142321], [51.056898, -0.117451], [50.957086, -0.140854], [51.113095, -0.11674], [51.104432, -0.103807], [51.136464, 0.024013], [51.024687, -0.196332], [50.992002, -0.053815], [51.040498, -0.065906], [50.899077, -0.169192], [50.987402, -0.11884], [51.13342, -0.024147], [50.998348, -0.122815], [51.043527, -0.199167], [51.016106, -0.125377], [50.978274, -0.116075], [51.039005, -0.197488], [51.133216, -0.132073], [50.987747, -0.1013], [51.007646, -0.136267], [50.995023, -0.197198], [51.127808, -0.016668], [51.016315, -0.195801], [51.133042, -0.017731], [50.893485, -0.162443], [51.026263, -0.09174], [51.106842, -0.086137], [51.000189, -0.125449], [50.959814, -0.194289], [50.953904, -0.127455], [50.997073, -0.121869], [50.982971, -0.046214], [51.073255, -0.034848], [50.9952, -0.100568], [50.982684, -0.094098], [51.057969, -0.196751], [50.955301, -0.130389], [51.102305, -0.089181], [50.947476, -0.204875], [51.001452, -0.086915], [50.945226, -0.210656], [51.015383, -0.114001], [50.933952, -0.128256], [50.996805, -0.196131], [50.942999, -0.177146], [51.099402, -0.143435], [51.042257, -0.186805], [50.968986, -0.171144], [50.96477, -0.14895], [50.981323, -0.132335], [50.984423, -0.129361], [50.924473, -0.15425], [51.070086, -0.160595], [50.91625, -0.191992], [51.000244, -0.101075], [50.918898, -0.154328], [50.976824, -0.115421], [51.077048, -0.203433], [50.924079, -0.140748], [50.989113, -0.181467], [51.137283, -0.03456], [50.976651, -0.115855], [51.049944, -0.201201], [50.996586, -0.064455], [51.115122, -0.086509], [50.914051, -0.212705], [51.070369, -0.083075], [50.965451, -0.118445], [51.125248, -0.008918], [50.929947, -0.199573], [51.039686, -0.065797], [51.134355, -0.124594], [51.089456, -0.073432], [51.002082, -0.092448], [50.978449, -0.132593], [51.069583, -0.203437], [50.988284, -0.197601], [50.952841, -0.15099], [51.034767, -0.196796], [50.987488, -0.210171], [51.132648, -0.021035], [51.115035, -0.125519], [51.140002, -0.117789], [50.911127, -0.192191], [51.103325, -0.085568], [50.976251, -0.147069], [51.084486, -0.132895], [50.996268, -0.196294], [50.990508, -0.231287], [51.030231, -0.06505], [50.957284, -0.193532], [51.133235, -0.029157], [51.089085, -0.17355], [50.980923, -0.096449], [50.999307, -0.115365], [51.064668, -0.147822], [50.988385, -0.19831], [50.992943, -0.094532], [51.081317, -0.188705], [50.946669, -0.193375], [51.11579, -0.008038], [51.003795, -0.098221], [50.986756, -0.101198], [50.951343, -0.193193], [50.999394, -0.120778], [51.011371, -0.167054], [51.017208, -0.195339], [50.955801, -0.139197], [51.012566, -0.140204], [51.00231, -0.089873], [51.013666, -0.10794], [50.999507, -0.111081], [50.898987, -0.169195], [50.934257, -0.175923], [50.932163, -0.174297], [50.998424, -0.105282], [50.927957, -0.181435], [50.957167, -0.140281], [51.104061, -0.103108], [51.13772, -0.088005], [50.944056, -0.141516], [50.993135, -0.095237], [50.897709, -0.162277], [50.935522, -0.1995], [51.107003, -0.068559], [50.903415, -0.20529], [50.995638, -0.12207], [51.133137, -0.132791], [51.042695, -0.06824], [51.127718, -0.016672], [51.12335, 0.002146], [51.001557, -0.065958], [50.900578, -0.202128], [50.981853, -0.165795], [50.957823, -0.193512], [50.998518, -0.100005], [50.998989, -0.101268], [50.978993, -0.149809], [51.103316, -0.084997], [51.137054, -0.102328], [51.002133, -0.128934], [50.987573, -0.209883], [50.915745, -0.131405], [50.896273, -0.162476], [50.994474, -0.162019], [50.940489, -0.212546], [50.93341, -0.1909], [50.921299, -0.192792], [51.132012, -0.020633], [50.994045, -0.163319], [51.123841, -0.000261], [50.924277, -0.153262], [50.963967, -0.149409], [50.993418, -0.096081], [50.934564, -0.195694], [51.00895, -0.139066], [51.126958, -0.089879], [51.069491, -0.203298], [51.11962, -0.005873], [51.061092, -0.189352], [50.934445, -0.147877], [50.963973, -0.127192], [50.950498, -0.139409], [51.124392, -0.000952], [50.965314, -0.15491], [50.953757, -0.146398], [51.040182, -0.198013], [51.127361, -0.01683], [51.089853, -0.0757], [51.118566, -0.00206], [51.121313, -0.020805], [50.976561, -0.115859], [51.021949, -0.170629], [50.900834, -0.160874], [50.932073, -0.1743], [51.125664, 0.008821], [51.06115, -0.135832], [51.009774, -0.100828], [50.996583, -0.064312], [51.006128, -0.1034], [51.055354, -0.202133], [51.12637, -0.011442], [51.09542, -0.026624], [51.051662, -0.201848], [50.995562, -0.084164], [51.084937, -0.133019], [51.12335, 0.002146], [50.898204, -0.199802], [50.953319, -0.130183], [51.061265, -0.188917], [51.115127, -0.086795], [50.987479, -0.209601], [51.03309, -0.063932], [51.005152, -0.166158], [50.961138, -0.14112], [50.921275, -0.128481], [50.96145, -0.121312], [51.050481, -0.201037], [50.998887, -0.106118], [51.113005, -0.116743], [51.134081, -0.025977], [51.015556, -0.113566], [50.990546, -0.198511], [51.015254, -0.111582], [50.89878, -0.167497], [51.0405, -0.066048], [51.066291, -0.16517], [51.023779, -0.071878], [50.981013, -0.096446], [51.100064, -0.05685], [50.990459, -0.198657], [50.901582, -0.179902], [50.953235, -0.193405], [51.138072, -0.087562], [50.994463, -0.161307], [51.010199, -0.082848], [50.953961, -0.131012], [51.044102, -0.071748], [50.954089, -0.127732], [51.002632, -0.104113], [51.102305, -0.089181], [50.988125, -0.216558], [50.992047, -0.167815], [51.141704, -0.078691], [51.138685, -0.086536], [50.919955, -0.193129], [50.988012, -0.101004], [51.10368, -0.085268], [50.893033, -0.162319], [51.139736, -0.020017], [50.987485, -0.101738], [50.975517, -0.197811], [51.139738, -0.02016], [51.081607, -0.055625], [50.961629, -0.138109], [51.138317, -0.108137], [51.129051, -0.015758], [50.960468, -0.138583], [51.015154, -0.122137], [50.967813, -0.193979], [51.123766, -0.011697], [50.996673, -0.102646], [51.09403, -0.12237], [51.123596, -0.012276], [51.025856, -0.196287], [50.901014, -0.160867], [51.020327, -0.14189], [51.119132, -0.014182], [50.950015, -0.126045], [51.133939, -0.033558], [50.898531, -0.168786], [51.000701, -0.151939], [51.135734, 0.019407], [50.947801, -0.162153], [50.975102, -0.137001], [50.94937, -0.234699], [50.91107, -0.154069], [50.934471, -0.183885], [50.915739, -0.130979], [51.117592, -0.034824], [50.954159, -0.132143], [50.878589, -0.187622], [51.019273, -0.195116], [51.069943, -0.203423], [51.015221, -0.120708], [51.137319, -0.091024], [51.050853, -0.201879], [51.136096, -0.093218], [51.018509, -0.192294], [50.990238, -0.231297], [50.95679, -0.139157], [51.113165, 0.019137], [51.044432, -0.19956], [50.997304, -0.097204], [50.951933, -0.150457], [50.984295, -0.099161], [51.141612, -0.078552], [51.11274, -0.122612], [50.987628, -0.207601], [50.953637, -0.138856], [50.967905, -0.194117], [51.134754, -0.115858], [50.99127, -0.198768], [50.902023, -0.196668], [51.12655, -0.016722], [51.019591, -0.198241], [51.057362, -0.198202], [50.991496, -0.172824], [51.025137, -0.196315], [50.965306, -0.131838], [50.987496, -0.047877], [51.137868, -0.119306], [51.123776, -0.001693], [50.962496, -0.158724], [51.13208, -0.128545], [51.042898, -0.199191], [50.991625, -0.198469], [50.889815, -0.163583], [50.965835, -0.15375], [51.06564, -0.204303], [50.933009, -0.176683], [50.93492, -0.126936], [50.887132, -0.164542], [51.085027, -0.133016], [50.935277, -0.12678], [50.878414, -0.187913], [50.948213, -0.125833], [51.093763, -0.067397], [51.105685, -0.048758], [50.995538, -0.08274], [50.950593, -0.197066], [51.048167, -0.078285], [51.002506, -0.107396], [50.965194, -0.130419], [51.053081, -0.200508], [50.894752, -0.162962], [50.91931, -0.197991], [50.965277, -0.146936], [51.052894, -0.200088], [51.047816, -0.07887], [51.016407, -0.19594], [50.953758, -0.112795], [50.999461, -0.108233], [50.893574, -0.16244], [51.047506, -0.200582], [50.988295, -0.198313], [50.988383, -0.198167], [50.982806, -0.198098], [50.905196, -0.157999], [50.984233, -0.197331], [51.108994, -0.053047], [51.000698, -0.151796], [51.019985, -0.200507], [51.021894, -0.196013], [51.083972, -0.197596], [50.947167, -0.116763], [50.966813, -0.193305], [51.138128, -0.107573], [50.893754, -0.162433], [50.922534, -0.134122], [51.037209, -0.1977], [51.122656, -0.074337], [50.99209, -0.09186], [51.126635, -0.011145], [50.954817, -0.139521], [51.047596, -0.200578], [51.017922, -0.195026], [50.999755, -0.137724], [50.990908, -0.198639], [50.983873, -0.197345], [51.048679, -0.200822], [50.934967, -0.186854], [50.964613, -0.139129], [50.954125, -0.130009], [51.13656, -0.099632], [51.132406, -0.13768], [51.00552, -0.104708], [51.003745, -0.197144], [51.134802, -0.124433], [51.12979, -0.016869], [50.891593, -0.162233], [50.980368, -0.1177], [51.011257, -0.081522], [51.047415, -0.120547], [51.020364, -0.195929], [51.110935, 0.028469], [50.934045, -0.179631], [51.134754, -0.115858], [50.940934, -0.224059], [50.997864, -0.104022], [51.048499, -0.200829], [50.923894, -0.14047], [51.124738, -0.130557], [50.994214, -0.197229], [50.96125, -0.194091], [50.989527, -0.179171], [50.903635, -0.184658], [51.130441, -0.1329], [50.900994, -0.176796], [50.99042, -0.050604], [51.02665, -0.172155], [51.132662, -0.092216], [51.123783, -0.007409], [50.991998, -0.170382], [50.986668, -0.197806], [51.00791, -0.113449], [51.073338, -0.034416], [50.954357, -0.133274], [50.980388, -0.198762], [51.090194, -0.074543], [50.901062, -0.175372], [50.974872, -0.196838], [50.987847, -0.215999], [50.962449, -0.150039], [51.103554, -0.099558], [50.887036, -0.192981], [51.030597, -0.054623], [51.085663, -0.133418], [51.082559, -0.199222], [51.078765, -0.146402], [50.930784, -0.195556], [50.896183, -0.162479], [51.129278, -0.029183], [51.036214, -0.197311], [51.123474, 0.000151], [50.948824, -0.193149], [50.901868, -0.180887], [50.9779, -0.115235], [51.105627, -0.023904], [51.1396, -0.120808], [51.134367, -0.026965], [50.892761, -0.162187], [51.094592, -0.079502], [50.904549, -0.185618], [51.134081, -0.025977], [51.126958, -0.003699], [51.134665, -0.115862], [51.084111, -0.200732], [51.007305, -0.098363], [51.081086, -0.202848], [51.005877, -0.104551], [51.141614, -0.078695], [51.137378, -0.034842], [51.029109, -0.089769], [50.939177, -0.145697], [50.991871, -0.089446], [50.952023, -0.150453], [51.002836, -0.067188], [50.954125, -0.130009], [50.978406, -0.198554], [50.995739, -0.06221], [50.912931, -0.192548], [50.990238, -0.231297], [50.992097, -0.054096], [51.01255, -0.094584], [50.95495, -0.147916], [51.031799, -0.196769], [51.006991, -0.095667], [51.068423, -0.163516], [50.97835, -0.14898], [51.049043, -0.201093], [50.895383, -0.163079], [51.033039, -0.03926], [50.909064, -0.210051], [50.986137, -0.12972], [51.005076, -0.072084], [50.95696, -0.138581], [50.970514, -0.194159], [51.083155, -0.202911], [50.961568, -0.151214], [51.018547, -0.194717], [50.896273, -0.162476], [50.937589, -0.125121], [51.000157, -0.101221], [50.992969, -0.198132], [50.896185, -0.162621], [51.121553, -0.01908], [50.964756, -0.165186], [50.99138, -0.159719], [50.987479, -0.209601], [51.02415, -0.196495], [51.126273, -0.016305], [50.987621, -0.189648], [51.046693, -0.200328], [51.075645, -0.153808], [51.132882, -0.133659], [50.886944, -0.192843], [50.959269, -0.14803], [51.094426, -0.119069], [51.116506, 0.013139], [50.965927, -0.148192], [50.987802, -0.201325], [50.895848, -0.164057], [50.978, -0.132611], [50.991898, -0.052964], [50.89852, -0.168076], [51.124723, -0.036379], [50.992095, -0.092145], [51.081135, -0.131459], [51.105035, -0.08564], [51.043887, -0.199153], [51.139629, -0.083781], [51.089364, -0.073293], [51.122014, -0.128952], [50.997221, -0.103193], [51.133113, -0.125645], [50.943075, -0.141983], [50.932827, -0.176548], [51.046517, -0.20062], [51.119039, -0.024617], [50.901012, -0.160725], [51.002808, -0.165823], [50.999915, -0.108499], [51.083885, -0.197743], [50.954248, -0.137693], [50.895651, -0.162927], [51.130756, -0.004965], [51.082771, -0.201355], [50.924635, -0.153105], [51.005589, -0.027446], [51.04913, -0.200947], [51.12647, -0.012009], [50.953462, -0.139148], [50.993932, -0.094492], [51.088155, -0.076342], [51.020272, -0.19579], [50.982323, -0.116196], [51.064199, -0.204216], [51.134283, -0.00081], [51.103415, -0.085564], [51.055398, -0.199134], [51.139579, -0.125097], [50.955899, -0.134067], [51.043347, -0.199174], [50.982556, -0.130719], [51.078767, -0.146545], [50.922209, -0.22278], [51.124843, -0.081534], [50.999609, -0.11179], [51.024508, -0.196339], [50.884714, -0.165205], [51.083126, -0.132235], [51.00604, -0.103546], [50.964833, -0.119182], [51.03784, -0.197818], [50.965583, -0.115449], [50.893896, -0.200395], [50.960207, -0.17334], [51.036019, -0.024014], [51.105507, -0.048908], [51.007827, -0.10832], [50.932915, -0.176402], [50.964941, -0.194375], [51.00478, -0.103455], [50.901389, -0.179057], [51.1297, -0.016873], [51.126445, -0.010581], [50.95837, -0.114317], [50.992097, -0.054096], [50.931271, -0.174759], [51.010504, -0.198023], [50.911425, -0.15377], [51.084937, -0.133019], [51.069996, -0.160599], [51.136943, -0.106621], [51.116899, -0.107297], [51.02899, -0.138121], [51.043705, -0.199017], [50.965269, -0.123864], [51.032109, -0.064401], [50.999517, -0.111651], [50.893754, -0.162433], [50.997406, -0.103471], [50.989875, -0.088388], [51.123008, -0.009443], [51.132214, -0.016622], [50.894615, -0.200367], [51.107003, -0.068559], [51.137204, -0.106038], [51.123851, -0.00612], [51.139145, -0.038341], [50.956253, -0.139321], [51.008272, -0.204952], [51.081659, -0.064189], [50.933242, -0.128854], [51.105627, -0.023904], [50.977467, -0.13306], [50.96993, -0.173956], [50.997557, -0.157907], [51.133616, -0.123338], [50.878138, -0.187497], [51.139669, -0.125094], [51.083885, -0.197743], [51.0666, -0.133614], [50.990728, -0.198646], [50.976856, -0.134224], [51.023092, -0.112404], [50.980276, -0.117561], [51.038082, -0.116217], [51.086233, -0.198365], [50.889811, -0.163299], [50.995931, -0.101251], [51.126049, -0.003167], [51.079032, -0.146249], [51.116812, -0.107444], [50.983397, -0.115867], [51.03605, -0.112876], [51.063148, -0.03813], [51.135174, -0.113983], [50.987484, -0.209886], [51.111489, -0.089803], [51.000503, -0.10591], [51.050123, -0.201194], [51.136782, -0.107771], [50.967675, -0.133737], [50.967912, -0.200384], [50.933847, -0.195864], [51.019988, -0.183254], [50.954215, -0.130005], [50.936107, -0.179266], [50.957062, -0.139289], [50.920218, -0.192692], [50.961406, -0.146663], [50.967892, -0.193263], [50.938817, -0.145711], [51.058815, -0.085978], [50.991746, -0.087314], [51.00272, -0.165969], [50.965323, -0.155479], [51.089364, -0.073293], [50.931981, -0.174162], [50.878232, -0.187778], [51.123756, -0.005838], [50.925434, -0.152504], [50.982644, -0.130573], [50.899585, -0.207713], [51.089364, -0.073293], [50.996496, -0.064458], [51.002572, -0.083875], [51.127062, 0.000735], [50.961697, -0.241068], [51.115531, -0.029911], [51.141704, -0.078691], [51.120231, -0.129882], [51.069129, -0.084268], [50.928261, -0.166338], [50.954214, -0.135558], [51.077142, -0.203715], [51.10576, -0.047897], [51.044886, -0.199827], [51.035051, -0.014641], [50.986228, -0.04736], [50.915748, -0.131548], [51.040188, -0.19844], [50.948225, -0.14918], [51.005941, -0.10298], [50.89457, -0.162827], [50.878955, -0.188034], [50.988211, -0.130064], [50.994833, -0.122387], [51.015691, -0.196111], [51.011077, -0.081529], [50.894613, -0.200225], [51.086265, -0.076277], [51.135906, 0.019843], [50.930874, -0.195552], [51.084244, -0.197729], [51.040558, -0.130382], [51.004418, -0.097768], [51.020899, -0.195624], [51.005718, -0.10584], [51.085391, -0.133286], [51.136446, -0.092632], [51.056976, -0.202355], [51.087933, -0.134755], [51.002294, -0.196346], [51.060586, -0.134285], [51.068952, -0.203319], [50.953628, -0.127039], [50.884563, -0.190091], [51.015816, -0.112985], [51.012727, -0.094434], [50.943806, -0.19434], [50.951543, -0.125983], [51.075469, -0.1541], [51.136941, -0.057161], [51.029977, -0.137939], [50.99979, -0.145561], [50.962857, -0.130513], [50.961997, -0.155611], [50.995336, -0.043415], [50.892943, -0.162322], [51.123839, -0.000118], [51.13507, 0.000509], [51.139104, 0.001256], [51.004887, -0.071521], [51.039838, -0.015863], [50.924001, -0.147154], [51.093853, -0.067393], [50.976591, -0.134519], [51.126093, -0.016313], [50.961623, -0.137683], [51.001114, -0.088211], [50.954024, -0.129301], [50.964479, -0.193538], [51.102488, -0.145168], [50.952292, -0.161833], [50.993817, -0.104045], [51.121569, 0.006357], [50.954089, -0.13898], [51.133037, -0.022734], [50.932009, -0.147405], [50.919865, -0.193133], [51.128771, -0.031062], [50.908775, -0.156862], [51.118176, -0.026798], [51.016108, -0.12552], [51.135172, -0.11384], [51.067119, -0.132309], [51.020633, -0.219304], [51.117131, -0.093857], [51.014224, -0.142704]],\n",
       "                {\n",
       "  &quot;minOpacity&quot;: 0.5,\n",
       "  &quot;maxZoom&quot;: 18,\n",
       "  &quot;radius&quot;: 25,\n",
       "  &quot;blur&quot;: 15,\n",
       "}\n",
       "            );\n",
       "        \n",
       "    \n",
       "            heat_map_1c5712ea1f113e2112ff9f36e933c9a2.addTo(map_1ad7d8719eaff76ca9914ad5b6f66257);\n",
       "        \n",
       "    \n",
       "            tile_layer_db85b48f0158bbc4433b241d1c37d8b0.addTo(map_1ad7d8719eaff76ca9914ad5b6f66257);\n",
       "        \n",
       "    \n",
       "            heat_map_1c5712ea1f113e2112ff9f36e933c9a2.addTo(map_1ad7d8719eaff76ca9914ad5b6f66257);\n",
       "        \n",
       "&lt;/script&gt;\n",
       "&lt;/html&gt;\" style=\"position:absolute;width:100%;height:100%;left:0;top:0;border:none !important;\" allowfullscreen webkitallowfullscreen mozallowfullscreen></iframe></div></div>"
      ],
      "text/plain": [
       "<folium.folium.Map at 0x2a989c10510>"
      ]
     },
     "execution_count": 102,
     "metadata": {},
     "output_type": "execute_result"
    }
   ],
   "source": [
    "locations = list(zip(Mid_Sussex_DF['Latitude'], Mid_Sussex_DF['Longitude']))\n",
    "m = folium.Map(locations = [Mid_Sussex_DF['Latitude'].mean(), Mid_Sussex_DF['Longitude'].mean()], zoom_start = 10)\n",
    "HeatMap(locations).add_to(m)\n",
    "m.save(\"Ken_Chel_CF.html\")\n",
    "m"
   ]
  },
  {
   "cell_type": "code",
   "execution_count": 103,
   "id": "85450749-3ff5-4151-b4d3-3ffc6b16e2f2",
   "metadata": {},
   "outputs": [],
   "source": [
    "#Shetland Islands\n",
    "Shetland_Islands_DF = UKRoad[UKRoad[\"District Area\"] == 'Shetland Islands']"
   ]
  },
  {
   "cell_type": "code",
   "execution_count": 104,
   "id": "ed2b3fa1-2190-4f81-867a-eb602e438a0b",
   "metadata": {},
   "outputs": [
    {
     "data": {
      "text/html": [
       "<div style=\"width:100%;\"><div style=\"position:relative;width:100%;height:0;padding-bottom:60%;\"><span style=\"color:#565656\">Make this Notebook Trusted to load map: File -> Trust Notebook</span><iframe srcdoc=\"&lt;!DOCTYPE html&gt;\n",
       "&lt;html&gt;\n",
       "&lt;head&gt;\n",
       "    \n",
       "    &lt;meta http-equiv=&quot;content-type&quot; content=&quot;text/html; charset=UTF-8&quot; /&gt;\n",
       "    \n",
       "        &lt;script&gt;\n",
       "            L_NO_TOUCH = false;\n",
       "            L_DISABLE_3D = false;\n",
       "        &lt;/script&gt;\n",
       "    \n",
       "    &lt;style&gt;html, body {width: 100%;height: 100%;margin: 0;padding: 0;}&lt;/style&gt;\n",
       "    &lt;style&gt;#map {position:absolute;top:0;bottom:0;right:0;left:0;}&lt;/style&gt;\n",
       "    &lt;script src=&quot;https://cdn.jsdelivr.net/npm/leaflet@1.9.3/dist/leaflet.js&quot;&gt;&lt;/script&gt;\n",
       "    &lt;script src=&quot;https://code.jquery.com/jquery-3.7.1.min.js&quot;&gt;&lt;/script&gt;\n",
       "    &lt;script src=&quot;https://cdn.jsdelivr.net/npm/bootstrap@5.2.2/dist/js/bootstrap.bundle.min.js&quot;&gt;&lt;/script&gt;\n",
       "    &lt;script src=&quot;https://cdnjs.cloudflare.com/ajax/libs/Leaflet.awesome-markers/2.0.2/leaflet.awesome-markers.js&quot;&gt;&lt;/script&gt;\n",
       "    &lt;link rel=&quot;stylesheet&quot; href=&quot;https://cdn.jsdelivr.net/npm/leaflet@1.9.3/dist/leaflet.css&quot;/&gt;\n",
       "    &lt;link rel=&quot;stylesheet&quot; href=&quot;https://cdn.jsdelivr.net/npm/bootstrap@5.2.2/dist/css/bootstrap.min.css&quot;/&gt;\n",
       "    &lt;link rel=&quot;stylesheet&quot; href=&quot;https://netdna.bootstrapcdn.com/bootstrap/3.0.0/css/bootstrap-glyphicons.css&quot;/&gt;\n",
       "    &lt;link rel=&quot;stylesheet&quot; href=&quot;https://cdn.jsdelivr.net/npm/@fortawesome/fontawesome-free@6.2.0/css/all.min.css&quot;/&gt;\n",
       "    &lt;link rel=&quot;stylesheet&quot; href=&quot;https://cdnjs.cloudflare.com/ajax/libs/Leaflet.awesome-markers/2.0.2/leaflet.awesome-markers.css&quot;/&gt;\n",
       "    &lt;link rel=&quot;stylesheet&quot; href=&quot;https://cdn.jsdelivr.net/gh/python-visualization/folium/folium/templates/leaflet.awesome.rotate.min.css&quot;/&gt;\n",
       "    \n",
       "            &lt;meta name=&quot;viewport&quot; content=&quot;width=device-width,\n",
       "                initial-scale=1.0, maximum-scale=1.0, user-scalable=no&quot; /&gt;\n",
       "            &lt;style&gt;\n",
       "                #map_5f051681781d0eaf46f60261d6c5ebae {\n",
       "                    position: relative;\n",
       "                    width: 100.0%;\n",
       "                    height: 100.0%;\n",
       "                    left: 0.0%;\n",
       "                    top: 0.0%;\n",
       "                }\n",
       "                .leaflet-container { font-size: 1rem; }\n",
       "            &lt;/style&gt;\n",
       "        \n",
       "    &lt;script src=&quot;https://cdn.jsdelivr.net/gh/python-visualization/folium@main/folium/templates/leaflet_heat.min.js&quot;&gt;&lt;/script&gt;\n",
       "&lt;/head&gt;\n",
       "&lt;body&gt;\n",
       "    \n",
       "    \n",
       "            &lt;div class=&quot;folium-map&quot; id=&quot;map_5f051681781d0eaf46f60261d6c5ebae&quot; &gt;&lt;/div&gt;\n",
       "        \n",
       "&lt;/body&gt;\n",
       "&lt;script&gt;\n",
       "    \n",
       "    \n",
       "            var map_5f051681781d0eaf46f60261d6c5ebae = L.map(\n",
       "                &quot;map_5f051681781d0eaf46f60261d6c5ebae&quot;,\n",
       "                {\n",
       "                    center: [0.0, 0.0],\n",
       "                    crs: L.CRS.EPSG3857,\n",
       "                    ...{\n",
       "  &quot;zoom&quot;: 1,\n",
       "  &quot;zoomControl&quot;: true,\n",
       "  &quot;preferCanvas&quot;: false,\n",
       "  &quot;locations&quot;: [\n",
       "60.18041757142858,\n",
       "-1.2390041127819549,\n",
       "],\n",
       "}\n",
       "\n",
       "                }\n",
       "            );\n",
       "\n",
       "            \n",
       "\n",
       "        \n",
       "    \n",
       "            var tile_layer_efc4f8e134bd8c74a2b492e40342392f = L.tileLayer(\n",
       "                &quot;https://tile.openstreetmap.org/{z}/{x}/{y}.png&quot;,\n",
       "                {\n",
       "  &quot;minZoom&quot;: 0,\n",
       "  &quot;maxZoom&quot;: 19,\n",
       "  &quot;maxNativeZoom&quot;: 19,\n",
       "  &quot;noWrap&quot;: false,\n",
       "  &quot;attribution&quot;: &quot;\\u0026copy; \\u003ca href=\\&quot;https://www.openstreetmap.org/copyright\\&quot;\\u003eOpenStreetMap\\u003c/a\\u003e contributors&quot;,\n",
       "  &quot;subdomains&quot;: &quot;abc&quot;,\n",
       "  &quot;detectRetina&quot;: false,\n",
       "  &quot;tms&quot;: false,\n",
       "  &quot;opacity&quot;: 1,\n",
       "}\n",
       "\n",
       "            );\n",
       "        \n",
       "    \n",
       "            tile_layer_efc4f8e134bd8c74a2b492e40342392f.addTo(map_5f051681781d0eaf46f60261d6c5ebae);\n",
       "        \n",
       "    \n",
       "            var heat_map_45553946e3328dab47616e34f613477f = L.heatLayer(\n",
       "                [[59.939029, -1.280562], [60.188487, -1.249867], [60.088524, -1.230207], [60.160695, -1.226178], [59.934401, -1.358141], [59.930358, -1.271446], [60.156336, -1.159268], [60.165732, -1.227681], [60.2473, -1.370453], [60.157148, -1.145736], [60.29636, -1.239617], [60.521829, -1.165479], [60.268118, -1.231416], [60.10466, -1.225514], [60.153263, -1.142054], [60.668921, -1.009967], [60.120222, -1.215072], [60.153543, -1.143668], [60.143835, -1.170391], [59.884196, -1.303366], [60.156282, -1.150803], [59.892501, -1.278173], [59.915795, -1.301631], [60.757544, -0.862815], [60.313102, -1.24683], [59.934858, -1.273137], [59.88962, -1.276806], [60.148272, -1.161995], [60.321208, -1.25117], [60.156242, -1.144499], [60.344562, -1.252628], [60.14161, -1.248954], [59.889449, -1.294857], [60.155439, -1.159291], [59.905621, -1.313644], [60.171631, -1.163923], [60.188266, -1.242479], [60.15544, -1.159471], [60.665748, -1.068253], [60.34996, -1.254497], [60.334691, -1.253759], [60.15498, -1.143811], [60.283902, -1.243704], [60.194359, -1.256045], [59.918861, -1.30407], [60.648412, -1.067291], [60.136913, -1.213234], [60.138657, -1.20455], [60.280762, -1.244138], [59.956152, -1.326386], [60.283453, -1.243714], [60.357188, -1.013089], [60.345461, -1.252788], [60.249141, -1.508792], [60.454326, -1.21284], [60.013254, -1.226577], [60.151854, -1.160463], [60.150913, -1.153643], [60.714772, -1.017903], [60.071465, -1.230605], [60.18612, -1.1549], [60.159287, -1.157211], [60.077744, -1.22938], [60.240897, -1.293639], [60.030186, -1.235154], [60.148544, -1.162348], [60.177751, -1.240918], [59.976807, -1.275801], [60.087003, -1.231141], [60.356602, -1.270295], [60.150012, -1.112061], [60.535623, -1.174418], [60.145014, -1.172162], [60.145018, -1.172883], [60.15743, -1.14771], [60.156509, -1.144131], [60.231598, -1.235882], [60.160598, -1.224919], [60.598055, -0.871168], [60.4224, -1.317674], [59.919466, -1.299586], [60.15205, -1.14893], [60.443391, -1.216194], [60.348429, -1.253807], [59.991207, -1.28176], [60.21261, -1.213407], [60.151121, -1.144091], [60.411668, -1.326069], [60.256748, -1.413998], [60.137556, -1.278932], [60.356671, -1.282981], [60.184412, -1.154584], [60.151174, -1.152375], [59.966932, -1.276196], [60.136287, -1.213609], [60.13883, -1.188702], [60.19476, -1.231869], [60.185749, -1.22649], [60.14252, -1.267119], [60.148532, -1.160548], [60.148532, -1.160548], [60.153838, -1.147623], [60.141891, -1.250928], [60.241195, -1.409761], [60.235273, -1.299719], [57.687933, -4.17686], [60.454772, -1.212284], [60.201045, -1.279885], [60.242707, -1.349048], [60.453875, -1.212488], [60.163527, -1.160345], [60.380054, -1.342501], [60.368948, -1.128413], [60.233118, -1.234763], [60.306795, -1.242994], [59.924538, -1.290893], [60.153353, -1.261295], [60.151776, -1.148217], [60.157212, -1.155823], [60.344563, -1.252809], [60.254095, -1.293355], [60.16266, -1.165232], [60.14899, -1.134061], [60.195539, -1.258363], [60.157151, -1.146277], [60.189955, -1.224047], [60.250124, -1.225334], [60.154438, -1.143285], [60.278072, -1.244924], [60.305886, -1.241025], [60.070562, -1.229727], [60.239368, -1.228658], [60.094818, -1.231679]],\n",
       "                {\n",
       "  &quot;minOpacity&quot;: 0.5,\n",
       "  &quot;maxZoom&quot;: 18,\n",
       "  &quot;radius&quot;: 25,\n",
       "  &quot;blur&quot;: 15,\n",
       "}\n",
       "            );\n",
       "        \n",
       "    \n",
       "            heat_map_45553946e3328dab47616e34f613477f.addTo(map_5f051681781d0eaf46f60261d6c5ebae);\n",
       "        \n",
       "    \n",
       "            tile_layer_efc4f8e134bd8c74a2b492e40342392f.addTo(map_5f051681781d0eaf46f60261d6c5ebae);\n",
       "        \n",
       "    \n",
       "            heat_map_45553946e3328dab47616e34f613477f.addTo(map_5f051681781d0eaf46f60261d6c5ebae);\n",
       "        \n",
       "&lt;/script&gt;\n",
       "&lt;/html&gt;\" style=\"position:absolute;width:100%;height:100%;left:0;top:0;border:none !important;\" allowfullscreen webkitallowfullscreen mozallowfullscreen></iframe></div></div>"
      ],
      "text/plain": [
       "<folium.folium.Map at 0x2a989aa0b90>"
      ]
     },
     "execution_count": 104,
     "metadata": {},
     "output_type": "execute_result"
    }
   ],
   "source": [
    "locations = list(zip(Shetland_Islands_DF['Latitude'], Shetland_Islands_DF['Longitude']))\n",
    "m = folium.Map(locations = [Shetland_Islands_DF['Latitude'].mean(), Shetland_Islands_DF['Longitude'].mean()], zoom_start = 10)\n",
    "HeatMap(locations).add_to(m)\n",
    "m.save(\"Ken_Chel_CF.html\")\n",
    "m"
   ]
  },
  {
   "cell_type": "code",
   "execution_count": null,
   "id": "d513cc30-e869-4b52-a459-802deb7fd375",
   "metadata": {},
   "outputs": [],
   "source": [
    "#Shetland Islands\n",
    "Shetland_Islands_DF = UKRoad[UKRoad[\"District Area\"] == 'Shetland Islands']"
   ]
  }
 ],
 "metadata": {
  "kernelspec": {
   "display_name": "Python 3 (ipykernel)",
   "language": "python",
   "name": "python3"
  },
  "language_info": {
   "codemirror_mode": {
    "name": "ipython",
    "version": 3
   },
   "file_extension": ".py",
   "mimetype": "text/x-python",
   "name": "python",
   "nbconvert_exporter": "python",
   "pygments_lexer": "ipython3",
   "version": "3.13.7"
  }
 },
 "nbformat": 4,
 "nbformat_minor": 5
}
