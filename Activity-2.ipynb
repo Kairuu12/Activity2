{
 "cells": [
  {
   "cell_type": "markdown",
   "id": "f47d5c55-e623-40fd-a259-f3a53ed8fa4d",
   "metadata": {},
   "source": [
    "<h1>Project: UK Road Accident</h1>\n",
    "<h2>Analyst: Kyle M. De Los Santos</h2>"
   ]
  },
  {
   "cell_type": "code",
   "execution_count": 1,
   "id": "03767e8c-eb3c-448a-8292-b1c8f1c88b8d",
   "metadata": {},
   "outputs": [],
   "source": [
    "import numpy as np\n",
    "import pandas as pd\n",
    "import warnings\n",
    "from scipy.stats import f_oneway\n",
    "warnings.filterwarnings(\"ignore\")"
   ]
  },
  {
   "cell_type": "code",
   "execution_count": 4,
   "id": "2cb7a876-0fe9-4b73-b937-9ebcdde3e2c4",
   "metadata": {},
   "outputs": [],
   "source": [
    "UKRoad = pd.read_csv(\"Datasets\\\\uk_accident_data.csv\")"
   ]
  },
  {
   "cell_type": "code",
   "execution_count": 5,
   "id": "96c166fb-ab38-4eff-b713-8cf6f19e1e33",
   "metadata": {},
   "outputs": [
    {
     "data": {
      "text/html": [
       "<div>\n",
       "<style scoped>\n",
       "    .dataframe tbody tr th:only-of-type {\n",
       "        vertical-align: middle;\n",
       "    }\n",
       "\n",
       "    .dataframe tbody tr th {\n",
       "        vertical-align: top;\n",
       "    }\n",
       "\n",
       "    .dataframe thead th {\n",
       "        text-align: right;\n",
       "    }\n",
       "</style>\n",
       "<table border=\"1\" class=\"dataframe\">\n",
       "  <thead>\n",
       "    <tr style=\"text-align: right;\">\n",
       "      <th></th>\n",
       "      <th>Index</th>\n",
       "      <th>Accident_Severity</th>\n",
       "      <th>Accident Date</th>\n",
       "      <th>Latitude</th>\n",
       "      <th>Light_Conditions</th>\n",
       "      <th>District Area</th>\n",
       "      <th>Longitude</th>\n",
       "      <th>Number_of_Casualties</th>\n",
       "      <th>Number_of_Vehicles</th>\n",
       "      <th>Road_Surface_Conditions</th>\n",
       "      <th>Road_Type</th>\n",
       "      <th>Urban_or_Rural_Area</th>\n",
       "      <th>Weather_Conditions</th>\n",
       "      <th>Vehicle_Type</th>\n",
       "    </tr>\n",
       "  </thead>\n",
       "  <tbody>\n",
       "    <tr>\n",
       "      <th>0</th>\n",
       "      <td>200701BS64157</td>\n",
       "      <td>Serious</td>\n",
       "      <td>05/06/2019</td>\n",
       "      <td>51.506187</td>\n",
       "      <td>Darkness - lights lit</td>\n",
       "      <td>Kensington and Chelsea</td>\n",
       "      <td>-0.209082</td>\n",
       "      <td>1</td>\n",
       "      <td>2</td>\n",
       "      <td>Dry</td>\n",
       "      <td>Single carriageway</td>\n",
       "      <td>Urban</td>\n",
       "      <td>Fine no high winds</td>\n",
       "      <td>Car</td>\n",
       "    </tr>\n",
       "    <tr>\n",
       "      <th>1</th>\n",
       "      <td>200701BS65737</td>\n",
       "      <td>Serious</td>\n",
       "      <td>02/07/2019</td>\n",
       "      <td>51.495029</td>\n",
       "      <td>Daylight</td>\n",
       "      <td>Kensington and Chelsea</td>\n",
       "      <td>-0.173647</td>\n",
       "      <td>1</td>\n",
       "      <td>2</td>\n",
       "      <td>Wet or damp</td>\n",
       "      <td>Single carriageway</td>\n",
       "      <td>Urban</td>\n",
       "      <td>Raining no high winds</td>\n",
       "      <td>Car</td>\n",
       "    </tr>\n",
       "    <tr>\n",
       "      <th>2</th>\n",
       "      <td>200701BS66127</td>\n",
       "      <td>Serious</td>\n",
       "      <td>26/08/2019</td>\n",
       "      <td>51.517715</td>\n",
       "      <td>Darkness - lighting unknown</td>\n",
       "      <td>Kensington and Chelsea</td>\n",
       "      <td>-0.210215</td>\n",
       "      <td>1</td>\n",
       "      <td>3</td>\n",
       "      <td>Dry</td>\n",
       "      <td>NaN</td>\n",
       "      <td>Urban</td>\n",
       "      <td>NaN</td>\n",
       "      <td>Taxi/Private hire car</td>\n",
       "    </tr>\n",
       "    <tr>\n",
       "      <th>3</th>\n",
       "      <td>200701BS66128</td>\n",
       "      <td>Serious</td>\n",
       "      <td>16/08/2019</td>\n",
       "      <td>51.495478</td>\n",
       "      <td>Daylight</td>\n",
       "      <td>Kensington and Chelsea</td>\n",
       "      <td>-0.202731</td>\n",
       "      <td>1</td>\n",
       "      <td>4</td>\n",
       "      <td>Dry</td>\n",
       "      <td>Single carriageway</td>\n",
       "      <td>Urban</td>\n",
       "      <td>Fine no high winds</td>\n",
       "      <td>Bus or coach (17 or more pass seats)</td>\n",
       "    </tr>\n",
       "    <tr>\n",
       "      <th>4</th>\n",
       "      <td>200701BS66837</td>\n",
       "      <td>Slight</td>\n",
       "      <td>03/09/2019</td>\n",
       "      <td>51.488576</td>\n",
       "      <td>Darkness - lights lit</td>\n",
       "      <td>Kensington and Chelsea</td>\n",
       "      <td>-0.192487</td>\n",
       "      <td>1</td>\n",
       "      <td>2</td>\n",
       "      <td>Dry</td>\n",
       "      <td>NaN</td>\n",
       "      <td>Urban</td>\n",
       "      <td>NaN</td>\n",
       "      <td>Other vehicle</td>\n",
       "    </tr>\n",
       "    <tr>\n",
       "      <th>...</th>\n",
       "      <td>...</td>\n",
       "      <td>...</td>\n",
       "      <td>...</td>\n",
       "      <td>...</td>\n",
       "      <td>...</td>\n",
       "      <td>...</td>\n",
       "      <td>...</td>\n",
       "      <td>...</td>\n",
       "      <td>...</td>\n",
       "      <td>...</td>\n",
       "      <td>...</td>\n",
       "      <td>...</td>\n",
       "      <td>...</td>\n",
       "      <td>...</td>\n",
       "    </tr>\n",
       "    <tr>\n",
       "      <th>660674</th>\n",
       "      <td>201091NM01760</td>\n",
       "      <td>Slight</td>\n",
       "      <td>18/02/2022</td>\n",
       "      <td>57.374005</td>\n",
       "      <td>Daylight</td>\n",
       "      <td>Highland</td>\n",
       "      <td>-3.467828</td>\n",
       "      <td>2</td>\n",
       "      <td>1</td>\n",
       "      <td>Dry</td>\n",
       "      <td>Single carriageway</td>\n",
       "      <td>Rural</td>\n",
       "      <td>Fine no high winds</td>\n",
       "      <td>Car</td>\n",
       "    </tr>\n",
       "    <tr>\n",
       "      <th>660675</th>\n",
       "      <td>201091NM01881</td>\n",
       "      <td>Slight</td>\n",
       "      <td>21/02/2022</td>\n",
       "      <td>57.232273</td>\n",
       "      <td>Darkness - no lighting</td>\n",
       "      <td>Highland</td>\n",
       "      <td>-3.809281</td>\n",
       "      <td>1</td>\n",
       "      <td>1</td>\n",
       "      <td>Frost or ice</td>\n",
       "      <td>Single carriageway</td>\n",
       "      <td>Rural</td>\n",
       "      <td>Fine no high winds</td>\n",
       "      <td>Car</td>\n",
       "    </tr>\n",
       "    <tr>\n",
       "      <th>660676</th>\n",
       "      <td>201091NM01935</td>\n",
       "      <td>Slight</td>\n",
       "      <td>23/02/2022</td>\n",
       "      <td>57.585044</td>\n",
       "      <td>Daylight</td>\n",
       "      <td>Highland</td>\n",
       "      <td>-3.862727</td>\n",
       "      <td>1</td>\n",
       "      <td>3</td>\n",
       "      <td>Frost or ice</td>\n",
       "      <td>Single carriageway</td>\n",
       "      <td>Rural</td>\n",
       "      <td>Fine no high winds</td>\n",
       "      <td>Car</td>\n",
       "    </tr>\n",
       "    <tr>\n",
       "      <th>660677</th>\n",
       "      <td>201091NM01964</td>\n",
       "      <td>Serious</td>\n",
       "      <td>23/02/2022</td>\n",
       "      <td>57.214898</td>\n",
       "      <td>Darkness - no lighting</td>\n",
       "      <td>Highland</td>\n",
       "      <td>-3.823997</td>\n",
       "      <td>1</td>\n",
       "      <td>2</td>\n",
       "      <td>Wet or damp</td>\n",
       "      <td>Single carriageway</td>\n",
       "      <td>Rural</td>\n",
       "      <td>Fine no high winds</td>\n",
       "      <td>Motorcycle over 500cc</td>\n",
       "    </tr>\n",
       "    <tr>\n",
       "      <th>660678</th>\n",
       "      <td>201091NM02142</td>\n",
       "      <td>Serious</td>\n",
       "      <td>28/02/2022</td>\n",
       "      <td>57.575210</td>\n",
       "      <td>Daylight</td>\n",
       "      <td>Highland</td>\n",
       "      <td>-3.895673</td>\n",
       "      <td>1</td>\n",
       "      <td>1</td>\n",
       "      <td>Wet or damp</td>\n",
       "      <td>Dual carriageway</td>\n",
       "      <td>Rural</td>\n",
       "      <td>Snowing no high winds</td>\n",
       "      <td>Car</td>\n",
       "    </tr>\n",
       "  </tbody>\n",
       "</table>\n",
       "<p>660679 rows × 14 columns</p>\n",
       "</div>"
      ],
      "text/plain": [
       "                Index Accident_Severity Accident Date   Latitude  \\\n",
       "0       200701BS64157           Serious    05/06/2019  51.506187   \n",
       "1       200701BS65737           Serious    02/07/2019  51.495029   \n",
       "2       200701BS66127           Serious    26/08/2019  51.517715   \n",
       "3       200701BS66128           Serious    16/08/2019  51.495478   \n",
       "4       200701BS66837            Slight    03/09/2019  51.488576   \n",
       "...               ...               ...           ...        ...   \n",
       "660674  201091NM01760            Slight    18/02/2022  57.374005   \n",
       "660675  201091NM01881            Slight    21/02/2022  57.232273   \n",
       "660676  201091NM01935            Slight    23/02/2022  57.585044   \n",
       "660677  201091NM01964           Serious    23/02/2022  57.214898   \n",
       "660678  201091NM02142           Serious    28/02/2022  57.575210   \n",
       "\n",
       "                   Light_Conditions           District Area  Longitude  \\\n",
       "0             Darkness - lights lit  Kensington and Chelsea  -0.209082   \n",
       "1                          Daylight  Kensington and Chelsea  -0.173647   \n",
       "2       Darkness - lighting unknown  Kensington and Chelsea  -0.210215   \n",
       "3                          Daylight  Kensington and Chelsea  -0.202731   \n",
       "4             Darkness - lights lit  Kensington and Chelsea  -0.192487   \n",
       "...                             ...                     ...        ...   \n",
       "660674                     Daylight                Highland  -3.467828   \n",
       "660675       Darkness - no lighting                Highland  -3.809281   \n",
       "660676                     Daylight                Highland  -3.862727   \n",
       "660677       Darkness - no lighting                Highland  -3.823997   \n",
       "660678                     Daylight                Highland  -3.895673   \n",
       "\n",
       "        Number_of_Casualties  Number_of_Vehicles Road_Surface_Conditions  \\\n",
       "0                          1                   2                     Dry   \n",
       "1                          1                   2             Wet or damp   \n",
       "2                          1                   3                     Dry   \n",
       "3                          1                   4                     Dry   \n",
       "4                          1                   2                     Dry   \n",
       "...                      ...                 ...                     ...   \n",
       "660674                     2                   1                     Dry   \n",
       "660675                     1                   1            Frost or ice   \n",
       "660676                     1                   3            Frost or ice   \n",
       "660677                     1                   2             Wet or damp   \n",
       "660678                     1                   1             Wet or damp   \n",
       "\n",
       "                 Road_Type Urban_or_Rural_Area     Weather_Conditions  \\\n",
       "0       Single carriageway               Urban     Fine no high winds   \n",
       "1       Single carriageway               Urban  Raining no high winds   \n",
       "2                      NaN               Urban                    NaN   \n",
       "3       Single carriageway               Urban     Fine no high winds   \n",
       "4                      NaN               Urban                    NaN   \n",
       "...                    ...                 ...                    ...   \n",
       "660674  Single carriageway               Rural     Fine no high winds   \n",
       "660675  Single carriageway               Rural     Fine no high winds   \n",
       "660676  Single carriageway               Rural     Fine no high winds   \n",
       "660677  Single carriageway               Rural     Fine no high winds   \n",
       "660678    Dual carriageway               Rural  Snowing no high winds   \n",
       "\n",
       "                                Vehicle_Type  \n",
       "0                                        Car  \n",
       "1                                        Car  \n",
       "2                      Taxi/Private hire car  \n",
       "3       Bus or coach (17 or more pass seats)  \n",
       "4                              Other vehicle  \n",
       "...                                      ...  \n",
       "660674                                   Car  \n",
       "660675                                   Car  \n",
       "660676                                   Car  \n",
       "660677                 Motorcycle over 500cc  \n",
       "660678                                   Car  \n",
       "\n",
       "[660679 rows x 14 columns]"
      ]
     },
     "execution_count": 5,
     "metadata": {},
     "output_type": "execute_result"
    }
   ],
   "source": [
    "UKRoad"
   ]
  },
  {
   "cell_type": "markdown",
   "id": "a912dc6c-f732-45ad-ae7a-0ffbf34cd62a",
   "metadata": {},
   "source": [
    "<h1>Filling Up Null Values and Changing DataTypes</h1>"
   ]
  },
  {
   "cell_type": "code",
   "execution_count": 6,
   "id": "a7f0ab67-908d-4b79-8ca3-077d7f3cd675",
   "metadata": {},
   "outputs": [
    {
     "data": {
      "text/plain": [
       "Index                          0\n",
       "Accident_Severity              0\n",
       "Accident Date                  0\n",
       "Latitude                      25\n",
       "Light_Conditions               0\n",
       "District Area                  0\n",
       "Longitude                     26\n",
       "Number_of_Casualties           0\n",
       "Number_of_Vehicles             0\n",
       "Road_Surface_Conditions      726\n",
       "Road_Type                   4520\n",
       "Urban_or_Rural_Area           15\n",
       "Weather_Conditions         14128\n",
       "Vehicle_Type                   0\n",
       "dtype: int64"
      ]
     },
     "execution_count": 6,
     "metadata": {},
     "output_type": "execute_result"
    }
   ],
   "source": [
    "UKRoad.isnull().sum()"
   ]
  },
  {
   "cell_type": "code",
   "execution_count": 7,
   "id": "bd8de360-ad4d-44fd-937b-98b6fdc927e4",
   "metadata": {},
   "outputs": [
    {
     "data": {
      "text/plain": [
       "Index                      0\n",
       "Accident_Severity          0\n",
       "Accident Date              0\n",
       "Latitude                   0\n",
       "Light_Conditions           0\n",
       "District Area              0\n",
       "Longitude                  0\n",
       "Number_of_Casualties       0\n",
       "Number_of_Vehicles         0\n",
       "Road_Surface_Conditions    0\n",
       "Road_Type                  0\n",
       "Urban_or_Rural_Area        0\n",
       "Weather_Conditions         0\n",
       "Vehicle_Type               0\n",
       "dtype: int64"
      ]
     },
     "execution_count": 7,
     "metadata": {},
     "output_type": "execute_result"
    }
   ],
   "source": [
    "UKRoad[\"Latitude\"] = UKRoad[\"Latitude\"].fillna(UKRoad[\"Latitude\"].mode()[0])\n",
    "UKRoad[\"Longitude\"] = UKRoad[\"Longitude\"].fillna(UKRoad[\"Longitude\"].mode()[0])\n",
    "UKRoad[\"Road_Surface_Conditions\"] = UKRoad[\"Road_Surface_Conditions\"].fillna(UKRoad[\"Road_Surface_Conditions\"].mode()[0])\n",
    "UKRoad[\"Road_Type\"] = UKRoad[\"Road_Type\"].fillna(UKRoad[\"Road_Type\"].mode()[0])\n",
    "UKRoad[\"Urban_or_Rural_Area\"] = UKRoad[\"Urban_or_Rural_Area\"].fillna(UKRoad[\"Urban_or_Rural_Area\"].mode()[0])\n",
    "UKRoad[\"Weather_Conditions\"] = UKRoad[\"Weather_Conditions\"].fillna(UKRoad[\"Weather_Conditions\"].mode()[0])\n",
    "UKRoad.isnull().sum()"
   ]
  },
  {
   "cell_type": "code",
   "execution_count": 8,
   "id": "d5aca9ab-c6f1-492e-8529-282646866b9e",
   "metadata": {},
   "outputs": [
    {
     "data": {
      "text/plain": [
       "Index                      category\n",
       "Accident_Severity          category\n",
       "Accident Date                object\n",
       "Latitude                    float64\n",
       "Light_Conditions           category\n",
       "District Area                object\n",
       "Longitude                   float64\n",
       "Number_of_Casualties          int64\n",
       "Number_of_Vehicles            int64\n",
       "Road_Surface_Conditions    category\n",
       "Road_Type                  category\n",
       "Urban_or_Rural_Area        category\n",
       "Weather_Conditions         category\n",
       "Vehicle_Type               category\n",
       "dtype: object"
      ]
     },
     "execution_count": 8,
     "metadata": {},
     "output_type": "execute_result"
    }
   ],
   "source": [
    "UKRoad[\"Index\"] = UKRoad[\"Index\"].astype(\"category\")\n",
    "UKRoad[\"Accident_Severity\"] = UKRoad[\"Accident_Severity\"].astype(\"category\")\n",
    "UKRoad[\"Light_Conditions\"] = UKRoad[\"Light_Conditions\"].astype(\"category\")\n",
    "UKRoad[\"District Area\"] = UKRoad[\"District Area\"].astype(\"object\")\n",
    "UKRoad[\"Road_Surface_Conditions\"] = UKRoad[\"Road_Surface_Conditions\"].astype(\"category\")\n",
    "UKRoad[\"Road_Type\"] = UKRoad[\"Road_Type\"].astype(\"category\")\n",
    "UKRoad[\"Urban_or_Rural_Area\"] = UKRoad[\"Urban_or_Rural_Area\"].astype(\"category\")\n",
    "UKRoad[\"Weather_Conditions\"] = UKRoad[\"Weather_Conditions\"].astype(\"category\")\n",
    "UKRoad[\"Vehicle_Type\"] = UKRoad[\"Vehicle_Type\"].astype(\"category\")\n",
    "UKRoad.dtypes"
   ]
  },
  {
   "cell_type": "markdown",
   "id": "91481be3-f84a-4a29-b0c7-ddd8f2fa78eb",
   "metadata": {},
   "source": [
    "<h1>Changing the Accident Date to a Datetime dtypes using pandas</h1>"
   ]
  },
  {
   "cell_type": "code",
   "execution_count": 9,
   "id": "f6abd639-4563-40ad-9ee9-822ea0b1daeb",
   "metadata": {},
   "outputs": [
    {
     "data": {
      "text/plain": [
       "Index                            category\n",
       "Accident_Severity                category\n",
       "Accident Date              datetime64[ns]\n",
       "Latitude                          float64\n",
       "Light_Conditions                 category\n",
       "District Area                      object\n",
       "Longitude                         float64\n",
       "Number_of_Casualties                int64\n",
       "Number_of_Vehicles                  int64\n",
       "Road_Surface_Conditions          category\n",
       "Road_Type                        category\n",
       "Urban_or_Rural_Area              category\n",
       "Weather_Conditions               category\n",
       "Vehicle_Type                     category\n",
       "Year                                int32\n",
       "Day                                 int32\n",
       "Month                               int32\n",
       "Day of Week                         int32\n",
       "dtype: object"
      ]
     },
     "execution_count": 9,
     "metadata": {},
     "output_type": "execute_result"
    }
   ],
   "source": [
    "UKRoad[\"Accident Date\"] = pd.to_datetime(UKRoad[\"Accident Date\"], dayfirst = True, errors = \"coerce\")\n",
    "UKRoad[\"Year\"] = UKRoad[\"Accident Date\"].dt.year\n",
    "UKRoad[\"Day\"] = UKRoad[\"Accident Date\"].dt.day\n",
    "UKRoad[\"Month\"] = UKRoad[\"Accident Date\"].dt.month\n",
    "UKRoad[\"Day of Week\"] = UKRoad[\"Accident Date\"].dt.dayofweek\n",
    "UKRoad.dtypes"
   ]
  },
  {
   "cell_type": "markdown",
   "id": "981d233d-d83e-4b87-a33e-7dc8c76001fc",
   "metadata": {},
   "source": [
    "<h1>Exploratory Data Analysis (EDA)</h1>\n",
    "<hr>"
   ]
  },
  {
   "cell_type": "markdown",
   "id": "f3041a7e-fce2-49c4-919b-048acc2172cf",
   "metadata": {},
   "source": [
    "<h2>Basic Insights</h2>\n",
    "<h2>1. What is the common Accident Severity in UK?</h2>"
   ]
  },
  {
   "cell_type": "code",
   "execution_count": 10,
   "id": "c061ee1c-d053-489e-b394-b59a069d5aa2",
   "metadata": {},
   "outputs": [],
   "source": [
    "AccSev = UKRoad[\"Accident_Severity\"].value_counts()"
   ]
  },
  {
   "cell_type": "code",
   "execution_count": 11,
   "id": "558cbb27-91b2-4a8a-a052-01593ae34be3",
   "metadata": {},
   "outputs": [
    {
     "data": {
      "text/plain": [
       "Accident_Severity\n",
       "Slight     563801\n",
       "Serious     88217\n",
       "Fatal        8661\n",
       "Name: count, dtype: int64"
      ]
     },
     "execution_count": 11,
     "metadata": {},
     "output_type": "execute_result"
    }
   ],
   "source": [
    "AccSev"
   ]
  },
  {
   "cell_type": "markdown",
   "id": "2df5779f-4341-4f71-9e97-2a3165d62448",
   "metadata": {},
   "source": [
    "<h4>Insights:</h4>\n",
    "<h4>As we can see in the Data, the most frequent or common Accident Severity is <b>Slight</b> with a total of <b>563801</b></h4>\n",
    "<hr>"
   ]
  },
  {
   "cell_type": "markdown",
   "id": "c1d66d61-bc00-45f8-9f92-287b1388b19d",
   "metadata": {},
   "source": [
    "<h2>2. Which district area has the highest number of accidents recorded?</h2>"
   ]
  },
  {
   "cell_type": "code",
   "execution_count": 12,
   "id": "c95d4e43-cb72-41f2-a4a7-cbd92aff140c",
   "metadata": {},
   "outputs": [],
   "source": [
    "DisAcc = UKRoad[\"District Area\"].value_counts()"
   ]
  },
  {
   "cell_type": "code",
   "execution_count": 13,
   "id": "1b5c7dbf-b8df-4430-b70e-aa781cdee17d",
   "metadata": {},
   "outputs": [
    {
     "data": {
      "text/plain": [
       "District Area\n",
       "Birmingham            13491\n",
       "Leeds                  8898\n",
       "Manchester             6720\n",
       "Bradford               6212\n",
       "Sheffield              5710\n",
       "                      ...  \n",
       "Berwick-upon-Tweed      153\n",
       "Teesdale                142\n",
       "Shetland Islands        133\n",
       "Orkney Islands          117\n",
       "Clackmannanshire         91\n",
       "Name: count, Length: 422, dtype: int64"
      ]
     },
     "execution_count": 13,
     "metadata": {},
     "output_type": "execute_result"
    }
   ],
   "source": [
    "DisAcc"
   ]
  },
  {
   "cell_type": "markdown",
   "id": "97c25ab8-7ff5-4bdd-9525-c71baafcbf43",
   "metadata": {},
   "source": [
    "<h4>Insights:</h4>\n",
    "<h4>The majority of Accidents Occured in the District Area of <b>Birmingham</b> with a total of <b>13491</b> while <b>Clackmannanshire</b> is the least in terms of Accidents with the toal of <b>91</b></h4>\n",
    "<hr>"
   ]
  },
  {
   "cell_type": "markdown",
   "id": "d3345f94-09f2-4be1-80e1-a5e122311dd0",
   "metadata": {},
   "source": [
    "<h2>3. How many accidents happened in urban vs rural areas?</h2>"
   ]
  },
  {
   "cell_type": "code",
   "execution_count": 14,
   "id": "f1f38250-c537-49b2-8598-5f0983b618c4",
   "metadata": {},
   "outputs": [],
   "source": [
    "Urral = UKRoad['Urban_or_Rural_Area'].value_counts()"
   ]
  },
  {
   "cell_type": "code",
   "execution_count": 15,
   "id": "a676ec9f-408b-4289-bd8d-3e42a9c1d25b",
   "metadata": {},
   "outputs": [
    {
     "data": {
      "text/plain": [
       "Urban_or_Rural_Area\n",
       "Urban          421678\n",
       "Rural          238990\n",
       "Unallocated        11\n",
       "Name: count, dtype: int64"
      ]
     },
     "execution_count": 15,
     "metadata": {},
     "output_type": "execute_result"
    }
   ],
   "source": [
    "Urral"
   ]
  },
  {
   "cell_type": "markdown",
   "id": "d8aaebfd-02bc-405b-842f-dbe321b94bca",
   "metadata": {},
   "source": [
    "<h4>Insights:</h4>\n",
    "<h4>Majority of the accidents occured in <b>Urban Area</b> which is predictable since Urban Area are more prone to vehicle related incidents while the Rural Area have less accidents since Rural Area rarely have a traffic, activities on the road and less density of people on the road</h4>\n",
    "<hr>"
   ]
  },
  {
   "cell_type": "markdown",
   "id": "b7384595-1662-443f-b7f0-42a4d7b35209",
   "metadata": {},
   "source": [
    "<h2>4. What is the average number of casualties per accident?</h2>"
   ]
  },
  {
   "cell_type": "code",
   "execution_count": 16,
   "id": "ba15b4df-c326-49c6-b831-4c0b3ac26039",
   "metadata": {},
   "outputs": [],
   "source": [
    "CasAve = UKRoad[\"Number_of_Casualties\"].mean()"
   ]
  },
  {
   "cell_type": "code",
   "execution_count": 17,
   "id": "6381dede-3b0e-4297-81b8-3d376ca1b8ec",
   "metadata": {},
   "outputs": [
    {
     "data": {
      "text/plain": [
       "np.float64(1.357040257068864)"
      ]
     },
     "execution_count": 17,
     "metadata": {},
     "output_type": "execute_result"
    }
   ],
   "source": [
    "CasAve"
   ]
  },
  {
   "cell_type": "markdown",
   "id": "9b922075-239e-49c4-8b6f-3a38cb4f2e54",
   "metadata": {
    "jp-MarkdownHeadingCollapsed": true
   },
   "source": [
    "<h4>Insights:</h4>\n",
    "<h4>Each accident results in about <b>1.36</b> casualties. This means that, on average, each accident involves about 1 to 2 casualties,</h4>"
   ]
  },
  {
   "cell_type": "markdown",
   "id": "0dd2e57f-2532-4b5f-9acc-f5d0eef85bf1",
   "metadata": {},
   "source": [
    "<h2>5. What are the most common weather conditions during accidents?</h2>"
   ]
  },
  {
   "cell_type": "code",
   "execution_count": 18,
   "id": "b35b764d-6b6d-4a62-9b5b-965235d890fc",
   "metadata": {},
   "outputs": [],
   "source": [
    "WeaCon = UKRoad[\"Weather_Conditions\"].value_counts()"
   ]
  },
  {
   "cell_type": "code",
   "execution_count": 19,
   "id": "d9bb3b05-abcb-42bf-8262-643b187fef59",
   "metadata": {
    "scrolled": true
   },
   "outputs": [
    {
     "data": {
      "text/plain": [
       "Weather_Conditions\n",
       "Fine no high winds       535013\n",
       "Raining no high winds     79696\n",
       "Other                     17150\n",
       "Raining + high winds       9615\n",
       "Fine + high winds          8554\n",
       "Snowing no high winds      6238\n",
       "Fog or mist                3528\n",
       "Snowing + high winds        885\n",
       "Name: count, dtype: int64"
      ]
     },
     "execution_count": 19,
     "metadata": {},
     "output_type": "execute_result"
    }
   ],
   "source": [
    "WeaCon"
   ]
  },
  {
   "cell_type": "markdown",
   "id": "c9d42624-6eb8-4658-aed6-9df727ede55c",
   "metadata": {},
   "source": [
    "<h4>Insights:</h4>\n",
    "<h4>Most accidents happened during the conditions of <b>Fine no high winds</b> which is quite weird since I expect the accidents to spike when it has bad weather conditions.</h4>\n",
    "<hr>"
   ]
  },
  {
   "cell_type": "markdown",
   "id": "207463d8-a80d-45e8-9d9b-03575785061d",
   "metadata": {},
   "source": [
    "<h2>Comparison Insights/Question</h2>\n",
    "<h2>6. Do urban accidents tend to have more casualties than rural accidents?</h2>"
   ]
  },
  {
   "cell_type": "code",
   "execution_count": 20,
   "id": "88b51bf9-d832-481b-9c86-0bb0d1768ee9",
   "metadata": {},
   "outputs": [],
   "source": [
    "urban_casualties = UKRoad[UKRoad['Urban_or_Rural_Area'] == 'Urban']['Number_of_Casualties']\n",
    "rural_casualties = UKRoad[UKRoad['Urban_or_Rural_Area'] == 'Rural']['Number_of_Casualties']"
   ]
  },
  {
   "cell_type": "code",
   "execution_count": 21,
   "id": "dfd71272-c5aa-4516-90cf-2ded2eec2d97",
   "metadata": {},
   "outputs": [
    {
     "data": {
      "text/plain": [
       "np.int64(543040)"
      ]
     },
     "execution_count": 21,
     "metadata": {},
     "output_type": "execute_result"
    }
   ],
   "source": [
    "urban_casualties.sum()"
   ]
  },
  {
   "cell_type": "code",
   "execution_count": 22,
   "id": "2f2af481-4888-410f-af47-112c5d3d58cc",
   "metadata": {},
   "outputs": [
    {
     "data": {
      "text/plain": [
       "np.float64(1.2878072842310957)"
      ]
     },
     "execution_count": 22,
     "metadata": {},
     "output_type": "execute_result"
    }
   ],
   "source": [
    "urban_casualties.mean()"
   ]
  },
  {
   "cell_type": "code",
   "execution_count": 23,
   "id": "cb24f934-c9a3-4c9e-a085-aff37bc75665",
   "metadata": {},
   "outputs": [
    {
     "data": {
      "text/plain": [
       "np.int64(353515)"
      ]
     },
     "execution_count": 23,
     "metadata": {},
     "output_type": "execute_result"
    }
   ],
   "source": [
    "rural_casualties.sum()"
   ]
  },
  {
   "cell_type": "code",
   "execution_count": 24,
   "id": "8c0195e6-664a-47d7-960b-21dafce00660",
   "metadata": {},
   "outputs": [
    {
     "data": {
      "text/plain": [
       "np.float64(1.4792041508012888)"
      ]
     },
     "execution_count": 24,
     "metadata": {},
     "output_type": "execute_result"
    }
   ],
   "source": [
    "rural_casualties.mean()"
   ]
  },
  {
   "cell_type": "markdown",
   "id": "34aaf68b-9df6-4d35-ae03-db8823628242",
   "metadata": {},
   "source": [
    "<h4>Insights:</h4>\n",
    "<h4>Yes, comparing the two Urban tend to have more accidents than Rural Area. Still, Urban areas in the previous insights have a significantly larger accident, somehow their casualties are quite close. I think it suggest that Rural Area is tend to have severe or slightly more dangerous than Urban Areas</h4>\n",
    "<hr>"
   ]
  },
  {
   "cell_type": "markdown",
   "id": "d45f4ea9-e03e-4408-a250-2928bb95cc30",
   "metadata": {},
   "source": [
    "<h2>7. Is the average number of casualties higher in bad weather than in good weather?</h2>"
   ]
  },
  {
   "cell_type": "code",
   "execution_count": 25,
   "id": "44247b1e-4127-422e-95d6-e03e7c35bf8c",
   "metadata": {},
   "outputs": [],
   "source": [
    "good_conditions = UKRoad[(UKRoad[\"Weather_Conditions\"] == \"Fine no high winds\")|\n",
    "                        (UKRoad[\"Weather_Conditions\"] == \"Raining no high winds\")|\n",
    "                        (UKRoad[\"Weather_Conditions\"] == \"Snowing no high winds\")]['Number_of_Casualties']\n",
    "\n",
    "bad_conditions = UKRoad[(UKRoad[\"Weather_Conditions\"] == \"Raining + high winds\")|\n",
    "                        (UKRoad[\"Weather_Conditions\"] == \"Fine + high winds\")|\n",
    "                        (UKRoad[\"Weather_Conditions\"] == \"Snowing + high winds\")]['Number_of_Casualties']"
   ]
  },
  {
   "cell_type": "code",
   "execution_count": 26,
   "id": "1b0f4050-07f7-4f58-a1e9-c9ba9ff44a8b",
   "metadata": {},
   "outputs": [
    {
     "data": {
      "text/plain": [
       "np.float64(1.355146252417678)"
      ]
     },
     "execution_count": 26,
     "metadata": {},
     "output_type": "execute_result"
    }
   ],
   "source": [
    "good_conditions.mean()"
   ]
  },
  {
   "cell_type": "code",
   "execution_count": 27,
   "id": "087adbab-f4c9-4c6e-813c-07dbfc70b621",
   "metadata": {},
   "outputs": [
    {
     "data": {
      "text/plain": [
       "np.float64(1.402960008397187)"
      ]
     },
     "execution_count": 27,
     "metadata": {},
     "output_type": "execute_result"
    }
   ],
   "source": [
    "bad_conditions.mean()"
   ]
  },
  {
   "cell_type": "markdown",
   "id": "8335e5ad-e810-4464-b83e-733dc4cf7aeb",
   "metadata": {},
   "source": [
    "<h4>Insights:</h4>\n",
    "<h4>Yes, the average of number of casualties is higher in bad weather with the average of 1.40, while good weather only had 1.35. Note that I didnt add others and fog and mist since I dont know what type of weather the two are.</h4>\n",
    "<hr>"
   ]
  },
  {
   "cell_type": "markdown",
   "id": "6b39356b-ee25-4eda-ad40-24e43e5bd36f",
   "metadata": {},
   "source": [
    "<h2>8. Do accidents with multiple vehicles cause more casualties than single-vehicle accidents?</h2>"
   ]
  },
  {
   "cell_type": "code",
   "execution_count": 28,
   "id": "8e2d88eb-cf21-4a25-a8c7-e913c07b16cc",
   "metadata": {},
   "outputs": [],
   "source": [
    "single_vehicle = UKRoad[UKRoad[\"Number_of_Vehicles\"] == 1]['Number_of_Casualties']\n",
    "multiple_vehicle = UKRoad[UKRoad[\"Number_of_Vehicles\"] > 1]['Number_of_Casualties']"
   ]
  },
  {
   "cell_type": "code",
   "execution_count": 29,
   "id": "c05df9ad-b1d5-4f01-ba32-5cd0e8322ace",
   "metadata": {},
   "outputs": [
    {
     "data": {
      "text/plain": [
       "np.int64(235108)"
      ]
     },
     "execution_count": 29,
     "metadata": {},
     "output_type": "execute_result"
    }
   ],
   "source": [
    "single_vehicle.sum()"
   ]
  },
  {
   "cell_type": "code",
   "execution_count": 30,
   "id": "55424308-ad81-4772-9faa-3ac428854286",
   "metadata": {},
   "outputs": [
    {
     "data": {
      "text/plain": [
       "np.int64(661460)"
      ]
     },
     "execution_count": 30,
     "metadata": {},
     "output_type": "execute_result"
    }
   ],
   "source": [
    "multiple_vehicle.sum()"
   ]
  },
  {
   "cell_type": "markdown",
   "id": "ab764514-7d94-4d65-86c2-41bd2c83c4d4",
   "metadata": {},
   "source": [
    "<h4>Insights:</h4>\n",
    "<h4>Accidents involving Multiple vehicles tend to have more casualties than a Single Vehicle. Which is understandble since, Multiple vehicles tend to have more passengers which increases the casualties.</h4>\n",
    "<hr>"
   ]
  },
  {
   "cell_type": "markdown",
   "id": "c5eefae5-f06c-4be6-a5ad-0e0d404df755",
   "metadata": {},
   "source": [
    "<h2>9. Do accidents under “Darkness – no lighting” lead to more fatalities than those in “Daylight”?</h2>"
   ]
  },
  {
   "cell_type": "code",
   "execution_count": 31,
   "id": "002e7b1d-3603-4dd1-b76a-c633cc3aa0e6",
   "metadata": {},
   "outputs": [
    {
     "data": {
      "text/plain": [
       "Light_Conditions\n",
       "Daylight                       484880\n",
       "Darkness - lights lit          129335\n",
       "Darkness - no lighting          37437\n",
       "Darkness - lighting unknown      6484\n",
       "Darkness - lights unlit          2543\n",
       "Name: count, dtype: int64"
      ]
     },
     "execution_count": 31,
     "metadata": {},
     "output_type": "execute_result"
    }
   ],
   "source": [
    "Darknolight = UKRoad[UKRoad[\"Light_Conditions\"] == \"Darkness - no lighting\"]['Number_of_Casualties']\n",
    "Daylight = UKRoad[UKRoad[\"Light_Conditions\"] == \"Daylight\"]['Number_of_Casualties']\n",
    "UKRoad[\"Light_Conditions\"].value_counts()"
   ]
  },
  {
   "cell_type": "code",
   "execution_count": 32,
   "id": "ed226eaf-dfa7-4564-9210-ed89bdc9a969",
   "metadata": {},
   "outputs": [
    {
     "data": {
      "text/plain": [
       "np.int64(57715)"
      ]
     },
     "execution_count": 32,
     "metadata": {},
     "output_type": "execute_result"
    }
   ],
   "source": [
    "Darknolight.sum()"
   ]
  },
  {
   "cell_type": "code",
   "execution_count": 33,
   "id": "f5319cc7-eaa2-4a03-9f60-864b9c7bbda0",
   "metadata": {},
   "outputs": [
    {
     "data": {
      "text/plain": [
       "np.int64(649889)"
      ]
     },
     "execution_count": 33,
     "metadata": {},
     "output_type": "execute_result"
    }
   ],
   "source": [
    "Daylight.sum()"
   ]
  },
  {
   "cell_type": "markdown",
   "id": "88f294eb-bb3e-4698-966e-b08ad0d5da7e",
   "metadata": {},
   "source": [
    "<h4>Insights:</h4>\n",
    "<h4>Surprisingly, No, Daylight tend to have more fatalities than those in Darkness no Lighting. According to the Data in the UK Road Accidents there are atleast 484,880 incidents that happen during daylight and if you look at the total casualties it results in 649,889 which is large in comparison to the incidents. This indicates that each daylight accident involved slightly more than one casualty.</h4>\n",
    "<hr>"
   ]
  },
  {
   "cell_type": "markdown",
   "id": "71d7b65b-1a3d-4ad0-8270-9498932607dd",
   "metadata": {},
   "source": [
    "<h2>10. Do wet/icy roads lead to more casualties than dry roads?</h2>"
   ]
  },
  {
   "cell_type": "code",
   "execution_count": 34,
   "id": "4d842d2d-bb62-4bec-9438-ef53e964a447",
   "metadata": {},
   "outputs": [
    {
     "data": {
      "text/plain": [
       "Road_Surface_Conditions\n",
       "Dry                     448547\n",
       "Wet or damp             186708\n",
       "Frost or ice             18517\n",
       "Snow                      5890\n",
       "Flood over 3cm. deep      1017\n",
       "Name: count, dtype: int64"
      ]
     },
     "execution_count": 34,
     "metadata": {},
     "output_type": "execute_result"
    }
   ],
   "source": [
    "UKRoad[\"Road_Surface_Conditions\"].value_counts()"
   ]
  },
  {
   "cell_type": "code",
   "execution_count": 35,
   "id": "f11b0b8f-b056-4759-8258-733b14d87564",
   "metadata": {},
   "outputs": [],
   "source": [
    "weticy = UKRoad[(UKRoad[\"Road_Surface_Conditions\"] == \"Wet or damp\")|\n",
    "                (UKRoad[\"Road_Surface_Conditions\"] == \"Frost or ice\")][\"Number_of_Casualties\"]\n",
    "dryroa = UKRoad[UKRoad[\"Road_Surface_Conditions\"] == \"Dry\"][\"Number_of_Casualties\"]"
   ]
  },
  {
   "cell_type": "code",
   "execution_count": 36,
   "id": "fb6e74c0-6fd3-41ec-a3da-9aa92dbf6539",
   "metadata": {},
   "outputs": [
    {
     "data": {
      "text/plain": [
       "np.int64(288433)"
      ]
     },
     "execution_count": 36,
     "metadata": {},
     "output_type": "execute_result"
    }
   ],
   "source": [
    "weticy.sum()"
   ]
  },
  {
   "cell_type": "code",
   "execution_count": 37,
   "id": "cd9b54c6-5f51-401a-ae45-3077dd3e4d1a",
   "metadata": {},
   "outputs": [
    {
     "data": {
      "text/plain": [
       "np.int64(598606)"
      ]
     },
     "execution_count": 37,
     "metadata": {},
     "output_type": "execute_result"
    }
   ],
   "source": [
    "dryroa.sum()"
   ]
  },
  {
   "cell_type": "markdown",
   "id": "dde64b4c-07bc-40fc-836d-5d6e168ef29a",
   "metadata": {},
   "source": [
    "<h4>Insights:</h4>\n",
    "<h4>No, wet/icy roads doesn't lead to more casualties compared to Dry Roads. Which kinda makes sense, Drivers tend to control their speed which helps to reduce road accidents.</h4>\n",
    "<hr>"
   ]
  },
  {
   "cell_type": "markdown",
   "id": "6c4e1ce9-efa6-4259-af31-9f800154c8fd",
   "metadata": {},
   "source": [
    "<h2>11. Do motorcycles have a higher rate of serious/fatal accidents compared to cars?</h2>"
   ]
  },
  {
   "cell_type": "code",
   "execution_count": 38,
   "id": "384ed782-2630-4976-acdf-3a650c8b8648",
   "metadata": {},
   "outputs": [],
   "source": [
    "motor = UKRoad[(UKRoad[\"Vehicle_Type\"] == \"Motorcycle over 500cc\")|\n",
    "               (UKRoad[\"Vehicle_Type\"] == \"Motorcycle 125cc and under\")|\n",
    "               (UKRoad[\"Vehicle_Type\"] == \"Motorcycle over 125cc and up to 500cc\")|\n",
    "               (UKRoad[\"Vehicle_Type\"] == \"Motorcycle 50cc and under\")]\n",
    "cars = UKRoad[UKRoad[\"Vehicle_Type\"] == \"Car\"]"
   ]
  },
  {
   "cell_type": "code",
   "execution_count": 39,
   "id": "c292456a-9c3e-4407-b6ec-f95a22cf683b",
   "metadata": {},
   "outputs": [],
   "source": [
    "motor_severe = motor[(motor[\"Accident_Severity\"] == \"Fatal\") | \n",
    "                     (motor[\"Accident_Severity\"] == \"Serious\")]\n",
    "car_severe = cars[(cars[\"Accident_Severity\"] == \"Fatal\") | \n",
    "                     (cars[\"Accident_Severity\"] == \"Serious\")]"
   ]
  },
  {
   "cell_type": "code",
   "execution_count": 40,
   "id": "3402fa90-97e5-49fd-b320-7aaa4ef62904",
   "metadata": {},
   "outputs": [
    {
     "data": {
      "text/plain": [
       "np.int64(8244)"
      ]
     },
     "execution_count": 40,
     "metadata": {},
     "output_type": "execute_result"
    }
   ],
   "source": [
    "motor_severe.value_counts().sum()"
   ]
  },
  {
   "cell_type": "code",
   "execution_count": 41,
   "id": "7ab494cb-62f4-4f2a-b692-eafefe178b79",
   "metadata": {},
   "outputs": [
    {
     "data": {
      "text/plain": [
       "np.int64(73038)"
      ]
     },
     "execution_count": 41,
     "metadata": {},
     "output_type": "execute_result"
    }
   ],
   "source": [
    "car_severe.value_counts().sum()"
   ]
  },
  {
   "cell_type": "markdown",
   "id": "cb7ff27e-3229-4d75-af75-5ae4ffc108c1",
   "metadata": {},
   "source": [
    "<h4>Insights:</h4>\n",
    "<h4>Apparently not, despite combining 4 types of motocycles it's still doesn't have a higher rate of Serious/Fatal accidents compared to Cars. It indicates that there are motorcycle drivers dont risk themself getting injured that's why the result is low</h4>\n",
    "<hr>"
   ]
  },
  {
   "cell_type": "markdown",
   "id": "33812419-b994-4799-926d-c652facac245",
   "metadata": {},
   "source": [
    "<h2>12. Do accidents involving buses or heavy vehicles lead to more casualties on average compared to cars and motorcycles?</h2>"
   ]
  },
  {
   "cell_type": "code",
   "execution_count": 42,
   "id": "68d087cf-9f69-45ec-962c-09f0bb2b31cd",
   "metadata": {},
   "outputs": [],
   "source": [
    "heavycars = UKRoad[(UKRoad[\"Vehicle_Type\"] == \"Goods 7.5 tonnes mgw and over\")|\n",
    "                   (UKRoad[\"Vehicle_Type\"] == \"Goods over 3.5t. and under 7.5t\")|\n",
    "                   (UKRoad[\"Vehicle_Type\"] == \"Bus or coach (17 or more pass seats)\")|\n",
    "                   (UKRoad[\"Vehicle_Type\"] == \"Minibus (8 - 16 passenger seats)\")|\n",
    "                   (UKRoad[\"Vehicle_Type\"] == \"Agricultural vehicle\")]\n",
    "\n",
    "carmotor = UKRoad[(UKRoad[\"Vehicle_Type\"] == \"Motorcycle over 500cc\")|\n",
    "                  (UKRoad[\"Vehicle_Type\"] == \"Motorcycle 125cc and under\")|\n",
    "                  (UKRoad[\"Vehicle_Type\"] == \"Motorcycle over 125cc and up to 500cc\")|\n",
    "                  (UKRoad[\"Vehicle_Type\"] == \"Motorcycle 50cc and under\")|\n",
    "                  (UKRoad[\"Vehicle_Type\"] == \"Car\")]"
   ]
  },
  {
   "cell_type": "code",
   "execution_count": 43,
   "id": "108f4bcf-25af-4dfd-a12a-734be1311fe7",
   "metadata": {},
   "outputs": [
    {
     "data": {
      "text/plain": [
       "np.int64(71892)"
      ]
     },
     "execution_count": 43,
     "metadata": {},
     "output_type": "execute_result"
    }
   ],
   "source": [
    "heavycars[\"Number_of_Casualties\"].sum()"
   ]
  },
  {
   "cell_type": "code",
   "execution_count": 44,
   "id": "fd0fea6e-253d-410b-8fbe-b7996289a2d0",
   "metadata": {},
   "outputs": [
    {
     "data": {
      "text/plain": [
       "np.int64(752372)"
      ]
     },
     "execution_count": 44,
     "metadata": {},
     "output_type": "execute_result"
    }
   ],
   "source": [
    "carmotor[\"Number_of_Casualties\"].sum()"
   ]
  },
  {
   "cell_type": "markdown",
   "id": "11cb6f58-1824-41c4-9c0f-a5191d3cd13b",
   "metadata": {},
   "source": [
    "<h4>Insights:</h4>\n",
    "<h4>Comparing the Buses/Heavy Vehicles casualties to Cars and Motorcycles, the answer is NO. Which is quite understandble, these heavy vehicles have the greater chance to survive resulting in less casualties than cars and motorcycles. I also think that it's because the heavy vehicles can survive but can cause casualties to cars and motocycles.</h4>\n",
    "<hr>"
   ]
  },
  {
   "cell_type": "markdown",
   "id": "fed7e112-182a-4043-bbc0-1718a8693949",
   "metadata": {},
   "source": [
    "<h2>13. Do more fatal accidents happen at single carriageway compared to dual carriageway?</h2>"
   ]
  },
  {
   "cell_type": "code",
   "execution_count": 45,
   "id": "59072b1f-eeb7-4c29-a2d4-94f014487286",
   "metadata": {},
   "outputs": [],
   "source": [
    "Single = UKRoad[UKRoad[\"Road_Type\"] == \"Single carriageway\"]\n",
    "Dual = UKRoad[UKRoad[\"Road_Type\"] == \"Dual carriageway\"]"
   ]
  },
  {
   "cell_type": "code",
   "execution_count": 46,
   "id": "7448137f-c02a-49ea-9467-a72cfb047bd5",
   "metadata": {},
   "outputs": [],
   "source": [
    "Singleacc = Single[Single[\"Accident_Severity\"] == \"Fatal\"]\n",
    "Dualacc = Dual[Dual[\"Accident_Severity\"] == \"Fatal\"]"
   ]
  },
  {
   "cell_type": "code",
   "execution_count": 47,
   "id": "5d8393be-a9f6-4c26-bcf7-72a1547a73cf",
   "metadata": {},
   "outputs": [
    {
     "data": {
      "text/plain": [
       "np.int64(6560)"
      ]
     },
     "execution_count": 47,
     "metadata": {},
     "output_type": "execute_result"
    }
   ],
   "source": [
    "Singleacc.value_counts().sum()"
   ]
  },
  {
   "cell_type": "code",
   "execution_count": 48,
   "id": "4a5bd256-f966-49b9-8db1-3b32ace30b3e",
   "metadata": {},
   "outputs": [
    {
     "data": {
      "text/plain": [
       "np.int64(1815)"
      ]
     },
     "execution_count": 48,
     "metadata": {},
     "output_type": "execute_result"
    }
   ],
   "source": [
    "Dualacc.value_counts().sum()"
   ]
  },
  {
   "cell_type": "markdown",
   "id": "851537e6-2a0b-4a05-99fe-3c2186f7731c",
   "metadata": {},
   "source": [
    "<h4>Insights:</h4>\n",
    "<h4>Yes, the answer above shows that Single Carriageway are more prone to fatall accidents, than Dual Carriageway.</h4>\n",
    "<hr>"
   ]
  },
  {
   "cell_type": "markdown",
   "id": "4d6d0e43-f047-4925-be39-a4b18531ab8f",
   "metadata": {},
   "source": [
    "<h2>14. In urban areas, are night-time accidents more serious than daytime accidents?</h2>"
   ]
  },
  {
   "cell_type": "code",
   "execution_count": 49,
   "id": "addd3b21-715c-4c70-9995-778cc4fbeb50",
   "metadata": {},
   "outputs": [],
   "source": [
    "urban = UKRoad[UKRoad[\"Urban_or_Rural_Area\"] == \"Urban\"]"
   ]
  },
  {
   "cell_type": "code",
   "execution_count": 50,
   "id": "4e2fae90-cdc3-4c84-9ebf-15996d32fe86",
   "metadata": {},
   "outputs": [],
   "source": [
    "night = urban[(urban[\"Light_Conditions\"] == \"Darkness - lights lit\")|\n",
    "               (urban[\"Light_Conditions\"] == \"Darkness - no lighting\")|\n",
    "               (urban[\"Light_Conditions\"] == \"Darkness - lighting unknown\")|\n",
    "               (urban[\"Light_Conditions\"] == \"Darkness - lights unlit\")]\n",
    "day = urban[(UKRoad[\"Light_Conditions\"] == \"Daylight\")]"
   ]
  },
  {
   "cell_type": "code",
   "execution_count": 51,
   "id": "235d7012-cf43-47ea-8bfa-72aca310679d",
   "metadata": {},
   "outputs": [
    {
     "data": {
      "text/plain": [
       "np.int64(16276)"
      ]
     },
     "execution_count": 51,
     "metadata": {},
     "output_type": "execute_result"
    }
   ],
   "source": [
    "night[night[\"Accident_Severity\"] == \"Serious\"].value_counts().sum()"
   ]
  },
  {
   "cell_type": "code",
   "execution_count": 52,
   "id": "5601ba5f-4d29-45c7-a7a5-9c4723cc5923",
   "metadata": {},
   "outputs": [
    {
     "data": {
      "text/plain": [
       "np.int64(34628)"
      ]
     },
     "execution_count": 52,
     "metadata": {},
     "output_type": "execute_result"
    }
   ],
   "source": [
    "day[day[\"Accident_Severity\"] == \"Serious\"].value_counts().sum()"
   ]
  },
  {
   "cell_type": "markdown",
   "id": "007afc96-d706-42c6-87e3-189781b9520e",
   "metadata": {},
   "source": [
    "<h4>Insights:</h4>\n",
    "<h4>No, Night time accidents in Urban areas have less serious accidents than daytime accidents. This indicates that there are drivers in Night-time to be cautious not contributing to the rest of the Serious Accidents</h4>\n",
    "<hr>"
   ]
  },
  {
   "cell_type": "markdown",
   "id": "b85a65f6-f140-4b05-93ee-fa2eff1c4cd1",
   "metadata": {},
   "source": [
    "<h2>15. Do foggy conditions lead to more multi-vehicle casualties compared to clear weather?</h2>"
   ]
  },
  {
   "cell_type": "code",
   "execution_count": 53,
   "id": "da4021bf-34ca-49b0-8897-1ee7c6fc6deb",
   "metadata": {},
   "outputs": [],
   "source": [
    "foggymulti = UKRoad[(UKRoad[\"Weather_Conditions\"] == \"Fog or mist\") & \n",
    "                    (UKRoad[\"Number_of_Vehicles\"] > 1)] \n",
    "clearmulti = UKRoad[(UKRoad[\"Weather_Conditions\"] == \"Fine no high winds\") & \n",
    "                    (UKRoad[\"Number_of_Vehicles\"] > 1)]"
   ]
  },
  {
   "cell_type": "code",
   "execution_count": 54,
   "id": "b6cbf7ad-e397-4461-8d95-86b1b6a5af23",
   "metadata": {},
   "outputs": [
    {
     "data": {
      "text/plain": [
       "np.int64(3365)"
      ]
     },
     "execution_count": 54,
     "metadata": {},
     "output_type": "execute_result"
    }
   ],
   "source": [
    "foggymulti[\"Number_of_Casualties\"].sum()"
   ]
  },
  {
   "cell_type": "code",
   "execution_count": 55,
   "id": "5fa058b1-11d1-44c7-aa0b-90890b735148",
   "metadata": {},
   "outputs": [
    {
     "data": {
      "text/plain": [
       "np.int64(535686)"
      ]
     },
     "execution_count": 55,
     "metadata": {},
     "output_type": "execute_result"
    }
   ],
   "source": [
    "clearmulti[\"Number_of_Casualties\"].sum()"
   ]
  },
  {
   "cell_type": "markdown",
   "id": "c5e022e8-b2ed-413e-8b59-ab1936fb37eb",
   "metadata": {},
   "source": [
    "<h4>Insights:</h4>\n",
    "<h4>No, foggy conditions have fewer casualties than clear weather. Because it indicates that driver that are in the foggy conditions are more careful for their safety than the drivers in clear weather who possibly risk danger.</h4>\n",
    "<hr>"
   ]
  },
  {
   "cell_type": "markdown",
   "id": "3268abb6-7006-4adc-b18f-6f7dd7c3206e",
   "metadata": {},
   "source": [
    "<h2>Correlational Insight</h2>\n",
    "<h2>16. Does the type of road (single carriageway, dual carriageway, roundabout, etc.) correlate with the number of casualties?</h2>"
   ]
  },
  {
   "cell_type": "code",
   "execution_count": 56,
   "id": "276c47a0-78b7-4dca-9c8b-ee713c8e0279",
   "metadata": {},
   "outputs": [
    {
     "data": {
      "text/plain": [
       "F_onewayResult(statistic=np.float64(819.3651972546959), pvalue=np.float64(0.0))"
      ]
     },
     "execution_count": 56,
     "metadata": {},
     "output_type": "execute_result"
    }
   ],
   "source": [
    "f_oneway(UKRoad[UKRoad[\"Road_Type\"] == \"Single carriageway\"][\"Number_of_Casualties\"],\n",
    "         UKRoad[UKRoad[\"Road_Type\"] == \"Dual carriageway\"][\"Number_of_Casualties\"],\n",
    "         UKRoad[UKRoad[\"Road_Type\"] == \"Roundabout\"][\"Number_of_Casualties\"],\n",
    "         UKRoad[UKRoad[\"Road_Type\"] == \"One way street\"][\"Number_of_Casualties\"],\n",
    "         UKRoad[UKRoad[\"Road_Type\"] == \"Slip road\"][\"Number_of_Casualties\"])"
   ]
  },
  {
   "cell_type": "markdown",
   "id": "830090e3-8fec-4ebd-9b4d-18ac50b47d66",
   "metadata": {},
   "source": [
    "<h4>Insights:</h4>\n",
    "<h4>It appears that there are no correlation between the type of roads with the number of casualties. Since, the PValue of the two variables results is 0.0.</h4>\n",
    "<hr>"
   ]
  },
  {
   "cell_type": "markdown",
   "id": "fb129429-b09d-4ba8-bac4-aef562263c4d",
   "metadata": {},
   "source": [
    "<h2>17. Do weather conditions correlate with the number of vehicles involved in accidents?</h2>"
   ]
  },
  {
   "cell_type": "code",
   "execution_count": 57,
   "id": "5bc72f8a-9ded-4a6d-bffb-f11efbab93a3",
   "metadata": {},
   "outputs": [
    {
     "data": {
      "text/plain": [
       "F_onewayResult(statistic=np.float64(43.91229979962393), pvalue=np.float64(1.656209490583519e-62))"
      ]
     },
     "execution_count": 57,
     "metadata": {},
     "output_type": "execute_result"
    }
   ],
   "source": [
    "f_oneway(UKRoad[UKRoad[\"Weather_Conditions\"] == \"Fine no high winds\"][\"Number_of_Vehicles\"],\n",
    "         UKRoad[UKRoad[\"Weather_Conditions\"] == \"Raining no high winds\"][\"Number_of_Vehicles\"],\n",
    "         UKRoad[UKRoad[\"Weather_Conditions\"] == \"Other\"][\"Number_of_Vehicles\"],\n",
    "         UKRoad[UKRoad[\"Weather_Conditions\"] == \"Raining + high winds\"][\"Number_of_Vehicles\"],\n",
    "         UKRoad[UKRoad[\"Weather_Conditions\"] == \"Fine + high winds\"][\"Number_of_Vehicles\"],\n",
    "         UKRoad[UKRoad[\"Weather_Conditions\"] == \"Snowing no high winds\"][\"Number_of_Vehicles\"],\n",
    "         UKRoad[UKRoad[\"Weather_Conditions\"] == \"Fog or mist\"][\"Number_of_Vehicles\"],\n",
    "         UKRoad[UKRoad[\"Weather_Conditions\"] == \"Snowing + high winds\"][\"Number_of_Vehicles\"])"
   ]
  },
  {
   "cell_type": "markdown",
   "id": "dc582fb8-48fa-43bb-8891-050dd42f0c84",
   "metadata": {},
   "source": [
    "<h4>Insights:</h4>\n",
    "<h4>It Correlates!, the number of vehicles involved in accidents correlates with weather conditions.</h4>\n",
    "<hr>"
   ]
  },
  {
   "cell_type": "markdown",
   "id": "307faaf6-4028-4abc-8b59-5389536ea2ee",
   "metadata": {},
   "source": [
    "<h2>18. Does the number of vehicles involved correlate with accident severity (fatal, serious, slight)?</h2>"
   ]
  },
  {
   "cell_type": "code",
   "execution_count": 58,
   "id": "b50d8f49-ff5d-4551-b931-dc05b4283049",
   "metadata": {},
   "outputs": [
    {
     "data": {
      "text/plain": [
       "F_onewayResult(statistic=np.float64(2383.660199326192), pvalue=np.float64(0.0))"
      ]
     },
     "execution_count": 58,
     "metadata": {},
     "output_type": "execute_result"
    }
   ],
   "source": [
    "f_oneway(UKRoad[UKRoad[\"Accident_Severity\"] == \"Slight\"][\"Number_of_Vehicles\"],\n",
    "         UKRoad[UKRoad[\"Accident_Severity\"] == \"Serious\"][\"Number_of_Vehicles\"],\n",
    "         UKRoad[UKRoad[\"Accident_Severity\"] == \"Fatal\"][\"Number_of_Vehicles\"])"
   ]
  },
  {
   "cell_type": "markdown",
   "id": "a6d6327e-a270-45fc-bfcb-7ca4f9cd8444",
   "metadata": {},
   "source": [
    "<h4>Insights:</h4>\n",
    "<h4>It does not correlate.</h4>\n",
    "<hr>"
   ]
  },
  {
   "cell_type": "markdown",
   "id": "dc42c681-d3b5-49a5-8896-29c886213ead",
   "metadata": {},
   "source": [
    "<h2>19. Is there a correlation between the number of vehicles involved and the number of casualties in an accident?</h2>"
   ]
  },
  {
   "cell_type": "code",
   "execution_count": 59,
   "id": "e538c2ce-df80-4253-97f6-3141f7099eec",
   "metadata": {},
   "outputs": [
    {
     "data": {
      "text/html": [
       "<div>\n",
       "<style scoped>\n",
       "    .dataframe tbody tr th:only-of-type {\n",
       "        vertical-align: middle;\n",
       "    }\n",
       "\n",
       "    .dataframe tbody tr th {\n",
       "        vertical-align: top;\n",
       "    }\n",
       "\n",
       "    .dataframe thead th {\n",
       "        text-align: right;\n",
       "    }\n",
       "</style>\n",
       "<table border=\"1\" class=\"dataframe\">\n",
       "  <thead>\n",
       "    <tr style=\"text-align: right;\">\n",
       "      <th></th>\n",
       "      <th>Number_of_Casualties</th>\n",
       "      <th>Number_of_Vehicles</th>\n",
       "    </tr>\n",
       "  </thead>\n",
       "  <tbody>\n",
       "    <tr>\n",
       "      <th>Number_of_Casualties</th>\n",
       "      <td>1.000000</td>\n",
       "      <td>0.228889</td>\n",
       "    </tr>\n",
       "    <tr>\n",
       "      <th>Number_of_Vehicles</th>\n",
       "      <td>0.228889</td>\n",
       "      <td>1.000000</td>\n",
       "    </tr>\n",
       "  </tbody>\n",
       "</table>\n",
       "</div>"
      ],
      "text/plain": [
       "                      Number_of_Casualties  Number_of_Vehicles\n",
       "Number_of_Casualties              1.000000            0.228889\n",
       "Number_of_Vehicles                0.228889            1.000000"
      ]
     },
     "execution_count": 59,
     "metadata": {},
     "output_type": "execute_result"
    }
   ],
   "source": [
    "UKRoad[[\"Number_of_Casualties\",\"Number_of_Vehicles\"]].corr()"
   ]
  },
  {
   "cell_type": "markdown",
   "id": "8c53188d-e642-430b-bb43-0f88ab3347a6",
   "metadata": {},
   "source": [
    "<h4>Insights:</h4>\n",
    "<h4>There is a weak positive correlation between the number of vehicles and the number of casualties in accidents.</h4>\n",
    "<hr>"
   ]
  },
  {
   "cell_type": "markdown",
   "id": "68aed574-8d7a-4291-bf6a-bf74efe4a6c9",
   "metadata": {},
   "source": [
    "<h2>20. Does the number of casualties correlate with road surface conditions (e.g., icy/wet vs dry)?</h2>"
   ]
  },
  {
   "cell_type": "code",
   "execution_count": 60,
   "id": "463b861d-1b8c-4449-b5e6-841987a0f931",
   "metadata": {},
   "outputs": [
    {
     "data": {
      "text/plain": [
       "F_onewayResult(statistic=np.float64(291.7958634535793), pvalue=np.float64(3.459691867779366e-251))"
      ]
     },
     "execution_count": 60,
     "metadata": {},
     "output_type": "execute_result"
    }
   ],
   "source": [
    "f_oneway(UKRoad[UKRoad[\"Road_Surface_Conditions\"] == \"Dry\"][\"Number_of_Casualties\"],\n",
    "         UKRoad[UKRoad[\"Road_Surface_Conditions\"] == \"Wet or damp\"][\"Number_of_Casualties\"],\n",
    "         UKRoad[UKRoad[\"Road_Surface_Conditions\"] == \"Frost or ice\"][\"Number_of_Casualties\"],\n",
    "         UKRoad[UKRoad[\"Road_Surface_Conditions\"] == \"Snow\"][\"Number_of_Casualties\"],\n",
    "         UKRoad[UKRoad[\"Road_Surface_Conditions\"] == \"Flood over 3cm. deep\"][\"Number_of_Casualties\"])"
   ]
  },
  {
   "cell_type": "markdown",
   "id": "db07afc5-5ea8-4ee6-952e-cba701a1e5b4",
   "metadata": {},
   "source": [
    "<h4>Insights:</h4>\n",
    "<h4>Yes, road surface conditions correlate with the number of casualties.</h4>\n",
    "<hr>"
   ]
  },
  {
   "cell_type": "markdown",
   "id": "a8efe46f-7c7f-48df-9ce7-9b4f5773a89c",
   "metadata": {},
   "source": [
    "<h1>Univariate/Bivariate/Multivariate Analysis</h1>\n",
    "<h2>Date Time Insights</h2>"
   ]
  },
  {
   "cell_type": "code",
   "execution_count": 61,
   "id": "277eb59c-d68a-41d8-9804-a609821e0f8d",
   "metadata": {},
   "outputs": [],
   "source": [
    "import matplotlib.pyplot as plt\n",
    "yearly_severity = UKRoad.groupby(['Accident_Severity','Year']).size().unstack(level=0)"
   ]
  },
  {
   "cell_type": "code",
   "execution_count": 62,
   "id": "fbf975c2-a9f8-4147-88d1-442262e87859",
   "metadata": {},
   "outputs": [
    {
     "data": {
      "text/html": [
       "<div>\n",
       "<style scoped>\n",
       "    .dataframe tbody tr th:only-of-type {\n",
       "        vertical-align: middle;\n",
       "    }\n",
       "\n",
       "    .dataframe tbody tr th {\n",
       "        vertical-align: top;\n",
       "    }\n",
       "\n",
       "    .dataframe thead th {\n",
       "        text-align: right;\n",
       "    }\n",
       "</style>\n",
       "<table border=\"1\" class=\"dataframe\">\n",
       "  <thead>\n",
       "    <tr style=\"text-align: right;\">\n",
       "      <th>Accident_Severity</th>\n",
       "      <th>Fatal</th>\n",
       "      <th>Serious</th>\n",
       "      <th>Slight</th>\n",
       "    </tr>\n",
       "    <tr>\n",
       "      <th>Year</th>\n",
       "      <th></th>\n",
       "      <th></th>\n",
       "      <th></th>\n",
       "    </tr>\n",
       "  </thead>\n",
       "  <tbody>\n",
       "    <tr>\n",
       "      <th>2019</th>\n",
       "      <td>2714</td>\n",
       "      <td>24322</td>\n",
       "      <td>155079</td>\n",
       "    </tr>\n",
       "    <tr>\n",
       "      <th>2020</th>\n",
       "      <td>2341</td>\n",
       "      <td>23121</td>\n",
       "      <td>145129</td>\n",
       "    </tr>\n",
       "    <tr>\n",
       "      <th>2021</th>\n",
       "      <td>2057</td>\n",
       "      <td>21997</td>\n",
       "      <td>139500</td>\n",
       "    </tr>\n",
       "    <tr>\n",
       "      <th>2022</th>\n",
       "      <td>1549</td>\n",
       "      <td>18777</td>\n",
       "      <td>124093</td>\n",
       "    </tr>\n",
       "  </tbody>\n",
       "</table>\n",
       "</div>"
      ],
      "text/plain": [
       "Accident_Severity  Fatal  Serious  Slight\n",
       "Year                                     \n",
       "2019                2714    24322  155079\n",
       "2020                2341    23121  145129\n",
       "2021                2057    21997  139500\n",
       "2022                1549    18777  124093"
      ]
     },
     "execution_count": 62,
     "metadata": {},
     "output_type": "execute_result"
    }
   ],
   "source": [
    "yearly_severity"
   ]
  },
  {
   "cell_type": "markdown",
   "id": "2cd2783f-9811-4314-b611-2021fc2ff9a4",
   "metadata": {},
   "source": [
    "<h4>21. Insights:</h4>\n",
    "<h4>According to the data above, all types of Severity (Fatal, Serious and Slight) are decreasing from 2019 to 2022. Fatal accidents dropped from <b>2714</b> to <b>1549</b>, which is about 43% fatality reduction.</b></h4>\n",
    "<hr>\n",
    "<h4>22. Insights:</h4>\n",
    "<h4>Following the Insights in number 21. The reduction of accident in 2020 and 2021 are mostly due to the Impact of Covid, it's possible that the reduced travel, stric rules about going outside contributed the drop of accidents. </h4>\n",
    "<hr>\n",
    "<h4>23. Insights:</h4>\n",
    "<h4>Even the restrictions are lifted in late 2021 to 2022, the decline still persisted. This indicates that the effect of the strict rules are still applied eventhough the lockdown are done.</h4>\n",
    "<hr>"
   ]
  },
  {
   "cell_type": "markdown",
   "id": "d7a2f64c-d3a2-46b9-92ce-51e8da760bf3",
   "metadata": {},
   "source": [
    "<h2>24. Which months record the highest number of accidents?</h2>"
   ]
  },
  {
   "cell_type": "code",
   "execution_count": 63,
   "id": "011126c4-de6b-495e-9cc7-0e0f564dc153",
   "metadata": {},
   "outputs": [],
   "source": [
    "month_counts = UKRoad[\"Month\"].value_counts().sort_index()"
   ]
  },
  {
   "cell_type": "code",
   "execution_count": 64,
   "id": "04a1381f-623c-4cb5-a1a7-13a7b36b4f19",
   "metadata": {},
   "outputs": [
    {
     "data": {
      "image/png": "[encoded data removed]",
      "text/plain": [
       "<Figure size 1000x800 with 1 Axes>"
      ]
     },
     "metadata": {},
     "output_type": "display_data"
    }
   ],
   "source": [
    "labels = [\"January\", \"February\", \"March\", \"April\", \"May\", \"June\", \n",
    "          \"July\", \"August\", \"September\", \"October\", \"November\", \"December\"]\n",
    "month_counts.plot(kind='bar', figsize=(10,8))\n",
    "plt.xlabel('Months')\n",
    "plt.ylabel('Number of accidents')\n",
    "plt.title('Accidents per month')\n",
    "plt.xticks(ticks=range(12), labels=labels, rotation=60)\n",
    "plt.show()"
   ]
  },
  {
   "cell_type": "markdown",
   "id": "a45de442-4f60-4f44-9619-7732d4255a36",
   "metadata": {},
   "source": [
    "<h4>Insights:</h4>\n",
    "<h4>With the data provided by our bargraph, it shows that november is the month where most accidents occurs, while the lowest is the month of february with the lowest. So in conclusion, November has about 22.1% more casualties than February.</h4>\n",
    "<hr>"
   ]
  },
  {
   "cell_type": "markdown",
   "id": "31a2f48d-a173-4828-ae09-be3e7b34facb",
   "metadata": {},
   "source": [
    "<h2>25. Which months record the highest number of fatal accidents?</h2>"
   ]
  },
  {
   "cell_type": "code",
   "execution_count": 65,
   "id": "c462251b-313d-48b5-9aca-094cb5f2c3fb",
   "metadata": {},
   "outputs": [],
   "source": [
    "fatalpermonth = UKRoad[UKRoad[\"Accident_Severity\"] == \"Fatal\"][\"Month\"].value_counts().sort_index()"
   ]
  },
  {
   "cell_type": "code",
   "execution_count": 66,
   "id": "f3b3ded5-4d54-461d-a16e-de1668c60133",
   "metadata": {},
   "outputs": [],
   "source": [
    "#Bargraph\n",
    "# labels = [\"January\", \"February\", \"March\", \"April\", \"May\", \"June\", \n",
    "#           \"July\", \"August\", \"September\", \"October\", \"November\", \"December\"]\n",
    "# fatalpermonth.plot(kind='bar', figsize=(10,8))\n",
    "# plt.xlabel('Months')\n",
    "# plt.ylabel('Number of accidents')\n",
    "# plt.title('Accidents per month')\n",
    "# plt.xticks(ticks=range(12), labels=labels, rotation=60)\n",
    "# plt.show()"
   ]
  },
  {
   "cell_type": "code",
   "execution_count": 67,
   "id": "e55626b4-7842-4432-b8b4-6119b9374b9f",
   "metadata": {},
   "outputs": [
    {
     "data": {
      "image/png": "[encoded data removed]",
      "text/plain": [
       "<Figure size 1000x800 with 1 Axes>"
      ]
     },
     "metadata": {},
     "output_type": "display_data"
    }
   ],
   "source": [
    "labels = [\"January\", \"February\", \"March\", \"April\", \"May\", \"June\", \n",
    "          \"July\", \"August\", \"September\", \"October\", \"November\", \"December\"]\n",
    "fatalpermonth.plot(kind='line', figsize=(10,8), marker='o')\n",
    "plt.xlabel('Months')\n",
    "plt.ylabel('Number of accidents')\n",
    "plt.title('Fatalities per month')\n",
    "plt.xticks(ticks=range(1, 13), labels=labels, rotation=60)\n",
    "plt.show()"
   ]
  },
  {
   "cell_type": "markdown",
   "id": "12bdff88-7054-4f0b-9b5b-20534019be3e",
   "metadata": {},
   "source": [
    "<h4>Insights:</h4>\n",
    "<h4>Comparing the previous data in Number 24. This data shows the fatalities of the accidents. It shows here that August have the highest fatal accidents, followed by Octobeer. In the previous data we have November having the highest accidents than other months, but here it's show that november is 5th highest in terms of fatal accidents. Moreover, the month of February in the previous data having the lowest accidents is actually having the lowest fatal accidents in this data.</h4>\n",
    "<hr>"
   ]
  },
  {
   "cell_type": "markdown",
   "id": "96d5205d-52bd-489b-ba8b-23e34c09368f",
   "metadata": {},
   "source": [
    "<h1>GEO SPATIAL</h1>\n",
    "<h2>Using FOLIUM and LEAFLET JS</h2>"
   ]
  },
  {
   "cell_type": "code",
   "execution_count": 73,
   "id": "30a5ea91-2a92-4b3b-8020-a0c1b7553d27",
   "metadata": {},
   "outputs": [],
   "source": [
    "import folium\n",
    "from folium.plugins import HeatMap"
   ]
  },
  {
   "cell_type": "code",
   "execution_count": 97,
   "id": "3b6f7058-735a-492c-b44b-aca04df63397",
   "metadata": {},
   "outputs": [],
   "source": [
    "# UKRoad[\"District Area\"].unique()"
   ]
  },
  {
   "cell_type": "code",
   "execution_count": 96,
   "id": "d05a9e58-afb4-4150-bcc8-fd4ea5a139b4",
   "metadata": {},
   "outputs": [
    {
     "data": {
      "text/plain": [
       "np.int64(2799)"
      ]
     },
     "execution_count": 96,
     "metadata": {},
     "output_type": "execute_result"
    }
   ],
   "source": [
    "#Kensington and Chelsea\n",
    "Ken_Chel_DF = UKRoad[UKRoad[\"District Area\"] == 'Kensington and Chelsea']\n",
    "Ken_Chel_DF.value_counts().sum()"
   ]
  },
  {
   "cell_type": "code",
   "execution_count": 76,
   "id": "b5ad45ce-1d2c-4f42-ab9e-1001c678d294",
   "metadata": {},
   "outputs": [
    {
     "data": {
      "text/html": [
       "<div style=\"width:100%;\"><div style=\"position:relative;width:100%;height:0;padding-bottom:60%;\"><span style=\"color:#565656\">Make this Notebook Trusted to load map: File -> Trust Notebook</span><iframe srcdoc=\"&lt;!DOCTYPE html&gt;\n",
       "&lt;html&gt;\n",
       "&lt;head&gt;\n",
       "    \n",
       "    &lt;meta http-equiv=&quot;content-type&quot; content=&quot;text/html; charset=UTF-8&quot; /&gt;\n",
       "    &lt;script src=&quot;https://cdn.jsdelivr.net/npm/leaflet@1.9.3/dist/leaflet.js&quot;&gt;&lt;/script&gt;\n",
       "    &lt;script src=&quot;https://code.jquery.com/jquery-3.7.1.min.js&quot;&gt;&lt;/script&gt;\n",
       "    &lt;script src=&quot;https://cdn.jsdelivr.net/npm/bootstrap@5.2.2/dist/js/bootstrap.bundle.min.js&quot;&gt;&lt;/script&gt;\n",
       "    &lt;script src=&quot;https://cdnjs.cloudflare.com/ajax/libs/Leaflet.awesome-markers/2.0.2/leaflet.awesome-markers.js&quot;&gt;&lt;/script&gt;\n",
       "    &lt;link rel=&quot;stylesheet&quot; href=&quot;https://cdn.jsdelivr.net/npm/leaflet@1.9.3/dist/leaflet.css&quot;/&gt;\n",
       "    &lt;link rel=&quot;stylesheet&quot; href=&quot;https://cdn.jsdelivr.net/npm/bootstrap@5.2.2/dist/css/bootstrap.min.css&quot;/&gt;\n",
       "    &lt;link rel=&quot;stylesheet&quot; href=&quot;https://netdna.bootstrapcdn.com/bootstrap/3.0.0/css/bootstrap-glyphicons.css&quot;/&gt;\n",
       "    &lt;link rel=&quot;stylesheet&quot; href=&quot;https://cdn.jsdelivr.net/npm/@fortawesome/fontawesome-free@6.2.0/css/all.min.css&quot;/&gt;\n",
       "    &lt;link rel=&quot;stylesheet&quot; href=&quot;https://cdnjs.cloudflare.com/ajax/libs/Leaflet.awesome-markers/2.0.2/leaflet.awesome-markers.css&quot;/&gt;\n",
       "    &lt;link rel=&quot;stylesheet&quot; href=&quot;https://cdn.jsdelivr.net/gh/python-visualization/folium/folium/templates/leaflet.awesome.rotate.min.css&quot;/&gt;\n",
       "    \n",
       "            &lt;meta name=&quot;viewport&quot; content=&quot;width=device-width,\n",
       "                initial-scale=1.0, maximum-scale=1.0, user-scalable=no&quot; /&gt;\n",
       "            &lt;style&gt;\n",
       "                #map_9d158af3f49b92f671cdec748a90dee6 {\n",
       "                    position: relative;\n",
       "                    width: 100.0%;\n",
       "                    height: 100.0%;\n",
       "                    left: 0.0%;\n",
       "                    top: 0.0%;\n",
       "                }\n",
       "                .leaflet-container { font-size: 1rem; }\n",
       "            &lt;/style&gt;\n",
       "\n",
       "            &lt;style&gt;html, body {\n",
       "                width: 100%;\n",
       "                height: 100%;\n",
       "                margin: 0;\n",
       "                padding: 0;\n",
       "            }\n",
       "            &lt;/style&gt;\n",
       "\n",
       "            &lt;style&gt;#map {\n",
       "                position:absolute;\n",
       "                top:0;\n",
       "                bottom:0;\n",
       "                right:0;\n",
       "                left:0;\n",
       "                }\n",
       "            &lt;/style&gt;\n",
       "\n",
       "            &lt;script&gt;\n",
       "                L_NO_TOUCH = false;\n",
       "                L_DISABLE_3D = false;\n",
       "            &lt;/script&gt;\n",
       "\n",
       "        \n",
       "    &lt;script src=&quot;https://cdn.jsdelivr.net/gh/python-visualization/folium@main/folium/templates/leaflet_heat.min.js&quot;&gt;&lt;/script&gt;\n",
       "&lt;/head&gt;\n",
       "&lt;body&gt;\n",
       "    \n",
       "    \n",
       "            &lt;div class=&quot;folium-map&quot; id=&quot;map_9d158af3f49b92f671cdec748a90dee6&quot; &gt;&lt;/div&gt;\n",
       "        \n",
       "&lt;/body&gt;\n",
       "&lt;script&gt;\n",
       "    \n",
       "    \n",
       "            var map_9d158af3f49b92f671cdec748a90dee6 = L.map(\n",
       "                &quot;map_9d158af3f49b92f671cdec748a90dee6&quot;,\n",
       "                {\n",
       "                    center: [0.0, 0.0],\n",
       "                    crs: L.CRS.EPSG3857,\n",
       "                    ...{\n",
       "  &quot;zoom&quot;: 1,\n",
       "  &quot;zoomControl&quot;: true,\n",
       "  &quot;preferCanvas&quot;: false,\n",
       "  &quot;locations&quot;: [\n",
       "51.49773659914255,\n",
       "-0.1872368245802072,\n",
       "],\n",
       "}\n",
       "\n",
       "                }\n",
       "            );\n",
       "\n",
       "            \n",
       "\n",
       "        \n",
       "    \n",
       "            var tile_layer_fa5ea6e23e9bf326bfbb1d22b8ec78ca = L.tileLayer(\n",
       "                &quot;https://tile.openstreetmap.org/{z}/{x}/{y}.png&quot;,\n",
       "                {\n",
       "  &quot;minZoom&quot;: 0,\n",
       "  &quot;maxZoom&quot;: 19,\n",
       "  &quot;maxNativeZoom&quot;: 19,\n",
       "  &quot;noWrap&quot;: false,\n",
       "  &quot;attribution&quot;: &quot;\\u0026copy; \\u003ca href=\\&quot;https://www.openstreetmap.org/copyright\\&quot;\\u003eOpenStreetMap\\u003c/a\\u003e contributors&quot;,\n",
       "  &quot;subdomains&quot;: &quot;abc&quot;,\n",
       "  &quot;detectRetina&quot;: false,\n",
       "  &quot;tms&quot;: false,\n",
       "  &quot;opacity&quot;: 1,\n",
       "}\n",
       "\n",
       "            );\n",
       "        \n",
       "    \n",
       "            tile_layer_fa5ea6e23e9bf326bfbb1d22b8ec78ca.addTo(map_9d158af3f49b92f671cdec748a90dee6);\n",
       "        \n",
       "    \n",
       "            var heat_map_7794a352f77a64074d8ac908c6abad5d = L.heatLayer(\n",
       "                [[51.506187, -0.209082], [51.495029, -0.173647], [51.517715, -0.210215], [51.495478, -0.202731], [51.488576, -0.192487], [51.49775, -0.192556], [51.501405, -0.161577], [51.48226, -0.179486], [51.493319, -0.173572], [51.484539, -0.175651], [51.491944, -0.171898], [51.499127, -0.159652], [51.500823, -0.193587], [51.508999, -0.210701], [51.485125, -0.167129], [51.488576, -0.192487], [51.49349, -0.19042], [51.508445, -0.215622], [51.49759, -0.159138], [51.482988, -0.174272], [51.505996, -0.214277], [51.486795, -0.170375], [51.499983, -0.179933], [51.485674, -0.150543], [51.498157, -0.201473], [51.493311, -0.190427], [51.49806, -0.166178], [51.490526, -0.196443], [51.513352, -0.207216], [51.514951, -0.217674], [51.514489, -0.199244], [51.480325, -0.1823], [51.494902, -0.182872], [51.514399, -0.199248], [51.498244, -0.201325], [51.524885, -0.214547], [51.497451, -0.167499], [51.492577, -0.183685], [51.508535, -0.215619], [51.493766, -0.17341], [51.48943, -0.172142], [51.493753, -0.178308], [51.481746, -0.17533], [51.49721, -0.157856], [51.485216, -0.149986], [51.485589, -0.150835], [51.488489, -0.192634], [51.485849, -0.17315], [51.481152, -0.183419], [51.492624, -0.157897], [51.49859, -0.165581], [51.482775, -0.177882], [51.491908, -0.192787], [51.497451, -0.167499], [51.510711, -0.216831], [51.500933, -0.19488], [51.497725, -0.202642], [51.48849, -0.181111], [51.491499, -0.172204], [51.528344, -0.217295], [51.480261, -0.178126], [51.489416, -0.19447], [51.4996, -0.207611], [51.494905, -0.183016], [51.492622, -0.157753], [51.503223, -0.191763], [51.497541, -0.167496], [51.514399, -0.199248], [51.511079, -0.205576], [51.50689, -0.208046], [51.487655, -0.167892], [51.506014, -0.209521], [51.480458, -0.185031], [51.493503, -0.173852], [51.484449, -0.175654], [51.491742, -0.164703], [51.490715, -0.19125], [51.498204, -0.192826], [51.486026, -0.161476], [51.510897, -0.205439], [51.501428, -0.191978], [51.494612, -0.18735], [51.493914, -0.177149], [51.522561, -0.221413], [51.518081, -0.210633], [51.490546, -0.186071], [51.482076, -0.173445], [51.482637, -0.186385], [51.48757, -0.168184], [51.496411, -0.164228], [51.500497, -0.195761], [51.495191, -0.18992], [51.5159, -0.209133], [51.480177, -0.178561], [51.50768, -0.195045], [51.487141, -0.169497], [51.496464, -0.179209], [51.485757, -0.150108], [51.48342, -0.167342], [51.518935, -0.225446], [51.49566, -0.173766], [51.484962, -0.185572], [51.49557, -0.17377], [51.51417, -0.20776], [51.485323, -0.174035], [51.496174, -0.207025], [51.508537, -0.215763], [51.488988, -0.190022], [51.509605, -0.197419], [51.487745, -0.167889], [51.493252, -0.169252], [51.5159, -0.209133], [51.517252, -0.203459], [51.483422, -0.167486], [51.494624, -0.193976], [51.519685, -0.215615], [51.484044, -0.184312], [51.485364, -0.188293], [51.517171, -0.209948], [51.491964, -0.161669], [51.479733, -0.178867], [51.498154, -0.166463], [51.49747, -0.197754], [51.499443, -0.197388], [51.494469, -0.195567], [51.488439, -0.166276], [51.5159, -0.209133], [51.507806, -0.203254], [51.508472, -0.19977], [51.494508, -0.174821], [51.493429, -0.169101], [51.48295, -0.177587], [51.502197, -0.189354], [51.491149, -0.172794], [51.48555, -0.177051], [51.488394, -0.19235], [51.523076, -0.219807], [51.482079, -0.173589], [51.488093, -0.167154], [51.501198, -0.159857], [51.495361, -0.177668], [51.496171, -0.206881], [51.489416, -0.19447], [51.498838, -0.198997], [51.493269, -0.181929], [51.485757, -0.150108], [51.502405, -0.191219], [51.51502, -0.204556], [51.490172, -0.190983], [51.48803, -0.174647], [51.483586, -0.166471], [51.480806, -0.184297], [51.496507, -0.158893], [51.511923, -0.201939], [51.483334, -0.167633], [51.495557, -0.16138], [51.483247, -0.167781], [51.490753, -0.182029], [51.513895, -0.201573], [51.500731, -0.193447], [51.5119, -0.19459], [51.495042, -0.180274], [51.518298, -0.207166], [51.522177, -0.208022], [51.493411, -0.173712], [51.491484, -0.188627], [51.496489, -0.169267], [51.509374, -0.194114], [51.502577, -0.214123], [51.498513, -0.183737], [51.498926, -0.198849], [51.482079, -0.173589], [51.504331, -0.193593], [51.492471, -0.200112], [51.508564, -0.19991], [51.50003, -0.159904], [51.482689, -0.178173], [51.516717, -0.209678], [51.498763, -0.165142], [51.492622, -0.157753], [51.524885, -0.214547], [51.480436, -0.177831], [51.491172, -0.191664], [51.494635, -0.194696], [51.508763, -0.195291], [51.481575, -0.181674], [51.494813, -0.182876], [51.496577, -0.169119], [51.51499, -0.208448], [51.515247, -0.213483], [51.509886, -0.198129], [51.506783, -0.206897], [51.508882, -0.197159], [51.495137, -0.192227], [51.482076, -0.173445], [51.492597, -0.19665], [51.508622, -0.203655], [51.500481, -0.16003], [51.501277, -0.193858], [51.508972, -0.197156], [51.491632, -0.192366], [51.509377, -0.194258], [51.49249, -0.166546], [51.487745, -0.167889], [51.496174, -0.207025], [51.494683, -0.191957], [51.499127, -0.159652], [51.498924, -0.198705], [51.485323, -0.162512], [51.490753, -0.182029], [51.499048, -0.160375], [51.488749, -0.192048], [51.482987, -0.185795], [51.485757, -0.150108], [51.4896, -0.194751], [51.525887, -0.215373], [51.497125, -0.204539], [51.501023, -0.160152], [51.5159, -0.209133], [51.482577, -0.170976], [51.492186, -0.187446], [51.492388, -0.183117], [51.503679, -0.215664], [51.47855, -0.183811], [51.480878, -0.183142], [51.505595, -0.211555], [51.48097, -0.183282], [51.488264, -0.166571], [51.487745, -0.167889], [51.514543, -0.214519], [51.519477, -0.20784], [51.509374, -0.194114], [51.492183, -0.187302], [51.493759, -0.17874], [51.481593, -0.182826], [51.494683, -0.168763], [51.491632, -0.192366], [51.499127, -0.159652], [51.493759, -0.17874], [51.487538, -0.195121], [51.519477, -0.20784], [51.520003, -0.224684], [51.499353, -0.197391], [51.508445, -0.215622], [51.528065, -0.216729], [51.481746, -0.17533], [51.494339, -0.15826], [51.51417, -0.20776], [51.484042, -0.161124], [51.490548, -0.186215], [51.499724, -0.163374], [51.497381, -0.203664], [51.490131, -0.176724], [51.490065, -0.195741], [51.499516, -0.208047], [51.515917, -0.216195], [51.480177, -0.178561], [51.525792, -0.215088], [51.483644, -0.164452], [51.484282, -0.159242], [51.507115, -0.199247], [51.494177, -0.182469], [51.486624, -0.170958], [51.49566, -0.173766], [51.508706, -0.197455], [51.504851, -0.198183], [51.499727, -0.163518], [51.488003, -0.167158], [51.490263, -0.16217], [51.515667, -0.205683], [51.496492, -0.169411], [51.498743, -0.210382], [51.497138, -0.159012], [51.494612, -0.18735], [51.489787, -0.195176], [51.509125, -0.195421], [51.493771, -0.173698], [51.494369, -0.200757], [51.519227, -0.215057], [51.484658, -0.165996], [51.489262, -0.190299], [51.487538, -0.195121], [51.486968, -0.169936], [51.500192, -0.211046], [51.493759, -0.17874], [51.494267, -0.170941], [51.485757, -0.150108], [51.497053, -0.159303], [51.506781, -0.206753], [51.488958, -0.164959], [51.484276, -0.176093], [51.483635, -0.163876], [51.493285, -0.194606], [51.517336, -0.214843], [51.51764, -0.205318], [51.507539, -0.209317], [51.52198, -0.212787], [51.497451, -0.167499], [51.49766, -0.19256], [51.494688, -0.192245], [51.496235, -0.170285], [51.50863, -0.198322], [51.489945, -0.170537], [51.526101, -0.211761], [51.493681, -0.179464], [51.496515, -0.205859], [51.488769, -0.193344], [51.48567, -0.150255], [51.497073, -0.183651], [51.500012, -0.158752], [51.485266, -0.181959], [51.510715, -0.205302], [51.49456, -0.189801], [51.49981, -0.163082], [51.491173, -0.18014], [51.490791, -0.161428], [51.483422, -0.167486], [51.508564, -0.19991], [51.490681, -0.183184], [51.485178, -0.187868], [51.499024, -0.164555], [51.492137, -0.178517], [51.49725, -0.206839], [51.522162, -0.212924], [51.499355, -0.197535], [51.50888, -0.197015], [51.49566, -0.173766], [51.484274, -0.17595], [51.496381, -0.173881], [51.495361, -0.177668], [51.503133, -0.191767], [51.497628, -0.167348], [51.49747, -0.197754], [51.499504, -0.183842], [51.526244, -0.215215], [51.491519, -0.179262], [51.489622, -0.155713], [51.482076, -0.173445], [51.496752, -0.168824], [51.495811, -0.171887], [51.496665, -0.168972], [51.497309, -0.20482], [51.483163, -0.1855], [51.490434, -0.167349], [51.482076, -0.173445], [51.506187, -0.209082], [51.50143, -0.192122], [51.505595, -0.211555], [51.489879, -0.195316], [51.499521, -0.208335], [51.482326, -0.172139], [51.509515, -0.197423], [51.50228, -0.188919], [51.519714, -0.211578], [51.526336, -0.215355], [51.492652, -0.200249], [51.497984, -0.201912], [51.489352, -0.190296], [51.495768, -0.192346], [51.499011, -0.198558], [51.504927, -0.214895], [51.502134, -0.191086], [51.492773, -0.167399], [51.483035, -0.177295], [51.501571, -0.160706], [51.509515, -0.197423], [51.502224, -0.191082], [51.487491, -0.168907], [51.480806, -0.184297], [51.495478, -0.202731], [51.495117, -0.1735], [51.519986, -0.211712], [51.485505, -0.174172], [51.494756, -0.185039], [51.481487, -0.181822], [51.495804, -0.171455], [51.513856, -0.20489], [51.501516, -0.191831], [51.486276, -0.171693], [51.491661, -0.15952], [51.497288, -0.197617], [51.494713, -0.199735], [51.516991, -0.209955], [51.499026, -0.164699], [51.497242, -0.194593], [51.497968, -0.166038], [51.516325, -0.213441], [51.487743, -0.167745], [51.517252, -0.203459], [51.486792, -0.170231], [51.482637, -0.186385], [51.521811, -0.225334], [51.482547, -0.186388], [51.510993, -0.199958], [51.502069, -0.18691], [51.496855, -0.163921], [51.522177, -0.208022], [51.483357, -0.174834], [51.49226, -0.157624], [51.50821, -0.212029], [51.488425, -0.176936], [51.497051, -0.159159], [51.486376, -0.160886], [51.500641, -0.19345], [51.508641, -0.199042], [51.48106, -0.183279], [51.504331, -0.193593], [51.508882, -0.197159], [51.48266, -0.170541], [51.504223, -0.192444], [51.481574, -0.187435], [51.4971, -0.16809], [51.491824, -0.198985], [51.508806, -0.203936], [51.49262, -0.157609], [51.511923, -0.201939], [51.496411, -0.164228], [51.498675, -0.165289], [51.481486, -0.187583], [51.503223, -0.191763], [51.509607, -0.197563], [51.501113, -0.160148], [51.491593, -0.17825], [51.485757, -0.150108], [51.493177, -0.176026], [51.489129, -0.164376], [51.496518, -0.206003], [51.499009, -0.198414], [51.511833, -0.201943], [51.51417, -0.20776], [51.497188, -0.167942], [51.499024, -0.164555], [51.487637, -0.178264], [51.49454, -0.188505], [51.491732, -0.198845], [51.501947, -0.190661], [51.489302, -0.175461], [51.500994, -0.193004], [51.492953, -0.173154], [51.506936, -0.199254], [51.49566, -0.173766], [51.520266, -0.218331], [51.498926, -0.198849], [51.499024, -0.164555], [51.516658, -0.205789], [51.50203, -0.190226], [51.497524, -0.183777], [51.499199, -0.16426], [51.518806, -0.211037], [51.48901, -0.191461], [51.488093, -0.167154], [51.488425, -0.176936], [51.496019, -0.196947], [51.487618, -0.188636], [51.515838, -0.2051], [51.500567, -0.194462], [51.492931, -0.200814], [51.518806, -0.211037], [51.496038, -0.192336], [51.504874, -0.193859], [51.506358, -0.208499], [51.481746, -0.17533], [51.489787, -0.195176], [51.499239, -0.195811], [51.492371, -0.193633], [51.496381, -0.173881], [51.499289, -0.164256], [51.509129, -0.195709], [51.482549, -0.186532], [51.521829, -0.226487], [51.485757, -0.150108], [51.496174, -0.207025], [51.489389, -0.163789], [51.491632, -0.192366], [51.491279, -0.163857], [51.488673, -0.169724], [51.485496, -0.173596], [51.498269, -0.16228], [51.491861, -0.201432], [51.509044, -0.196], [51.494756, -0.185039], [51.481744, -0.175186], [51.495773, -0.16944], [51.495716, -0.171603], [51.505512, -0.21199], [51.485757, -0.150108], [51.494588, -0.162716], [51.484188, -0.176241], [51.482865, -0.177878], [51.486145, -0.180628], [51.501947, -0.190661], [51.517796, -0.215545], [51.500304, -0.194905], [51.494835, -0.184316], [51.493435, -0.158008], [51.494521, -0.158397], [51.488145, -0.193656], [51.502314, -0.214565], [51.482637, -0.186385], [51.495204, -0.179115], [51.491782, -0.178819], [51.504931, -0.215183], [51.522085, -0.201972], [51.483603, -0.184906], [51.487628, -0.195117], [51.491874, -0.184722], [51.497013, -0.168237], [51.482076, -0.173445], [51.504851, -0.198183], [51.504841, -0.215187], [51.496605, -0.205856], [51.490972, -0.190375], [51.509293, -0.194693], [51.508882, -0.197159], [51.488776, -0.176346], [51.500304, -0.194905], [51.514399, -0.199248], [51.500819, -0.193299], [51.495773, -0.16944], [51.500731, -0.193447], [51.487369, -0.195848], [51.497035, -0.204542], [51.495204, -0.179115], [51.485669, -0.173157], [51.494087, -0.182473], [51.495206, -0.179259], [51.509127, -0.195565], [51.517749, -0.200701], [51.484349, -0.186605], [51.482079, -0.173589], [51.487657, -0.168036], [51.48615, -0.169393], [51.497015, -0.168381], [51.502134, -0.191086], [51.513744, -0.203453], [51.490351, -0.162022], [51.482074, -0.173301], [51.500738, -0.193879], [51.484361, -0.175802], [51.494319, -0.174252], [51.484887, -0.174917], [51.48217, -0.17949], [51.494613, -0.193257], [51.497288, -0.197617], [51.509374, -0.194114], [51.487637, -0.178264], [51.482582, -0.171264], [51.523887, -0.21401], [51.498153, -0.183752], [51.495202, -0.178971], [51.484361, -0.175802], [51.489214, -0.164084], [51.491951, -0.201429], [51.493084, -0.199079], [51.495361, -0.177668], [51.516658, -0.205789], [51.516749, -0.20002], [51.490546, -0.186071], [51.523059, -0.206834], [51.481746, -0.17533], [51.51417, -0.20776], [51.482074, -0.173301], [51.492655, -0.200393], [51.48166, -0.181383], [51.4975, -0.159141], [51.494902, -0.182872], [51.504784, -0.193863], [51.489306, -0.175749], [51.523238, -0.206827], [51.497015, -0.168381], [51.483301, -0.176997], [51.517386, -0.206337], [51.484977, -0.174913], [51.503958, -0.21623], [51.483603, -0.184906], [51.505512, -0.21199], [51.484875, -0.18572], [51.515928, -0.205097], [51.516875, -0.21414], [51.507123, -0.205587], [51.498826, -0.19237], [51.487452, -0.195412], [51.491661, -0.15952], [51.495745, -0.196669], [51.493995, -0.182332], [51.491964, -0.161669], [51.495858, -0.192343], [51.490753, -0.182029], [51.523668, -0.217334], [51.497015, -0.168381], [51.490863, -0.177559], [51.497671, -0.20495], [51.493269, -0.181929], [51.492337, -0.156756], [51.495204, -0.179115], [51.514399, -0.199248], [51.502208, -0.213561], [51.490534, -0.191113], [51.52278, -0.206269], [51.500282, -0.211043], [51.523754, -0.217042], [51.483603, -0.184906], [51.485093, -0.182398], [51.487635, -0.17812], [51.485418, -0.151418], [51.50526, -0.213153], [51.482608, -0.178752], [51.505512, -0.21199], [51.495501, -0.175069], [51.492396, -0.166262], [51.508972, -0.197156], [51.489096, -0.19117], [51.491499, -0.172204], [51.49327, -0.176167], [51.507804, -0.20311], [51.496824, -0.167669], [51.483838, -0.176831], [51.509605, -0.197419], [51.518002, -0.211357], [51.495658, -0.173622], [51.519928, -0.225696], [51.49164, -0.198704], [51.485967, -0.180779], [51.506866, -0.206462], [51.515955, -0.212735], [51.509795, -0.192224], [51.508882, -0.197159], [51.496257, -0.20659], [51.493568, -0.16074], [51.494685, -0.168907], [51.481062, -0.183423], [51.484887, -0.174917], [51.517706, -0.209639], [51.51508, -0.208445], [51.49344, -0.175584], [51.483422, -0.167486], [51.497434, -0.18378], [51.498958, -0.160379], [51.489352, -0.190296], [51.499129, -0.159796], [51.488351, -0.166424], [51.51944, -0.211301], [51.510076, -0.216423], [51.480718, -0.184445], [51.485669, -0.173157], [51.520192, -0.213434], [51.495199, -0.196259], [51.499621, -0.179803], [51.485939, -0.150244], [51.509876, -0.191644], [51.510094, -0.188321], [51.499983, -0.179933], [51.486674, -0.151223], [51.499533, -0.179951], [51.510016, -0.189044], [51.510036, -0.190341], [51.509944, -0.1902], [51.50043, -0.162481], [51.489975, -0.155267], [51.486953, -0.151788], [51.500645, -0.159014], [51.510106, -0.189041], [51.490623, -0.173679], [51.496005, -0.207752], [51.48299, -0.185939], [51.505345, -0.212862], [51.492482, -0.200832], [51.488425, -0.176936], [51.528061, -0.216441], [51.528922, -0.219868], [51.529122, -0.221158], [51.49467, -0.191093], [51.490033, -0.18782], [51.505591, -0.211267], [51.518348, -0.216388], [51.491279, -0.163857], [51.494469, -0.195567], [51.491748, -0.159373], [51.493429, -0.169101], [51.505938, -0.198717], [51.483675, -0.183751], [51.493649, -0.171686], [51.512276, -0.201493], [51.506097, -0.209086], [51.489352, -0.190296], [51.516658, -0.205789], [51.494582, -0.191241], [51.499519, -0.208191], [51.51417, -0.20776], [51.499724, -0.163374], [51.487581, -0.168903], [51.487455, -0.195556], [51.492655, -0.200393], [51.506812, -0.214677], [51.496323, -0.170138], [51.502042, -0.190946], [51.492733, -0.193763], [51.493271, -0.199504], [51.491521, -0.179406], [51.484909, -0.176356], [51.509965, -0.197405], [51.490631, -0.185779], [51.509712, -0.192659], [51.494069, -0.158271], [51.482141, -0.18338], [51.515424, -0.213332], [51.478418, -0.18108], [51.488522, -0.165841], [51.50235, -0.187619], [51.523076, -0.219807], [51.494902, -0.182872], [51.523431, -0.213595], [51.495117, -0.1735], [51.483165, -0.185644], [51.489416, -0.19447], [51.480874, -0.177093], [51.49617, -0.183398], [51.482413, -0.171991], [51.518171, -0.21063], [51.487547, -0.178268], [51.481914, -0.180364], [51.495808, -0.183269], [51.485581, -0.173305], [51.492941, -0.183959], [51.491139, -0.160694], [51.491174, -0.191808], [51.522649, -0.221266], [51.490715, -0.19125], [51.515838, -0.2051], [51.500735, -0.159011], [51.51248, -0.20307], [51.509377, -0.194258], [51.489216, -0.164228], [51.482582, -0.171264], [51.495747, -0.185144], [51.481712, -0.173171], [51.499727, -0.163518], [51.52198, -0.212787], [51.501603, -0.191683], [51.494683, -0.191957], [51.494133, -0.191259], [51.492565, -0.200396], [51.488715, -0.160936], [51.496653, -0.19721], [51.488425, -0.176936], [51.496822, -0.161762], [51.489353, -0.178772], [51.502587, -0.191356], [51.500648, -0.21146], [51.508882, -0.197159], [51.506957, -0.194786], [51.509706, -0.198136], [51.508884, -0.197303], [51.497378, -0.197613], [51.50905, -0.196432], [51.518806, -0.211037], [51.498412, -0.165732], [51.486375, -0.189693], [51.503405, -0.1919], [51.522528, -0.207432], [51.492482, -0.200832], [51.495811, -0.171887], [51.482725, -0.186237], [51.51944, -0.211301], [51.509712, -0.192659], [51.484087, -0.164002], [51.508709, -0.197599], [51.516491, -0.20666], [51.516717, -0.209678], [51.484044, -0.184312], [51.484703, -0.163113], [51.489286, -0.174453], [51.489216, -0.164228], [51.517888, -0.215686], [51.502039, -0.190802], [51.482514, -0.178468], [51.499443, -0.197388], [51.501639, -0.193987], [51.483182, -0.169368], [51.491719, -0.157501], [51.492657, -0.200537], [51.498154, -0.166463], [51.497449, -0.167355], [51.493352, -0.198925], [51.513831, -0.197396], [51.482395, -0.182362], [51.485093, -0.182398], [51.525884, -0.215229], [51.506542, -0.214688], [51.489306, -0.175749], [51.513126, -0.204198], [51.482519, -0.178756], [51.496745, -0.19735], [51.500943, -0.189692], [51.494627, -0.19412], [51.485362, -0.188149], [51.51499, -0.208448], [51.491438, -0.162555], [51.496607, -0.206], [51.496774, -0.18179], [51.482076, -0.173445], [51.485148, -0.17433], [51.489738, -0.163055], [51.492402, -0.172456], [51.495202, -0.178971], [51.492096, -0.158639], [51.490791, -0.196145], [51.501774, -0.1911], [51.480177, -0.178561], [51.484349, -0.186605], [51.48106, -0.183279], [51.490037, -0.170678], [51.497013, -0.168237], [51.514399, -0.199248], [51.497924, -0.198024], [51.496088, -0.207317], [51.520189, -0.225109], [51.48488, -0.162962], [51.495478, -0.202731], [51.49674, -0.197062], [51.518905, -0.21752], [51.482079, -0.173589], [51.506016, -0.209665], [51.493707, -0.158142], [51.516263, -0.209407], [51.520858, -0.209948], [51.496918, -0.179479], [51.522706, -0.213191], [51.488576, -0.192487], [51.507462, -0.204277], [51.497138, -0.159012], [51.498244, -0.201325], [51.522822, -0.220826], [51.481991, -0.173736], [51.523887, -0.21401], [51.498588, -0.165437], [51.488425, -0.176936], [51.492157, -0.156763], [51.497685, -0.165185], [51.482637, -0.186385], [51.509377, -0.194258], [51.518348, -0.216388], [51.492652, -0.200249], [51.508882, -0.197159], [51.493968, -0.174842], [51.492127, -0.201134], [51.494672, -0.191237], [51.482582, -0.171264], [51.482076, -0.173445], [51.493598, -0.168374], [51.516263, -0.209407], [51.500477, -0.194465], [51.485757, -0.150108], [51.482908, -0.169091], [51.523328, -0.218644], [51.51499, -0.208448], [51.507123, -0.205587], [51.486582, -0.151083], [51.482519, -0.178756], [51.493607, -0.16895], [51.48849, -0.181111], [51.479238, -0.181767], [51.502058, -0.18619], [51.490991, -0.197433], [51.493829, -0.177441], [51.482076, -0.173445], [51.500731, -0.193447], [51.501863, -0.185189], [51.487655, -0.167892], [51.497015, -0.168381], [51.496171, -0.206881], [51.492045, -0.178376], [51.489129, -0.164376], [51.496291, -0.19708], [51.493429, -0.169101], [51.502114, -0.18979], [51.504759, -0.198043], [51.486008, -0.177609], [51.492723, -0.181519], [51.509285, -0.194117], [51.518889, -0.204692], [51.491424, -0.155929], [51.495809, -0.171743], [51.497671, -0.18161], [51.494897, -0.200016], [51.522177, -0.208022], [51.519352, -0.217358], [51.483838, -0.176831], [51.497662, -0.192704], [51.494452, -0.188653], [51.506443, -0.208207], [51.514951, -0.217674], [51.482637, -0.186385], [51.490249, -0.196022], [51.490037, -0.170678], [51.500731, -0.193447], [51.481575, -0.181674], [51.494902, -0.182872], [51.511859, -0.197763], [51.494593, -0.168767], [51.488576, -0.192487], [51.491499, -0.172204], [51.497799, -0.166765], [51.515078, -0.208301], [51.498759, -0.19972], [51.490546, -0.186071], [51.50921, -0.195129], [51.501954, -0.191093], [51.490998, -0.163149], [51.488576, -0.192487], [51.517674, -0.201713], [51.485308, -0.150126], [51.488425, -0.176936], [51.48342, -0.167342], [51.492941, -0.183959], [51.48011, -0.180004], [51.484584, -0.149867], [51.483301, -0.176997], [51.48844, -0.189467], [51.51508, -0.208445], [51.480177, -0.178561], [51.497125, -0.204539], [51.486376, -0.160886], [51.481743, -0.180947], [51.499729, -0.2102], [51.509374, -0.194114], [51.48342, -0.167342], [51.526246, -0.215359], [51.509045, -0.213726], [51.481488, -0.176061], [51.508909, -0.210705], [51.490874, -0.160993], [51.495658, -0.173622], [51.49261, -0.185845], [51.496603, -0.205712], [51.498495, -0.159533], [51.486439, -0.176439], [51.481575, -0.181674], [51.488425, -0.176936], [51.521437, -0.21252], [51.48783, -0.167597], [51.489943, -0.187823], [51.496174, -0.207025], [51.498872, -0.183723], [51.493013, -0.194472], [51.487021, -0.179153], [51.495197, -0.196115], [51.496607, -0.206], [51.501516, -0.191831], [51.499614, -0.196805], [51.496579, -0.192458], [51.508146, -0.201944], [51.488481, -0.157488], [51.489442, -0.190292], [51.495117, -0.1735], [51.485757, -0.150108], [51.494615, -0.193401], [51.497541, -0.167496], [51.512933, -0.197432], [51.48889, -0.154879], [51.495208, -0.179403], [51.486026, -0.161476], [51.496238, -0.170429], [51.501308, -0.161149], [51.518171, -0.21063], [51.496605, -0.205856], [51.494682, -0.186051], [51.487021, -0.179153], [51.481575, -0.181674], [51.498497, -0.20607], [51.512346, -0.21792], [51.498924, -0.198705], [51.521826, -0.226343], [51.490517, -0.178437], [51.483253, -0.185496], [51.490263, -0.16217], [51.502157, -0.186762], [51.514951, -0.217674], [51.517796, -0.215545], [51.498244, -0.201325], [51.494902, -0.182872], [51.509733, -0.199864], [51.497605, -0.183197], [51.501954, -0.191093], [51.488921, -0.156894], [51.489535, -0.155861], [51.510441, -0.199115], [51.490182, -0.156987], [51.480806, -0.184297], [51.51502, -0.204556], [51.484809, -0.187307], [51.497193, -0.16823], [51.4829, -0.185942], [51.498501, -0.200451], [51.501476, -0.212725], [51.496665, -0.168972], [51.49204, -0.183851], [51.48936, -0.156156], [51.515838, -0.216919], [51.497808, -0.161578], [51.500299, -0.159893], [51.506187, -0.209082], [51.496588, -0.181365], [51.498244, -0.201325], [51.496603, -0.205712], [51.481829, -0.180656], [51.496409, -0.198948], [51.506415, -0.194663], [51.492277, -0.193349], [51.506323, -0.194523], [51.50012, -0.1599], [51.499958, -0.195783], [51.482516, -0.178612], [51.492096, -0.158639], [51.524032, -0.205787], [51.490898, -0.197293], [51.495478, -0.202731], [51.491173, -0.18014], [51.480175, -0.178417], [51.482987, -0.185795], [51.498536, -0.202755], [51.517796, -0.215545], [51.493013, -0.194472], [51.508522, -0.197174], [51.48299, -0.185939], [51.502161, -0.18705], [51.517125, -0.212833], [51.507208, -0.205295], [51.51417, -0.20776], [51.501385, -0.160281], [51.495271, -0.177671], [51.483422, -0.167486], [51.491762, -0.171761], [51.483301, -0.176997], [51.509423, -0.197282], [51.485617, -0.181369], [51.492274, -0.193205], [51.491865, -0.178384], [51.494835, -0.184316], [51.48849, -0.181111], [51.497824, -0.179875], [51.487945, -0.169177], [51.494995, -0.183013], [51.499037, -0.159656], [51.48892, -0.191465], [51.488958, -0.164959], [51.487162, -0.188222], [51.514168, -0.207616], [51.499355, -0.197535], [51.513129, -0.204342], [51.492657, -0.200537], [51.493431, -0.169245], [51.491782, -0.178819], [51.498924, -0.198705], [51.502163, -0.187194], [51.489442, -0.190292], [51.514951, -0.217674], [51.483253, -0.185496], [51.493937, -0.201927], [51.493831, -0.195016], [51.481137, -0.176651], [51.494902, -0.182872], [51.484284, -0.159385], [51.484361, -0.175802], [51.49815, -0.166175], [51.509374, -0.194114], [51.505849, -0.210536], [51.513245, -0.217885], [51.522886, -0.213184], [51.506526, -0.207772], [51.489352, -0.190296], [51.521421, -0.205601], [51.503223, -0.191763], [51.498223, -0.1594], [51.498237, -0.166027], [51.482079, -0.173589], [51.485362, -0.188149], [51.500192, -0.211046], [51.480085, -0.178421], [51.500731, -0.193447], [51.484887, -0.174917], [51.489306, -0.175749], [51.481309, -0.187734], [51.486795, -0.170375], [51.489352, -0.190296], [51.486882, -0.170228], [51.497136, -0.158868], [51.483721, -0.163585], [51.482079, -0.173589], [51.499127, -0.159652], [51.480874, -0.177093], [51.486622, -0.170814], [51.517796, -0.215545], [51.508564, -0.19991], [51.502056, -0.186046], [51.505345, -0.212862], [51.487724, -0.178116], [51.48106, -0.183279], [51.488489, -0.192634], [51.497968, -0.166038], [51.5172, -0.211821], [51.514854, -0.205427], [51.497219, -0.204823], [51.500392, -0.194757], [51.485756, -0.17301], [51.515911, -0.215763], [51.480177, -0.178561], [51.484044, -0.184312], [51.500284, -0.211187], [51.506957, -0.194786], [51.508555, -0.199334], [51.483163, -0.1855], [51.509289, -0.194405], [51.481516, -0.183693], [51.487399, -0.168767], [51.496411, -0.164228], [51.494835, -0.184316], [51.499019, -0.210804], [51.490614, -0.161579], [51.500497, -0.195761], [51.48149, -0.176205], [51.491499, -0.172204], [51.481746, -0.17533], [51.490611, -0.155673], [51.493899, -0.176142], [51.487399, -0.168767], [51.510877, -0.198234], [51.496321, -0.169994], [51.492876, -0.156734], [51.486622, -0.170814], [51.494598, -0.192249], [51.503223, -0.191763], [51.488576, -0.192487], [51.490988, -0.197289], [51.514951, -0.217674], [51.498722, -0.179839], [51.496898, -0.160894], [51.4985, -0.165584], [51.499872, -0.196074], [51.495804, -0.171455], [51.494743, -0.195845], [51.503405, -0.1919], [51.496174, -0.207025], [51.494909, -0.183304], [51.484046, -0.184456], [51.495478, -0.202731], [51.506775, -0.194649], [51.490863, -0.177559], [51.492207, -0.159931], [51.497381, -0.203664], [51.480199, -0.185761], [51.494902, -0.182872], [51.499731, -0.210344], [51.4967, -0.15975], [51.498154, -0.166463], [51.509123, -0.195277], [51.50226, -0.187623], [51.494533, -0.188073], [51.497451, -0.167499], [51.514489, -0.199244], [51.498834, -0.198709], [51.492527, -0.197949], [51.500659, -0.194602], [51.482637, -0.186385], [51.494798, -0.199444], [51.488956, -0.164815], [51.506103, -0.209518], [51.48887, -0.165107], [51.51773, -0.205314], [51.501945, -0.190517], [51.489523, -0.189713], [51.491357, -0.157372], [51.495361, -0.177668], [51.500475, -0.194321], [51.499355, -0.197535], [51.486968, -0.169936], [51.509624, -0.192807], [51.501842, -0.213143], [51.490546, -0.186071], [51.518, -0.211213], [51.495433, -0.176512], [51.497048, -0.159015], [51.484856, -0.15], [51.504646, -0.208278], [51.494469, -0.195567], [51.494672, -0.191237], [51.496864, -0.205125], [51.497449, -0.167355], [51.485323, -0.174035], [51.496893, -0.160606], [51.489879, -0.195316], [51.517263, -0.210089], [51.481575, -0.181674], [51.492852, -0.189869], [51.48149, -0.176205], [51.494675, -0.156806], [51.490182, -0.156987], [51.480175, -0.178417], [51.509377, -0.194258], [51.493829, -0.177441], [51.479238, -0.181767], [51.518083, -0.210777], [51.487491, -0.168907], [51.484901, -0.187447], [51.493762, -0.173122], [51.483301, -0.176997], [51.482582, -0.171264], [51.518348, -0.216388], [51.48342, -0.167342], [51.487853, -0.169037], [51.51944, -0.211301], [51.481743, -0.180947], [51.504213, -0.197632], [51.501842, -0.213143], [51.501543, -0.199466], [51.509125, -0.195421], [51.488673, -0.169724], [51.502161, -0.18705], [51.483253, -0.185496], [51.495229, -0.169173], [51.495009, -0.166589], [51.513468, -0.203032], [51.505345, -0.212862], [51.507804, -0.20311], [51.49201, -0.19941], [51.522649, -0.221266], [51.491174, -0.191808], [51.487655, -0.167892], [51.489787, -0.195176], [51.480199, -0.185761], [51.494377, -0.195427], [51.502269, -0.188199], [51.508472, -0.19977], [51.482637, -0.186385], [51.492899, -0.169699], [51.488673, -0.169724], [51.493937, -0.201927], [51.502395, -0.213986], [51.481318, -0.182548], [51.513378, -0.197126], [51.509035, -0.195424], [51.501275, -0.193714], [51.512488, -0.197738], [51.514937, -0.210901], [51.511739, -0.201658], [51.516347, -0.214881], [51.507464, -0.204421], [51.493639, -0.188397], [51.508488, -0.200778], [51.480878, -0.183142], [51.507464, -0.204421], [51.493429, -0.169101], [51.491173, -0.18014], [51.517717, -0.210359], [51.516722, -0.209966], [51.494902, -0.182872], [51.492553, -0.19377], [51.490919, -0.181158], [51.492655, -0.200393], [51.50501, -0.21446], [51.486613, -0.187667], [51.523977, -0.214006], [51.487635, -0.17812], [51.492563, -0.200252], [51.511769, -0.197766], [51.495927, -0.196806], [51.495806, -0.171599], [51.482624, -0.173999], [51.48015, -0.182595], [51.503665, -0.197077], [51.508474, -0.199914], [51.484179, -0.175665], [51.501864, -0.191097], [51.499011, -0.198558], [51.508558, -0.199478], [51.512128, -0.197752], [51.497894, -0.207822], [51.485093, -0.182398], [51.48885, -0.175335], [51.484035, -0.160692], [51.481575, -0.181674], [51.509129, -0.195709], [51.487945, -0.169177], [51.497729, -0.17959], [51.494159, -0.158267], [51.498812, -0.179835], [51.504784, -0.193863], [51.488093, -0.167154], [51.492747, -0.200533], [51.523887, -0.21401], [51.514854, -0.205427], [51.498629, -0.208802], [51.520086, -0.224248], [51.495029, -0.173647], [51.514852, -0.205283], [51.498843, -0.199285], [51.482535, -0.174003], [51.478854, -0.180198], [51.494395, -0.173384], [51.480874, -0.177093], [51.495478, -0.202731], [51.516658, -0.205789], [51.481318, -0.182548], [51.496249, -0.165387], [51.519712, -0.211434], [51.497138, -0.159012], [51.492102, -0.19955], [51.523944, -0.205935], [51.507588, -0.194905], [51.493595, -0.16823], [51.48106, -0.183279], [51.517929, -0.224332], [51.49175, -0.159517], [51.499727, -0.163518], [51.496383, -0.156737], [51.518905, -0.21752], [51.514399, -0.199248], [51.515031, -0.199367], [51.481914, -0.180364], [51.492183, -0.187302], [51.498905, -0.209223], [51.480874, -0.177093], [51.502119, -0.213564], [51.487713, -0.194826], [51.522088, -0.208026], [51.491082, -0.191668], [51.501952, -0.190949], [51.487637, -0.178264], [51.516658, -0.205789], [51.48936, -0.156156], [51.48011, -0.180004], [51.490805, -0.191246], [51.517171, -0.209948], [51.496259, -0.206734], [51.506544, -0.214832], [51.494006, -0.183052], [51.493661, -0.172405], [51.498924, -0.198705], [51.483411, -0.166766], [51.495174, -0.183006], [51.497379, -0.20352], [51.49584, -0.173759], [51.491742, -0.164703], [51.5159, -0.209133], [51.495501, -0.175069], [51.497819, -0.179587], [51.496259, -0.206734], [51.481062, -0.183423], [51.487628, -0.195117], [51.482777, -0.178026], [51.518804, -0.210893], [51.491519, -0.179262], [51.496432, -0.206295], [51.505238, -0.194133], [51.497013, -0.168237], [51.514953, -0.217818], [51.513554, -0.20274], [51.483996, -0.187051], [51.490988, -0.197289], [51.492821, -0.187853], [51.499711, -0.1798], [51.492553, -0.19377], [51.493348, -0.175443], [51.491497, -0.17206], [51.51954, -0.206108], [51.505994, -0.214133], [51.482076, -0.173445], [51.494685, -0.192101], [51.524115, -0.223083], [51.483799, -0.185907], [51.4887, -0.16569], [51.518002, -0.211357], [51.487797, -0.188629], [51.50557, -0.198155], [51.499443, -0.197388], [51.511985, -0.21779], [51.48944, -0.190148], [51.487489, -0.168763], [51.501113, -0.160148], [51.516715, -0.209534], [51.50065, -0.194026], [51.490535, -0.162303], [51.492747, -0.200533], [51.500567, -0.194462], [51.488763, -0.16972], [51.485969, -0.180923], [51.483815, -0.163869], [51.489716, -0.190569], [51.489738, -0.163055], [51.503127, -0.214822], [51.481062, -0.183423], [51.500641, -0.19345], [51.518804, -0.210893], [51.509968, -0.191784], [51.485667, -0.150111], [51.510018, -0.189188], [51.485665, -0.149968], [51.489535, -0.155861], [51.489973, -0.155123], [51.514489, -0.199244], [51.509946, -0.190344], [51.487045, -0.151928], [51.48567, -0.150255], [51.510018, -0.189188], [51.485753, -0.14982], [51.485937, -0.150101], [51.500428, -0.162337], [51.522177, -0.202112], [51.499904, -0.163367], [51.497369, -0.156553], [51.489798, -0.155418], [51.501689, -0.191392], [51.4802, -0.180001], [51.497458, -0.208704], [51.49643, -0.206151], [51.503495, -0.215384], [51.489529, -0.190144], [51.528627, -0.218149], [51.529019, -0.220297], [51.528344, -0.217295], [51.528629, -0.218293], [51.528631, -0.218437], [51.529505, -0.222728], [51.512273, -0.201349], [51.514399, -0.199248], [51.486668, -0.179599], [51.507804, -0.20311], [51.482076, -0.173445], [51.493415, -0.185525], [51.480177, -0.178561], [51.491957, -0.178524], [51.49646, -0.167395], [51.48115, -0.183275], [51.482076, -0.173445], [51.494995, -0.183013], [51.498778, -0.206779], [51.506187, -0.209082], [51.493077, -0.169548], [51.482076, -0.173445], [51.488673, -0.169724], [51.482363, -0.186108], [51.49391, -0.176861], [51.509296, -0.194837], [51.50228, -0.188919], [51.507588, -0.194905], [51.488585, -0.193063], [51.528344, -0.217295], [51.499201, -0.164404], [51.517081, -0.204042], [51.48944, -0.190148], [51.494521, -0.158397], [51.508624, -0.203799], [51.491173, -0.18014], [51.495478, -0.202731], [51.495658, -0.173622], [51.499727, -0.163518], [51.507802, -0.202966], [51.508972, -0.197156], [51.513036, -0.204201], [51.512443, -0.206531], [51.491908, -0.192787], [51.497811, -0.202351], [51.486273, -0.171549], [51.500738, -0.193879], [51.50012, -0.1599], [51.49209, -0.192924], [51.49105, -0.160698], [51.506379, -0.204031], [51.480175, -0.178417], [51.491836, -0.159225], [51.516717, -0.209678], [51.490115, -0.193146], [51.508943, -0.195284], [51.493264, -0.199072], [51.484765, -0.155621], [51.481746, -0.17533], [51.487666, -0.180135], [51.501516, -0.191831], [51.487794, -0.182579], [51.502058, -0.18619], [51.500994, -0.193004], [51.523977, -0.214006], [51.484368, -0.170473], [51.501169, -0.192709], [51.48299, -0.185939], [51.515582, -0.205975], [51.48375, -0.165456], [51.490919, -0.181158], [51.500731, -0.193447], [51.513804, -0.213251], [51.494663, -0.190661], [51.497543, -0.16764], [51.517475, -0.206333], [51.485759, -0.173154], [51.517796, -0.215545], [51.497048, -0.159015], [51.497103, -0.168234], [51.512346, -0.21792], [51.485757, -0.150108], [51.500856, -0.184076], [51.492471, -0.200112], [51.518131, -0.213947], [51.483345, -0.185636], [51.48115, -0.183275], [51.49266, -0.160201], [51.491935, -0.194515], [51.482328, -0.172282], [51.481572, -0.18153], [51.49892, -0.157931], [51.490315, -0.177005], [51.484361, -0.175802], [51.489535, -0.155861], [51.493429, -0.174864], [51.488481, -0.157488], [51.484361, -0.175802], [51.483603, -0.184906], [51.486622, -0.170814], [51.504966, -0.194], [51.49566, -0.173766], [51.490535, -0.173827], [51.486213, -0.173423], [51.506775, -0.194649], [51.486977, -0.187941], [51.509794, -0.197988], [51.492565, -0.200396], [51.486608, -0.169951], [51.485669, -0.173157], [51.488776, -0.176346], [51.48226, -0.173725], [51.483642, -0.164308], [51.491834, -0.164844], [51.491921, -0.158934], [51.520593, -0.210247], [51.486624, -0.170958], [51.516402, -0.218482], [51.489535, -0.155861], [51.489744, -0.175011], [51.49266, -0.160201], [51.506957, -0.194786], [51.493541, -0.182062], [51.486183, -0.183075], [51.497815, -0.202639], [51.502755, -0.196393], [51.487635, -0.17812], [51.498814, -0.179979], [51.493723, -0.182199], [51.482582, -0.171264], [51.506189, -0.209226], [51.482902, -0.186086], [51.513129, -0.204342], [51.521038, -0.209941], [51.507137, -0.194779], [51.492092, -0.164113], [51.487452, -0.195412], [51.491921, -0.158934], [51.477465, -0.183422], [51.496607, -0.206], [51.494936, -0.185032], [51.492747, -0.200533], [51.499127, -0.159652], [51.502269, -0.188199], [51.488958, -0.164959], [51.500996, -0.193148], [51.496408, -0.169846], [51.494692, -0.192533], [51.490626, -0.191253], [51.492931, -0.200814], [51.521682, -0.210925], [51.480112, -0.180148], [51.490988, -0.197289], [51.485441, -0.181664], [51.492645, -0.193911], [51.499915, -0.210625], [51.477831, -0.183839], [51.508817, -0.210564], [51.48106, -0.183279], [51.498242, -0.201181], [51.489354, -0.19044], [51.501365, -0.19371], [51.495197, -0.196115], [51.481664, -0.187431], [51.497127, -0.204683], [51.481577, -0.176057], [51.495809, -0.171743], [51.481894, -0.173308], [51.506866, -0.206462], [51.493777, -0.174129], [51.495117, -0.1735], [51.48342, -0.167342], [51.507464, -0.204421], [51.49387, -0.17427], [51.504753, -0.215334], [51.483409, -0.166622], [51.480027, -0.18044], [51.495356, -0.183143], [51.508632, -0.198466], [51.493759, -0.17874], [51.482582, -0.171264], [51.504146, -0.210891], [51.507464, -0.204421], [51.486493, -0.179894], [51.495808, -0.183269], [51.500693, -0.162038], [51.483635, -0.163876], [51.495363, -0.177812], [51.492096, -0.158639], [51.480199, -0.185761], [51.509123, -0.195277], [51.490031, -0.187676], [51.486143, -0.180484], [51.49226, -0.157624], [51.517979, -0.204007], [51.495373, -0.172625], [51.477989, -0.182393], [51.493667, -0.184362], [51.488493, -0.192922], [51.48757, -0.168184], [51.480047, -0.181735], [51.480962, -0.176946], [51.484282, -0.159242], [51.4975, -0.164904], [51.509333, -0.197286], [51.499528, -0.197096], [51.523506, -0.206673], [51.507862, -0.195182], [51.500733, -0.193591], [51.499727, -0.163518], [51.497986, -0.207963], [51.496579, -0.192458], [51.506097, -0.209086], [51.508961, -0.196436], [51.486709, -0.170667], [51.502159, -0.186906], [51.491499, -0.172204], [51.481062, -0.183423], [51.496864, -0.205125], [51.512797, -0.20032], [51.492655, -0.200393], [51.482076, -0.173445], [51.489129, -0.164376], [51.493252, -0.169252], [51.480604, -0.182865], [51.492747, -0.200533], [51.493077, -0.169548], [51.498261, -0.19657], [51.480874, -0.177093], [51.484363, -0.158662], [51.51417, -0.20776], [51.490352, -0.190976], [51.49185, -0.171614], [51.497924, -0.198024], [51.503107, -0.207618], [51.488093, -0.167154], [51.506187, -0.209082], [51.514399, -0.199248], [51.503769, -0.192174], [51.480233, -0.18216], [51.4841, -0.176389], [51.502114, -0.18979], [51.50849, -0.200922], [51.492968, -0.162637], [51.49999, -0.163075], [51.519902, -0.212148], [51.508627, -0.215759], [51.506099, -0.20923], [51.502577, -0.214123], [51.502159, -0.186906], [51.482637, -0.186385], [51.484273, -0.158666], [51.497592, -0.159282], [51.496665, -0.168972], [51.506185, -0.208938], [51.517022, -0.206063], [51.491173, -0.18014], [51.485633, -0.165093], [51.512443, -0.206531], [51.501545, -0.19961], [51.503223, -0.191763], [51.487021, -0.179153], [51.484282, -0.159242], [51.486145, -0.180628], [51.502044, -0.19109], [51.494517, -0.169634], [51.505849, -0.210536], [51.49185, -0.171614], [51.499686, -0.183979], [51.492659, -0.200681], [51.512947, -0.204205], [51.482076, -0.173445], [51.52456, -0.210956], [51.486015, -0.172279], [51.525339, -0.214818], [51.501768, -0.184905], [51.490683, -0.183328], [51.494685, -0.192101], [51.493031, -0.183955], [51.515172, -0.208585], [51.48771, -0.188776], [51.48483, -0.182841], [51.493966, -0.174698], [51.494593, -0.168767], [51.495811, -0.171887], [51.493761, -0.178884], [51.494087, -0.182473], [51.482074, -0.173301], [51.48342, -0.167342], [51.501766, -0.184761], [51.489442, -0.190292], [51.490517, -0.178437], [51.484361, -0.175802], [51.487657, -0.168036], [51.507623, -0.21479], [51.51417, -0.20776], [51.493607, -0.16895], [51.487637, -0.178264], [51.489535, -0.155861], [51.495361, -0.177668], [51.494756, -0.185039], [51.485581, -0.173305], [51.507206, -0.205151], [51.520005, -0.224828], [51.511621, -0.194025], [51.521272, -0.213535], [51.512346, -0.21792], [51.494756, -0.185039], [51.502577, -0.214123], [51.496471, -0.173878], [51.49265, -0.200105], [51.486451, -0.171397], [51.488493, -0.181255], [51.499201, -0.164404], [51.503495, -0.215384], [51.491899, -0.157494], [51.482582, -0.171264], [51.500477, -0.194465], [51.499455, -0.209922], [51.51508, -0.208445], [51.499635, -0.163378], [51.492714, -0.157893], [51.486622, -0.170814], [51.496862, -0.204981], [51.487745, -0.167889], [51.523977, -0.214006], [51.500736, -0.193735], [51.494521, -0.158397], [51.506189, -0.209226], [51.492804, -0.15789], [51.493163, -0.186687], [51.486026, -0.161476], [51.495197, -0.178683], [51.484361, -0.175802], [51.51742, -0.202732], [51.494541, -0.182743], [51.486339, -0.18739], [51.517371, -0.211238], [51.494281, -0.177567], [51.478416, -0.180936], [51.517796, -0.215545], [51.496086, -0.207173], [51.509629, -0.193095], [51.514399, -0.199248], [51.493429, -0.169101], [51.48896, -0.165103], [51.48024, -0.182591], [51.495658, -0.173622], [51.480177, -0.178561], [51.482416, -0.172135], [51.517796, -0.215545], [51.498461, -0.157374], [51.499443, -0.197388], [51.490715, -0.19125], [51.483952, -0.184172], [51.495208, -0.179403], [51.499024, -0.164555], [51.499021, -0.164411], [51.502116, -0.189934], [51.502159, -0.186906], [51.493134, -0.156004], [51.492747, -0.200533], [51.493431, -0.169245], [51.494177, -0.182469], [51.481486, -0.187583], [51.492829, -0.17676], [51.503587, -0.215524], [51.49817, -0.161708], [51.480114, -0.186053], [51.490623, -0.173679], [51.516171, -0.209267], [51.483075, -0.185647], [51.49217, -0.157627], [51.52198, -0.212787], [51.494469, -0.195567], [51.493429, -0.169101], [51.492519, -0.156893], [51.494854, -0.203043], [51.488673, -0.169724], [51.516807, -0.209674], [51.496896, -0.16075], [51.495049, -0.174943], [51.480786, -0.177241], [51.48448, -0.183431], [51.483139, -0.178155], [51.48266, -0.170541], [51.518471, -0.218546], [51.50806, -0.202236], [51.491921, -0.158934], [51.492655, -0.200393], [51.502951, -0.19163], [51.522, -0.208173], [51.508127, -0.194884], [51.483253, -0.185496], [51.480287, -0.185614], [51.517458, -0.217], [51.492899, -0.169699], [51.507804, -0.20311], [51.495031, -0.173791], [51.503186, -0.212802], [51.5159, -0.209133], [51.494682, -0.186051], [51.497467, -0.203373], [51.493667, -0.184362], [51.512976, -0.217895], [51.492072, -0.168579], [51.490437, -0.167493], [51.483253, -0.185496], [51.497136, -0.158868], [51.492941, -0.183959], [51.526077, -0.210176], [51.48046, -0.185175], [51.492045, -0.178376], [51.489214, -0.164084], [51.496264, -0.195352], [51.491724, -0.192506], [51.522177, -0.208022], [51.48542, -0.151562], [51.482547, -0.186388], [51.509131, -0.195853], [51.497595, -0.165188], [51.500994, -0.193004], [51.512434, -0.217772], [51.488318, -0.193217], [51.501513, -0.191687], [51.487763, -0.16904], [51.524083, -0.215011], [51.49806, -0.166178], [51.485825, -0.188995], [51.521033, -0.209653], [51.495658, -0.173622], [51.506097, -0.209086], [51.492657, -0.200537], [51.481989, -0.173592], [51.498588, -0.200303], [51.501365, -0.19371], [51.516658, -0.205789], [51.505257, -0.213009], [51.48541, -0.173888], [51.498743, -0.210382], [51.523521, -0.213591], [51.511353, -0.205853], [51.495804, -0.171455], [51.519505, -0.221532], [51.497714, -0.167057], [51.479735, -0.179011], [51.492856, -0.195919], [51.501863, -0.185189], [51.48299, -0.185939], [51.488425, -0.176936], [51.501398, -0.161145], [51.519107, -0.218953], [51.495202, -0.178971], [51.505849, -0.210536], [51.522177, -0.208022], [51.494633, -0.194552], [51.515887, -0.214179], [51.494069, -0.158271], [51.496577, -0.192314], [51.490998, -0.163149], [51.488785, -0.165398], [51.493435, -0.158008], [51.515955, -0.212735], [51.492209, -0.165837], [51.493919, -0.177437], [51.48046, -0.185175], [51.514245, -0.212657], [51.49566, -0.173766], [51.515849, -0.217639], [51.493335, -0.168817], [51.506866, -0.206462], [51.49293, -0.165952], [51.509374, -0.194114], [51.484195, -0.159389], [51.485178, -0.187868], [51.49105, -0.160698], [51.518024, -0.206888], [51.506097, -0.209086], [51.495355, -0.177236], [51.495658, -0.173622], [51.481908, -0.174172], [51.49868, -0.165577], [51.494696, -0.192821], [51.498826, -0.19237], [51.499024, -0.164555], [51.497372, -0.156697], [51.49806, -0.166178], [51.481575, -0.181674], [51.486213, -0.173423], [51.495501, -0.175069], [51.490991, -0.197433], [51.498584, -0.200015], [51.523977, -0.214006], [51.494682, -0.186051], [51.492589, -0.178643], [51.524001, -0.215591], [51.518348, -0.216388], [51.493004, -0.176465], [51.521375, -0.202576], [51.495301, -0.191212], [51.522888, -0.213328], [51.483071, -0.185359], [51.491, -0.163292], [51.49105, -0.160698], [51.495658, -0.173622], [51.487369, -0.195848], [51.507804, -0.20311], [51.493109, -0.183232], [51.496515, -0.205859], [51.522278, -0.202829], [51.489313, -0.181942], [51.489858, -0.188115], [51.488958, -0.164959], [51.494593, -0.168767], [51.497106, -0.19748], [51.499011, -0.198558], [51.506185, -0.208938], [51.48885, -0.175335], [51.503127, -0.214822], [51.499355, -0.197535], [51.514609, -0.195348], [51.522162, -0.212924], [51.497242, -0.194593], [51.515838, -0.2051], [51.488898, -0.190025], [51.482637, -0.186385], [51.511036, -0.19693], [51.494521, -0.158397], [51.503587, -0.192037], [51.526246, -0.215359], [51.510993, -0.199958], [51.48342, -0.167342], [51.480545, -0.184883], [51.497316, -0.164623], [51.49472, -0.182736], [51.508884, -0.197303], [51.492277, -0.193349], [51.495117, -0.1735], [51.497911, -0.179727], [51.481993, -0.17388], [51.517478, -0.206477], [51.502379, -0.20707], [51.50186, -0.185045], [51.492839, -0.200674], [51.515991, -0.203365], [51.487281, -0.195995], [51.494377, -0.195427], [51.492747, -0.200533], [51.49296, -0.167824], [51.495662, -0.17391], [51.517809, -0.2105], [51.485617, -0.181369], [51.496779, -0.159026], [51.497451, -0.167499], [51.486398, -0.150802], [51.496752, -0.168824], [51.515582, -0.205975], [51.491834, -0.159081], [51.485093, -0.182398], [51.494902, -0.182872], [51.493377, -0.194746], [51.523769, -0.20623], [51.498412, -0.165732], [51.506544, -0.214832], [51.507047, -0.194782], [51.48106, -0.183279], [51.494907, -0.18316], [51.519267, -0.21765], [51.4971, -0.16809], [51.517353, -0.210085], [51.498244, -0.201325], [51.492499, -0.178646], [51.495084, -0.183009], [51.484276, -0.176093], [51.488956, -0.164815], [51.510031, -0.207634], [51.521825, -0.208469], [51.486561, -0.190118], [51.518624, -0.2109], [51.514948, -0.21753], [51.510443, -0.205168], [51.495537, -0.17161], [51.482258, -0.173582], [51.498924, -0.198705], [51.517252, -0.203459], [51.500819, -0.193299], [51.50003, -0.159904], [51.480177, -0.178561], [51.501205, -0.160289], [51.498091, -0.17972], [51.515841, -0.217063], [51.506961, -0.212654], [51.481575, -0.181674], [51.484044, -0.184312], [51.486491, -0.17975], [51.506353, -0.208211], [51.481318, -0.182548], [51.495501, -0.175069], [51.519986, -0.211712], [51.513262, -0.207219], [51.485639, -0.177047], [51.490991, -0.197433], [51.489529, -0.190144], [51.492515, -0.16813], [51.497037, -0.204686], [51.501513, -0.191687], [51.522386, -0.221708], [51.495658, -0.173622], [51.492396, -0.166262], [51.505181, -0.213877], [51.486714, -0.170955], [51.504759, -0.198043], [51.482582, -0.171264], [51.49462, -0.193688], [51.495498, -0.174925], [51.514085, -0.196377], [51.503035, -0.214681], [51.48342, -0.167342], [51.4841, -0.176389], [51.494377, -0.195427], [51.494377, -0.195427], [51.480177, -0.178561], [51.5159, -0.209133], [51.497188, -0.167942], [51.488785, -0.165398], [51.50721, -0.205439], [51.504843, -0.215331], [51.487745, -0.167889], [51.497819, -0.179587], [51.508639, -0.198898], [51.497704, -0.18377], [51.50108, -0.192713], [51.486953, -0.151788], [51.497035, -0.204542], [51.486398, -0.150802], [51.49859, -0.165581], [51.489445, -0.155864], [51.498183, -0.17986], [51.486953, -0.151788], [51.485757, -0.150108], [51.520849, -0.203462], [51.497631, -0.167492], [51.49999, -0.163075], [51.499637, -0.163522], [51.484518, -0.157072], [51.527333, -0.215893], [51.510027, -0.189765], [51.487045, -0.151928], [51.509795, -0.192224], [51.510036, -0.190341], [51.48722, -0.151633], [51.481486, -0.187583], [51.503679, -0.215664], [51.503863, -0.215945], [51.501581, -0.213729], [51.521449, -0.201564], [51.52922, -0.22173], [51.528532, -0.217865], [51.506739, -0.204017], [51.495431, -0.176368], [51.495204, -0.179115], [51.519058, -0.209874], [51.485665, -0.149968], [51.492553, -0.19377], [51.516748, -0.205785], [51.51347, -0.203176], [51.485815, -0.165229], [51.485323, -0.174035], [51.496584, -0.192746], [51.494544, -0.188793], [51.496738, -0.179486], [51.481737, -0.174755], [51.507806, -0.203254], [51.514981, -0.219691], [51.484087, -0.164002], [51.509212, -0.195273], [51.507804, -0.20311], [51.513314, -0.198858], [51.484361, -0.175802], [51.484437, -0.157651], [51.481575, -0.181674], [51.514321, -0.217699], [51.505847, -0.210392], [51.484361, -0.175802], [51.485178, -0.187868], [51.492045, -0.178376], [51.485669, -0.173157], [51.486835, -0.178728], [51.496918, -0.179479], [51.499048, -0.160375], [51.494554, -0.195276], [51.492747, -0.200533], [51.494761, -0.185327], [51.482637, -0.186385], [51.483866, -0.184464], [51.511499, -0.197777], [51.495119, -0.173644], [51.484569, -0.183427], [51.495204, -0.179115], [51.520893, -0.212253], [51.497714, -0.167057], [51.49479, -0.158386], [51.490988, -0.197289], [51.485058, -0.168572], [51.526244, -0.215215], [51.518171, -0.21063], [51.495813, -0.172031], [51.495653, -0.179097], [51.493939, -0.202071], [51.490798, -0.173384], [51.49643, -0.206151], [51.494743, -0.195845], [51.499578, -0.159778], [51.484924, -0.154319], [51.482582, -0.171264], [51.500192, -0.211046], [51.488439, -0.166276], [51.493938, -0.184496], [51.497015, -0.168381], [51.487628, -0.195117], [51.509712, -0.192659], [51.516489, -0.206516], [51.497682, -0.159278], [51.51417, -0.20776], [51.498244, -0.201325], [51.487021, -0.179153], [51.481575, -0.181674], [51.499635, -0.209915], [51.497048, -0.159015], [51.508488, -0.200778], [51.492135, -0.178373], [51.482637, -0.186385], [51.484569, -0.183427], [51.48106, -0.183279], [51.49557, -0.17377], [51.492443, -0.163523], [51.498447, -0.208665], [51.494754, -0.184895], [51.497138, -0.159012], [51.523079, -0.219952], [51.516717, -0.209678], [51.491927, -0.199845], [51.502487, -0.214126], [51.508624, -0.215615], [51.495206, -0.179259], [51.495898, -0.17174], [51.507588, -0.194905], [51.49557, -0.17377], [51.499523, -0.202572], [51.498826, -0.19237], [51.482775, -0.177882], [51.516717, -0.209678], [51.499026, -0.164699], [51.503951, -0.192311], [51.493493, -0.190564], [51.514399, -0.199248], [51.488439, -0.166276], [51.498539, -0.208806], [51.492515, -0.16813], [51.492092, -0.164113], [51.491173, -0.18014], [51.494898, -0.182585], [51.490444, -0.191117], [51.485757, -0.150108], [51.501115, -0.160292], [51.487635, -0.17812], [51.481572, -0.18153], [51.516807, -0.209674], [51.504784, -0.193863], [51.515582, -0.205975], [51.489214, -0.164084], [51.517219, -0.219027], [51.522072, -0.212927], [51.495835, -0.196666], [51.499958, -0.195783], [51.492181, -0.187158], [51.49714, -0.159156], [51.491782, -0.178819], [51.480721, -0.184588], [51.518079, -0.210489], [51.481572, -0.18153], [51.486394, -0.185083], [51.51675, -0.205929], [51.509695, -0.197416], [51.498585, -0.165293], [51.488091, -0.16701], [51.4996, -0.207611], [51.522741, -0.221406], [51.523076, -0.219807], [51.485546, -0.18843], [51.495656, -0.173478], [51.494611, -0.193113], [51.499783, -0.196078], [51.486795, -0.170375], [51.498763, -0.165142], [51.492008, -0.199266], [51.498765, -0.165286], [51.483247, -0.167781], [51.491002, -0.180723], [51.494907, -0.18316], [51.482719, -0.174283], [51.490097, -0.174565], [51.500203, -0.159464], [51.485216, -0.149986], [51.483422, -0.167486], [51.490988, -0.197289], [51.508229, -0.201508], [51.509712, -0.192659], [51.484044, -0.184312], [51.493439, -0.198777], [51.494521, -0.158397], [51.517243, -0.214702], [51.481492, -0.176349], [51.493568, -0.16074], [51.498743, -0.163846], [51.518806, -0.211037], [51.488439, -0.166276], [51.492657, -0.200537], [51.516093, -0.2159], [51.526202, -0.212477], [51.480289, -0.185758], [51.492655, -0.200393], [51.494369, -0.200757], [51.523076, -0.219807], [51.488493, -0.181255], [51.522614, -0.21305], [51.489943, -0.187823], [51.500731, -0.193447], [51.480972, -0.183426], [51.5159, -0.209133], [51.519569, -0.20798], [51.501476, -0.212725], [51.490263, -0.16217], [51.481986, -0.173448], [51.482637, -0.186385], [51.509712, -0.192659], [51.498775, -0.206635], [51.489416, -0.19447], [51.500075, -0.162784], [51.496736, -0.167816], [51.494544, -0.188793], [51.484363, -0.158662], [51.491678, -0.183721], [51.496515, -0.205859], [51.498926, -0.198849], [51.483334, -0.167633], [51.497048, -0.159015], [51.49643, -0.206151], [51.510958, -0.197654], [51.479117, -0.179756], [51.489084, -0.173021], [51.489041, -0.176047], [51.493966, -0.174698], [51.508562, -0.199766], [51.497752, -0.1927], [51.490528, -0.196587], [51.496171, -0.206881], [51.519986, -0.211712], [51.519988, -0.211856], [51.498902, -0.179832], [51.483334, -0.167633], [51.494685, -0.192101], [51.50712, -0.205443], [51.481663, -0.175766], [51.487673, -0.169044], [51.512257, -0.217923], [51.485398, -0.150122], [51.496466, -0.185115], [51.508882, -0.197159], [51.516717, -0.209678], [51.481997, -0.18569], [51.494723, -0.18288], [51.510993, -0.199958], [51.509629, -0.193095], [51.499113, -0.164551], [51.516263, -0.209407], [51.483422, -0.167486], [51.505347, -0.213006], [51.497894, -0.207822], [51.496665, -0.168972], [51.492941, -0.183959], [51.488675, -0.181392], [51.482987, -0.185795], [51.493427, -0.168957], [51.51493, -0.204559], [51.484887, -0.174917], [51.518804, -0.210893], [51.525685, -0.208029], [51.490351, -0.162022], [51.502273, -0.188487], [51.487021, -0.179153], [51.501864, -0.191097], [51.498855, -0.159519], [51.500075, -0.162784], [51.487628, -0.195117], [51.497671, -0.18161], [51.487367, -0.195704], [51.519505, -0.221532], [51.49185, -0.171614], [51.480199, -0.185761], [51.501426, -0.191834], [51.508023, -0.199787], [51.501474, -0.212581], [51.517166, -0.203751], [51.512443, -0.206531], [51.491964, -0.161669], [51.496893, -0.160606], [51.481575, -0.181674], [51.493896, -0.164473], [51.517292, -0.217871], [51.522528, -0.207432], [51.512886, -0.217899], [51.502393, -0.213842], [51.51417, -0.20776], [51.492093, -0.187306], [51.509795, -0.192224], [51.495379, -0.155769], [51.483253, -0.185496], [51.508884, -0.197303], [51.494974, -0.199149], [51.499623, -0.179947], [51.507806, -0.203254], [51.488776, -0.176346], [51.498924, -0.198705], [51.48226, -0.173725], [51.493921, -0.195013], [51.492941, -0.183959], [51.50556, -0.215159], [51.494682, -0.186051], [51.495199, -0.178827], [51.499374, -0.163964], [51.514173, -0.19623], [51.518359, -0.223018], [51.517835, -0.212229], [51.484044, -0.184312], [51.489352, -0.190296], [51.49406, -0.174983], [51.494633, -0.194552], [51.52168, -0.222601], [51.520529, -0.211979], [51.502119, -0.213564], [51.517625, -0.210219], [51.520073, -0.211564], [51.517796, -0.215545], [51.491748, -0.159373], [51.487153, -0.181884], [51.500823, -0.193587], [51.516899, -0.209815], [51.486493, -0.179894], [51.497729, -0.17959], [51.504043, -0.192451], [51.491661, -0.15952], [51.498244, -0.201325], [51.517454, -0.216712], [51.492279, -0.164538], [51.49009, -0.162609], [51.495653, -0.196529], [51.497035, -0.204542], [51.511923, -0.201939], [51.517749, -0.206611], [51.489352, -0.190296], [51.480325, -0.1823], [51.496466, -0.185115], [51.490995, -0.157242], [51.49566, -0.173766], [51.492004, -0.187309], [51.497217, -0.204679], [51.493681, -0.179464], [51.503037, -0.214825], [51.492375, -0.193921], [51.500338, -0.162341], [51.500477, -0.194465], [51.484361, -0.175802], [51.499987, -0.185984], [51.494682, -0.186051], [51.492065, -0.156623], [51.510027, -0.189765], [51.494043, -0.191262], [51.480287, -0.185614], [51.490037, -0.170678], [51.497554, -0.203225], [51.499614, -0.196805], [51.501385, -0.160281], [51.513094, -0.213855], [51.504709, -0.212454], [51.498589, -0.20621], [51.487113, -0.179293], [51.482775, -0.177882], [51.497035, -0.204542], [51.509061, -0.197152], [51.49916, -0.161812], [51.496492, -0.169411], [51.494902, -0.182872], [51.517475, -0.206333], [51.492241, -0.191045], [51.526246, -0.215359], [51.505576, -0.198587], [51.500477, -0.194465], [51.52221, -0.204273], [51.491957, -0.178524], [51.499983, -0.179933], [51.498328, -0.20089], [51.493759, -0.17874], [51.488481, -0.157488], [51.482416, -0.172135], [51.490715, -0.19125], [51.484929, -0.154606], [51.520858, -0.209948], [51.484356, -0.15823], [51.480977, -0.183714], [51.483954, -0.184316], [51.521619, -0.212657], [51.484931, -0.15475], [51.513692, -0.217723], [51.517353, -0.210085], [51.500477, -0.194465], [51.48299, -0.185939], [51.490351, -0.162022], [51.490998, -0.163149], [51.518019, -0.2066], [51.493598, -0.168374], [51.499127, -0.159652], [51.480287, -0.185614], [51.522888, -0.213328], [51.500304, -0.194905], [51.481929, -0.187133], [51.519986, -0.211712], [51.509374, -0.194114], [51.484962, -0.185572], [51.516092, -0.204081], [51.489657, -0.175158], [51.51944, -0.211301], [51.486534, -0.170962], [51.495658, -0.173622], [51.503587, -0.192037], [51.509795, -0.192224], [51.508488, -0.200778], [51.499987, -0.162931], [51.484284, -0.159385], [51.494377, -0.195427], [51.490919, -0.181158], [51.493195, -0.194609], [51.481658, -0.181239], [51.506961, -0.212654], [51.52307, -0.213465], [51.490919, -0.181158], [51.516572, -0.20608], [51.482079, -0.173589], [51.482494, -0.171412], [51.504784, -0.193863], [51.48492, -0.182837], [51.506097, -0.209086], [51.485961, -0.180347], [51.522282, -0.203117], [51.481062, -0.183423], [51.48914, -0.194049], [51.481404, -0.182257], [51.494693, -0.186771], [51.493914, -0.177149], [51.486417, -0.180761], [51.480374, -0.185466], [51.49981, -0.163082], [51.495501, -0.175069], [51.484044, -0.184312], [51.517539, -0.21051], [51.488481, -0.157488], [51.497381, -0.203664], [51.505179, -0.213733], [51.496515, -0.205859], [51.495658, -0.173622], [51.485669, -0.173157], [51.480199, -0.185761], [51.489917, -0.157286], [51.486624, -0.170958], [51.485617, -0.181369], [51.508229, -0.201508], [51.484361, -0.175802], [51.50806, -0.202236], [51.483253, -0.185496], [51.511448, -0.217955], [51.497048, -0.159015], [51.517674, -0.201713], [51.496577, -0.169119], [51.496515, -0.205859], [51.513915, -0.196961], [51.489769, -0.182356], [51.50921, -0.195129], [51.504933, -0.215327], [51.512443, -0.206531], [51.501093, -0.193577], [51.489943, -0.187823], [51.487628, -0.195117], [51.491267, -0.197855], [51.49815, -0.166175], [51.509374, -0.194114], [51.495773, -0.16944], [51.494121, -0.202208], [51.498244, -0.201325], [51.494624, -0.16502], [51.493161, -0.186543], [51.485237, -0.174327], [51.495204, -0.179115], [51.480896, -0.184293], [51.497738, -0.197599], [51.487635, -0.17812], [51.520023, -0.214161], [51.517796, -0.215545], [51.481049, -0.176798], [51.490863, -0.177559], [51.490788, -0.184333], [51.494552, -0.195132], [51.526237, -0.214783], [51.481665, -0.181671], [51.506709, -0.213817], [51.519703, -0.222678], [51.483778, -0.184611], [51.495206, -0.179259], [51.484832, -0.182985], [51.489362, -0.1563], [51.499011, -0.198558], [51.498237, -0.166027], [51.517899, -0.210496], [51.501275, -0.193714], [51.482076, -0.173445], [51.516886, -0.208951], [51.492786, -0.156738], [51.480177, -0.178561], [51.51417, -0.20776], [51.499443, -0.197388], [51.480105, -0.179716], [51.519569, -0.20798], [51.491923, -0.159078], [51.492269, -0.158199], [51.48226, -0.173725], [51.489131, -0.181806], [51.491834, -0.164844], [51.501964, -0.185906], [51.495026, -0.185029], [51.501343, -0.19227], [51.52221, -0.204273], [51.504146, -0.210891], [51.487226, -0.169206], [51.486882, -0.170228], [51.519494, -0.203083], [51.482991, -0.174416], [51.516749, -0.20002], [51.508537, -0.215763], [51.498588, -0.165437], [51.486216, -0.150665], [51.484543, -0.175939], [51.4961, -0.196367], [51.487399, -0.168767], [51.494995, -0.183013], [51.479117, -0.179756], [51.517796, -0.215545], [51.494521, -0.158397], [51.522167, -0.213212], [51.504931, -0.215183], [51.496972, -0.159883], [51.502723, -0.211956], [51.488579, -0.192631], [51.501934, -0.213283], [51.486493, -0.179894], [51.51807, -0.209913], [51.503769, -0.192174], [51.518442, -0.210763], [51.490988, -0.197289], [51.501113, -0.160148], [51.480285, -0.18547], [51.505345, -0.212862], [51.496352, -0.183535], [51.492135, -0.178373], [51.480199, -0.185761], [51.525779, -0.208313], [51.498589, -0.20621], [51.486213, -0.173423], [51.504578, -0.192142], [51.492129, -0.201278], [51.50921, -0.195129], [51.484284, -0.159385], [51.490124, -0.164768], [51.495202, -0.178971], [51.491573, -0.159668], [51.508558, -0.199478], [51.482487, -0.182502], [51.496671, -0.204269], [51.517353, -0.210085], [51.526154, -0.215218], [51.490988, -0.197289], [51.480105, -0.179716], [51.517252, -0.203459], [51.496406, -0.169702], [51.492308, -0.166409], [51.48901, -0.191461], [51.502669, -0.214263], [51.500295, -0.211907], [51.485669, -0.173157], [51.518471, -0.218546], [51.499113, -0.164551], [51.493493, -0.190564], [51.498423, -0.183741], [51.492096, -0.158639], [51.493829, -0.177441], [51.495411, -0.175073], [51.507719, -0.203402], [51.493524, -0.175148], [51.496415, -0.205143], [51.509019, -0.194416], [51.5159, -0.209133], [51.510054, -0.197401], [51.494633, -0.194552], [51.480602, -0.182721], [51.502159, -0.186906], [51.504931, -0.215183], [51.493266, -0.199216], [51.49304, -0.178769], [51.518348, -0.216388], [51.491574, -0.188623], [51.493923, -0.195157], [51.493937, -0.201927], [51.490988, -0.197289], [51.506443, -0.208207], [51.498334, -0.201322], [51.488576, -0.192487], [51.49335, -0.175587], [51.523059, -0.206834], [51.502276, -0.188631], [51.494087, -0.182473], [51.484282, -0.159242], [51.480109, -0.185765], [51.508562, -0.199766], [51.508624, -0.203799], [51.484179, -0.175665], [51.490443, -0.173687], [51.498501, -0.200451], [51.494469, -0.195567], [51.497008, -0.179475], [51.484363, -0.175946], [51.510076, -0.216423], [51.502224, -0.191082], [51.49528, -0.178247], [51.492712, -0.157749], [51.49185, -0.171614], [51.501513, -0.191687], [51.493227, -0.161906], [51.52198, -0.212787], [51.501949, -0.190805], [51.482326, -0.172139], [51.512443, -0.206531], [51.487635, -0.17812], [51.484271, -0.175806], [51.491609, -0.179258], [51.48448, -0.183431], [51.497286, -0.156989], [51.506693, -0.206901], [51.486577, -0.173697], [51.497244, -0.194737], [51.494672, -0.202907], [51.480806, -0.184297], [51.518804, -0.210893], [51.497982, -0.207675], [51.50745, -0.215229], [51.496752, -0.168824], [51.505849, -0.210536], [51.517243, -0.214702], [51.493667, -0.184362], [51.523887, -0.21401], [51.48046, -0.185175], [51.480199, -0.185761], [51.519306, -0.220243], [51.482079, -0.173589], [51.49892, -0.157931], [51.499637, -0.163522], [51.508488, -0.200778], [51.508472, -0.19977], [51.522177, -0.208022], [51.500077, -0.162928], [51.492624, -0.157897], [51.49063, -0.162587], [51.51417, -0.20776], [51.517655, -0.224055], [51.485997, -0.165366], [51.525339, -0.214818], [51.487655, -0.167892], [51.492657, -0.200537], [51.514489, -0.199244], [51.492183, -0.187302], [51.526064, -0.215222], [51.506106, -0.209662], [51.488922, -0.191609], [51.498469, -0.210105], [51.501934, -0.213283], [51.489243, -0.160194], [51.496893, -0.160606], [51.516717, -0.209678], [51.484179, -0.175665], [51.509624, -0.20448], [51.485408, -0.173744], [51.50228, -0.188919], [51.526246, -0.215359], [51.492839, -0.200674], [51.480716, -0.184301], [51.500924, -0.182633], [51.506634, -0.214829], [51.494663, -0.190661], [51.514399, -0.199248], [51.482079, -0.173589], [51.484926, -0.154462], [51.481492, -0.182109], [51.481912, -0.18022], [51.486193, -0.189556], [51.513129, -0.204342], [51.515845, -0.217351], [51.499549, -0.163669], [51.486302, -0.184943], [51.490094, -0.157135], [51.521364, -0.201856], [51.499727, -0.163518], [51.499727, -0.163518], [51.509871, -0.191356], [51.492802, -0.157746], [51.489975, -0.155267], [51.510016, -0.189044], [51.487043, -0.151784], [51.499727, -0.163518], [51.510025, -0.18962], [51.499351, -0.179814], [51.485759, -0.150252], [51.509795, -0.192224], [51.486955, -0.151932], [51.489975, -0.155267], [51.510027, -0.189765], [51.509797, -0.192368], [51.510018, -0.189188], [51.499722, -0.16323], [51.485847, -0.150104], [51.51002, -0.189332], [51.500342, -0.162629], [51.498498, -0.16544], [51.509714, -0.192803], [51.514579, -0.199241], [51.509876, -0.191644], [51.48567, -0.150255], [51.496515, -0.205859], [51.515437, -0.220105], [51.487194, -0.196143], [51.515687, -0.218798], [51.484918, -0.182693], [51.483603, -0.184906], [51.529689, -0.22301], [51.529692, -0.223154], [51.481062, -0.183423], [51.494723, -0.18288], [51.5267, -0.21563], [51.488695, -0.165402], [51.516294, -0.205515], [51.495206, -0.179259], [51.481748, -0.175474], [51.490784, -0.184045], [51.510097, -0.188465], [51.513381, -0.203179], [51.501866, -0.191241], [51.5262, -0.212333], [51.488864, -0.176198], [51.492551, -0.170433], [51.480103, -0.179572], [51.49266, -0.160201], [51.486622, -0.170814], [51.500239, -0.196492], [51.487972, -0.194095], [51.481746, -0.17533], [51.491188, -0.18691], [51.502044, -0.19109], [51.500819, -0.193299], [51.529409, -0.2223], [51.526104, -0.211905], [51.495204, -0.179115], [51.489306, -0.175749], [51.520998, -0.213258], [51.497193, -0.16823], [51.480287, -0.185614], [51.492639, -0.187716]],\n",
       "                {\n",
       "  &quot;minOpacity&quot;: 0.5,\n",
       "  &quot;maxZoom&quot;: 18,\n",
       "  &quot;radius&quot;: 25,\n",
       "  &quot;blur&quot;: 15,\n",
       "}\n",
       "            );\n",
       "        \n",
       "    \n",
       "            heat_map_7794a352f77a64074d8ac908c6abad5d.addTo(map_9d158af3f49b92f671cdec748a90dee6);\n",
       "        \n",
       "    \n",
       "            tile_layer_fa5ea6e23e9bf326bfbb1d22b8ec78ca.addTo(map_9d158af3f49b92f671cdec748a90dee6);\n",
       "        \n",
       "    \n",
       "            heat_map_7794a352f77a64074d8ac908c6abad5d.addTo(map_9d158af3f49b92f671cdec748a90dee6);\n",
       "        \n",
       "&lt;/script&gt;\n",
       "&lt;/html&gt;\" style=\"position:absolute;width:100%;height:100%;left:0;top:0;border:none !important;\" allowfullscreen webkitallowfullscreen mozallowfullscreen></iframe></div></div>"
      ],
      "text/plain": [
       "<folium.folium.Map at 0x20ac55dcec0>"
      ]
     },
     "execution_count": 76,
     "metadata": {},
     "output_type": "execute_result"
    }
   ],
   "source": [
    "locations = list(zip(Ken_Chel_DF['Latitude'], Ken_Chel_DF['Longitude']))\n",
    "m = folium.Map(locations = [Ken_Chel_DF['Latitude'].mean(), Ken_Chel_DF['Longitude'].mean()], zoom_start = 10)\n",
    "HeatMap(locations).add_to(m)\n",
    "m.save(\"Ken_Chel_CF.html\")\n",
    "m"
   ]
  },
  {
   "cell_type": "markdown",
   "id": "9c0c5273-d8cd-4151-89d0-f2b01c9a8994",
   "metadata": {},
   "source": [
    "<h4>26. Insights:</h4>\n",
    "<h4>According to our heatmap in the Area of Kensington and Chelsea, we have a total of 2799 Accidents in this area and most of the hotspots mostly appears in the Major Intersections of the Area.</h4>\n",
    "<hr>"
   ]
  },
  {
   "cell_type": "code",
   "execution_count": 98,
   "id": "2fb5397e-4f79-468b-a5f3-36b75f0361d6",
   "metadata": {},
   "outputs": [
    {
     "data": {
      "text/plain": [
       "np.int64(1475)"
      ]
     },
     "execution_count": 98,
     "metadata": {},
     "output_type": "execute_result"
    }
   ],
   "source": [
    "#Mid Sussex\n",
    "Mid_Sussex_DF = UKRoad[UKRoad[\"District Area\"] == 'Mid Sussex']\n",
    "Mid_Sussex_DF.value_counts().sum()"
   ]
  },
  {
   "cell_type": "code",
   "execution_count": 79,
   "id": "ff71238b-3364-4840-bcde-9de9fdca7f0a",
   "metadata": {},
   "outputs": [
    {
     "data": {
      "text/html": [
       "<div style=\"width:100%;\"><div style=\"position:relative;width:100%;height:0;padding-bottom:60%;\"><span style=\"color:#565656\">Make this Notebook Trusted to load map: File -> Trust Notebook</span><iframe srcdoc=\"&lt;!DOCTYPE html&gt;\n",
       "&lt;html&gt;\n",
       "&lt;head&gt;\n",
       "    \n",
       "    &lt;meta http-equiv=&quot;content-type&quot; content=&quot;text/html; charset=UTF-8&quot; /&gt;\n",
       "    &lt;script src=&quot;https://cdn.jsdelivr.net/npm/leaflet@1.9.3/dist/leaflet.js&quot;&gt;&lt;/script&gt;\n",
       "    &lt;script src=&quot;https://code.jquery.com/jquery-3.7.1.min.js&quot;&gt;&lt;/script&gt;\n",
       "    &lt;script src=&quot;https://cdn.jsdelivr.net/npm/bootstrap@5.2.2/dist/js/bootstrap.bundle.min.js&quot;&gt;&lt;/script&gt;\n",
       "    &lt;script src=&quot;https://cdnjs.cloudflare.com/ajax/libs/Leaflet.awesome-markers/2.0.2/leaflet.awesome-markers.js&quot;&gt;&lt;/script&gt;\n",
       "    &lt;link rel=&quot;stylesheet&quot; href=&quot;https://cdn.jsdelivr.net/npm/leaflet@1.9.3/dist/leaflet.css&quot;/&gt;\n",
       "    &lt;link rel=&quot;stylesheet&quot; href=&quot;https://cdn.jsdelivr.net/npm/bootstrap@5.2.2/dist/css/bootstrap.min.css&quot;/&gt;\n",
       "    &lt;link rel=&quot;stylesheet&quot; href=&quot;https://netdna.bootstrapcdn.com/bootstrap/3.0.0/css/bootstrap-glyphicons.css&quot;/&gt;\n",
       "    &lt;link rel=&quot;stylesheet&quot; href=&quot;https://cdn.jsdelivr.net/npm/@fortawesome/fontawesome-free@6.2.0/css/all.min.css&quot;/&gt;\n",
       "    &lt;link rel=&quot;stylesheet&quot; href=&quot;https://cdnjs.cloudflare.com/ajax/libs/Leaflet.awesome-markers/2.0.2/leaflet.awesome-markers.css&quot;/&gt;\n",
       "    &lt;link rel=&quot;stylesheet&quot; href=&quot;https://cdn.jsdelivr.net/gh/python-visualization/folium/folium/templates/leaflet.awesome.rotate.min.css&quot;/&gt;\n",
       "    \n",
       "            &lt;meta name=&quot;viewport&quot; content=&quot;width=device-width,\n",
       "                initial-scale=1.0, maximum-scale=1.0, user-scalable=no&quot; /&gt;\n",
       "            &lt;style&gt;\n",
       "                #map_bae0de21c6fe5bb760785af98ce039b1 {\n",
       "                    position: relative;\n",
       "                    width: 100.0%;\n",
       "                    height: 100.0%;\n",
       "                    left: 0.0%;\n",
       "                    top: 0.0%;\n",
       "                }\n",
       "                .leaflet-container { font-size: 1rem; }\n",
       "            &lt;/style&gt;\n",
       "\n",
       "            &lt;style&gt;html, body {\n",
       "                width: 100%;\n",
       "                height: 100%;\n",
       "                margin: 0;\n",
       "                padding: 0;\n",
       "            }\n",
       "            &lt;/style&gt;\n",
       "\n",
       "            &lt;style&gt;#map {\n",
       "                position:absolute;\n",
       "                top:0;\n",
       "                bottom:0;\n",
       "                right:0;\n",
       "                left:0;\n",
       "                }\n",
       "            &lt;/style&gt;\n",
       "\n",
       "            &lt;script&gt;\n",
       "                L_NO_TOUCH = false;\n",
       "                L_DISABLE_3D = false;\n",
       "            &lt;/script&gt;\n",
       "\n",
       "        \n",
       "    &lt;script src=&quot;https://cdn.jsdelivr.net/gh/python-visualization/folium@main/folium/templates/leaflet_heat.min.js&quot;&gt;&lt;/script&gt;\n",
       "&lt;/head&gt;\n",
       "&lt;body&gt;\n",
       "    \n",
       "    \n",
       "            &lt;div class=&quot;folium-map&quot; id=&quot;map_bae0de21c6fe5bb760785af98ce039b1&quot; &gt;&lt;/div&gt;\n",
       "        \n",
       "&lt;/body&gt;\n",
       "&lt;script&gt;\n",
       "    \n",
       "    \n",
       "            var map_bae0de21c6fe5bb760785af98ce039b1 = L.map(\n",
       "                &quot;map_bae0de21c6fe5bb760785af98ce039b1&quot;,\n",
       "                {\n",
       "                    center: [0.0, 0.0],\n",
       "                    crs: L.CRS.EPSG3857,\n",
       "                    ...{\n",
       "  &quot;zoom&quot;: 1,\n",
       "  &quot;zoomControl&quot;: true,\n",
       "  &quot;preferCanvas&quot;: false,\n",
       "  &quot;locations&quot;: [\n",
       "51.017290855593224,\n",
       "-0.12646894372881354,\n",
       "],\n",
       "}\n",
       "\n",
       "                }\n",
       "            );\n",
       "\n",
       "            \n",
       "\n",
       "        \n",
       "    \n",
       "            var tile_layer_5f7de48b384bb6e7b6e0e2edad4f2d98 = L.tileLayer(\n",
       "                &quot;https://tile.openstreetmap.org/{z}/{x}/{y}.png&quot;,\n",
       "                {\n",
       "  &quot;minZoom&quot;: 0,\n",
       "  &quot;maxZoom&quot;: 19,\n",
       "  &quot;maxNativeZoom&quot;: 19,\n",
       "  &quot;noWrap&quot;: false,\n",
       "  &quot;attribution&quot;: &quot;\\u0026copy; \\u003ca href=\\&quot;https://www.openstreetmap.org/copyright\\&quot;\\u003eOpenStreetMap\\u003c/a\\u003e contributors&quot;,\n",
       "  &quot;subdomains&quot;: &quot;abc&quot;,\n",
       "  &quot;detectRetina&quot;: false,\n",
       "  &quot;tms&quot;: false,\n",
       "  &quot;opacity&quot;: 1,\n",
       "}\n",
       "\n",
       "            );\n",
       "        \n",
       "    \n",
       "            tile_layer_5f7de48b384bb6e7b6e0e2edad4f2d98.addTo(map_bae0de21c6fe5bb760785af98ce039b1);\n",
       "        \n",
       "    \n",
       "            var heat_map_99c5b3eb1e55acbbd3ac655ff0f2518d = L.heatLayer(\n",
       "                [[51.131859, -0.016924], [51.118702, 0.010948], [51.1309, -0.01868], [51.133566, -0.092465], [50.987745, -0.101157], [51.019965, -0.187532], [50.991665, -0.172105], [51.082773, -0.132678], [51.015814, -0.112843], [50.963797, -0.133038], [50.923369, -0.141345], [50.991683, -0.099999], [51.141702, -0.078548], [51.019962, -0.18739], [50.993033, -0.094529], [51.121844, 0.006083], [50.962765, -0.153017], [50.90663, -0.186391], [51.108366, -0.047787], [51.129221, -0.00989], [50.994658, -0.122679], [51.134368, -0.000521], [50.916848, -0.207476], [51.109667, -0.050304], [51.135037, -0.029366], [50.885195, -0.190209], [51.057358, -0.084896], [50.883108, -0.165979], [50.943179, -0.177139], [51.012863, -0.09172], [50.929254, -0.195473], [51.008313, -0.105022], [51.017648, -0.049319], [51.136027, -0.034756], [51.109032, -0.055331], [51.136879, -0.124921], [50.952935, -0.12308], [51.032915, -0.064225], [51.020168, -0.183247], [51.001308, -0.196526], [51.112286, 0.028386], [50.91931, -0.192158], [51.070154, -0.130902], [50.954448, -0.138966], [50.961587, -0.141102], [51.126868, -0.003703], [51.135132, -0.029648], [51.053352, -0.200641], [50.992479, -0.088139], [51.104727, -0.105366], [51.045367, -0.06128], [51.098952, -0.104174], [51.001669, -0.100161], [51.074575, -0.027797], [50.96316, -0.17237], [51.078522, -0.131136], [50.990369, -0.19866], [50.990277, -0.198521], [50.991966, -0.168388], [50.99936, -0.107524], [50.997253, -0.121862], [50.949264, -0.175193], [51.07636, -0.130938], [51.142113, -0.076244], [50.924295, -0.143016], [50.951904, -0.126111], [50.958811, -0.147478], [50.974256, -0.146009], [51.002487, -0.197193], [51.004989, -0.144499], [50.98731, -0.129958], [51.121659, -0.08481], [51.104541, -0.104945], [51.124556, -0.074973], [50.992225, -0.100119], [51.13418, -0.026544], [51.036324, -0.031418], [51.017294, -0.049619], [51.03493, -0.012792], [50.960552, -0.149545], [50.980424, -0.044469], [51.03711, -0.035379], [51.138024, -0.035815], [50.942283, -0.194683], [50.946859, -0.253159], [50.931324, -0.195535], [51.049854, -0.201204], [51.06396, -0.171399], [51.002842, -0.196894], [50.973146, -0.236932], [50.992061, -0.16867], [50.920529, -0.143735], [51.050404, -0.201896], [51.010726, -0.143272], [51.125587, -0.023623], [51.000501, -0.105768], [50.877778, -0.187511], [50.908865, -0.156859], [50.997432, -0.195964], [51.126873, -0.009277], [51.074266, -0.203826], [50.958665, -0.161012], [50.91178, -0.153472], [51.012068, -0.081631], [51.0024, -0.089869], [51.045175, -0.189402], [50.981373, -0.096431], [51.079944, -0.052982], [51.113604, -0.032993], [51.039855, -0.131409], [51.133656, -0.092461], [50.900902, -0.176658], [51.103323, -0.085425], [50.97895, -0.198817], [51.053177, -0.200933], [50.884192, -0.212711], [51.05157, -0.201708], [51.00722, -0.076699], [51.13842, -0.086833], [50.991325, -0.173401], [51.105675, -0.075329], [51.051483, -0.201855], [50.924081, -0.14089], [51.001207, -0.195818], [51.138121, -0.03624], [50.933878, -0.180492], [51.135035, -0.029224], [50.946637, -0.162483], [51.0945, -0.079363], [50.961699, -0.136825], [51.064565, -0.20463], [50.96687, -0.145306], [51.042356, -0.216616], [50.93584, -0.179419], [51.015814, -0.112843], [50.988567, -0.198445], [50.954372, -0.128575], [51.082946, -0.132243], [51.046694, -0.059941], [50.991498, -0.172967], [51.114853, -0.125384], [50.996391, -0.101944], [51.089454, -0.073289], [50.95714, -0.127325], [50.959792, -0.141316], [51.002911, -0.099113], [50.964555, -0.118624], [51.025716, -0.102315], [51.130421, -0.016985], [51.138123, -0.124013], [51.125879, -0.003746], [50.91684, -0.154979], [50.994841, -0.197062], [50.904819, -0.185608], [51.136044, -0.14025], [50.922053, -0.132149], [50.985146, -0.129617], [51.037723, -0.116232], [51.115569, -0.032195], [50.963498, -0.131199], [50.966604, -0.139904], [51.000858, -0.133546], [51.124793, -0.003364], [51.082856, -0.132246], [50.994477, -0.162162], [50.898513, -0.161961], [50.986172, -0.154511], [50.956969, -0.13915], [51.0046, -0.103462], [51.115327, -0.126936], [50.880317, -0.212149], [50.93245, -0.175424], [51.086235, -0.198508], [51.026322, -0.111988], [50.913051, -0.154275], [51.004153, -0.103623], [51.0038, -0.098506], [51.015814, -0.112843], [51.122168, -0.018196], [50.977424, -0.147307], [51.043805, -0.199727], [51.064983, -0.167791], [51.000929, -0.104467], [51.033057, -0.19672], [50.962777, -0.194031], [50.990274, -0.198379], [51.126048, -0.072767], [50.984359, -0.188065], [50.898544, -0.169639], [51.133479, -0.126059], [50.928371, -0.144846], [50.960341, -0.153256], [50.890619, -0.197819], [51.029711, -0.066212], [51.044617, -0.199838], [50.96796, -0.191836], [51.052037, -0.056721], [51.105103, -0.106351], [51.003932, -0.197565], [51.0199, -0.194949], [50.963115, -0.12979], [50.992236, -0.168378], [51.016848, -0.195353], [50.987637, -0.105579], [51.108798, -0.04134], [50.97777, -0.198151], [50.987505, -0.21131], [50.899585, -0.161492], [50.96795, -0.139708], [50.989273, -0.197563], [51.125976, -0.009458], [50.988096, -0.089601], [51.050459, -0.136546], [51.116103, -0.010597], [50.936803, -0.183509], [50.987819, -0.214148], [50.95884, -0.115579], [50.997633, -0.100896], [50.923973, -0.139756], [51.035499, -0.112185], [51.089541, -0.073142], [51.063884, -0.172259], [50.98168, -0.132178], [51.140027, -0.147523], [51.09895, -0.104031], [50.993227, -0.095376], [51.118612, -0.036639], [51.112198, -0.089202], [51.135698, -0.031197], [50.955537, -0.133939], [50.957958, -0.139111], [50.912867, -0.153998], [50.996364, -0.196718], [50.997045, -0.081395], [50.963497, -0.194003], [50.921176, -0.190663], [51.020989, -0.19562], [51.124262, -0.078986], [50.961427, -0.193941], [51.102512, -0.085316], [51.037905, -0.116367], [50.951338, -0.192909], [50.992664, -0.055783], [51.126545, -0.011149], [51.053265, -0.200787], [50.935421, -0.198792], [50.963535, -0.139173], [51.006171, -0.073036], [50.97323, -0.195335], [50.939523, -0.179133], [50.959753, -0.173073], [50.957427, -0.134006], [50.99547, -0.100557], [51.0292, -0.067945], [50.977377, -0.133063], [50.961138, -0.14112], [51.012869, -0.103125], [51.103863, -0.101973], [51.016091, -0.113259], [50.991473, -0.159858], [50.98141, -0.132189], [50.943089, -0.177143], [51.136517, 1e-06], [50.986475, -0.196959], [50.897033, -0.199705], [51.020058, -0.181968], [50.959297, -0.127238], [50.95179, -0.193034], [51.017475, -0.195186], [51.035819, -0.033437], [50.957726, -0.158486], [50.964746, -0.119328], [51.10745, -0.062969], [50.879929, -0.210315], [51.096776, -0.026995], [50.980741, -0.096314], [51.033543, -0.042519], [50.967898, -0.19369], [50.990291, -0.097348], [51.127313, 0.007034], [50.987655, -0.101161], [50.996579, -0.064027], [50.935283, -0.195666], [50.933872, -0.180065], [51.017461, -0.0489], [50.967442, -0.193281], [51.016405, -0.195798], [50.923945, -0.14929], [50.922061, -0.189775], [51.113075, 0.019133], [51.089551, -0.073713], [51.130069, -0.017429], [51.006389, -0.142019], [51.109105, 0.025103], [50.953815, -0.127458], [51.044321, -0.074164], [50.919372, -0.196139], [51.133048, -0.132794], [51.129817, -0.013152], [51.138031, -0.036244], [51.003343, -0.148413], [50.991408, -0.094168], [51.05022, -0.201618], [50.964469, -0.124466], [51.125029, -0.017216], [50.954181, -0.139119], [51.005923, -0.10184], [50.913373, -0.215434], [50.986287, -0.196396], [50.971601, -0.194686], [50.894435, -0.200374], [51.00424, -0.097918], [51.017475, -0.195186], [51.126132, -0.034605], [51.005641, -0.073628], [50.982415, -0.116334], [50.966174, -0.124255], [50.924286, -0.142447], [50.997047, -0.081538], [50.999788, -0.095107], [51.05344, -0.200494], [50.914553, -0.233883], [51.114323, -0.011674], [51.014703, -0.110892], [50.99954, -0.113075], [50.98251, -0.045521], [50.986515, -0.108474], [50.91928, -0.196001], [51.054894, -0.201437], [51.051748, -0.201559], [51.11698, -0.106723], [50.96477, -0.14895], [50.959026, -0.149748], [51.021027, -0.112631], [50.969977, -0.171248], [50.970257, -0.195023], [51.008163, -0.057558], [51.051151, -0.079302], [50.961642, -0.150214], [50.958447, -0.1586], [50.922572, -0.153471], [50.957602, -0.150659], [50.991175, -0.198487], [51.019422, -0.170016], [51.135594, 0.00139], [51.135021, -0.017789], [50.893479, -0.202544], [50.924538, -0.14699], [50.963594, -0.109263], [51.115037, -0.011357], [50.955392, -0.193321], [50.932922, -0.176829], [51.125792, -0.00918], [50.996714, -0.116325], [50.988571, -0.130049], [50.942776, -0.220999], [50.968339, -0.193104], [51.07204, -0.130683], [50.955445, -0.1338], [51.015254, -0.111582], [51.020899, -0.195624], [50.96559, -0.155326], [50.894842, -0.162959], [50.887949, -0.22906], [51.116243, -0.029452], [50.949115, -0.142881], [50.9878, -0.201182], [51.078577, -0.051897], [50.961327, -0.153074], [50.987657, -0.101303], [50.954313, -0.193363], [50.997004, -0.100922], [50.883833, -0.212725], [50.956969, -0.13915], [50.994354, -0.098322], [51.137479, -0.019542], [50.999544, -0.096685], [50.966539, -0.135777], [51.045949, -0.118894], [50.895217, -0.163939], [50.983715, -0.130102], [50.932917, -0.176544], [51.032325, -0.138558], [51.075012, -0.043053], [51.052877, -0.164274], [51.001216, -0.196387], [51.074505, -0.039648], [50.96558, -0.115307], [51.107302, -0.027261], [50.986441, -0.109475], [50.956699, -0.133465], [51.10333, -0.085854], [50.999521, -0.111936], [51.030839, -0.052902], [51.134745, -0.006794], [50.96817, -0.193822], [50.986651, -0.196667], [51.00587, -0.104123], [51.014975, -0.111023], [50.89869, -0.1675], [50.984271, -0.165129], [51.025917, -0.070649], [51.009318, -0.078465], [51.005044, -0.0976], [50.953473, -0.128611], [51.02, -0.195658], [51.000946, -0.196398], [50.932878, -0.179819], [50.899475, -0.206437], [50.97868, -0.198828], [51.128213, -0.014078], [50.908244, -0.209372], [50.979377, -0.117597], [51.123127, -0.037733], [51.130356, -0.133189], [50.98881, -0.100259], [51.03095, -0.054181], [50.982271, -0.152386], [50.999593, -0.110793], [50.985425, -0.113363], [51.005129, -0.130666], [51.04492, -0.013221], [51.051033, -0.201872], [51.001294, -0.195672], [50.954176, -0.138835], [50.999396, -0.12092], [51.108082, -0.041514], [50.901369, -0.177777], [51.049791, -0.078645], [51.012637, -0.094438], [50.986114, -0.111483], [51.114968, -0.110234], [51.112373, 0.028532], [50.977339, -0.147596], [50.983531, -0.129825], [51.064202, -0.204359], [50.929075, -0.195479], [50.889988, -0.16315], [51.126958, -0.003699], [50.946746, -0.140982], [50.927542, -0.195254], [50.967541, -0.193847], [50.951751, -0.150322], [51.126419, -0.00901], [51.00658, -0.109084], [51.082961, -0.077699], [50.999204, -0.092423], [50.954089, -0.13898], [50.998415, -0.166709], [51.045706, -0.200509], [50.902082, -0.160113], [51.124883, -0.008648], [50.968369, -0.160486], [50.935808, -0.183121], [51.135089, -0.114273], [51.084275, -0.199726], [51.128341, -0.136557], [51.112739, -0.03503], [51.134178, -0.026401], [50.967959, -0.117774], [51.104999, -0.077928], [51.125171, -0.085094], [50.926955, -0.163401], [51.138916, 0.006966], [51.012379, -0.095161], [50.96885, -0.162461], [50.987522, -0.154599], [50.990221, -0.230157], [50.982416, -0.04524], [51.014024, -0.080267], [51.129338, -0.065055], [51.103415, -0.085564], [51.013494, -0.080859], [50.95068, -0.139544], [50.994437, -0.097891], [51.015342, -0.111436], [51.024435, -0.112065], [51.024707, -0.112196], [50.992, -0.091863], [50.998932, -0.092292], [51.037207, -0.197558], [51.135045, -0.0621], [51.064289, -0.204213], [50.901084, -0.176793], [50.984514, -0.047004], [50.938608, -0.207209], [51.0197, -0.142058], [51.124789, -0.008366], [50.901102, -0.160721], [51.005872, -0.104266], [50.996006, -0.100393], [51.083972, -0.197596], [51.005064, -0.065955], [51.003572, -0.10664], [51.006016, -0.080027], [50.924453, -0.15297], [51.023758, -0.171271], [51.105004, -0.105784], [51.043797, -0.199156], [50.980206, -0.198626], [50.966307, -0.126956], [50.90158, -0.17976], [51.014888, -0.111169], [50.957337, -0.134009], [51.124776, -0.088397], [51.015434, -0.111575], [50.994566, -0.100309], [51.132325, -0.002038], [50.988111, -0.198035], [50.964598, -0.121328], [50.894851, -0.163527], [50.93561, -0.199354], [51.124519, -0.008377], [51.123863, -0.006834], [51.089364, -0.073293], [50.990003, -0.198247], [51.024687, -0.196332], [51.126632, -0.011002], [50.954462, -0.128571], [51.093269, -0.1254], [50.907292, -0.188499], [50.955801, -0.139197], [50.924085, -0.141174], [50.995921, -0.100681], [51.109578, -0.050308], [51.133569, -0.126055], [51.006729, -0.198169], [50.899232, -0.161932], [51.075292, -0.15425], [50.985766, -0.112209], [50.906176, -0.157392], [51.039513, -0.088057], [51.020025, -0.073317], [51.075438, -0.047032], [51.123871, -0.007262], [51.137169, -0.12062], [51.13152, -0.028802], [50.901389, -0.179057], [51.07538, -0.154104], [51.012836, -0.197647], [51.030359, -0.196682], [50.965274, -0.118595], [51.131788, -0.002204], [51.113623, -0.00756], [50.96157, -0.117605], [51.006142, -0.132194], [50.999284, -0.102824], [50.965603, -0.11673], [51.00157, -0.105154], [51.066968, -0.084072], [51.041361, -0.19868], [51.062367, -0.167323], [51.091847, -0.076617], [51.070334, -0.142172], [51.120298, -0.003415], [51.119576, -0.083896], [51.135969, 0.021418], [50.895116, -0.163232], [51.133122, -0.126216], [51.109105, 0.025103], [51.107452, -0.063112], [51.109682, -0.029731], [51.113095, -0.11674], [51.141794, -0.078687], [51.009694, -0.140604], [51.056735, -0.112892], [51.100004, -0.021144], [51.110152, -0.112716], [51.033414, -0.196564], [50.999609, -0.11179], [51.133135, -0.132648], [51.048683, -0.201107], [50.963504, -0.109267], [51.125979, -0.009601], [50.970696, -0.194294], [51.139889, -0.116364], [50.908865, -0.156859], [51.000472, -0.092941], [51.079834, -0.203325], [50.986817, -0.195806], [50.885263, -0.165752], [51.111393, 0.022775], [51.00791, -0.141531], [51.100149, -0.056561], [50.967175, -0.193434], [50.899587, -0.161634], [51.081642, -0.209823], [50.957597, -0.150374], [51.106932, -0.086133], [51.062696, -0.136911], [51.030081, -0.110837], [51.125563, -0.016907], [51.005818, -0.073478], [51.103411, -0.085279], [50.993488, -0.100353], [50.901807, -0.182738], [50.987477, -0.209459], [51.041279, -0.130495], [51.1362, -0.094072], [50.926244, -0.198577], [51.056713, -0.083924], [51.066077, -0.157329], [50.962763, -0.158571], [51.051116, -0.201441], [51.027037, -0.111674], [50.916338, -0.191846], [51.098959, -0.104602], [51.132783, -0.127516], [50.89967, -0.207425], [51.009273, -0.075759], [51.103141, -0.08529], [51.002497, -0.079317], [51.030451, -0.196821], [50.928166, -0.166057], [50.995204, -0.073348], [51.043229, -0.051669], [51.03282, -0.216412], [50.894759, -0.163388], [51.015819, -0.113128], [50.939552, -0.180982], [51.045633, -0.189954], [50.991509, -0.128221], [50.964892, -0.139688], [50.935998, -0.195354], [51.133378, -0.125348], [50.891351, -0.198644], [50.972566, -0.170006], [50.887856, -0.193661], [50.987102, -0.196792], [51.103766, -0.101549], [51.009424, -0.140615], [51.102215, -0.089185], [51.085207, -0.133008], [51.137206, -0.106181], [51.136636, 0.02445], [51.13786, 0.005633], [51.141609, -0.078409], [51.051029, -0.201587], [50.899498, -0.161638], [50.931499, -0.195243], [50.996005, -0.196732], [51.002313, -0.128927], [50.958687, -0.134097], [51.028405, -0.068834], [50.947086, -0.162465], [51.131292, -0.129864], [50.959569, -0.127369], [50.923517, -0.139347], [50.989731, -0.198115], [51.075202, -0.154254], [51.000957, -0.089643], [50.977465, -0.132917], [50.96454, -0.123324], [51.091015, -0.075223], [51.012924, -0.197501], [51.015138, -0.121139], [50.942347, -0.222297], [50.992092, -0.092002], [50.924095, -0.153126], [51.104347, -0.104096], [51.013494, -0.080859], [51.100321, -0.056125], [50.962341, -0.131957], [51.061219, -0.106572], [50.933869, -0.179923], [51.11403, -0.031546], [51.122685, -0.038181], [51.13786, 0.005633], [50.947165, -0.116621], [50.942991, -0.193944], [51.071802, -0.08273], [50.990026, -0.176587], [51.134362, -0.026679], [50.963433, -0.149715], [51.024617, -0.1122], [50.996583, -0.064312], [50.993506, -0.095934], [50.893941, -0.162852], [51.070441, -0.160296], [51.136786, -0.124781], [51.082944, -0.1321], [50.959311, -0.173518], [51.023146, -0.093579], [51.137451, -0.115749], [50.96376, -0.193566], [50.977912, -0.132757], [51.123579, -0.000701], [51.061148, -0.135689], [51.060374, -0.038961], [50.886756, -0.192281], [50.901192, -0.160717], [51.136002, -0.092936], [51.082944, -0.1321], [50.902517, -0.182142], [50.957234, -0.138855], [50.963041, -0.108431], [50.944253, -0.176813], [50.94821, -0.12569], [50.975573, -0.115899], [51.126722, -0.010998], [50.987578, -0.210167], [51.040096, -0.198301], [50.952845, -0.15697], [51.126445, -0.010581], [51.006389, -0.108379], [50.879504, -0.188582], [50.990418, -0.23129], [51.059135, -0.202414], [50.959629, -0.194011], [50.992182, -0.091999], [51.003326, -0.108076], [51.126542, -0.011006], [51.008766, -0.138788], [50.905733, -0.186568], [51.025133, -0.231395], [51.100186, -0.021279], [51.060674, -0.203068], [50.951928, -0.150172], [51.00769, -0.029352], [50.98677, -0.107609], [50.984513, -0.129358], [51.000792, -0.090505], [51.112906, 0.023698], [51.007796, -0.095349], [51.110516, -0.112987], [51.08826, -0.071768], [50.922208, -0.153201], [51.102855, -0.095301], [51.00478, -0.103455], [51.127458, -0.011967], [50.991655, -0.159993], [51.123651, 0.000302], [51.106478, -0.085866], [50.988744, -0.198296], [51.042622, -0.015602], [50.947446, -0.162451], [51.015996, -0.112978], [51.128857, -0.014908], [51.134367, -0.026965], [51.017558, -0.194755], [51.031619, -0.196776], [50.969928, -0.173813], [50.990418, -0.23129], [50.878407, -0.187487], [51.112737, -0.034887], [51.115122, -0.086509], [50.9116, -0.153479], [50.97947, -0.117736], [50.901672, -0.179899], [50.902234, -0.181299], [50.902234, -0.181299], [51.114425, -0.007097], [50.977292, -0.133352], [50.924942, -0.155512], [51.034136, -0.196678], [50.975819, -0.13683], [51.136164, -0.125236], [51.021349, -0.195606], [51.028377, -0.196474], [51.123924, -0.005116], [51.065421, -0.16706], [51.048319, -0.200836], [51.049582, -0.201072], [50.940509, -0.178952], [50.88677, -0.164414], [51.001918, -0.104427], [51.13081, -0.018684], [51.056447, -0.078655], [51.135764, -0.06207], [50.942743, -0.224701], [51.136098, -0.093361], [51.048681, -0.200964], [50.992752, -0.055636], [50.941731, -0.142321], [51.056898, -0.117451], [50.957086, -0.140854], [51.113095, -0.11674], [51.104432, -0.103807], [51.136464, 0.024013], [51.024687, -0.196332], [50.992002, -0.053815], [51.040498, -0.065906], [50.899077, -0.169192], [50.987402, -0.11884], [51.13342, -0.024147], [50.998348, -0.122815], [51.043527, -0.199167], [51.016106, -0.125377], [50.978274, -0.116075], [51.039005, -0.197488], [51.133216, -0.132073], [50.987747, -0.1013], [51.007646, -0.136267], [50.995023, -0.197198], [51.127808, -0.016668], [51.016315, -0.195801], [51.133042, -0.017731], [50.893485, -0.162443], [51.026263, -0.09174], [51.106842, -0.086137], [51.000189, -0.125449], [50.959814, -0.194289], [50.953904, -0.127455], [50.997073, -0.121869], [50.982971, -0.046214], [51.073255, -0.034848], [50.9952, -0.100568], [50.982684, -0.094098], [51.057969, -0.196751], [50.955301, -0.130389], [51.102305, -0.089181], [50.947476, -0.204875], [51.001452, -0.086915], [50.945226, -0.210656], [51.015383, -0.114001], [50.933952, -0.128256], [50.996805, -0.196131], [50.942999, -0.177146], [51.099402, -0.143435], [51.042257, -0.186805], [50.968986, -0.171144], [50.96477, -0.14895], [50.981323, -0.132335], [50.984423, -0.129361], [50.924473, -0.15425], [51.070086, -0.160595], [50.91625, -0.191992], [51.000244, -0.101075], [50.918898, -0.154328], [50.976824, -0.115421], [51.077048, -0.203433], [50.924079, -0.140748], [50.989113, -0.181467], [51.137283, -0.03456], [50.976651, -0.115855], [51.049944, -0.201201], [50.996586, -0.064455], [51.115122, -0.086509], [50.914051, -0.212705], [51.070369, -0.083075], [50.965451, -0.118445], [51.125248, -0.008918], [50.929947, -0.199573], [51.039686, -0.065797], [51.134355, -0.124594], [51.089456, -0.073432], [51.002082, -0.092448], [50.978449, -0.132593], [51.069583, -0.203437], [50.988284, -0.197601], [50.952841, -0.15099], [51.034767, -0.196796], [50.987488, -0.210171], [51.132648, -0.021035], [51.115035, -0.125519], [51.140002, -0.117789], [50.911127, -0.192191], [51.103325, -0.085568], [50.976251, -0.147069], [51.084486, -0.132895], [50.996268, -0.196294], [50.990508, -0.231287], [51.030231, -0.06505], [50.957284, -0.193532], [51.133235, -0.029157], [51.089085, -0.17355], [50.980923, -0.096449], [50.999307, -0.115365], [51.064668, -0.147822], [50.988385, -0.19831], [50.992943, -0.094532], [51.081317, -0.188705], [50.946669, -0.193375], [51.11579, -0.008038], [51.003795, -0.098221], [50.986756, -0.101198], [50.951343, -0.193193], [50.999394, -0.120778], [51.011371, -0.167054], [51.017208, -0.195339], [50.955801, -0.139197], [51.012566, -0.140204], [51.00231, -0.089873], [51.013666, -0.10794], [50.999507, -0.111081], [50.898987, -0.169195], [50.934257, -0.175923], [50.932163, -0.174297], [50.998424, -0.105282], [50.927957, -0.181435], [50.957167, -0.140281], [51.104061, -0.103108], [51.13772, -0.088005], [50.944056, -0.141516], [50.993135, -0.095237], [50.897709, -0.162277], [50.935522, -0.1995], [51.107003, -0.068559], [50.903415, -0.20529], [50.995638, -0.12207], [51.133137, -0.132791], [51.042695, -0.06824], [51.127718, -0.016672], [51.12335, 0.002146], [51.001557, -0.065958], [50.900578, -0.202128], [50.981853, -0.165795], [50.957823, -0.193512], [50.998518, -0.100005], [50.998989, -0.101268], [50.978993, -0.149809], [51.103316, -0.084997], [51.137054, -0.102328], [51.002133, -0.128934], [50.987573, -0.209883], [50.915745, -0.131405], [50.896273, -0.162476], [50.994474, -0.162019], [50.940489, -0.212546], [50.93341, -0.1909], [50.921299, -0.192792], [51.132012, -0.020633], [50.994045, -0.163319], [51.123841, -0.000261], [50.924277, -0.153262], [50.963967, -0.149409], [50.993418, -0.096081], [50.934564, -0.195694], [51.00895, -0.139066], [51.126958, -0.089879], [51.069491, -0.203298], [51.11962, -0.005873], [51.061092, -0.189352], [50.934445, -0.147877], [50.963973, -0.127192], [50.950498, -0.139409], [51.124392, -0.000952], [50.965314, -0.15491], [50.953757, -0.146398], [51.040182, -0.198013], [51.127361, -0.01683], [51.089853, -0.0757], [51.118566, -0.00206], [51.121313, -0.020805], [50.976561, -0.115859], [51.021949, -0.170629], [50.900834, -0.160874], [50.932073, -0.1743], [51.125664, 0.008821], [51.06115, -0.135832], [51.009774, -0.100828], [50.996583, -0.064312], [51.006128, -0.1034], [51.055354, -0.202133], [51.12637, -0.011442], [51.09542, -0.026624], [51.051662, -0.201848], [50.995562, -0.084164], [51.084937, -0.133019], [51.12335, 0.002146], [50.898204, -0.199802], [50.953319, -0.130183], [51.061265, -0.188917], [51.115127, -0.086795], [50.987479, -0.209601], [51.03309, -0.063932], [51.005152, -0.166158], [50.961138, -0.14112], [50.921275, -0.128481], [50.96145, -0.121312], [51.050481, -0.201037], [50.998887, -0.106118], [51.113005, -0.116743], [51.134081, -0.025977], [51.015556, -0.113566], [50.990546, -0.198511], [51.015254, -0.111582], [50.89878, -0.167497], [51.0405, -0.066048], [51.066291, -0.16517], [51.023779, -0.071878], [50.981013, -0.096446], [51.100064, -0.05685], [50.990459, -0.198657], [50.901582, -0.179902], [50.953235, -0.193405], [51.138072, -0.087562], [50.994463, -0.161307], [51.010199, -0.082848], [50.953961, -0.131012], [51.044102, -0.071748], [50.954089, -0.127732], [51.002632, -0.104113], [51.102305, -0.089181], [50.988125, -0.216558], [50.992047, -0.167815], [51.141704, -0.078691], [51.138685, -0.086536], [50.919955, -0.193129], [50.988012, -0.101004], [51.10368, -0.085268], [50.893033, -0.162319], [51.139736, -0.020017], [50.987485, -0.101738], [50.975517, -0.197811], [51.139738, -0.02016], [51.081607, -0.055625], [50.961629, -0.138109], [51.138317, -0.108137], [51.129051, -0.015758], [50.960468, -0.138583], [51.015154, -0.122137], [50.967813, -0.193979], [51.123766, -0.011697], [50.996673, -0.102646], [51.09403, -0.12237], [51.123596, -0.012276], [51.025856, -0.196287], [50.901014, -0.160867], [51.020327, -0.14189], [51.119132, -0.014182], [50.950015, -0.126045], [51.133939, -0.033558], [50.898531, -0.168786], [51.000701, -0.151939], [51.135734, 0.019407], [50.947801, -0.162153], [50.975102, -0.137001], [50.94937, -0.234699], [50.91107, -0.154069], [50.934471, -0.183885], [50.915739, -0.130979], [51.117592, -0.034824], [50.954159, -0.132143], [50.878589, -0.187622], [51.019273, -0.195116], [51.069943, -0.203423], [51.015221, -0.120708], [51.137319, -0.091024], [51.050853, -0.201879], [51.136096, -0.093218], [51.018509, -0.192294], [50.990238, -0.231297], [50.95679, -0.139157], [51.113165, 0.019137], [51.044432, -0.19956], [50.997304, -0.097204], [50.951933, -0.150457], [50.984295, -0.099161], [51.141612, -0.078552], [51.11274, -0.122612], [50.987628, -0.207601], [50.953637, -0.138856], [50.967905, -0.194117], [51.134754, -0.115858], [50.99127, -0.198768], [50.902023, -0.196668], [51.12655, -0.016722], [51.019591, -0.198241], [51.057362, -0.198202], [50.991496, -0.172824], [51.025137, -0.196315], [50.965306, -0.131838], [50.987496, -0.047877], [51.137868, -0.119306], [51.123776, -0.001693], [50.962496, -0.158724], [51.13208, -0.128545], [51.042898, -0.199191], [50.991625, -0.198469], [50.889815, -0.163583], [50.965835, -0.15375], [51.06564, -0.204303], [50.933009, -0.176683], [50.93492, -0.126936], [50.887132, -0.164542], [51.085027, -0.133016], [50.935277, -0.12678], [50.878414, -0.187913], [50.948213, -0.125833], [51.093763, -0.067397], [51.105685, -0.048758], [50.995538, -0.08274], [50.950593, -0.197066], [51.048167, -0.078285], [51.002506, -0.107396], [50.965194, -0.130419], [51.053081, -0.200508], [50.894752, -0.162962], [50.91931, -0.197991], [50.965277, -0.146936], [51.052894, -0.200088], [51.047816, -0.07887], [51.016407, -0.19594], [50.953758, -0.112795], [50.999461, -0.108233], [50.893574, -0.16244], [51.047506, -0.200582], [50.988295, -0.198313], [50.988383, -0.198167], [50.982806, -0.198098], [50.905196, -0.157999], [50.984233, -0.197331], [51.108994, -0.053047], [51.000698, -0.151796], [51.019985, -0.200507], [51.021894, -0.196013], [51.083972, -0.197596], [50.947167, -0.116763], [50.966813, -0.193305], [51.138128, -0.107573], [50.893754, -0.162433], [50.922534, -0.134122], [51.037209, -0.1977], [51.122656, -0.074337], [50.99209, -0.09186], [51.126635, -0.011145], [50.954817, -0.139521], [51.047596, -0.200578], [51.017922, -0.195026], [50.999755, -0.137724], [50.990908, -0.198639], [50.983873, -0.197345], [51.048679, -0.200822], [50.934967, -0.186854], [50.964613, -0.139129], [50.954125, -0.130009], [51.13656, -0.099632], [51.132406, -0.13768], [51.00552, -0.104708], [51.003745, -0.197144], [51.134802, -0.124433], [51.12979, -0.016869], [50.891593, -0.162233], [50.980368, -0.1177], [51.011257, -0.081522], [51.047415, -0.120547], [51.020364, -0.195929], [51.110935, 0.028469], [50.934045, -0.179631], [51.134754, -0.115858], [50.940934, -0.224059], [50.997864, -0.104022], [51.048499, -0.200829], [50.923894, -0.14047], [51.124738, -0.130557], [50.994214, -0.197229], [50.96125, -0.194091], [50.989527, -0.179171], [50.903635, -0.184658], [51.130441, -0.1329], [50.900994, -0.176796], [50.99042, -0.050604], [51.02665, -0.172155], [51.132662, -0.092216], [51.123783, -0.007409], [50.991998, -0.170382], [50.986668, -0.197806], [51.00791, -0.113449], [51.073338, -0.034416], [50.954357, -0.133274], [50.980388, -0.198762], [51.090194, -0.074543], [50.901062, -0.175372], [50.974872, -0.196838], [50.987847, -0.215999], [50.962449, -0.150039], [51.103554, -0.099558], [50.887036, -0.192981], [51.030597, -0.054623], [51.085663, -0.133418], [51.082559, -0.199222], [51.078765, -0.146402], [50.930784, -0.195556], [50.896183, -0.162479], [51.129278, -0.029183], [51.036214, -0.197311], [51.123474, 0.000151], [50.948824, -0.193149], [50.901868, -0.180887], [50.9779, -0.115235], [51.105627, -0.023904], [51.1396, -0.120808], [51.134367, -0.026965], [50.892761, -0.162187], [51.094592, -0.079502], [50.904549, -0.185618], [51.134081, -0.025977], [51.126958, -0.003699], [51.134665, -0.115862], [51.084111, -0.200732], [51.007305, -0.098363], [51.081086, -0.202848], [51.005877, -0.104551], [51.141614, -0.078695], [51.137378, -0.034842], [51.029109, -0.089769], [50.939177, -0.145697], [50.991871, -0.089446], [50.952023, -0.150453], [51.002836, -0.067188], [50.954125, -0.130009], [50.978406, -0.198554], [50.995739, -0.06221], [50.912931, -0.192548], [50.990238, -0.231297], [50.992097, -0.054096], [51.01255, -0.094584], [50.95495, -0.147916], [51.031799, -0.196769], [51.006991, -0.095667], [51.068423, -0.163516], [50.97835, -0.14898], [51.049043, -0.201093], [50.895383, -0.163079], [51.033039, -0.03926], [50.909064, -0.210051], [50.986137, -0.12972], [51.005076, -0.072084], [50.95696, -0.138581], [50.970514, -0.194159], [51.083155, -0.202911], [50.961568, -0.151214], [51.018547, -0.194717], [50.896273, -0.162476], [50.937589, -0.125121], [51.000157, -0.101221], [50.992969, -0.198132], [50.896185, -0.162621], [51.121553, -0.01908], [50.964756, -0.165186], [50.99138, -0.159719], [50.987479, -0.209601], [51.02415, -0.196495], [51.126273, -0.016305], [50.987621, -0.189648], [51.046693, -0.200328], [51.075645, -0.153808], [51.132882, -0.133659], [50.886944, -0.192843], [50.959269, -0.14803], [51.094426, -0.119069], [51.116506, 0.013139], [50.965927, -0.148192], [50.987802, -0.201325], [50.895848, -0.164057], [50.978, -0.132611], [50.991898, -0.052964], [50.89852, -0.168076], [51.124723, -0.036379], [50.992095, -0.092145], [51.081135, -0.131459], [51.105035, -0.08564], [51.043887, -0.199153], [51.139629, -0.083781], [51.089364, -0.073293], [51.122014, -0.128952], [50.997221, -0.103193], [51.133113, -0.125645], [50.943075, -0.141983], [50.932827, -0.176548], [51.046517, -0.20062], [51.119039, -0.024617], [50.901012, -0.160725], [51.002808, -0.165823], [50.999915, -0.108499], [51.083885, -0.197743], [50.954248, -0.137693], [50.895651, -0.162927], [51.130756, -0.004965], [51.082771, -0.201355], [50.924635, -0.153105], [51.005589, -0.027446], [51.04913, -0.200947], [51.12647, -0.012009], [50.953462, -0.139148], [50.993932, -0.094492], [51.088155, -0.076342], [51.020272, -0.19579], [50.982323, -0.116196], [51.064199, -0.204216], [51.134283, -0.00081], [51.103415, -0.085564], [51.055398, -0.199134], [51.139579, -0.125097], [50.955899, -0.134067], [51.043347, -0.199174], [50.982556, -0.130719], [51.078767, -0.146545], [50.922209, -0.22278], [51.124843, -0.081534], [50.999609, -0.11179], [51.024508, -0.196339], [50.884714, -0.165205], [51.083126, -0.132235], [51.00604, -0.103546], [50.964833, -0.119182], [51.03784, -0.197818], [50.965583, -0.115449], [50.893896, -0.200395], [50.960207, -0.17334], [51.036019, -0.024014], [51.105507, -0.048908], [51.007827, -0.10832], [50.932915, -0.176402], [50.964941, -0.194375], [51.00478, -0.103455], [50.901389, -0.179057], [51.1297, -0.016873], [51.126445, -0.010581], [50.95837, -0.114317], [50.992097, -0.054096], [50.931271, -0.174759], [51.010504, -0.198023], [50.911425, -0.15377], [51.084937, -0.133019], [51.069996, -0.160599], [51.136943, -0.106621], [51.116899, -0.107297], [51.02899, -0.138121], [51.043705, -0.199017], [50.965269, -0.123864], [51.032109, -0.064401], [50.999517, -0.111651], [50.893754, -0.162433], [50.997406, -0.103471], [50.989875, -0.088388], [51.123008, -0.009443], [51.132214, -0.016622], [50.894615, -0.200367], [51.107003, -0.068559], [51.137204, -0.106038], [51.123851, -0.00612], [51.139145, -0.038341], [50.956253, -0.139321], [51.008272, -0.204952], [51.081659, -0.064189], [50.933242, -0.128854], [51.105627, -0.023904], [50.977467, -0.13306], [50.96993, -0.173956], [50.997557, -0.157907], [51.133616, -0.123338], [50.878138, -0.187497], [51.139669, -0.125094], [51.083885, -0.197743], [51.0666, -0.133614], [50.990728, -0.198646], [50.976856, -0.134224], [51.023092, -0.112404], [50.980276, -0.117561], [51.038082, -0.116217], [51.086233, -0.198365], [50.889811, -0.163299], [50.995931, -0.101251], [51.126049, -0.003167], [51.079032, -0.146249], [51.116812, -0.107444], [50.983397, -0.115867], [51.03605, -0.112876], [51.063148, -0.03813], [51.135174, -0.113983], [50.987484, -0.209886], [51.111489, -0.089803], [51.000503, -0.10591], [51.050123, -0.201194], [51.136782, -0.107771], [50.967675, -0.133737], [50.967912, -0.200384], [50.933847, -0.195864], [51.019988, -0.183254], [50.954215, -0.130005], [50.936107, -0.179266], [50.957062, -0.139289], [50.920218, -0.192692], [50.961406, -0.146663], [50.967892, -0.193263], [50.938817, -0.145711], [51.058815, -0.085978], [50.991746, -0.087314], [51.00272, -0.165969], [50.965323, -0.155479], [51.089364, -0.073293], [50.931981, -0.174162], [50.878232, -0.187778], [51.123756, -0.005838], [50.925434, -0.152504], [50.982644, -0.130573], [50.899585, -0.207713], [51.089364, -0.073293], [50.996496, -0.064458], [51.002572, -0.083875], [51.127062, 0.000735], [50.961697, -0.241068], [51.115531, -0.029911], [51.141704, -0.078691], [51.120231, -0.129882], [51.069129, -0.084268], [50.928261, -0.166338], [50.954214, -0.135558], [51.077142, -0.203715], [51.10576, -0.047897], [51.044886, -0.199827], [51.035051, -0.014641], [50.986228, -0.04736], [50.915748, -0.131548], [51.040188, -0.19844], [50.948225, -0.14918], [51.005941, -0.10298], [50.89457, -0.162827], [50.878955, -0.188034], [50.988211, -0.130064], [50.994833, -0.122387], [51.015691, -0.196111], [51.011077, -0.081529], [50.894613, -0.200225], [51.086265, -0.076277], [51.135906, 0.019843], [50.930874, -0.195552], [51.084244, -0.197729], [51.040558, -0.130382], [51.004418, -0.097768], [51.020899, -0.195624], [51.005718, -0.10584], [51.085391, -0.133286], [51.136446, -0.092632], [51.056976, -0.202355], [51.087933, -0.134755], [51.002294, -0.196346], [51.060586, -0.134285], [51.068952, -0.203319], [50.953628, -0.127039], [50.884563, -0.190091], [51.015816, -0.112985], [51.012727, -0.094434], [50.943806, -0.19434], [50.951543, -0.125983], [51.075469, -0.1541], [51.136941, -0.057161], [51.029977, -0.137939], [50.99979, -0.145561], [50.962857, -0.130513], [50.961997, -0.155611], [50.995336, -0.043415], [50.892943, -0.162322], [51.123839, -0.000118], [51.13507, 0.000509], [51.139104, 0.001256], [51.004887, -0.071521], [51.039838, -0.015863], [50.924001, -0.147154], [51.093853, -0.067393], [50.976591, -0.134519], [51.126093, -0.016313], [50.961623, -0.137683], [51.001114, -0.088211], [50.954024, -0.129301], [50.964479, -0.193538], [51.102488, -0.145168], [50.952292, -0.161833], [50.993817, -0.104045], [51.121569, 0.006357], [50.954089, -0.13898], [51.133037, -0.022734], [50.932009, -0.147405], [50.919865, -0.193133], [51.128771, -0.031062], [50.908775, -0.156862], [51.118176, -0.026798], [51.016108, -0.12552], [51.135172, -0.11384], [51.067119, -0.132309], [51.020633, -0.219304], [51.117131, -0.093857], [51.014224, -0.142704]],\n",
       "                {\n",
       "  &quot;minOpacity&quot;: 0.5,\n",
       "  &quot;maxZoom&quot;: 18,\n",
       "  &quot;radius&quot;: 25,\n",
       "  &quot;blur&quot;: 15,\n",
       "}\n",
       "            );\n",
       "        \n",
       "    \n",
       "            heat_map_99c5b3eb1e55acbbd3ac655ff0f2518d.addTo(map_bae0de21c6fe5bb760785af98ce039b1);\n",
       "        \n",
       "    \n",
       "            tile_layer_5f7de48b384bb6e7b6e0e2edad4f2d98.addTo(map_bae0de21c6fe5bb760785af98ce039b1);\n",
       "        \n",
       "    \n",
       "            heat_map_99c5b3eb1e55acbbd3ac655ff0f2518d.addTo(map_bae0de21c6fe5bb760785af98ce039b1);\n",
       "        \n",
       "&lt;/script&gt;\n",
       "&lt;/html&gt;\" style=\"position:absolute;width:100%;height:100%;left:0;top:0;border:none !important;\" allowfullscreen webkitallowfullscreen mozallowfullscreen></iframe></div></div>"
      ],
      "text/plain": [
       "<folium.folium.Map at 0x20ac566f890>"
      ]
     },
     "execution_count": 79,
     "metadata": {},
     "output_type": "execute_result"
    }
   ],
   "source": [
    "locations = list(zip(Mid_Sussex_DF['Latitude'], Mid_Sussex_DF['Longitude']))\n",
    "m = folium.Map(locations = [Mid_Sussex_DF['Latitude'].mean(), Mid_Sussex_DF['Longitude'].mean()], zoom_start = 10)\n",
    "HeatMap(locations).add_to(m)\n",
    "m.save(\"Mid_Sussex_DF.html\")\n",
    "m"
   ]
  },
  {
   "cell_type": "markdown",
   "id": "4e948d87-183e-4a96-a9b3-abf4a87accc0",
   "metadata": {},
   "source": [
    "<h4>27. Insights:</h4>\n",
    "<h4>According to our heatmap in the Area of Sussex, we have a total of 1475 Accidents in this area and some of the hotspots are located either the Major Intersections of the Area or Roundabouts.</h4>\n",
    "<hr>"
   ]
  },
  {
   "cell_type": "code",
   "execution_count": 99,
   "id": "85450749-3ff5-4151-b4d3-3ffc6b16e2f2",
   "metadata": {},
   "outputs": [
    {
     "data": {
      "text/plain": [
       "np.int64(133)"
      ]
     },
     "execution_count": 99,
     "metadata": {},
     "output_type": "execute_result"
    }
   ],
   "source": [
    "#Shetland Islands\n",
    "Shetland_Islands_DF = UKRoad[UKRoad[\"District Area\"] == 'Shetland Islands']\n",
    "Shetland_Islands_DF.value_counts().sum()"
   ]
  },
  {
   "cell_type": "code",
   "execution_count": 82,
   "id": "ed2b3fa1-2190-4f81-867a-eb602e438a0b",
   "metadata": {},
   "outputs": [
    {
     "data": {
      "text/html": [
       "<div style=\"width:100%;\"><div style=\"position:relative;width:100%;height:0;padding-bottom:60%;\"><span style=\"color:#565656\">Make this Notebook Trusted to load map: File -> Trust Notebook</span><iframe srcdoc=\"&lt;!DOCTYPE html&gt;\n",
       "&lt;html&gt;\n",
       "&lt;head&gt;\n",
       "    \n",
       "    &lt;meta http-equiv=&quot;content-type&quot; content=&quot;text/html; charset=UTF-8&quot; /&gt;\n",
       "    &lt;script src=&quot;https://cdn.jsdelivr.net/npm/leaflet@1.9.3/dist/leaflet.js&quot;&gt;&lt;/script&gt;\n",
       "    &lt;script src=&quot;https://code.jquery.com/jquery-3.7.1.min.js&quot;&gt;&lt;/script&gt;\n",
       "    &lt;script src=&quot;https://cdn.jsdelivr.net/npm/bootstrap@5.2.2/dist/js/bootstrap.bundle.min.js&quot;&gt;&lt;/script&gt;\n",
       "    &lt;script src=&quot;https://cdnjs.cloudflare.com/ajax/libs/Leaflet.awesome-markers/2.0.2/leaflet.awesome-markers.js&quot;&gt;&lt;/script&gt;\n",
       "    &lt;link rel=&quot;stylesheet&quot; href=&quot;https://cdn.jsdelivr.net/npm/leaflet@1.9.3/dist/leaflet.css&quot;/&gt;\n",
       "    &lt;link rel=&quot;stylesheet&quot; href=&quot;https://cdn.jsdelivr.net/npm/bootstrap@5.2.2/dist/css/bootstrap.min.css&quot;/&gt;\n",
       "    &lt;link rel=&quot;stylesheet&quot; href=&quot;https://netdna.bootstrapcdn.com/bootstrap/3.0.0/css/bootstrap-glyphicons.css&quot;/&gt;\n",
       "    &lt;link rel=&quot;stylesheet&quot; href=&quot;https://cdn.jsdelivr.net/npm/@fortawesome/fontawesome-free@6.2.0/css/all.min.css&quot;/&gt;\n",
       "    &lt;link rel=&quot;stylesheet&quot; href=&quot;https://cdnjs.cloudflare.com/ajax/libs/Leaflet.awesome-markers/2.0.2/leaflet.awesome-markers.css&quot;/&gt;\n",
       "    &lt;link rel=&quot;stylesheet&quot; href=&quot;https://cdn.jsdelivr.net/gh/python-visualization/folium/folium/templates/leaflet.awesome.rotate.min.css&quot;/&gt;\n",
       "    \n",
       "            &lt;meta name=&quot;viewport&quot; content=&quot;width=device-width,\n",
       "                initial-scale=1.0, maximum-scale=1.0, user-scalable=no&quot; /&gt;\n",
       "            &lt;style&gt;\n",
       "                #map_a28e7edcba28fec99d3f3b1b05d048e7 {\n",
       "                    position: relative;\n",
       "                    width: 100.0%;\n",
       "                    height: 100.0%;\n",
       "                    left: 0.0%;\n",
       "                    top: 0.0%;\n",
       "                }\n",
       "                .leaflet-container { font-size: 1rem; }\n",
       "            &lt;/style&gt;\n",
       "\n",
       "            &lt;style&gt;html, body {\n",
       "                width: 100%;\n",
       "                height: 100%;\n",
       "                margin: 0;\n",
       "                padding: 0;\n",
       "            }\n",
       "            &lt;/style&gt;\n",
       "\n",
       "            &lt;style&gt;#map {\n",
       "                position:absolute;\n",
       "                top:0;\n",
       "                bottom:0;\n",
       "                right:0;\n",
       "                left:0;\n",
       "                }\n",
       "            &lt;/style&gt;\n",
       "\n",
       "            &lt;script&gt;\n",
       "                L_NO_TOUCH = false;\n",
       "                L_DISABLE_3D = false;\n",
       "            &lt;/script&gt;\n",
       "\n",
       "        \n",
       "    &lt;script src=&quot;https://cdn.jsdelivr.net/gh/python-visualization/folium@main/folium/templates/leaflet_heat.min.js&quot;&gt;&lt;/script&gt;\n",
       "&lt;/head&gt;\n",
       "&lt;body&gt;\n",
       "    \n",
       "    \n",
       "            &lt;div class=&quot;folium-map&quot; id=&quot;map_a28e7edcba28fec99d3f3b1b05d048e7&quot; &gt;&lt;/div&gt;\n",
       "        \n",
       "&lt;/body&gt;\n",
       "&lt;script&gt;\n",
       "    \n",
       "    \n",
       "            var map_a28e7edcba28fec99d3f3b1b05d048e7 = L.map(\n",
       "                &quot;map_a28e7edcba28fec99d3f3b1b05d048e7&quot;,\n",
       "                {\n",
       "                    center: [0.0, 0.0],\n",
       "                    crs: L.CRS.EPSG3857,\n",
       "                    ...{\n",
       "  &quot;zoom&quot;: 1,\n",
       "  &quot;zoomControl&quot;: true,\n",
       "  &quot;preferCanvas&quot;: false,\n",
       "  &quot;locations&quot;: [\n",
       "60.18041757142858,\n",
       "-1.2390041127819549,\n",
       "],\n",
       "}\n",
       "\n",
       "                }\n",
       "            );\n",
       "\n",
       "            \n",
       "\n",
       "        \n",
       "    \n",
       "            var tile_layer_b5ec804537335d8461e8ca5f97a26970 = L.tileLayer(\n",
       "                &quot;https://tile.openstreetmap.org/{z}/{x}/{y}.png&quot;,\n",
       "                {\n",
       "  &quot;minZoom&quot;: 0,\n",
       "  &quot;maxZoom&quot;: 19,\n",
       "  &quot;maxNativeZoom&quot;: 19,\n",
       "  &quot;noWrap&quot;: false,\n",
       "  &quot;attribution&quot;: &quot;\\u0026copy; \\u003ca href=\\&quot;https://www.openstreetmap.org/copyright\\&quot;\\u003eOpenStreetMap\\u003c/a\\u003e contributors&quot;,\n",
       "  &quot;subdomains&quot;: &quot;abc&quot;,\n",
       "  &quot;detectRetina&quot;: false,\n",
       "  &quot;tms&quot;: false,\n",
       "  &quot;opacity&quot;: 1,\n",
       "}\n",
       "\n",
       "            );\n",
       "        \n",
       "    \n",
       "            tile_layer_b5ec804537335d8461e8ca5f97a26970.addTo(map_a28e7edcba28fec99d3f3b1b05d048e7);\n",
       "        \n",
       "    \n",
       "            var heat_map_2c85b846ee2a0974fc0972b5c19792f2 = L.heatLayer(\n",
       "                [[59.939029, -1.280562], [60.188487, -1.249867], [60.088524, -1.230207], [60.160695, -1.226178], [59.934401, -1.358141], [59.930358, -1.271446], [60.156336, -1.159268], [60.165732, -1.227681], [60.2473, -1.370453], [60.157148, -1.145736], [60.29636, -1.239617], [60.521829, -1.165479], [60.268118, -1.231416], [60.10466, -1.225514], [60.153263, -1.142054], [60.668921, -1.009967], [60.120222, -1.215072], [60.153543, -1.143668], [60.143835, -1.170391], [59.884196, -1.303366], [60.156282, -1.150803], [59.892501, -1.278173], [59.915795, -1.301631], [60.757544, -0.862815], [60.313102, -1.24683], [59.934858, -1.273137], [59.88962, -1.276806], [60.148272, -1.161995], [60.321208, -1.25117], [60.156242, -1.144499], [60.344562, -1.252628], [60.14161, -1.248954], [59.889449, -1.294857], [60.155439, -1.159291], [59.905621, -1.313644], [60.171631, -1.163923], [60.188266, -1.242479], [60.15544, -1.159471], [60.665748, -1.068253], [60.34996, -1.254497], [60.334691, -1.253759], [60.15498, -1.143811], [60.283902, -1.243704], [60.194359, -1.256045], [59.918861, -1.30407], [60.648412, -1.067291], [60.136913, -1.213234], [60.138657, -1.20455], [60.280762, -1.244138], [59.956152, -1.326386], [60.283453, -1.243714], [60.357188, -1.013089], [60.345461, -1.252788], [60.249141, -1.508792], [60.454326, -1.21284], [60.013254, -1.226577], [60.151854, -1.160463], [60.150913, -1.153643], [60.714772, -1.017903], [60.071465, -1.230605], [60.18612, -1.1549], [60.159287, -1.157211], [60.077744, -1.22938], [60.240897, -1.293639], [60.030186, -1.235154], [60.148544, -1.162348], [60.177751, -1.240918], [59.976807, -1.275801], [60.087003, -1.231141], [60.356602, -1.270295], [60.150012, -1.112061], [60.535623, -1.174418], [60.145014, -1.172162], [60.145018, -1.172883], [60.15743, -1.14771], [60.156509, -1.144131], [60.231598, -1.235882], [60.160598, -1.224919], [60.598055, -0.871168], [60.4224, -1.317674], [59.919466, -1.299586], [60.15205, -1.14893], [60.443391, -1.216194], [60.348429, -1.253807], [59.991207, -1.28176], [60.21261, -1.213407], [60.151121, -1.144091], [60.411668, -1.326069], [60.256748, -1.413998], [60.137556, -1.278932], [60.356671, -1.282981], [60.184412, -1.154584], [60.151174, -1.152375], [59.966932, -1.276196], [60.136287, -1.213609], [60.13883, -1.188702], [60.19476, -1.231869], [60.185749, -1.22649], [60.14252, -1.267119], [60.148532, -1.160548], [60.148532, -1.160548], [60.153838, -1.147623], [60.141891, -1.250928], [60.241195, -1.409761], [60.235273, -1.299719], [57.687933, -4.17686], [60.454772, -1.212284], [60.201045, -1.279885], [60.242707, -1.349048], [60.453875, -1.212488], [60.163527, -1.160345], [60.380054, -1.342501], [60.368948, -1.128413], [60.233118, -1.234763], [60.306795, -1.242994], [59.924538, -1.290893], [60.153353, -1.261295], [60.151776, -1.148217], [60.157212, -1.155823], [60.344563, -1.252809], [60.254095, -1.293355], [60.16266, -1.165232], [60.14899, -1.134061], [60.195539, -1.258363], [60.157151, -1.146277], [60.189955, -1.224047], [60.250124, -1.225334], [60.154438, -1.143285], [60.278072, -1.244924], [60.305886, -1.241025], [60.070562, -1.229727], [60.239368, -1.228658], [60.094818, -1.231679]],\n",
       "                {\n",
       "  &quot;minOpacity&quot;: 0.5,\n",
       "  &quot;maxZoom&quot;: 18,\n",
       "  &quot;radius&quot;: 25,\n",
       "  &quot;blur&quot;: 15,\n",
       "}\n",
       "            );\n",
       "        \n",
       "    \n",
       "            heat_map_2c85b846ee2a0974fc0972b5c19792f2.addTo(map_a28e7edcba28fec99d3f3b1b05d048e7);\n",
       "        \n",
       "    \n",
       "            tile_layer_b5ec804537335d8461e8ca5f97a26970.addTo(map_a28e7edcba28fec99d3f3b1b05d048e7);\n",
       "        \n",
       "    \n",
       "            heat_map_2c85b846ee2a0974fc0972b5c19792f2.addTo(map_a28e7edcba28fec99d3f3b1b05d048e7);\n",
       "        \n",
       "&lt;/script&gt;\n",
       "&lt;/html&gt;\" style=\"position:absolute;width:100%;height:100%;left:0;top:0;border:none !important;\" allowfullscreen webkitallowfullscreen mozallowfullscreen></iframe></div></div>"
      ],
      "text/plain": [
       "<folium.folium.Map at 0x20ac566e210>"
      ]
     },
     "execution_count": 82,
     "metadata": {},
     "output_type": "execute_result"
    }
   ],
   "source": [
    "locations = list(zip(Shetland_Islands_DF['Latitude'], Shetland_Islands_DF['Longitude']))\n",
    "m = folium.Map(locations = [Shetland_Islands_DF['Latitude'].mean(), Shetland_Islands_DF['Longitude'].mean()], zoom_start = 10)\n",
    "HeatMap(locations).add_to(m)\n",
    "m.save(\"Shetland_Islands_DF.html\")\n",
    "m"
   ]
  },
  {
   "cell_type": "markdown",
   "id": "05c6a15d-9f98-4f8e-b7f5-2bf68f07f075",
   "metadata": {},
   "source": [
    "<h4>28. Insights:</h4>\n",
    "<h4>According to our heatmap in the Area of Shetland Islands, we have a total of 133 Accidents in this area, which is quite few contrary to most district area. The accident hotspots of the disctrict area are mostly located on Straight Roads, while some Hotspots are close to the Intersections.</h4>\n",
    "<hr>"
   ]
  },
  {
   "cell_type": "code",
   "execution_count": 100,
   "id": "d513cc30-e869-4b52-a459-802deb7fd375",
   "metadata": {},
   "outputs": [
    {
     "data": {
      "text/plain": [
       "np.int64(2606)"
      ]
     },
     "execution_count": 100,
     "metadata": {},
     "output_type": "execute_result"
    }
   ],
   "source": [
    "#Cornwall\n",
    "Cornwall_DF = UKRoad[UKRoad[\"District Area\"] == 'Cornwall']\n",
    "Cornwall_DF.value_counts().sum()"
   ]
  },
  {
   "cell_type": "code",
   "execution_count": 85,
   "id": "bcf963b0-461e-455f-b848-534bdd55d86f",
   "metadata": {},
   "outputs": [
    {
     "data": {
      "text/html": [
       "<div style=\"width:100%;\"><div style=\"position:relative;width:100%;height:0;padding-bottom:60%;\"><span style=\"color:#565656\">Make this Notebook Trusted to load map: File -> Trust Notebook</span><iframe srcdoc=\"&lt;!DOCTYPE html&gt;\n",
       "&lt;html&gt;\n",
       "&lt;head&gt;\n",
       "    \n",
       "    &lt;meta http-equiv=&quot;content-type&quot; content=&quot;text/html; charset=UTF-8&quot; /&gt;\n",
       "    &lt;script src=&quot;https://cdn.jsdelivr.net/npm/leaflet@1.9.3/dist/leaflet.js&quot;&gt;&lt;/script&gt;\n",
       "    &lt;script src=&quot;https://code.jquery.com/jquery-3.7.1.min.js&quot;&gt;&lt;/script&gt;\n",
       "    &lt;script src=&quot;https://cdn.jsdelivr.net/npm/bootstrap@5.2.2/dist/js/bootstrap.bundle.min.js&quot;&gt;&lt;/script&gt;\n",
       "    &lt;script src=&quot;https://cdnjs.cloudflare.com/ajax/libs/Leaflet.awesome-markers/2.0.2/leaflet.awesome-markers.js&quot;&gt;&lt;/script&gt;\n",
       "    &lt;link rel=&quot;stylesheet&quot; href=&quot;https://cdn.jsdelivr.net/npm/leaflet@1.9.3/dist/leaflet.css&quot;/&gt;\n",
       "    &lt;link rel=&quot;stylesheet&quot; href=&quot;https://cdn.jsdelivr.net/npm/bootstrap@5.2.2/dist/css/bootstrap.min.css&quot;/&gt;\n",
       "    &lt;link rel=&quot;stylesheet&quot; href=&quot;https://netdna.bootstrapcdn.com/bootstrap/3.0.0/css/bootstrap-glyphicons.css&quot;/&gt;\n",
       "    &lt;link rel=&quot;stylesheet&quot; href=&quot;https://cdn.jsdelivr.net/npm/@fortawesome/fontawesome-free@6.2.0/css/all.min.css&quot;/&gt;\n",
       "    &lt;link rel=&quot;stylesheet&quot; href=&quot;https://cdnjs.cloudflare.com/ajax/libs/Leaflet.awesome-markers/2.0.2/leaflet.awesome-markers.css&quot;/&gt;\n",
       "    &lt;link rel=&quot;stylesheet&quot; href=&quot;https://cdn.jsdelivr.net/gh/python-visualization/folium/folium/templates/leaflet.awesome.rotate.min.css&quot;/&gt;\n",
       "    \n",
       "            &lt;meta name=&quot;viewport&quot; content=&quot;width=device-width,\n",
       "                initial-scale=1.0, maximum-scale=1.0, user-scalable=no&quot; /&gt;\n",
       "            &lt;style&gt;\n",
       "                #map_297bfc7cefbf55dbd00401e15518253d {\n",
       "                    position: relative;\n",
       "                    width: 100.0%;\n",
       "                    height: 100.0%;\n",
       "                    left: 0.0%;\n",
       "                    top: 0.0%;\n",
       "                }\n",
       "                .leaflet-container { font-size: 1rem; }\n",
       "            &lt;/style&gt;\n",
       "\n",
       "            &lt;style&gt;html, body {\n",
       "                width: 100%;\n",
       "                height: 100%;\n",
       "                margin: 0;\n",
       "                padding: 0;\n",
       "            }\n",
       "            &lt;/style&gt;\n",
       "\n",
       "            &lt;style&gt;#map {\n",
       "                position:absolute;\n",
       "                top:0;\n",
       "                bottom:0;\n",
       "                right:0;\n",
       "                left:0;\n",
       "                }\n",
       "            &lt;/style&gt;\n",
       "\n",
       "            &lt;script&gt;\n",
       "                L_NO_TOUCH = false;\n",
       "                L_DISABLE_3D = false;\n",
       "            &lt;/script&gt;\n",
       "\n",
       "        \n",
       "    &lt;script src=&quot;https://cdn.jsdelivr.net/gh/python-visualization/folium@main/folium/templates/leaflet_heat.min.js&quot;&gt;&lt;/script&gt;\n",
       "&lt;/head&gt;\n",
       "&lt;body&gt;\n",
       "    \n",
       "    \n",
       "            &lt;div class=&quot;folium-map&quot; id=&quot;map_297bfc7cefbf55dbd00401e15518253d&quot; &gt;&lt;/div&gt;\n",
       "        \n",
       "&lt;/body&gt;\n",
       "&lt;script&gt;\n",
       "    \n",
       "    \n",
       "            var map_297bfc7cefbf55dbd00401e15518253d = L.map(\n",
       "                &quot;map_297bfc7cefbf55dbd00401e15518253d&quot;,\n",
       "                {\n",
       "                    center: [0.0, 0.0],\n",
       "                    crs: L.CRS.EPSG3857,\n",
       "                    ...{\n",
       "  &quot;zoom&quot;: 1,\n",
       "  &quot;zoomControl&quot;: true,\n",
       "  &quot;preferCanvas&quot;: false,\n",
       "  &quot;locations&quot;: [\n",
       "50.34943569071373,\n",
       "-4.918246721412126,\n",
       "],\n",
       "}\n",
       "\n",
       "                }\n",
       "            );\n",
       "\n",
       "            \n",
       "\n",
       "        \n",
       "    \n",
       "            var tile_layer_8223fea1daca7acec0980ba3236652b0 = L.tileLayer(\n",
       "                &quot;https://tile.openstreetmap.org/{z}/{x}/{y}.png&quot;,\n",
       "                {\n",
       "  &quot;minZoom&quot;: 0,\n",
       "  &quot;maxZoom&quot;: 19,\n",
       "  &quot;maxNativeZoom&quot;: 19,\n",
       "  &quot;noWrap&quot;: false,\n",
       "  &quot;attribution&quot;: &quot;\\u0026copy; \\u003ca href=\\&quot;https://www.openstreetmap.org/copyright\\&quot;\\u003eOpenStreetMap\\u003c/a\\u003e contributors&quot;,\n",
       "  &quot;subdomains&quot;: &quot;abc&quot;,\n",
       "  &quot;detectRetina&quot;: false,\n",
       "  &quot;tms&quot;: false,\n",
       "  &quot;opacity&quot;: 1,\n",
       "}\n",
       "\n",
       "            );\n",
       "        \n",
       "    \n",
       "            tile_layer_8223fea1daca7acec0980ba3236652b0.addTo(map_297bfc7cefbf55dbd00401e15518253d);\n",
       "        \n",
       "    \n",
       "            var heat_map_f714a7dac50f86fb7512cb5649ef6ef9 = L.heatLayer(\n",
       "                [[50.180885, -5.281875], [50.21139, -5.291119], [50.208114, -5.292436], [50.212727, -5.288407], [50.19452, -5.308597], [50.1948, -5.276524], [50.213584, -5.283559], [50.214053, -5.298733], [50.224067, -5.297742], [50.22287, -5.28602], [50.224337, -5.288225], [50.223387, -5.299518], [50.222048, -5.2833], [50.214151, -5.298459], [50.225173, -5.277765], [50.222236, -5.289342], [50.223262, -5.2817], [50.214284, -5.296926], [50.225181, -5.277485], [50.212719, -5.304529], [50.211379, -5.297847], [50.211645, -5.298006], [50.216114, -5.324252], [50.213996, -5.303916], [50.211379, -5.297847], [50.214, -5.303776], [50.216617, -5.31924], [50.211379, -5.297847], [50.216617, -5.31924], [50.213914, -5.30363], [50.213674, -5.299408], [50.21374, -5.306562], [50.211379, -5.297847], [50.218896, -5.308742], [50.215664, -5.308518], [50.217206, -5.320683], [50.225276, -5.299508], [50.217014, -5.32109], [50.216617, -5.31924], [50.212916, -5.300757], [50.233239, -5.259665], [50.225646, -5.26097], [50.228712, -5.270295], [50.226752, -5.272825], [50.227076, -5.270884], [50.200209, -5.240874], [50.233399, -5.260377], [50.230578, -5.255135], [50.211959, -5.254989], [50.230283, -5.278396], [50.230928, -5.274654], [50.216459, -5.264549], [50.235363, -5.260932], [50.226472, -5.241113], [50.202255, -5.23849], [50.230402, -5.283734], [50.230125, -5.283995], [50.240306, -5.283433], [50.234447, -5.290183], [50.234625, -5.293421], [50.234385, -5.289197], [50.274561, -5.239326], [50.226994, -5.222357], [50.22931, -5.229665], [50.229316, -5.219709], [50.246075, -5.212281], [50.232241, -5.224534], [50.227619, -5.222539], [50.227517, -5.222953], [50.234937, -5.214898], [50.2315, -5.228551], [50.234251, -5.220182], [50.254871, -5.196737], [50.244997, -5.186115], [50.239917, -5.184374], [50.234843, -5.211806], [50.207891, -5.217004], [50.217222, -5.204873], [50.220152, -5.212782], [50.21717, -5.200243], [50.215504, -5.201954], [50.259066, -5.246554], [50.247539, -5.211398], [50.247444, -5.247166], [50.236332, -5.252021], [50.237817, -5.243987], [50.234893, -5.229482], [50.236765, -5.220351], [50.245167, -5.219094], [50.240788, -5.231003], [50.244438, -5.232372], [50.233838, -5.225343], [50.250946, -5.24095], [50.235474, -5.23443], [50.24934, -5.221059], [50.086683, -5.304375], [50.08302, -5.319223], [50.08145, -5.314361], [50.084724, -5.309973], [50.097668, -5.319816], [50.113062, -5.394052], [50.142111, -5.360412], [50.106025, -5.332704], [50.113754, -5.41033], [50.136346, -5.323195], [50.127321, -5.383306], [50.116108, -5.304163], [50.184449, -5.247933], [50.164945, -5.182326], [50.184538, -5.247939], [50.180041, -5.247914], [50.164604, -5.188185], [50.149749, -5.2502], [50.121328, -5.240297], [50.125133, -5.261825], [50.131438, -5.226145], [50.142113, -5.253041], [50.18031, -5.247932], [50.173978, -5.249183], [50.098696, -5.213035], [50.075745, -5.219887], [50.073296, -5.239991], [50.048309, -5.235932], [50.047449, -5.224837], [50.056379, -5.240109], [50.055411, -5.239345], [49.995483, -5.187863], [50.021855, -5.216699], [50.062091, -5.069859], [50.021463, -5.129123], [50.035688, -5.138708], [50.042131, -5.163155], [50.049243, -5.089576], [50.043324, -5.078719], [50.065759, -5.157723], [50.108228, -5.261515], [50.110626, -5.253004], [50.107545, -5.263426], [50.110439, -5.253271], [50.100741, -5.274992], [50.112451, -5.268097], [50.107974, -5.267372], [50.105663, -5.291834], [50.091956, -5.264324], [50.103761, -5.266806], [50.105822, -5.267086], [50.096569, -5.269813], [50.100536, -5.269523], [50.099641, -5.272539], [50.10801, -5.259681], [50.105284, -5.267049], [50.09531, -5.288886], [50.098601, -5.277503], [50.082855, -5.264824], [50.103538, -5.268329], [50.178547, -5.128735], [50.184232, -5.124763], [50.190049, -5.129207], [50.186174, -5.122788], [50.187345, -5.122725], [50.184232, -5.124763], [50.184232, -5.124763], [50.187143, -5.126915], [50.178008, -5.1287], [50.185616, -5.123453], [50.192223, -5.132012], [50.18633, -5.308731], [50.160858, -5.356125], [50.173733, -5.311922], [50.190972, -5.30681], [50.147518, -5.34455], [50.162899, -5.36019], [50.14887, -5.366206], [50.143676, -5.368501], [50.143676, -5.368501], [50.198305, -5.212295], [50.165526, -5.167659], [50.165771, -5.171877], [50.165754, -5.169214], [50.185588, -5.177534], [50.166597, -5.151483], [50.164214, -5.136481], [50.146341, -5.128731], [50.155065, -5.112079], [50.150638, -5.122852], [50.136559, -5.193877], [50.116097, -5.099196], [50.107374, -5.122553], [50.216631, -5.478517], [50.207906, -5.478443], [50.21196, -5.481262], [50.207906, -5.478443], [50.215429, -5.476607], [50.21161, -5.480956], [50.214896, -5.479373], [50.211046, -5.481756], [50.211079, -5.480637], [50.210398, -5.485354], [50.211131, -5.481902], [50.204814, -5.500506], [50.193391, -5.497428], [50.205848, -5.49904], [50.195503, -5.498984], [50.19304, -5.497122], [50.189134, -5.462364], [50.174085, -5.454131], [50.193402, -5.464075], [50.189038, -5.495568], [50.173259, -5.511645], [50.189108, -5.499216], [50.176153, -5.502192], [50.160664, -5.637186], [50.124978, -5.681779], [50.08357, -5.676784], [50.06273, -5.687069], [50.051736, -5.64207], [50.059944, -5.669945], [50.051949, -5.643902], [50.073284, -5.614766], [50.087734, -5.601451], [50.088986, -5.65916], [50.12906, -5.609174], [50.09623, -5.594397], [50.128977, -5.611827], [50.099323, -5.587495], [50.09623, -5.594397], [50.106708, -5.575597], [50.150925, -5.620623], [50.102594, -5.548434], [50.10521, -5.551145], [50.10633, -5.549829], [50.107886, -5.548965], [50.104752, -5.551391], [50.10686, -5.550148], [50.123522, -5.451186], [50.123955, -5.475847], [50.12371, -5.45092], [50.124982, -5.465565], [50.124719, -5.468345], [50.132245, -5.502341], [50.166962, -5.451656], [50.129064, -5.512325], [50.15134, -5.471673], [50.141282, -5.486063], [50.156212, -5.513056], [50.129034, -5.513303], [50.144383, -5.481668], [50.129034, -5.513303], [50.129427, -5.512212], [50.159545, -5.509939], [50.128888, -5.509233], [50.172149, -5.443625], [50.181956, -5.479779], [50.153545, -5.470152], [50.128714, -5.503063], [50.133418, -5.508165], [50.138686, -5.464597], [50.129248, -5.512199], [50.128608, -5.503615], [50.168874, -5.447872], [50.161267, -5.461609], [50.148559, -5.474411], [50.119554, -5.535136], [50.127817, -5.541484], [50.1292, -5.525631], [50.127437, -5.518504], [50.129318, -5.518782], [50.118892, -5.536207], [50.11439, -5.536295], [50.113917, -5.554728], [50.111771, -5.542537], [50.118208, -5.540914], [50.118473, -5.541073], [50.125232, -5.549549], [50.125586, -5.549716], [50.125541, -5.434678], [50.120659, -5.438527], [50.120101, -5.436108], [49.917703, -6.304744], [49.914488, -6.316163], [49.917913, -6.303927], [50.183127, -5.419196], [50.18444, -5.423493], [50.184027, -5.425285], [50.183004, -5.420308], [50.187944, -5.411413], [50.189909, -5.399642], [50.191079, -5.408834], [50.189788, -5.416028], [50.188837, -5.417782], [50.194774, -5.396344], [50.194656, -5.415675], [50.225699, -5.384799], [50.19894, -5.35207], [50.204819, -5.360332], [50.202356, -5.398564], [50.206672, -5.361584], [50.203853, -5.368815], [50.206758, -5.349254], [50.227409, -5.38478], [50.222994, -5.385028], [50.206184, -5.353559], [50.1529, -5.419137], [50.1743, -5.431733], [50.170838, -5.445352], [50.169528, -5.41052], [50.149839, -5.43446], [50.131038, -5.422196], [50.192734, -5.392275], [50.197871, -5.398105], [50.19732, -5.398487], [50.172077, -5.388009], [50.568743, -4.734193], [50.54528, -4.725918], [50.518738, -4.671903], [50.531964, -4.632289], [50.553047, -4.574448], [50.525615, -4.634617], [50.511758, -4.654581], [50.507481, -4.664638], [50.512793, -4.672273], [50.549645, -4.577792], [50.550193, -4.577398], [50.511476, -4.65513], [50.526775, -4.766761], [50.503866, -4.696592], [50.505117, -4.704703], [50.507886, -4.717133], [50.449376, -4.668415], [50.520655, -4.643088], [50.515471, -4.64957], [50.498946, -4.68376], [50.492559, -4.691577], [50.519507, -4.646128], [50.458177, -4.680747], [50.506479, -4.669095], [50.469099, -4.729425], [50.474509, -4.732696], [50.471411, -4.726739], [50.467822, -4.737807], [50.472222, -4.726645], [50.471294, -4.72786], [50.456345, -4.693888], [50.45143, -4.707979], [50.450264, -4.696219], [50.436452, -4.76346], [50.447064, -4.767319], [50.498055, -4.775376], [50.438546, -4.728089], [50.444345, -4.775753], [50.437351, -4.75971], [50.457566, -4.753137], [50.458411, -4.751636], [50.441918, -4.764342], [50.439284, -4.750244], [50.429519, -4.756156], [50.433317, -4.732435], [50.439401, -4.827861], [50.472748, -4.704123], [50.459237, -4.704902], [50.462957, -4.71512], [50.463969, -4.717996], [50.469512, -4.707885], [50.463836, -4.716016], [50.479352, -4.702526], [50.461293, -4.713192], [50.473665, -4.699524], [50.469087, -4.710679], [50.465846, -4.699219], [50.470873, -4.718956], [50.471253, -4.721938], [50.459379, -4.694906], [50.463883, -4.71785], [50.459379, -4.694906], [50.475203, -4.702995], [50.465846, -4.699219], [50.470956, -4.719243], [50.67783, -4.61369], [50.675943, -4.613585], [50.688972, -4.693179], [50.638556, -4.675584], [50.667128, -4.680888], [50.689816, -4.691669], [50.663068, -4.750851], [50.662342, -4.724344], [50.663354, -4.742518], [50.63825, -4.704421], [50.625713, -4.729013], [50.594201, -4.737929], [50.612196, -4.745336], [50.637941, -4.706101], [50.638944, -4.701632], [50.608537, -4.744134], [50.609719, -4.689638], [50.623264, -4.679523], [50.615226, -4.684862], [50.637148, -4.674231], [50.612395, -4.68668], [50.568854, -4.710189], [50.571143, -4.720066], [50.661378, -4.576974], [50.657288, -4.599107], [50.651316, -4.636694], [50.660979, -4.627047], [50.651316, -4.636694], [50.661381, -4.576832], [50.641461, -4.650853], [50.458263, -4.593672], [50.455789, -4.56733], [50.455792, -4.56719], [50.454778, -4.58052], [50.454792, -4.559527], [50.456517, -4.587236], [50.456517, -4.587236], [50.499195, -4.426686], [50.48535, -4.469117], [50.496125, -4.427234], [50.513774, -4.426305], [50.442141, -4.578423], [50.456725, -4.606128], [50.441742, -4.576148], [50.441742, -4.576148], [50.458035, -4.59986], [50.449286, -4.552186], [50.457422, -4.521485], [50.455633, -4.52928], [50.448893, -4.553715], [50.460254, -4.515295], [50.423559, -4.434784], [50.457435, -4.508382], [50.454246, -4.531038], [50.456206, -4.54016], [50.455909, -4.529013], [50.42211, -4.435273], [50.457879, -4.504461], [50.424027, -4.489157], [50.464792, -4.445921], [50.459418, -4.457621], [50.454274, -4.449887], [50.470602, -4.460456], [50.462631, -4.450319], [50.455214, -4.465011], [50.459631, -4.460309], [50.463735, -4.461931], [50.461966, -4.451975], [50.437208, -4.409993], [50.432773, -4.437229], [50.432773, -4.437229], [50.449079, -4.45314], [50.427432, -4.425971], [50.467749, -4.429303], [50.432414, -4.43721], [50.424599, -4.415126], [50.423336, -4.410978], [50.492576, -4.390109], [50.473339, -4.3983], [50.477635, -4.390624], [50.445436, -4.47225], [50.451459, -4.485102], [50.45404, -4.465232], [50.45513, -4.464725], [50.450228, -4.466865], [50.4543, -4.461441], [50.449563, -4.468521], [50.449611, -4.474722], [50.454348, -4.463416], [50.449886, -4.461775], [50.451194, -4.455222], [50.4543, -4.461441], [50.449838, -4.468253], [50.451036, -4.483812], [50.45492, -4.461896], [50.552277, -4.386916], [50.449326, -4.658833], [50.418345, -4.644707], [50.360634, -4.587079], [50.342872, -4.609025], [50.386982, -4.563048], [50.407277, -4.568648], [50.396504, -4.4849], [50.404345, -4.467296], [50.401062, -4.469377], [50.356509, -4.516836], [50.353344, -4.500922], [50.367003, -4.526532], [50.350513, -4.507099], [50.356532, -4.461159], [50.350157, -4.485994], [50.368979, -4.446755], [50.356271, -4.460724], [50.35678, -4.457938], [50.354701, -4.454176], [50.353074, -4.454513], [50.363381, -4.456311], [50.357468, -4.455162], [50.356439, -4.461295], [50.355545, -4.452532], [50.358638, -4.450864], [50.355275, -4.452518], [50.402168, -4.425384], [50.410081, -4.425507], [50.387296, -4.456843], [50.38041, -4.433558], [50.369841, -4.435689], [50.370728, -4.436297], [50.380703, -4.432448], [50.720756, -4.451294], [50.662882, -4.503893], [50.661977, -4.470448], [50.686821, -4.369954], [50.666346, -4.368356], [50.669548, -4.378991], [50.647299, -4.349574], [50.649337, -4.390843], [50.661678, -4.38114], [50.652393, -4.346715], [50.636458, -4.507155], [50.63146, -4.467433], [50.630181, -4.359891], [50.646762, -4.371615], [50.626506, -4.363667], [50.626506, -4.363667], [50.644913, -4.356386], [50.64694, -4.362853], [50.639178, -4.364161], [50.629014, -4.3686], [50.644271, -4.365831], [50.639631, -4.364042], [50.625837, -4.338888], [50.646565, -4.372454], [50.638738, -4.363715], [50.62898, -4.374679], [50.64088, -4.364529], [50.616814, -4.353709], [50.579894, -4.539748], [50.595838, -4.476026], [50.595992, -4.494122], [50.594485, -4.522305], [50.595662, -4.475876], [50.589759, -4.528693], [50.608876, -4.446462], [50.591713, -4.454191], [50.595042, -4.466941], [50.612675, -4.462492], [50.615148, -4.439012], [50.622229, -4.422977], [50.612529, -4.443824], [50.619683, -4.385097], [50.612161, -4.379062], [50.615475, -4.339788], [50.626971, -4.313633], [50.621061, -4.339358], [50.606313, -4.316718], [50.55852, -4.437216], [50.550268, -4.436085], [50.568023, -4.43008], [50.597468, -4.336209], [50.581048, -4.369865], [50.597912, -4.336514], [50.572099, -4.331988], [50.529187, -4.327895], [50.552937, -4.332171], [50.537567, -4.340587], [50.538211, -4.335396], [50.532317, -4.333271], [50.545976, -4.320394], [50.564056, -4.33385], [50.531879, -4.332685], [50.522826, -4.281163], [50.52046, -4.341433], [50.515251, -4.367696], [50.509911, -4.28844], [50.507162, -4.300154], [50.496431, -4.319657], [50.498947, -4.31978], [50.500047, -4.30968], [50.510246, -4.303407], [50.502636, -4.310653], [50.509199, -4.315346], [50.505188, -4.299917], [50.504035, -4.317208], [50.520426, -4.316177], [50.50014, -4.309544], [50.508244, -4.313606], [50.504351, -4.301287], [50.505463, -4.299649], [50.518572, -4.314394], [50.527694, -4.238926], [50.516494, -4.241358], [50.516667, -4.269581], [50.516396, -4.246432], [50.526937, -4.236209], [50.515985, -4.22102], [50.5269, -4.214619], [50.510982, -4.261268], [50.413463, -4.330522], [50.409444, -4.360305], [50.388682, -4.323819], [50.413994, -4.326466], [50.40872, -4.347179], [50.41551, -4.322598], [50.406829, -4.35173], [50.408799, -4.356613], [50.415322, -4.323011], [50.406256, -4.353391], [50.407189, -4.351748], [50.407189, -4.351748], [50.415322, -4.323011], [50.413578, -4.329261], [50.407189, -4.351748], [50.423447, -4.289759], [50.425236, -4.281116], [50.422731, -4.289584], [50.422224, -4.292516], [50.416574, -4.314345], [50.422691, -4.318867], [50.424803, -4.28025], [50.407474, -4.208764], [50.412593, -4.213928], [50.408205, -4.203449], [50.408186, -4.204434], [50.412668, -4.219422], [50.408115, -4.203445], [50.408563, -4.208251], [50.40769, -4.211589], [50.409831, -4.212533], [50.409386, -4.217016], [50.412593, -4.213928], [50.409332, -4.210398], [50.439019, -4.256991], [50.432532, -4.257527], [50.435563, -4.254291], [50.448223, -4.255457], [50.40552, -4.221621], [50.410381, -4.221426], [50.401601, -4.219608], [50.429101, -4.258209], [50.423546, -4.243161], [50.420999, -4.263173], [50.424627, -4.275455], [50.422592, -4.264516], [50.413158, -4.231409], [50.417508, -4.234429], [50.416379, -4.255633], [50.420999, -4.263173], [50.418654, -4.235609], [50.405753, -4.228247], [50.492818, -4.279435], [50.478304, -4.308479], [50.466717, -4.271133], [50.459891, -4.261366], [50.451455, -4.255751], [50.364403, -4.38999], [50.390595, -4.340515], [50.365452, -4.38709], [50.363944, -4.314876], [50.359848, -4.280932], [50.380395, -4.209053], [50.353795, -4.259272], [50.358255, -4.265811], [50.357084, -4.265896], [50.371135, -4.19934], [50.376754, -4.201851], [50.378503, -4.204464], [50.376619, -4.199453], [50.376606, -4.200156], [50.359989, -4.236648], [50.361354, -4.240508], [50.382013, -4.218553], [50.369264, -4.236099], [50.375866, -4.215453], [50.875395, -4.484137], [50.872558, -4.486403], [50.868556, -4.492728], [50.868463, -4.492865], [50.868525, -4.523428], [50.858026, -4.522293], [50.828757, -4.544715], [50.826353, -4.54359], [50.830043, -4.543507], [50.829206, -4.544739], [50.826266, -4.543443], [50.829844, -4.544348], [50.81765, -4.530196], [50.819697, -4.468258], [50.819697, -4.468258], [50.799236, -4.51657], [50.752435, -4.551064], [50.79428, -4.537732], [50.778382, -4.540843], [50.785987, -4.534445], [50.776743, -4.541748], [50.747527, -4.55746], [50.772967, -4.562253], [50.740414, -4.561892], [50.742311, -4.490977], [50.730632, -4.44359], [50.727003, -4.449353], [50.843113, -4.508987], [50.815707, -4.52853], [50.815707, -4.52853], [50.812652, -4.524248], [50.837714, -4.513242], [50.826639, -4.522162], [50.822996, -4.503364], [50.830931, -4.519127], [50.81765, -4.530196], [50.830931, -4.519127], [50.821207, -4.498724], [50.513567, -4.984513], [50.509667, -5.017136], [50.5397, -4.972189], [50.537549, -4.943542], [50.533405, -4.950905], [50.529777, -4.95209], [50.539011, -4.992048], [50.541626, -4.938855], [50.524359, -4.95288], [50.541522, -4.939413], [50.541529, -4.939131], [50.538896, -4.940097], [50.547311, -4.898691], [50.545279, -4.915225], [50.550858, -4.907945], [50.566788, -4.918389], [50.566207, -4.898439], [50.534075, -4.84453], [50.576674, -4.879022], [50.534079, -4.844389], [50.56958, -4.871245], [50.566968, -4.871369], [50.553376, -4.864471], [50.533612, -4.841397], [50.553376, -4.864471], [50.576156, -4.878143], [50.571498, -4.862745], [50.575187, -4.829632], [50.573675, -4.843667], [50.594011, -4.828642], [50.500769, -4.943087], [50.500484, -4.889898], [50.496475, -4.895576], [50.500111, -4.890439], [50.509571, -4.918666], [50.498556, -4.829279], [50.513474, -4.870236], [50.517006, -4.858317], [50.516557, -4.854622], [50.52773, -4.890293], [50.504319, -4.832726], [50.511191, -4.838639], [50.51675, -4.839396], [50.516925, -4.83588], [50.519292, -4.819937], [50.52301, -4.822417], [50.522751, -4.821978], [50.508044, -4.801493], [50.528795, -4.806392], [50.507368, -4.784668], [50.509416, -4.811731], [50.533784, -4.793422], [50.545936, -4.778047], [50.533276, -4.799602], [50.510432, -4.814331], [50.511995, -4.816681], [50.476124, -5.009782], [50.729958, -4.441429], [50.393679, -5.025381], [50.424828, -4.824176], [50.414739, -4.80992], [50.414099, -4.86197], [50.392759, -4.826068], [50.421535, -4.833836], [50.419176, -4.838341], [50.424342, -4.825696], [50.3924, -4.848139], [50.417577, -4.874147], [50.393923, -4.848371], [50.405712, -4.833454], [50.387201, -4.887504], [50.387115, -4.8837], [50.382104, -4.875377], [50.38516, -4.882737], [50.356892, -4.872728], [50.341376, -4.881771], [50.276612, -4.848799], [50.343876, -4.900618], [50.357221, -4.866701], [50.326802, -4.845337], [50.367666, -4.781119], [50.391637, -4.794341], [50.370309, -4.805887], [50.396511, -4.793643], [50.353931, -4.772442], [50.364778, -4.762668], [50.365335, -4.806999], [50.367503, -4.780406], [50.369286, -4.78487], [50.374288, -4.778834], [50.37736, -4.797019], [50.342962, -4.824515], [50.343014, -4.826065], [50.310858, -4.801822], [50.316837, -4.800066], [50.305711, -4.776378], [50.290735, -4.870705], [50.309339, -4.867752], [50.30045, -4.910474], [50.309149, -4.868162], [50.308924, -4.862671], [50.271591, -4.785058], [50.27319, -4.789643], [50.322313, -4.837622], [50.316835, -4.851907], [50.290811, -4.786321], [50.33433, -4.802079], [50.33828, -4.806106], [50.340566, -4.797105], [50.33854, -4.806543], [50.339224, -4.80054], [50.33433, -4.802079], [50.335114, -4.803109], [50.353335, -4.797293], [50.338087, -4.799208], [50.335114, -4.803109], [50.351214, -4.780719], [50.347498, -4.781908], [50.344729, -4.784839], [50.35487, -4.782058], [50.342708, -4.779098], [50.338662, -4.790246], [50.342736, -4.785425], [50.339148, -4.788729], [50.344183, -4.785088], [50.341896, -4.775396], [50.341379, -4.793217], [50.339202, -4.786483], [50.337396, -4.786799], [50.338169, -4.7808], [50.340571, -4.7555], [50.333548, -4.79346], [50.336487, -4.772129], [50.33847, -4.771963], [50.339306, -4.785927], [50.338233, -4.778134], [50.336111, -4.776604], [50.333953, -4.784068], [50.351749, -4.765848], [50.342138, -4.757699], [50.340381, -4.75591], [50.350398, -4.76591], [50.344366, -4.739554], [50.342384, -4.751107], [50.343063, -4.749037], [50.332679, -4.758275], [50.340702, -4.734705], [50.342712, -4.721888], [50.347178, -4.753774], [50.349743, -4.748017], [50.401672, -4.952422], [50.40068, -4.948983], [50.398053, -4.931931], [50.378156, -4.939707], [50.377363, -4.942612], [50.394579, -4.923414], [50.394687, -4.922717], [50.376349, -4.957741], [50.392757, -4.931464], [50.365569, -4.967759], [50.402078, -4.954136], [50.366291, -4.974696], [50.439414, -4.932657], [50.461332, -4.923162], [50.458088, -4.923385], [50.434469, -4.975026], [50.458742, -5.031365], [50.450316, -5.019837], [50.418978, -4.893802], [50.43355, -4.975813], [50.432612, -4.977304], [50.409344, -4.901379], [50.404966, -4.903786], [50.320389, -4.96157], [50.334039, -4.951879], [50.338765, -4.925045], [50.282665, -4.952207], [50.282356, -4.953733], [50.296693, -4.927517], [50.281626, -4.971797], [50.296368, -4.996731], [50.282665, -4.952207], [50.286284, -4.944288], [50.196995, -4.974524], [50.228396, -4.931885], [50.316439, -5.082289], [50.305579, -5.077935], [50.30962, -5.078196], [50.308662, -5.07701], [50.311194, -5.093469], [50.341508, -5.042445], [50.338215, -5.051371], [50.328881, -5.026461], [50.41047, -5.084731], [50.41535, -5.087301], [50.412386, -5.080351], [50.4108, -5.092636], [50.411163, -5.08914], [50.414039, -5.07905], [50.414661, -5.089509], [50.411754, -5.087208], [50.415098, -5.076444], [50.414601, -5.088379], [50.414151, -5.078213], [50.413243, -5.081955], [50.41086, -5.087009], [50.412532, -5.085006], [50.4148, -5.091066], [50.407846, -5.075129], [50.398636, -5.069607], [50.404725, -5.074083], [50.404033, -5.073053], [50.409874, -5.07329], [50.412696, -5.078822], [50.405556, -5.07667], [50.403641, -5.064019], [50.412696, -5.078822], [50.411682, -5.083121], [50.4187, -5.069497], [50.415749, -5.075641], [50.41308, -5.071104], [50.416332, -5.07399], [50.414817, -5.076848], [50.418322, -5.056519], [50.418311, -5.056941], [50.418126, -5.063969], [50.41385, -5.065804], [50.417622, -5.069427], [50.417664, -5.07126], [50.407512, -5.05709], [50.415472, -5.075905], [50.412696, -5.078822], [50.414053, -5.058074], [50.444381, -5.040449], [50.426018, -5.054621], [50.428821, -5.054097], [50.416832, -5.044738], [50.417339, -5.03224], [50.432703, -5.050122], [50.416521, -5.042887], [50.404947, -5.027929], [50.401632, -5.017021], [50.41263, -5.002235], [50.399754, -5.064753], [50.401899, -5.05504], [50.402531, -5.044665], [50.427218, -5.005129], [50.400135, -5.063934], [50.419523, -5.031253], [50.149506, -5.057256], [50.148262, -5.073697], [50.149914, -5.082623], [50.145796, -5.075078], [50.149453, -5.055853], [50.154862, -5.07244], [50.1612, -5.081109], [50.161403, -5.087003], [50.154483, -5.079976], [50.15438, -5.073669], [50.155067, -5.081694], [50.160957, -5.086835], [50.154483, -5.079976], [50.153981, -5.078544], [50.154215, -5.073098], [50.151511, -5.076705], [50.140435, -5.077114], [50.145774, -5.075917], [50.146974, -5.088314], [50.164411, -5.12585], [50.172587, -5.126244], [50.168873, -5.100371], [50.168501, -5.127658], [50.169211, -5.127985], [50.164393, -5.119827], [50.172921, -5.093629], [50.166336, -5.101047], [50.170123, -5.100732], [50.155926, -5.100093], [50.154797, -5.081677], [50.161758, -5.087166], [50.15722, -5.092055], [50.216139, -5.149141], [50.248717, -5.184961], [50.206516, -5.155656], [50.207903, -5.183923], [50.211411, -5.100886], [50.20414, -5.147089], [50.205958, -5.116371], [50.203006, -5.145753], [50.206246, -5.115689], [50.274236, -5.215441], [50.269136, -5.211167], [50.285891, -5.242764], [50.284645, -5.239029], [50.262525, -5.206231], [50.275652, -5.170475], [50.275481, -5.212717], [50.269841, -5.234374], [50.287105, -5.231473], [50.276941, -5.179265], [50.284744, -5.15704], [50.342922, -5.154713], [50.293207, -5.150158], [50.344647, -5.154125], [50.28513, -5.156082], [50.347193, -5.139813], [50.325782, -5.133201], [50.282408, -5.160254], [50.284756, -5.156619], [50.283726, -5.158095], [50.342723, -5.16201], [50.346445, -5.157477], [50.314967, -5.137266], [50.347572, -5.139135], [50.312725, -5.156927], [50.34159, -5.160669], [50.344995, -5.154569], [50.311238, -5.178463], [50.309116, -5.203326], [50.291028, -5.219803], [50.308093, -5.204521], [50.333854, -5.066692], [50.340008, -5.116005], [50.343306, -5.039046], [50.328759, -5.072266], [50.34897, -5.130651], [50.348436, -5.096874], [50.342162, -5.041503], [50.345867, -5.118919], [50.319878, -5.0849], [50.298623, -5.146162], [50.346196, -5.028265], [50.348454, -5.024473], [50.364552, -5.003839], [50.35413, -5.003321], [50.349403, -5.022565], [50.397802, -5.070538], [50.387327, -5.082243], [50.391626, -5.079567], [50.372174, -5.090544], [50.374883, -5.100286], [50.379473, -5.113668], [50.373779, -5.094446], [50.387069, -5.112196], [50.374886, -5.100145], [50.362183, -5.097489], [50.37199, -5.090673], [50.365327, -5.056908], [50.368279, -5.05752], [50.279087, -5.163263], [50.24992, -5.187005], [50.256957, -5.159972], [50.257718, -5.155111], [50.246104, -5.115484], [50.252759, -5.138928], [50.244475, -5.125899], [50.230354, -5.119084], [50.27002, -5.139362], [50.278848, -5.162124], [50.279926, -5.162196], [50.296913, -5.122877], [50.279641, -5.162738], [50.29592, -5.129693], [50.279087, -5.163263], [50.279087, -5.163263], [50.263861, -5.124221], [50.27671, -5.16465], [50.275808, -5.151535], [50.295807, -5.130528], [50.302524, -5.108216], [50.279641, -5.162738], [50.295897, -5.130534], [50.27552, -5.165413], [50.277287, -5.156686], [50.264342, -5.116394], [50.296778, -5.124553], [50.296798, -5.117111], [50.287502, -5.07775], [50.263635, -5.105822], [50.277807, -5.164021], [50.263523, -5.106657], [50.280022, -4.992194], [50.278046, -4.995579], [50.294742, -5.035106], [50.27607, -4.998964], [50.255955, -5.014959], [50.275747, -5.021825], [50.290948, -5.042587], [50.231537, -5.071338], [50.232621, -5.067761], [50.237045, -5.07057], [50.249701, -5.061423], [50.230527, -5.089084], [50.214292, -5.097427], [50.216981, -5.091012], [50.218437, -5.059841], [50.218437, -5.059841], [50.218509, -5.101206], [50.223798, -5.0578], [50.220558, -5.085074], [50.224052, -5.082215], [50.225238, -5.08159], [50.222644, -5.104699], [50.224507, -5.061632], [50.21336, -5.098629], [50.26444, -5.092542], [50.264563, -5.091287], [50.26753, -5.040251], [50.267051, -5.041344], [50.266301, -5.052804], [50.27334, -5.038236], [50.259617, -5.050412], [50.263137, -5.049935], [50.254777, -5.056557], [50.265294, -5.053442], [50.263776, -5.046187], [50.254418, -5.056534], [50.260611, -5.067315], [50.265384, -5.053447], [50.261274, -5.069463], [50.263508, -5.049538], [50.263529, -5.055574], [50.262167, -5.056048], [50.263776, -5.046187], [50.263311, -5.053595], [50.26339, -5.054021], [50.260562, -5.048648], [50.263597, -5.05642], [50.259522, -5.047179], [50.263118, -5.067757], [50.263413, -5.066794], [50.263165, -5.052323], [50.261012, -5.069165], [50.262164, -5.049312], [50.260457, -5.066323], [50.263529, -5.055574], [50.262335, -5.039359], [50.266267, -5.036943], [50.263277, -5.044612], [50.262782, -5.042896], [50.260803, -5.029158], [50.266581, -5.062646], [50.26271, -5.083168], [50.261492, -5.074809], [50.263002, -5.085713], [50.271847, -5.064248], [50.270956, -5.06391], [50.263002, -5.085713], [50.26292, -5.085427], [50.266024, -5.063312], [50.265371, -5.094708], [50.264743, -5.094667], [50.265731, -5.094731], [50.271762, -5.094561], [50.26258, -5.101543], [50.430879, -4.793413], [50.433752, -4.774851], [50.393241, -4.745889], [50.431684, -4.763464], [50.388058, -4.698315], [50.416433, -4.645727], [50.348913, -4.73363], [50.344924, -4.708098], [50.349531, -4.707236], [50.350246, -4.715149], [50.345577, -4.741592], [50.342796, -4.722174], [50.351823, -4.724659], [50.349466, -4.721572], [50.349965, -4.719491], [50.353149, -4.721782], [50.350999, -4.694385], [50.36699, -4.703026], [50.350846, -4.693252], [50.350768, -4.704354], [50.353111, -4.700269], [50.37545, -4.66778], [50.33682, -4.642003], [50.337999, -4.680859], [50.348015, -4.683392], [50.335359, -4.635035], [50.342558, -4.662562], [50.67941, -3.398952], [50.193408, -5.271664], [50.19322, -5.275154], [50.195858, -5.277297], [50.214831, -5.277616], [50.209046, -5.294462], [50.215601, -5.275847], [50.202814, -5.304826], [50.194344, -5.308444], [50.200406, -5.304098], [50.194812, -5.276104], [50.222209, -5.290322], [50.22804, -5.3004], [50.223926, -5.280484], [50.216269, -5.293558], [50.219689, -5.293513], [50.222887, -5.282236], [50.224337, -5.288225], [50.225545, -5.293216], [50.215313, -5.292371], [50.230967, -5.27648], [50.216173, -5.290607], [50.221773, -5.286646], [50.218098, -5.289338], [50.217727, -5.289733], [50.213251, -5.295313], [50.21727, -5.289982], [50.216685, -5.288399], [50.218545, -5.302128], [50.209863, -5.300547], [50.211569, -5.300664], [50.218842, -5.313786], [50.209863, -5.300547], [50.215915, -5.31863], [50.211649, -5.341886], [50.214175, -5.29762], [50.215664, -5.308518], [50.211379, -5.297847], [50.231306, -5.377623], [50.211645, -5.298006], [50.212149, -5.296078], [50.217058, -5.300623], [50.212536, -5.295123], [50.217816, -5.318201], [50.215664, -5.308518], [50.230494, -5.296362], [50.234203, -5.263798], [50.224747, -5.264134], [50.230403, -5.248532], [50.195954, -5.24507], [50.224184, -5.268162], [50.229634, -5.269516], [50.22884, -5.256139], [50.209876, -5.245875], [50.202255, -5.23849], [50.202521, -5.238648], [50.188692, -5.253826], [50.236678, -5.262144], [50.216347, -5.274916], [50.227514, -5.268109], [50.228196, -5.253431], [50.22554, -5.261523], [50.23609, -5.254249], [50.227315, -5.268797], [50.221502, -5.267558], [50.230485, -5.245592], [50.226164, -5.264932], [50.227122, -5.256443], [50.215369, -5.239238], [50.22861, -5.28347], [50.23213, -5.263937], [50.228856, -5.255579], [50.224955, -5.294998], [50.244475, -5.256784], [50.23379, -5.275271], [50.233, -5.277741], [50.230402, -5.283734], [50.234625, -5.293421], [50.229492, -5.284092], [50.236739, -5.269582], [50.243189, -5.280124], [50.238588, -5.283735], [50.260832, -5.286108], [50.25335, -5.299344], [50.260065, -5.249428], [50.260065, -5.249428], [50.258679, -5.269962], [50.233779, -5.224217], [50.229407, -5.226166], [50.234501, -5.217674], [50.23107, -5.227821], [50.235863, -5.217205], [50.24956, -5.206623], [50.220295, -5.227093], [50.234688, -5.217406], [50.246821, -5.211349], [50.220295, -5.227093], [50.225631, -5.222826], [50.21716, -5.226601], [50.232424, -5.217955], [50.231308, -5.225733], [50.251479, -5.199035], [50.239161, -5.179133], [50.251479, -5.199035], [50.2522, -5.195716], [50.253206, -5.191855], [50.252018, -5.18925], [50.233372, -5.180291], [50.253206, -5.191855], [50.216914, -5.206255], [50.228247, -5.183455], [50.23369, -5.230663], [50.248346, -5.240634], [50.237333, -5.229086], [50.250082, -5.21704], [50.254735, -5.198411], [50.23369, -5.24034], [50.234963, -5.230188], [50.241042, -5.238034], [50.243739, -5.23485], [50.245836, -5.240323], [50.255382, -5.197753], [50.244251, -5.23264], [50.241211, -5.215741], [50.250655, -5.212589], [50.254735, -5.198411], [50.234115, -5.225081], [50.240386, -5.232519], [50.230829, -5.242951], [50.248436, -5.24064], [50.243239, -5.243093], [50.240979, -5.227369], [50.086275, -5.309241], [50.092468, -5.319177], [50.088351, -5.302672], [50.112867, -5.391519], [50.112654, -5.380312], [50.100595, -5.321278], [50.10739, -5.347767], [50.108051, -5.337322], [50.123738, -5.307908], [50.110375, -5.300131], [50.113895, -5.302892], [50.103386, -5.314897], [50.15059, -5.200553], [50.15564, -5.25186], [50.119146, -5.241129], [50.131088, -5.251593], [50.176026, -5.220885], [50.147403, -5.21168], [50.15059, -5.200553], [50.154514, -5.191994], [50.187669, -5.248572], [50.182653, -5.247811], [50.142098, -5.247161], [50.17073, -5.197698], [50.113468, -5.209128], [50.078818, -5.206392], [50.079968, -5.25554], [50.072472, -5.214635], [50.081841, -5.259302], [50.043763, -5.221517], [50.054476, -5.22447], [50.02171, -5.215432], [50.022364, -5.221061], [50.049962, -5.079423], [50.056903, -5.145962], [50.042131, -5.163155], [50.04523, -5.168249], [50.110533, -5.253138], [50.114927, -5.266447], [50.116178, -5.244287], [50.099807, -5.279404], [50.099116, -5.278378], [50.110529, -5.253277], [50.1152, -5.266326], [50.105463, -5.267062], [50.096835, -5.282697], [50.099786, -5.270591], [50.091956, -5.264324], [50.10159, -5.267218], [50.091874, -5.264039], [50.099807, -5.279404], [50.098935, -5.272072], [50.101879, -5.266538], [50.099038, -5.277953], [50.089234, -5.268334], [50.10353, -5.268608], [50.089706, -5.267527], [50.096565, -5.273169], [50.099888, -5.270179], [50.09503, -5.273344], [50.195823, -5.141917], [50.196501, -5.123463], [50.195539, -5.142459], [50.190491, -5.129516], [50.189256, -5.128595], [50.184232, -5.124763], [50.183207, -5.122735], [50.193483, -5.135317], [50.186946, -5.114152], [50.178547, -5.128735], [50.186806, -5.12269], [50.187215, -5.309212], [50.154578, -5.358626], [50.178149, -5.311667], [50.170486, -5.327946], [50.171263, -5.310211], [50.16069, -5.355694], [50.150896, -5.37699], [50.165748, -5.172715], [50.205914, -5.154635], [50.199883, -5.213802], [50.165771, -5.171877], [50.179951, -5.179681], [50.189117, -5.193181], [50.163817, -5.157742], [50.180404, -5.179571], [50.164142, -5.125833], [50.153442, -5.132275], [50.184232, -5.124763], [50.162879, -5.132613], [50.164545, -5.12754], [50.164331, -5.132147], [50.170938, -5.137342], [50.163426, -5.155616], [50.16606, -5.13142], [50.149278, -5.129903], [50.160173, -5.112831], [50.161262, -5.10912], [50.157954, -5.104985], [50.146341, -5.128731], [50.160476, -5.118312], [50.107726, -5.182445], [50.121543, -5.147542], [50.145993, -5.197586], [50.21196, -5.481262], [50.21066, -5.479625], [50.212841, -5.481887], [50.212904, -5.479788], [50.214994, -5.479099], [50.211344, -5.480796], [50.214802, -5.479506], [50.214189, -5.484929], [50.210406, -5.485074], [50.213173, -5.479808], [50.211562, -5.47955], [50.212148, -5.480995], [50.204301, -5.475658], [50.215408, -5.477307], [50.214994, -5.479099], [50.212467, -5.485364], [50.210398, -5.485354], [50.213443, -5.479828], [50.210938, -5.479365], [50.206316, -5.495429], [50.206927, -5.493091], [50.210707, -5.487059], [50.211322, -5.487524], [50.20512, -5.508238], [50.209373, -5.486541], [50.206448, -5.494037], [50.196537, -5.497518], [50.194533, -5.468361], [50.19147, -5.45945], [50.180698, -5.44354], [50.189781, -5.458768], [50.193372, -5.47108], [50.191972, -5.460748], [50.183956, -5.439851], [50.17631, -5.445886], [50.190061, -5.568372], [50.185882, -5.501783], [50.170268, -5.617744], [50.167156, -5.625213], [50.121462, -5.676331], [50.153347, -5.669537], [50.149979, -5.656537], [50.120815, -5.674043], [50.12514, -5.682351], [50.077906, -5.699279], [50.066068, -5.700883], [50.08357, -5.676784], [50.067507, -5.632642], [50.091295, -5.642973], [50.096465, -5.650219], [50.091058, -5.627572], [50.088402, -5.657717], [50.129593, -5.618032], [50.09623, -5.594397], [50.129091, -5.613935], [50.098433, -5.590086], [50.09422, -5.595365], [50.128881, -5.606222], [50.078907, -5.569751], [50.145206, -5.555369], [50.119735, -5.579087], [50.111681, -5.560158], [50.105359, -5.549198], [50.10986, -5.5638], [50.102846, -5.549012], [50.103769, -5.551178], [50.099384, -5.550434], [50.111587, -5.560291], [50.109172, -5.559832], [50.107582, -5.558875], [50.123632, -5.471625], [50.124053, -5.469556], [50.123627, -5.453713], [50.173917, -5.441651], [50.146369, -5.478453], [50.152908, -5.470386], [50.129661, -5.498513], [50.12876, -5.510483], [50.149741, -5.5039], [50.173917, -5.441651], [50.163898, -5.457878], [50.172247, -5.443352], [50.134308, -5.490594], [50.170838, -5.445352], [50.140394, -5.46766], [50.127965, -5.483135], [50.145596, -5.480217], [50.129461, -5.490241], [50.126704, -5.524887], [50.127169, -5.524362], [50.126673, -5.522926], [50.11908, -5.535941], [50.121772, -5.533201], [50.11908, -5.535941], [50.12196, -5.532935], [50.121987, -5.537974], [50.126528, -5.524735], [50.128127, -5.525412], [50.121093, -5.537768], [50.12672, -5.524329], [50.119101, -5.538181], [50.121841, -5.533905], [50.126704, -5.524887], [50.12317, -5.531624], [50.121772, -5.533201], [50.11934, -5.533301], [50.126528, -5.524735], [50.11908, -5.535941], [50.117741, -5.532624], [50.121037, -5.533706], [50.124948, -5.535254], [50.113404, -5.542098], [50.115117, -5.536068], [50.117741, -5.532624], [50.115907, -5.53081], [50.111194, -5.543754], [50.112638, -5.540642], [50.117477, -5.544218], [50.115075, -5.552155], [50.119008, -5.541253], [50.116088, -5.554329], [50.125599, -5.549297], [50.124509, -5.549636], [50.126356, -5.551032], [50.11619, -5.568608], [50.118523, -5.431657], [50.124678, -5.439514], [50.124691, -5.439096], [49.91573, -6.311815], [50.180127, -5.423324], [50.184049, -5.421503], [50.184428, -5.42083], [50.183638, -5.41713], [50.184049, -5.421503], [50.177883, -5.43227], [50.184428, -5.423912], [50.178908, -5.431083], [50.185414, -5.411793], [50.186506, -5.39912], [50.190915, -5.411344], [50.188573, -5.411457], [50.188735, -5.418195], [50.191642, -5.408033], [50.196704, -5.398023], [50.188122, -5.420674], [50.196704, -5.398023], [50.18931, -5.416975], [50.196504, -5.398709], [50.216146, -5.391553], [50.206624, -5.366346], [50.179577, -5.355897], [50.205466, -5.393739], [50.204917, -5.360059], [50.209517, -5.350289], [50.205242, -5.38293], [50.196218, -5.35286], [50.188672, -5.34], [50.174633, -5.365076], [50.152402, -5.380876], [50.171013, -5.412027], [50.174212, -5.428645], [50.162927, -5.420834], [50.174425, -5.436645], [50.149436, -5.393128], [50.167823, -5.407317], [50.132345, -5.417531], [50.111581, -5.419968], [50.129347, -5.454964], [50.176092, -5.416732], [50.199263, -5.396663], [50.196851, -5.399154], [50.196704, -5.398023], [50.540433, -4.729308], [50.556061, -4.572353], [50.5379, -4.608343], [50.530273, -4.698239], [50.558335, -4.571206], [50.537875, -4.601426], [50.511785, -4.731181], [50.512142, -4.74277], [50.490174, -4.693556], [50.500814, -4.680764], [50.492559, -4.691577], [50.455536, -4.634947], [50.45093, -4.655541], [50.506193, -4.669785], [50.455536, -4.634947], [50.506386, -4.669231], [50.465657, -4.74191], [50.472222, -4.726645], [50.476723, -4.753264], [50.471162, -4.73349], [50.459883, -4.731148], [50.468381, -4.733189], [50.471629, -4.744229], [50.472618, -4.725117], [50.475112, -4.752888], [50.473712, -4.751256], [50.467093, -4.734383], [50.452809, -4.695096], [50.452436, -4.695638], [50.442073, -4.704205], [50.429905, -4.758854], [50.438349, -4.755542], [50.459352, -4.749859], [50.433314, -4.732576], [50.439533, -4.747301], [50.479454, -4.751872], [50.420661, -4.832798], [50.472344, -4.721437], [50.462307, -4.712123], [50.473747, -4.715315], [50.461272, -4.721787], [50.456642, -4.704331], [50.469224, -4.712519], [50.471265, -4.717569], [50.469074, -4.711242], [50.47382, -4.704466], [50.459469, -4.710411], [50.465725, -4.715983], [50.460011, -4.694801], [50.465846, -4.699219], [50.475203, -4.702995], [50.460011, -4.694801], [50.468309, -4.724728], [50.463435, -4.710074], [50.470989, -4.717835], [50.459102, -4.718422], [50.459379, -4.694906], [50.464887, -4.697896], [50.473749, -4.703616], [50.461452, -4.694742], [50.703847, -4.640632], [50.705419, -4.634772], [50.675764, -4.613575], [50.698284, -4.604064], [50.638443, -4.688308], [50.689697, -4.692937], [50.638798, -4.69243], [50.661673, -4.722183], [50.661644, -4.750201], [50.653852, -4.733475], [50.672136, -4.720948], [50.66508, -4.753233], [50.593118, -4.726562], [50.637157, -4.708885], [50.592752, -4.726823], [50.621644, -4.733727], [50.587576, -4.728926], [50.618989, -4.685501], [50.637225, -4.659101], [50.601707, -4.697661], [50.614764, -4.685402], [50.624322, -4.672655], [50.623774, -4.680825], [50.623217, -4.677682], [50.623204, -4.678247], [50.627115, -4.688085], [50.572457, -4.709972], [50.644108, -4.645202], [50.647614, -4.641297], [50.621801, -4.56067], [50.664139, -4.574153], [50.661663, -4.576282], [50.458263, -4.593672], [50.458096, -4.5931], [50.455426, -4.571538], [50.532467, -4.589838], [50.458263, -4.593672], [50.467492, -4.579098], [50.493765, -4.462505], [50.502001, -4.425843], [50.512875, -4.456306], [50.47764, -4.459412], [50.52196, -4.426302], [50.441166, -4.573722], [50.449558, -4.600804], [50.455522, -4.627619], [50.457456, -4.613636], [50.458129, -4.595638], [50.457247, -4.610948], [50.45635, -4.62682], [50.45349, -4.569601], [50.448893, -4.553715], [50.442136, -4.562366], [50.455843, -4.515484], [50.449497, -4.550789], [50.4511, -4.539182], [50.457926, -4.531375], [50.458309, -4.526182], [50.464829, -4.520047], [50.457381, -4.494149], [50.457643, -4.502898], [50.458405, -4.525906], [50.450768, -4.454073], [50.459227, -4.458174], [50.471191, -4.453862], [50.456493, -4.464091], [50.460611, -4.460782], [50.458532, -4.457011], [50.47124, -4.460066], [50.452328, -4.452604], [50.455214, -4.465011], [50.432773, -4.437229], [50.422895, -4.410534], [50.422559, -4.40939], [50.445061, -4.447439], [50.445061, -4.447439], [50.430421, -4.433587], [50.448105, -4.452386], [50.432773, -4.437229], [50.437994, -4.4413], [50.447437, -4.449956], [50.423078, -4.410402], [50.486644, -4.372328], [50.503474, -4.406879], [50.453681, -4.465213], [50.454669, -4.465264], [50.450485, -4.467442], [50.455628, -4.466723], [50.453681, -4.465213], [50.450114, -4.467986], [50.45431, -4.465246], [50.422423, -4.643386], [50.418255, -4.644702], [50.448559, -4.660903], [50.413203, -4.548697], [50.396322, -4.555531], [50.386514, -4.567947], [50.407328, -4.475051], [50.353279, -4.495576], [50.353285, -4.495295], [50.353686, -4.501784], [50.353279, -4.499794], [50.353344, -4.500922], [50.356603, -4.520777], [50.349671, -4.508601], [50.331434, -4.520007], [50.337603, -4.521739], [50.347972, -4.512307], [50.35678, -4.457938], [50.355849, -4.463655], [50.368542, -4.44617], [50.365798, -4.456858], [50.369257, -4.446348], [50.35678, -4.457938], [50.348554, -4.451328], [50.362932, -4.44771], [50.354701, -4.454176], [50.359013, -4.441603], [50.364625, -4.4485], [50.390798, -4.405528], [50.388303, -4.447469], [50.390923, -4.421152], [50.394498, -4.413595], [50.367951, -4.435733], [50.372272, -4.439893], [50.697774, -4.427719], [50.673588, -4.3925], [50.673852, -4.392797], [50.640904, -4.341051], [50.636738, -4.510847], [50.63578, -4.501037], [50.634787, -4.492782], [50.636461, -4.507014], [50.632181, -4.475815], [50.622122, -4.42382], [50.622687, -4.439826], [50.629984, -4.36073], [50.627055, -4.340928], [50.63438, -4.356849], [50.644156, -4.358187], [50.633513, -4.332905], [50.632119, -4.339624], [50.631466, -4.354158], [50.638157, -4.361281], [50.635636, -4.361438], [50.635255, -4.358024], [50.627881, -4.37123], [50.629293, -4.36819], [50.636818, -4.36079], [50.628716, -4.356707], [50.63682, -4.356264], [50.626213, -4.3604], [50.628201, -4.37761], [50.633024, -4.334861], [50.629014, -4.3686], [50.596984, -4.502371], [50.595662, -4.475876], [50.595662, -4.475876], [50.575827, -4.544755], [50.595662, -4.475876], [50.592051, -4.526696], [50.610429, -4.517079], [50.568461, -4.556646], [50.595662, -4.475876], [50.607555, -4.512685], [50.595662, -4.475876], [50.619716, -4.540904], [50.595662, -4.475876], [50.608876, -4.446462], [50.613274, -4.459696], [50.602501, -4.45447], [50.616605, -4.386072], [50.617574, -4.408883], [50.631004, -4.394438], [50.623089, -4.416235], [50.622191, -4.424813], [50.616856, -4.430477], [50.640556, -4.32703], [50.633967, -4.332645], [50.63399, -4.331515], [50.584483, -4.421462], [50.574204, -4.334634], [50.595315, -4.335961], [50.575488, -4.333426], [50.601907, -4.339114], [50.583356, -4.331272], [50.552484, -4.33229], [50.549682, -4.332999], [50.535029, -4.337074], [50.521203, -4.281367], [50.548688, -4.355537], [50.567399, -4.31961], [50.536828, -4.314582], [50.522916, -4.281168], [50.516638, -4.361417], [50.507335, -4.295931], [50.497933, -4.320999], [50.503987, -4.315091], [50.504717, -4.314562], [50.506291, -4.298702], [50.503246, -4.31167], [50.504258, -4.301424], [50.519263, -4.315838], [50.50014, -4.309544], [50.488295, -4.330678], [50.510007, -4.288162], [50.504245, -4.306641], [50.522931, -4.316864], [50.497432, -4.300951], [50.491214, -4.319683], [50.502993, -4.315324], [50.488818, -4.313503], [50.50064, -4.30703], [50.514909, -4.276691], [50.510771, -4.225571], [50.498201, -4.20552], [50.516628, -4.271554], [50.524191, -4.229307], [50.498565, -4.252214], [50.507344, -4.22132], [50.516398, -4.264912], [50.516238, -4.235985], [50.498619, -4.211885], [50.519414, -4.215679], [50.516309, -4.236976], [50.389257, -4.331023], [50.40711, -4.351181], [50.416053, -4.393434], [50.414974, -4.326936], [50.409444, -4.360305], [50.407394, -4.350492], [50.405868, -4.354779], [50.409453, -4.359883], [50.408338, -4.348286], [50.40711, -4.351181], [50.414569, -4.324664], [50.415757, -4.328241], [50.405975, -4.35394], [50.407787, -4.353326], [50.416179, -4.32066], [50.416193, -4.319957], [50.418421, -4.302891], [50.425236, -4.281116], [50.429164, -4.300877], [50.416007, -4.315725], [50.425149, -4.280971], [50.425526, -4.275498], [50.425236, -4.281116], [50.425236, -4.281116], [50.411887, -4.213192], [50.40889, -4.214741], [50.410381, -4.221426], [50.408181, -4.204715], [50.410119, -4.211561], [50.408336, -4.205989], [50.408513, -4.210923], [50.408816, -4.213893], [50.408513, -4.210923], [50.408181, -4.204715], [50.414287, -4.214711], [50.44254, -4.256313], [50.431533, -4.258043], [50.419128, -4.234365], [50.413511, -4.241139], [50.425605, -4.248327], [50.420999, -4.263173], [50.424491, -4.245458], [50.425607, -4.248186], [50.420825, -4.262883], [50.413158, -4.231409], [50.413158, -4.231409], [50.418654, -4.235609], [50.411853, -4.229096], [50.411262, -4.227097], [50.413158, -4.231409], [50.410779, -4.224119], [50.417509, -4.257657], [50.400154, -4.262039], [50.492518, -4.290137], [50.483901, -4.257014], [50.493931, -4.291474], [50.475593, -4.277197], [50.475593, -4.277197], [50.361768, -4.369328], [50.377398, -4.334802], [50.374461, -4.390777], [50.391889, -4.378709], [50.391569, -4.394311], [50.391446, -4.342949], [50.400165, -4.387426], [50.391889, -4.378709], [50.374817, -4.306404], [50.364624, -4.298738], [50.388746, -4.311582], [50.376979, -4.306228], [50.385012, -4.300287], [50.363889, -4.322186], [50.364543, -4.298312], [50.370278, -4.253445], [50.364022, -4.2374], [50.354506, -4.255088], [50.353877, -4.259698], [50.377079, -4.203694], [50.375293, -4.193485], [50.377079, -4.203694], [50.37584, -4.19787], [50.376785, -4.204946], [50.376754, -4.201851], [50.354426, -4.240604], [50.348495, -4.216849], [50.346097, -4.219971], [50.352582, -4.233628], [50.340732, -4.218315], [50.377908, -4.20739], [50.91578, -4.479885], [50.882632, -4.519925], [50.893069, -4.465026], [50.871937, -4.473292], [50.863538, -4.496013], [50.886471, -4.475058], [50.862262, -4.496798], [50.824562, -4.534972], [50.81765, -4.530196], [50.829562, -4.544901], [50.825163, -4.536283], [50.828757, -4.544715], [50.821123, -4.498436], [50.819691, -4.468542], [50.816262, -4.464812], [50.83527, -4.46766], [50.819382, -4.470371], [50.820461, -4.466169], [50.809595, -4.503357], [50.786381, -4.557594], [50.789791, -4.533232], [50.752431, -4.551206], [50.752524, -4.551069], [50.796938, -4.531348], [50.730687, -4.578793], [50.729956, -4.579319], [50.712599, -4.5506], [50.735644, -4.478859], [50.745342, -4.45839], [50.766592, -4.392421], [50.731854, -4.445354], [50.73686, -4.394874], [50.838814, -4.512307], [50.830971, -4.517283], [50.826253, -4.506662], [50.823619, -4.503681], [50.827094, -4.521903], [50.841303, -4.517839], [50.847338, -4.509071], [50.841881, -4.511904], [50.825751, -4.504931], [50.830971, -4.517283], [50.827094, -4.521903], [50.827506, -4.511132], [50.827345, -4.510271], [50.82919, -4.516477], [50.529072, -4.983234], [50.530572, -5.015788], [50.525809, -4.991213], [50.537139, -5.005339], [50.541446, -4.938844], [50.524711, -4.953185], [50.537033, -4.953249], [50.542294, -4.937344], [50.539049, -4.955351], [50.535248, -4.977414], [50.551217, -4.900766], [50.548496, -4.905258], [50.557179, -4.863431], [50.564315, -4.887731], [50.576094, -4.877009], [50.55135, -4.873666], [50.573271, -4.914552], [50.594029, -4.83161], [50.592187, -4.833337], [50.592229, -4.831644], [50.591945, -4.832192], [50.513667, -4.948827], [50.510925, -4.929189], [50.507782, -4.882162], [50.494973, -4.76885], [50.496709, -4.77149], [50.533439, -4.841104], [50.496792, -4.771777], [50.533014, -4.840091], [50.533459, -4.780701], [50.532806, -4.800421], [50.565175, -4.763361], [50.532527, -4.800827], [50.543889, -4.780891], [50.532806, -4.800421], [50.581345, -4.760494], [50.514131, -4.821322], [50.51519, -4.829568], [50.519992, -4.831831], [50.516653, -4.821191], [50.477496, -4.963349], [50.499792, -5.023276], [50.478911, -4.981905], [50.481224, -5.028152], [50.405177, -4.833282], [50.428435, -4.812702], [50.39337, -4.826808], [50.419915, -4.83388], [50.408697, -4.832788], [50.400454, -4.831452], [50.406068, -4.833616], [50.416047, -4.844912], [50.422757, -4.831656], [50.425224, -4.818989], [50.405622, -4.833449], [50.416047, -4.844912], [50.410206, -4.829922], [50.473712, -4.751256], [50.415353, -4.851205], [50.422664, -4.831791], [50.420664, -4.832657], [50.39762, -4.829594], [50.422059, -4.83077], [50.392759, -4.826068], [50.378841, -4.88362], [50.386269, -4.881538], [50.377253, -4.882398], [50.385422, -4.886693], [50.374787, -4.876622], [50.382244, -4.884249], [50.383619, -4.883207], [50.392853, -4.898964], [50.392856, -4.898824], [50.354147, -4.860048], [50.365083, -4.890661], [50.343689, -4.857311], [50.343046, -4.890587], [50.34357, -4.90566], [50.343948, -4.890501], [50.371668, -4.868135], [50.36118, -4.863003], [50.343633, -4.848593], [50.357864, -4.862522], [50.343163, -4.903948], [50.394525, -4.793948], [50.380491, -4.793967], [50.374101, -4.779104], [50.361518, -4.782447], [50.369545, -4.785307], [50.364823, -4.805844], [50.374005, -4.775582], [50.374738, -4.771264], [50.390735, -4.794429], [50.371219, -4.783014], [50.377823, -4.76638], [50.397692, -4.79315], [50.373083, -4.78031], [50.38625, -4.793884], [50.357717, -4.7721], [50.367247, -4.760983], [50.373712, -4.780347], [50.377575, -4.799282], [50.341972, -4.831907], [50.343124, -4.825228], [50.331304, -4.811878], [50.300116, -4.799645], [50.32985, -4.771321], [50.312335, -4.800223], [50.328803, -4.781237], [50.298544, -4.900386], [50.30054, -4.863431], [50.299358, -4.903806], [50.310109, -4.862039], [50.269708, -4.82944], [50.289275, -4.816419], [50.310824, -4.851266], [50.282751, -4.792308], [50.270149, -4.788904], [50.386109, -4.85156], [50.391405, -4.848361], [50.386292, -4.851431], [50.385829, -4.851966], [50.317348, -4.83831], [50.31422, -4.852172], [50.327227, -4.82049], [50.293104, -4.780698], [50.338395, -4.793885], [50.335114, -4.803109], [50.33433, -4.802079], [50.335114, -4.803109], [50.335114, -4.803109], [50.334558, -4.79633], [50.339224, -4.80054], [50.333889, -4.805426], [50.347447, -4.79526], [50.338365, -4.795148], [50.337905, -4.795543], [50.335065, -4.793971], [50.334509, -4.794641], [50.335317, -4.794688], [50.335114, -4.803109], [50.339083, -4.79519], [50.356219, -4.77834], [50.340285, -4.782611], [50.349421, -4.780474], [50.339702, -4.784404], [50.359073, -4.7906], [50.352019, -4.780907], [50.349421, -4.780474], [50.341896, -4.775396], [50.345469, -4.780243], [50.355579, -4.782521], [50.338976, -4.773398], [50.340393, -4.774324], [50.336591, -4.786611], [50.338236, -4.777993], [50.338807, -4.761582], [50.341299, -4.76271], [50.338744, -4.764249], [50.338248, -4.769982], [50.338886, -4.773393], [50.339502, -4.785235], [50.335043, -4.77612], [50.335049, -4.77584], [50.337931, -4.786971], [50.33416, -4.779161], [50.341284, -4.778452], [50.336487, -4.772129], [50.338517, -4.769998], [50.333956, -4.783927], [50.338091, -4.76899], [50.339217, -4.759497], [50.343398, -4.769017], [50.341915, -4.755718], [50.351573, -4.765697], [50.352057, -4.775567], [50.344886, -4.759404], [50.344473, -4.76922], [50.341915, -4.763308], [50.348448, -4.768468], [50.342683, -4.749859], [50.342683, -4.749859], [50.345082, -4.758713], [50.342181, -4.763464], [50.336978, -4.751497], [50.34411, -4.738977], [50.343159, -4.748762], [50.400707, -4.940821], [50.395132, -4.922886], [50.384367, -4.939528], [50.400996, -4.950691], [50.39469, -4.922577], [50.394798, -4.92188], [50.382403, -4.93181], [50.380034, -4.936587], [50.396281, -4.920142], [50.40107, -4.940703], [50.366291, -4.978211], [50.363514, -4.981272], [50.394708, -4.921874], [50.400707, -4.940821], [50.401255, -4.951129], [50.358253, -4.989942], [50.380325, -4.935761], [50.392977, -4.9084], [50.429813, -4.956567], [50.474691, -4.910596], [50.430698, -4.942962], [50.445018, -4.931595], [50.458925, -4.922309], [50.434369, -4.971921], [50.468564, -4.932488], [50.430004, -4.941933], [50.457155, -4.924736], [50.456466, -4.919903], [50.43175, -4.961758], [50.456781, -4.925277], [50.433431, -4.96637], [50.471705, -5.027543], [50.461982, -5.031291], [50.457427, -5.030013], [50.448239, -5.020127], [50.453016, -5.002397], [50.449522, -4.973857], [50.412627, -4.942545], [50.408203, -4.911022], [50.430876, -4.988884], [50.431836, -4.961904], [50.401989, -4.961168], [50.433176, -4.96579], [50.401393, -4.963383], [50.419679, -4.883707], [50.423663, -4.940132], [50.414311, -4.911396], [50.429547, -4.938666], [50.280062, -4.990652], [50.274076, -4.943254], [50.261233, -4.92464], [50.352271, -4.93881], [50.32033, -4.928408], [50.348092, -4.92618], [50.315404, -4.927543], [50.320389, -4.96157], [50.348092, -4.92618], [50.276411, -4.939889], [50.292241, -4.961226], [50.285728, -4.944956], [50.290298, -4.970372], [50.282665, -4.952207], [50.29295, -4.936836], [50.287233, -4.92455], [50.282665, -4.952207], [50.304553, -4.965221], [50.282665, -4.952207], [50.225107, -4.937432], [50.217012, -4.9124], [50.224537, -4.899257], [50.216879, -4.906924], [50.345762, -5.027675], [50.310327, -5.023877], [50.345047, -5.027489], [50.419211, -5.094311], [50.411245, -5.089427], [50.41691, -5.089514], [50.413505, -5.082254], [50.411754, -5.087208], [50.410841, -5.087712], [50.411387, -5.084087], [50.413853, -5.086077], [50.411245, -5.089427], [50.411245, -5.089427], [50.41285, -5.086575], [50.413135, -5.089409], [50.414287, -5.086669], [50.409133, -5.074087], [50.410548, -5.078401], [50.413307, -5.06591], [50.415378, -5.07604], [50.418287, -5.064683], [50.411075, -5.075479], [50.418408, -5.070323], [50.418408, -5.070323], [50.413443, -5.070987], [50.413443, -5.070987], [50.418099, -5.061573], [50.413156, -5.07843], [50.434745, -5.047718], [50.416521, -5.042887], [50.438634, -5.04008], [50.416702, -5.056556], [50.418277, -5.030751], [50.401787, -5.055877], [50.404991, -5.040037], [50.401787, -5.055877], [50.399967, -4.969908], [50.401646, -5.019978], [50.421428, -5.03067], [50.401787, -5.055877], [50.398453, -5.069736], [50.402953, -5.028506], [50.417731, -5.030998], [50.401135, -5.029234], [50.15302, -5.067281], [50.154533, -5.071299], [50.153985, -5.068183], [50.154161, -5.068334], [50.15181, -5.065384], [50.154071, -5.068329], [50.150526, -5.062921], [50.154582, -5.072842], [50.151511, -5.076705], [50.154769, -5.072574], [50.154618, -5.081665], [50.162911, -5.087801], [50.153981, -5.078544], [50.160126, -5.080899], [50.143663, -5.09104], [50.142892, -5.09295], [50.147543, -5.08723], [50.153467, -5.097833], [50.150537, -5.096384], [50.128681, -5.096231], [50.171933, -5.117097], [50.169032, -5.127973], [50.167672, -5.101553], [50.168184, -5.099205], [50.172031, -5.113462], [50.164411, -5.12585], [50.168084, -5.102981], [50.164235, -5.125699], [50.164629, -5.090853], [50.169477, -5.128142], [50.170497, -5.103557], [50.166246, -5.097679], [50.166246, -5.097679], [50.172472, -5.117132], [50.167664, -5.101833], [50.168574, -5.104833], [50.171808, -5.067784], [50.19157, -5.072275], [50.174885, -5.090814], [50.184885, -5.076749], [50.19157, -5.072275], [50.177007, -5.0719], [50.160961, -5.086695], [50.156984, -5.090779], [50.154169, -5.081636], [50.157134, -5.091909], [50.155978, -5.091414], [50.161758, -5.087166], [50.150969, -5.080171], [50.156056, -5.088479], [50.158222, -5.088199], [50.161758, -5.087166], [50.160171, -5.085944], [50.154618, -5.081665], [50.150572, -5.078185], [50.154716, -5.084752], [50.162993, -5.088086], [50.157224, -5.095276], [50.153809, -5.081613], [50.220312, -5.154463], [50.21529, -5.176984], [50.206261, -5.115129], [50.206257, -5.115269], [50.205389, -5.117455], [50.205288, -5.121233], [50.205389, -5.117455], [50.208284, -5.123532], [50.276808, -5.170973], [50.280904, -5.172509], [50.286839, -5.182452], [50.271775, -5.197027], [50.2813, -5.194156], [50.280904, -5.172509], [50.287007, -5.238206], [50.288006, -5.202188], [50.287019, -5.237786], [50.280736, -5.172077], [50.279954, -5.210351], [50.275176, -5.197676], [50.279636, -5.202328], [50.280736, -5.172077], [50.298257, -5.146418], [50.295876, -5.147947], [50.316699, -5.136397], [50.29668, -5.128198], [50.342425, -5.159741], [50.281378, -5.161731], [50.303856, -5.105493], [50.289373, -5.148921], [50.289369, -5.149061], [50.298257, -5.146418], [50.348309, -5.138481], [50.298817, -5.148983], [50.314173, -5.156602], [50.314173, -5.156602], [50.282228, -5.160243], [50.298257, -5.146418], [50.33149, -5.138355], [50.343856, -5.156743], [50.326156, -5.132664], [50.304676, -5.188138], [50.292407, -5.192654], [50.31052, -5.201313], [50.322734, -5.175858], [50.309299, -5.203198], [50.292407, -5.192654], [50.310318, -5.202142], [50.312142, -5.194679], [50.314778, -5.177294], [50.311441, -5.177633], [50.292407, -5.192654], [50.312251, -5.203818], [50.324086, -5.075477], [50.346214, -5.027564], [50.345837, -5.028242], [50.345762, -5.027675], [50.349475, -5.13195], [50.328923, -5.072839], [50.346214, -5.027564], [50.336802, -5.091198], [50.3363, -5.062633], [50.341962, -5.110229], [50.354299, -5.003754], [50.372174, -5.090544], [50.373285, -5.08935], [50.376484, -5.107705], [50.383256, -5.083105], [50.372174, -5.090544], [50.384715, -5.112746], [50.395058, -5.085841], [50.36817, -5.092253], [50.382821, -5.01048], [50.367642, -5.054385], [50.365753, -5.091814], [50.37199, -5.090673], [50.349472, -5.088366], [50.246513, -5.17345], [50.264751, -5.184206], [50.250783, -5.142166], [50.256263, -5.175501], [50.270128, -5.171793], [50.269992, -5.180065], [50.261162, -5.190422], [50.260192, -5.146855], [50.256379, -5.181122], [50.260386, -5.146306], [50.249616, -5.125393], [50.277761, -5.071928], [50.279001, -5.163117], [50.273684, -5.146903], [50.29644, -5.127059], [50.27552, -5.165413], [50.271632, -5.142977], [50.303856, -5.105493], [50.274455, -5.148357], [50.266962, -5.129337], [50.26688, -5.129051], [50.267882, -5.131923], [50.279349, -5.163561], [50.277761, -5.071928], [50.279009, -5.162837], [50.284853, -5.123069], [50.266543, -5.128186], [50.296572, -5.125523], [50.270439, -5.140513], [50.276977, -5.154841], [50.263403, -5.114508], [50.263451, -5.119423], [50.29644, -5.127059], [50.26418, -5.11905], [50.303474, -5.106311], [50.278813, -5.072978], [50.272488, -5.144578], [50.268708, -5.134644], [50.277945, -5.013401], [50.294098, -5.035627], [50.235788, -5.070489], [50.232884, -5.071425], [50.240789, -5.06506], [50.234776, -5.081504], [50.23272, -5.070853], [50.230868, -5.072838], [50.249701, -5.061423], [50.225141, -5.081865], [50.264657, -5.094521], [50.275275, -5.039903], [50.272991, -5.037792], [50.262994, -5.055399], [50.263157, -5.052603], [50.250337, -5.061183], [50.261081, -5.052891], [50.260401, -5.047936], [50.263292, -5.061172], [50.260372, -5.049057], [50.262941, -5.053993], [50.263292, -5.061172], [50.262497, -5.057192], [50.263049, -5.053298], [50.259496, -5.048159], [50.256938, -5.073534], [50.26133, -5.070729], [50.262783, -5.063385], [50.261196, -5.062161], [50.263834, -5.050822], [50.262471, -5.058173], [50.260562, -5.048648], [50.263312, -5.046719], [50.261731, -5.052091], [50.26445, -5.047914], [50.254777, -5.056557], [50.25562, -5.058716], [50.263597, -5.05642], [50.263843, -5.05391], [50.261638, -5.052225], [50.263597, -5.05642], [50.254777, -5.056557], [50.259578, -5.048445], [50.263585, -5.046596], [50.257524, -5.047893], [50.263292, -5.061172], [50.263291, -5.050928], [50.264628, -5.044557], [50.267152, -5.040929], [50.262392, -5.040626], [50.272084, -5.034647], [50.258263, -5.04373], [50.262955, -5.036311], [50.259686, -5.027122], [50.264811, -5.044429], [50.262357, -5.079496], [50.262204, -5.078504], [50.265422, -5.082641], [50.263313, -5.087557], [50.258375, -5.076994], [50.262642, -5.082321], [50.26265, -5.082041], [50.262125, -5.078078], [50.264679, -5.059718], [50.266094, -5.06065], [50.262852, -5.08458], [50.261889, -5.0768], [50.264507, -5.096757], [50.264249, -5.103055], [50.264556, -5.094935], [50.264429, -5.09633], [50.264518, -5.096336], [50.263976, -5.103178], [50.414054, -4.782287], [50.371978, -4.751131], [50.435973, -4.7647], [50.41924, -4.772313], [50.432817, -4.776346], [50.427944, -4.76564], [50.405907, -4.780684], [50.435373, -4.7672], [50.432261, -4.788284], [50.389112, -4.737912], [50.400785, -4.700305], [50.416081, -4.688505], [50.410471, -4.666509], [50.406868, -4.662788], [50.429385, -4.700524], [50.410272, -4.667343], [50.421075, -4.682593], [50.400398, -4.689869], [50.400398, -4.689869], [50.342677, -4.715701], [50.359705, -4.714564], [50.345577, -4.741592], [50.346455, -4.73869], [50.355752, -4.714339], [50.348837, -4.721536], [50.349621, -4.707241], [50.353622, -4.720825], [50.367438, -4.706989], [50.351354, -4.698482], [50.376535, -4.702584], [50.350849, -4.693111], [50.353734, -4.700586], [50.350131, -4.689134], [50.334243, -4.63666], [50.343975, -4.671356], [50.334272, -4.639331], [50.343758, -4.661223], [50.390923, -4.421152]],\n",
       "                {\n",
       "  &quot;minOpacity&quot;: 0.5,\n",
       "  &quot;maxZoom&quot;: 18,\n",
       "  &quot;radius&quot;: 25,\n",
       "  &quot;blur&quot;: 15,\n",
       "}\n",
       "            );\n",
       "        \n",
       "    \n",
       "            heat_map_f714a7dac50f86fb7512cb5649ef6ef9.addTo(map_297bfc7cefbf55dbd00401e15518253d);\n",
       "        \n",
       "    \n",
       "            tile_layer_8223fea1daca7acec0980ba3236652b0.addTo(map_297bfc7cefbf55dbd00401e15518253d);\n",
       "        \n",
       "    \n",
       "            heat_map_f714a7dac50f86fb7512cb5649ef6ef9.addTo(map_297bfc7cefbf55dbd00401e15518253d);\n",
       "        \n",
       "&lt;/script&gt;\n",
       "&lt;/html&gt;\" style=\"position:absolute;width:100%;height:100%;left:0;top:0;border:none !important;\" allowfullscreen webkitallowfullscreen mozallowfullscreen></iframe></div></div>"
      ],
      "text/plain": [
       "<folium.folium.Map at 0x20ac7e78770>"
      ]
     },
     "execution_count": 85,
     "metadata": {},
     "output_type": "execute_result"
    }
   ],
   "source": [
    "locations = list(zip(Cornwall_DF['Latitude'], Cornwall_DF['Longitude']))\n",
    "m = folium.Map(locations = [Cornwall_DF['Latitude'].mean(), Cornwall_DF['Longitude'].mean()], zoom_start = 10)\n",
    "HeatMap(locations).add_to(m)\n",
    "m.save(\"Cornwall_DF.html\")\n",
    "m"
   ]
  },
  {
   "cell_type": "markdown",
   "id": "9668a61a-b528-4a8a-b553-5deb01ec2366",
   "metadata": {},
   "source": [
    "<h4>29. Insights:</h4>\n",
    "<h4>According to our heatmap in the Area of Cornwall, we have a total of 2606 Accidents in this area. Mostly the hotspots in this area are located on Intersections in which we all know, where most accidents occur because of its structure, while other hotspots on the area are located on Straight Roads and Roundabouts.</h4>\n",
    "<hr>"
   ]
  },
  {
   "cell_type": "code",
   "execution_count": 101,
   "id": "c66d0007-44cc-4613-9d18-09a085648a03",
   "metadata": {},
   "outputs": [
    {
     "data": {
      "text/plain": [
       "np.int64(160)"
      ]
     },
     "execution_count": 101,
     "metadata": {},
     "output_type": "execute_result"
    }
   ],
   "source": [
    "#Clackmannshire\n",
    "Clackmannshire_DF = UKRoad[UKRoad[\"District Area\"] == 'Clackmannshire']\n",
    "Clackmannshire_DF.value_counts().sum()"
   ]
  },
  {
   "cell_type": "code",
   "execution_count": 89,
   "id": "fc2cce25-fb8b-408a-a5d6-56352f90178a",
   "metadata": {},
   "outputs": [
    {
     "data": {
      "text/html": [
       "<div style=\"width:100%;\"><div style=\"position:relative;width:100%;height:0;padding-bottom:60%;\"><span style=\"color:#565656\">Make this Notebook Trusted to load map: File -> Trust Notebook</span><iframe srcdoc=\"&lt;!DOCTYPE html&gt;\n",
       "&lt;html&gt;\n",
       "&lt;head&gt;\n",
       "    \n",
       "    &lt;meta http-equiv=&quot;content-type&quot; content=&quot;text/html; charset=UTF-8&quot; /&gt;\n",
       "    &lt;script src=&quot;https://cdn.jsdelivr.net/npm/leaflet@1.9.3/dist/leaflet.js&quot;&gt;&lt;/script&gt;\n",
       "    &lt;script src=&quot;https://code.jquery.com/jquery-3.7.1.min.js&quot;&gt;&lt;/script&gt;\n",
       "    &lt;script src=&quot;https://cdn.jsdelivr.net/npm/bootstrap@5.2.2/dist/js/bootstrap.bundle.min.js&quot;&gt;&lt;/script&gt;\n",
       "    &lt;script src=&quot;https://cdnjs.cloudflare.com/ajax/libs/Leaflet.awesome-markers/2.0.2/leaflet.awesome-markers.js&quot;&gt;&lt;/script&gt;\n",
       "    &lt;link rel=&quot;stylesheet&quot; href=&quot;https://cdn.jsdelivr.net/npm/leaflet@1.9.3/dist/leaflet.css&quot;/&gt;\n",
       "    &lt;link rel=&quot;stylesheet&quot; href=&quot;https://cdn.jsdelivr.net/npm/bootstrap@5.2.2/dist/css/bootstrap.min.css&quot;/&gt;\n",
       "    &lt;link rel=&quot;stylesheet&quot; href=&quot;https://netdna.bootstrapcdn.com/bootstrap/3.0.0/css/bootstrap-glyphicons.css&quot;/&gt;\n",
       "    &lt;link rel=&quot;stylesheet&quot; href=&quot;https://cdn.jsdelivr.net/npm/@fortawesome/fontawesome-free@6.2.0/css/all.min.css&quot;/&gt;\n",
       "    &lt;link rel=&quot;stylesheet&quot; href=&quot;https://cdnjs.cloudflare.com/ajax/libs/Leaflet.awesome-markers/2.0.2/leaflet.awesome-markers.css&quot;/&gt;\n",
       "    &lt;link rel=&quot;stylesheet&quot; href=&quot;https://cdn.jsdelivr.net/gh/python-visualization/folium/folium/templates/leaflet.awesome.rotate.min.css&quot;/&gt;\n",
       "    \n",
       "            &lt;meta name=&quot;viewport&quot; content=&quot;width=device-width,\n",
       "                initial-scale=1.0, maximum-scale=1.0, user-scalable=no&quot; /&gt;\n",
       "            &lt;style&gt;\n",
       "                #map_c2f2c61eb72d363244aa921d9258102b {\n",
       "                    position: relative;\n",
       "                    width: 100.0%;\n",
       "                    height: 100.0%;\n",
       "                    left: 0.0%;\n",
       "                    top: 0.0%;\n",
       "                }\n",
       "                .leaflet-container { font-size: 1rem; }\n",
       "            &lt;/style&gt;\n",
       "\n",
       "            &lt;style&gt;html, body {\n",
       "                width: 100%;\n",
       "                height: 100%;\n",
       "                margin: 0;\n",
       "                padding: 0;\n",
       "            }\n",
       "            &lt;/style&gt;\n",
       "\n",
       "            &lt;style&gt;#map {\n",
       "                position:absolute;\n",
       "                top:0;\n",
       "                bottom:0;\n",
       "                right:0;\n",
       "                left:0;\n",
       "                }\n",
       "            &lt;/style&gt;\n",
       "\n",
       "            &lt;script&gt;\n",
       "                L_NO_TOUCH = false;\n",
       "                L_DISABLE_3D = false;\n",
       "            &lt;/script&gt;\n",
       "\n",
       "        \n",
       "    &lt;script src=&quot;https://cdn.jsdelivr.net/gh/python-visualization/folium@main/folium/templates/leaflet_heat.min.js&quot;&gt;&lt;/script&gt;\n",
       "&lt;/head&gt;\n",
       "&lt;body&gt;\n",
       "    \n",
       "    \n",
       "            &lt;div class=&quot;folium-map&quot; id=&quot;map_c2f2c61eb72d363244aa921d9258102b&quot; &gt;&lt;/div&gt;\n",
       "        \n",
       "&lt;/body&gt;\n",
       "&lt;script&gt;\n",
       "    \n",
       "    \n",
       "            var map_c2f2c61eb72d363244aa921d9258102b = L.map(\n",
       "                &quot;map_c2f2c61eb72d363244aa921d9258102b&quot;,\n",
       "                {\n",
       "                    center: [0.0, 0.0],\n",
       "                    crs: L.CRS.EPSG3857,\n",
       "                    ...{\n",
       "  &quot;zoom&quot;: 1,\n",
       "  &quot;zoomControl&quot;: true,\n",
       "  &quot;preferCanvas&quot;: false,\n",
       "  &quot;locations&quot;: [\n",
       "56.13537623124999,\n",
       "-3.7675093625000002,\n",
       "],\n",
       "}\n",
       "\n",
       "                }\n",
       "            );\n",
       "\n",
       "            \n",
       "\n",
       "        \n",
       "    \n",
       "            var tile_layer_de5ea58a08843a56ea1095416d742362 = L.tileLayer(\n",
       "                &quot;https://tile.openstreetmap.org/{z}/{x}/{y}.png&quot;,\n",
       "                {\n",
       "  &quot;minZoom&quot;: 0,\n",
       "  &quot;maxZoom&quot;: 19,\n",
       "  &quot;maxNativeZoom&quot;: 19,\n",
       "  &quot;noWrap&quot;: false,\n",
       "  &quot;attribution&quot;: &quot;\\u0026copy; \\u003ca href=\\&quot;https://www.openstreetmap.org/copyright\\&quot;\\u003eOpenStreetMap\\u003c/a\\u003e contributors&quot;,\n",
       "  &quot;subdomains&quot;: &quot;abc&quot;,\n",
       "  &quot;detectRetina&quot;: false,\n",
       "  &quot;tms&quot;: false,\n",
       "  &quot;opacity&quot;: 1,\n",
       "}\n",
       "\n",
       "            );\n",
       "        \n",
       "    \n",
       "            tile_layer_de5ea58a08843a56ea1095416d742362.addTo(map_c2f2c61eb72d363244aa921d9258102b);\n",
       "        \n",
       "    \n",
       "            var heat_map_8f6c1e66a521398bd8b44091eb4088b3 = L.heatLayer(\n",
       "                [[56.142338, -3.764181], [56.154787, -3.722567], [56.116936, -3.787146], [56.15858, -3.708244], [56.119204, -3.785642], [56.152384, -3.784283], [56.115151, -3.792532], [56.124343, -3.827549], [56.152134, -3.807617], [56.111775, -3.789801], [56.170029, -3.63917], [56.102015, -3.717797], [56.134889, -3.831429], [56.153416, -3.743436], [56.13431, -3.846207], [56.126765, -3.772317], [56.134556, -3.829643], [56.166676, -3.648046], [56.11388, -3.79955], [56.12125, -3.780911], [56.139889, -3.922283], [56.150776, -3.814476], [56.15302, -3.802345], [56.126588, -3.809314], [56.127496, -3.674848], [56.152083, -3.767686], [56.137447, -3.77313], [56.116489, -3.786964], [56.152247, -3.830484], [56.117089, -3.795195], [56.139747, -3.812829], [56.161569, -3.680356], [56.134387, -3.656963], [56.15342, -3.743114], [56.118084, -3.794759], [56.110901, -3.756791], [56.157604, -3.674548], [56.16929, -3.640749], [56.152905, -3.810229], [56.150635, -3.866149], [56.135219, -3.86347], [56.142865, -3.796236], [56.13655, -3.846636], [56.109926, -3.711073], [56.117579, -3.78621], [56.152395, -3.660958], [56.123296, -3.807068], [56.128947, -3.81393], [56.114873, -3.786889], [56.138612, -3.760791], [56.155254, -3.72774], [56.131943, -3.817933], [56.152919, -3.809263], [56.15349, -3.744566], [56.14583, -3.752429], [56.108236, -3.748307], [56.154823, -3.726432], [56.117655, -3.780906], [56.15858, -3.708244], [56.127953, -3.777198], [56.115151, -3.767601], [56.116389, -3.781491], [56.13463, -3.824658], [56.131941, -3.818094], [56.110622, -3.788783], [56.117249, -3.790377], [56.153027, -3.801862], [56.127409, -3.674683], [56.137277, -3.791147], [56.15396, -3.749418], [56.142512, -3.73924], [56.121237, -3.800376], [56.135346, -3.824853], [56.102785, -3.726996], [56.121065, -3.799885], [56.134592, -3.827231], [56.114019, -3.758703], [56.161914, -3.694543], [56.128174, -3.780587], [56.198695, -3.597999], [56.130421, -3.684468], [56.10428, -3.716451], [56.115975, -3.791444], [56.150931, -3.656226], [56.140641, -3.769736], [56.201915, -3.606032], [56.134952, -3.857342], [56.126136, -3.784837], [56.128568, -3.771917], [56.134559, -3.829483], [56.120939, -3.796179], [56.104581, -3.746212], [56.121145, -3.800532], [56.154601, -3.723041], [56.137283, -3.784549], [56.15306, -3.79961], [56.125886, -3.808155], [56.153032, -3.801541], [56.155173, -3.808725], [56.122346, -3.810563], [56.154816, -3.720475], [56.127551, -3.786351], [56.151179, -3.74913], [56.153096, -3.803315], [56.115678, -3.774702], [56.115975, -3.791444], [56.134639, -3.83013], [56.115377, -3.789325], [56.11902, -3.703273], [56.117166, -3.789891], [56.128091, -3.780101], [56.114746, -3.789457], [56.162729, -3.674287], [56.154056, -3.74266], [56.118099, -3.799907], [56.11913, -3.70183], [56.119518, -3.7826], [56.156843, -3.710421], [56.152247, -3.830484], [56.185084, -3.621926], [56.1277, -3.769785], [56.150738, -3.810932], [56.120956, -3.78878], [56.116871, -3.791647], [56.140452, -3.770371], [56.119244, -3.795296], [56.135031, -3.834011], [56.123363, -3.814793], [56.12271, -3.810258], [56.191094, -3.608964], [56.114943, -3.705666], [56.152659, -3.771416], [56.117915, -3.806333], [56.107614, -3.791699], [56.152576, -3.814238], [56.107382, -3.751485], [56.137256, -3.792595], [56.135476, -3.840309], [56.128745, -3.778361], [56.137258, -3.792434], [56.128602, -3.812948], [56.165641, -3.658309], [56.149109, -3.678042], [56.161257, -3.696607], [56.123856, -3.691421], [56.123651, -3.807406], [56.122346, -3.810563], [56.145713, -3.754355], [56.112038, -3.70779], [56.117166, -3.789891], [56.14019, -3.825404], [56.113955, -3.705623], [56.116418, -3.785674], [56.124778, -3.840602], [56.142768, -3.796714], [56.116211, -3.781321], [56.187009, -3.598319], [56.115344, -3.791576], [56.152961, -3.800249], [56.137714, -3.754473]],\n",
       "                {\n",
       "  &quot;minOpacity&quot;: 0.5,\n",
       "  &quot;maxZoom&quot;: 18,\n",
       "  &quot;radius&quot;: 25,\n",
       "  &quot;blur&quot;: 15,\n",
       "}\n",
       "            );\n",
       "        \n",
       "    \n",
       "            heat_map_8f6c1e66a521398bd8b44091eb4088b3.addTo(map_c2f2c61eb72d363244aa921d9258102b);\n",
       "        \n",
       "    \n",
       "            tile_layer_de5ea58a08843a56ea1095416d742362.addTo(map_c2f2c61eb72d363244aa921d9258102b);\n",
       "        \n",
       "    \n",
       "            heat_map_8f6c1e66a521398bd8b44091eb4088b3.addTo(map_c2f2c61eb72d363244aa921d9258102b);\n",
       "        \n",
       "&lt;/script&gt;\n",
       "&lt;/html&gt;\" style=\"position:absolute;width:100%;height:100%;left:0;top:0;border:none !important;\" allowfullscreen webkitallowfullscreen mozallowfullscreen></iframe></div></div>"
      ],
      "text/plain": [
       "<folium.folium.Map at 0x20aa8e1f9b0>"
      ]
     },
     "execution_count": 89,
     "metadata": {},
     "output_type": "execute_result"
    }
   ],
   "source": [
    "locations = list(zip(Clackmannshire_DF['Latitude'], Clackmannshire_DF['Longitude']))\n",
    "m = folium.Map(locations = [Clackmannshire_DF['Latitude'].mean(), Clackmannshire_DF['Longitude'].mean()], zoom_start = 10)\n",
    "HeatMap(locations).add_to(m)\n",
    "m.save(\"Clackmannshire_DF.html\")\n",
    "m"
   ]
  },
  {
   "cell_type": "markdown",
   "id": "5387491f-79d5-4150-b96c-5936563a1bcf",
   "metadata": {},
   "source": [
    "<h4>30. Insights:</h4>\n",
    "<h4>According to our heatmap in the Area of Clackmannshire, we have a total of 160 Accidents in this area. Mostly the hotspots in this area are located on Straightroads, but a few of them are located in a Intersections or Roundabouts.</h4>\n",
    "<hr>"
   ]
  },
  {
   "cell_type": "code",
   "execution_count": 102,
   "id": "c1b6f3e9-b806-4f2d-a76b-4c7b8fc72d5b",
   "metadata": {},
   "outputs": [
    {
     "data": {
      "text/plain": [
       "np.int64(1590)"
      ]
     },
     "execution_count": 102,
     "metadata": {},
     "output_type": "execute_result"
    }
   ],
   "source": [
    "#Wiltshire\n",
    "Wiltshire_DF = UKRoad[UKRoad[\"District Area\"] == 'Wiltshire']\n",
    "Wiltshire_DF.value_counts().sum()"
   ]
  },
  {
   "cell_type": "code",
   "execution_count": 92,
   "id": "34f7e13c-28f6-46dc-b9d4-5d727ca25e26",
   "metadata": {},
   "outputs": [
    {
     "data": {
      "text/html": [
       "<div style=\"width:100%;\"><div style=\"position:relative;width:100%;height:0;padding-bottom:60%;\"><span style=\"color:#565656\">Make this Notebook Trusted to load map: File -> Trust Notebook</span><iframe srcdoc=\"&lt;!DOCTYPE html&gt;\n",
       "&lt;html&gt;\n",
       "&lt;head&gt;\n",
       "    \n",
       "    &lt;meta http-equiv=&quot;content-type&quot; content=&quot;text/html; charset=UTF-8&quot; /&gt;\n",
       "    &lt;script src=&quot;https://cdn.jsdelivr.net/npm/leaflet@1.9.3/dist/leaflet.js&quot;&gt;&lt;/script&gt;\n",
       "    &lt;script src=&quot;https://code.jquery.com/jquery-3.7.1.min.js&quot;&gt;&lt;/script&gt;\n",
       "    &lt;script src=&quot;https://cdn.jsdelivr.net/npm/bootstrap@5.2.2/dist/js/bootstrap.bundle.min.js&quot;&gt;&lt;/script&gt;\n",
       "    &lt;script src=&quot;https://cdnjs.cloudflare.com/ajax/libs/Leaflet.awesome-markers/2.0.2/leaflet.awesome-markers.js&quot;&gt;&lt;/script&gt;\n",
       "    &lt;link rel=&quot;stylesheet&quot; href=&quot;https://cdn.jsdelivr.net/npm/leaflet@1.9.3/dist/leaflet.css&quot;/&gt;\n",
       "    &lt;link rel=&quot;stylesheet&quot; href=&quot;https://cdn.jsdelivr.net/npm/bootstrap@5.2.2/dist/css/bootstrap.min.css&quot;/&gt;\n",
       "    &lt;link rel=&quot;stylesheet&quot; href=&quot;https://netdna.bootstrapcdn.com/bootstrap/3.0.0/css/bootstrap-glyphicons.css&quot;/&gt;\n",
       "    &lt;link rel=&quot;stylesheet&quot; href=&quot;https://cdn.jsdelivr.net/npm/@fortawesome/fontawesome-free@6.2.0/css/all.min.css&quot;/&gt;\n",
       "    &lt;link rel=&quot;stylesheet&quot; href=&quot;https://cdnjs.cloudflare.com/ajax/libs/Leaflet.awesome-markers/2.0.2/leaflet.awesome-markers.css&quot;/&gt;\n",
       "    &lt;link rel=&quot;stylesheet&quot; href=&quot;https://cdn.jsdelivr.net/gh/python-visualization/folium/folium/templates/leaflet.awesome.rotate.min.css&quot;/&gt;\n",
       "    \n",
       "            &lt;meta name=&quot;viewport&quot; content=&quot;width=device-width,\n",
       "                initial-scale=1.0, maximum-scale=1.0, user-scalable=no&quot; /&gt;\n",
       "            &lt;style&gt;\n",
       "                #map_06c4a303df13ea59d6ce25c41c605866 {\n",
       "                    position: relative;\n",
       "                    width: 100.0%;\n",
       "                    height: 100.0%;\n",
       "                    left: 0.0%;\n",
       "                    top: 0.0%;\n",
       "                }\n",
       "                .leaflet-container { font-size: 1rem; }\n",
       "            &lt;/style&gt;\n",
       "\n",
       "            &lt;style&gt;html, body {\n",
       "                width: 100%;\n",
       "                height: 100%;\n",
       "                margin: 0;\n",
       "                padding: 0;\n",
       "            }\n",
       "            &lt;/style&gt;\n",
       "\n",
       "            &lt;style&gt;#map {\n",
       "                position:absolute;\n",
       "                top:0;\n",
       "                bottom:0;\n",
       "                right:0;\n",
       "                left:0;\n",
       "                }\n",
       "            &lt;/style&gt;\n",
       "\n",
       "            &lt;script&gt;\n",
       "                L_NO_TOUCH = false;\n",
       "                L_DISABLE_3D = false;\n",
       "            &lt;/script&gt;\n",
       "\n",
       "        \n",
       "    &lt;script src=&quot;https://cdn.jsdelivr.net/gh/python-visualization/folium@main/folium/templates/leaflet_heat.min.js&quot;&gt;&lt;/script&gt;\n",
       "&lt;/head&gt;\n",
       "&lt;body&gt;\n",
       "    \n",
       "    \n",
       "            &lt;div class=&quot;folium-map&quot; id=&quot;map_06c4a303df13ea59d6ce25c41c605866&quot; &gt;&lt;/div&gt;\n",
       "        \n",
       "&lt;/body&gt;\n",
       "&lt;script&gt;\n",
       "    \n",
       "    \n",
       "            var map_06c4a303df13ea59d6ce25c41c605866 = L.map(\n",
       "                &quot;map_06c4a303df13ea59d6ce25c41c605866&quot;,\n",
       "                {\n",
       "                    center: [0.0, 0.0],\n",
       "                    crs: L.CRS.EPSG3857,\n",
       "                    ...{\n",
       "  &quot;zoom&quot;: 1,\n",
       "  &quot;zoomControl&quot;: true,\n",
       "  &quot;preferCanvas&quot;: false,\n",
       "  &quot;locations&quot;: [\n",
       "51.306130905031445,\n",
       "-1.9796724006289308,\n",
       "],\n",
       "}\n",
       "\n",
       "                }\n",
       "            );\n",
       "\n",
       "            \n",
       "\n",
       "        \n",
       "    \n",
       "            var tile_layer_1f2a0611028a27edd62778f3e3d370fd = L.tileLayer(\n",
       "                &quot;https://tile.openstreetmap.org/{z}/{x}/{y}.png&quot;,\n",
       "                {\n",
       "  &quot;minZoom&quot;: 0,\n",
       "  &quot;maxZoom&quot;: 19,\n",
       "  &quot;maxNativeZoom&quot;: 19,\n",
       "  &quot;noWrap&quot;: false,\n",
       "  &quot;attribution&quot;: &quot;\\u0026copy; \\u003ca href=\\&quot;https://www.openstreetmap.org/copyright\\&quot;\\u003eOpenStreetMap\\u003c/a\\u003e contributors&quot;,\n",
       "  &quot;subdomains&quot;: &quot;abc&quot;,\n",
       "  &quot;detectRetina&quot;: false,\n",
       "  &quot;tms&quot;: false,\n",
       "  &quot;opacity&quot;: 1,\n",
       "}\n",
       "\n",
       "            );\n",
       "        \n",
       "    \n",
       "            tile_layer_1f2a0611028a27edd62778f3e3d370fd.addTo(map_06c4a303df13ea59d6ce25c41c605866);\n",
       "        \n",
       "    \n",
       "            var heat_map_ae46bcb1291778ebf8f0cd6386131928 = L.heatLayer(\n",
       "                [[51.630415, -1.825006], [51.346875, -2.243486], [51.358987, -2.256189], [51.360872, -2.257493], [51.343171, -2.25165], [51.341118, -2.244317], [51.335105, -2.238974], [51.351381, -2.314735], [51.349348, -2.220238], [51.336423, -2.20783], [51.345508, -2.252094], [51.350643, -2.247383], [51.354892, -2.313179], [51.352436, -2.250122], [51.333041, -2.236954], [51.346426, -2.318291], [51.347073, -2.234442], [51.343771, -2.264863], [51.364361, -2.265412], [51.370268, -2.236284], [51.349348, -2.220525], [51.349529, -2.219664], [51.355957, -2.243391], [51.376354, -2.289332], [51.087517, -2.045515], [51.10951, -2.105532], [51.109487, -2.127959], [51.000804, -2.171127], [51.109479, -2.134959], [51.02128, -2.188739], [51.10549, -2.160943], [51.105126, -2.164227], [51.105754, -2.164658], [51.096667, -2.085938], [51.032477, -2.061861], [51.301426, -1.837878], [51.312267, -1.811297], [51.348201, -1.791334], [51.290329, -1.812965], [51.362787, -1.866532], [51.322706, -1.766049], [51.329049, -1.614594], [51.306217, -1.856941], [51.323831, -1.790584], [51.33308, -1.783652], [51.34029, -1.673935], [51.327256, -1.616188], [51.348201, -1.791334], [51.3785, -1.538601], [51.335269, -1.800867], [51.40804, -1.657063], [51.358616, -1.583324], [51.371812, -1.771545], [51.291437, -1.777824], [51.3586, -2.093752], [51.384986, -2.142953], [51.340065, -2.107209], [51.372223, -2.138316], [51.379972, -2.124114], [51.375909, -2.139476], [51.375002, -2.145939], [51.360642, -2.121476], [51.392728, -2.198599], [51.383361, -2.207324], [51.376824, -2.12468], [51.337637, -2.10706], [51.395929, -2.163829], [51.395147, -2.20364], [51.381569, -2.142942], [51.382034, -2.130298], [51.385076, -2.142953], [51.370971, -2.132278], [51.37718, -2.128848], [51.328507, -2.150814], [51.380902, -2.091211], [51.371513, -2.129981], [51.390057, -2.110488], [51.358876, -2.085566], [51.359782, -2.075083], [51.374744, -2.135593], [51.397857, -2.132643], [51.321378, -2.16959], [51.379983, -2.113625], [51.362475, -2.166438], [51.373844, -2.136022], [51.321289, -2.169016], [51.400247, -2.162263], [51.362977, -2.124499], [51.321378, -2.169447], [51.385616, -2.142955], [51.363591, -2.138146], [51.357933, -2.132528], [51.385616, -2.142955], [51.373946, -2.125965], [51.373744, -2.144929], [51.415851, -2.122629], [51.430622, -2.22667], [51.433161, -2.159646], [51.432286, -2.201792], [51.403349, -2.240623], [51.427827, -2.23054], [51.40433, -2.244654], [51.443351, -2.13594], [51.410761, -2.167189], [51.432816, -2.207692], [51.463491, -2.200058], [51.428844, -2.159919], [51.433734, -2.132172], [51.412829, -2.08236], [51.415882, -2.266717], [51.454929, -2.25615], [51.411423, -2.249724], [51.409101, -2.242235], [51.42403, -2.240876], [51.431934, -2.197762], [51.445298, -2.160408], [51.418931, -2.175559], [51.443386, -2.176948], [51.438643, -2.261239], [51.437484, -2.15405], [51.430542, -2.167836], [51.428971, -2.129713], [51.43159, -2.187835], [51.410005, -2.123908], [51.440945, -2.185715], [51.256605, -2.189414], [51.249153, -2.233227], [51.285991, -2.200576], [51.243657, -2.189074], [51.281674, -2.200988], [51.281416, -2.12858], [51.261104, -2.187569], [51.27231, -2.207684], [51.263704, -2.19231], [51.258952, -2.183835], [51.263125, -2.1592], [51.264259, -2.182709], [51.26642, -2.180854], [51.281612, -2.184068], [51.449531, -1.585519], [51.482528, -1.842566], [51.415159, -1.731785], [51.358371, -1.676536], [51.486748, -1.637174], [51.482708, -1.842421], [51.480954, -1.685894], [51.373488, -1.680596], [51.422434, -1.728147], [51.443302, -1.731189], [51.441925, -1.759973], [51.482555, -1.714253], [51.40905, -1.606445], [51.461785, -1.714238], [51.413524, -1.81692], [51.419657, -1.732622], [51.49778, -1.819032], [51.44419, -1.600963], [51.38922, -1.753351], [51.418906, -1.875141], [51.409493, -1.905217], [51.437729, -1.732084], [51.472926, -1.710857], [51.417907, -1.754922], [51.458824, -1.717136], [51.425958, -1.735605], [51.498405, -1.599626], [51.409213, -1.575819], [51.485525, -1.715098], [51.44544, -1.763696], [51.434859, -1.556736], [51.470979, -1.81525], [51.419173, -1.872983], [51.620489, -1.867222], [51.611587, -1.866526], [51.584856, -1.845099], [51.602671, -2.014407], [51.60547, -1.864378], [51.632953, -1.932204], [51.656156, -1.843266], [51.239123, -1.640844], [51.235135, -1.660499], [51.29416, -1.539878], [51.239192, -1.664193], [51.282138, -1.65198], [51.234695, -1.663796], [51.23497, -1.665656], [51.227359, -1.677025], [51.252677, -1.605489], [51.255152, -1.619941], [51.236047, -1.665076], [51.233802, -1.666095], [51.238573, -1.637554], [51.236944, -1.664067], [51.236855, -1.664354], [51.248652, -1.787057], [51.270993, -1.810606], [51.226513, -1.663999], [51.231111, -1.668406], [51.237353, -1.650455], [51.266437, -1.663852], [51.239607, -1.623364], [51.242682, -1.658438], [51.175513, -1.769799], [51.200003, -1.842815], [51.174107, -1.84419], [51.214675, -1.992523], [51.177783, -1.781089], [51.193696, -1.735935], [51.180295, -1.734581], [51.171941, -1.782547], [51.172299, -1.78183], [51.118996, -1.74722], [51.171878, -1.858502], [51.177045, -1.823437], [51.222665, -1.787034], [51.17785, -1.820287], [51.183458, -1.741716], [51.188399, -1.783758], [51.171575, -1.779116], [51.17179, -1.860648], [51.105691, -1.795142], [51.142105, -1.969091], [51.163167, -1.804183], [51.113058, -1.791395], [51.177427, -1.782808], [51.134716, -1.739988], [51.143276, -1.978097], [51.159633, -1.949917], [51.126538, -1.786619], [51.179749, -1.827433], [51.17778, -1.779373], [51.167995, -1.705331], [51.198141, -1.714298], [51.195416, -1.938], [51.202337, -1.783836], [51.177579, -1.81943], [51.144086, -1.982385], [51.17482, -1.839324], [51.180646, -1.731145], [51.119354, -1.746789], [51.158655, -1.710109], [51.17571, -1.832741], [51.13553, -1.741984], [51.168587, -1.893125], [51.19129, -1.673271], [51.177303, -1.815568], [51.146334, -1.981097], [51.194011, -1.756827], [51.209162, -1.735846], [51.118995, -1.747077], [51.176525, -1.781381], [51.188283, -1.896371], [51.169126, -1.7684], [51.210433, -1.93798], [51.229952, -1.95113], [51.200598, -1.892335], [51.196716, -1.809623], [51.176793, -1.780808], [51.178074, -1.792533], [51.200992, -1.703689], [51.142434, -1.775681], [51.119986, -1.853088], [51.163756, -1.924885], [51.179659, -1.827147], [51.172563, -1.778825], [51.177303, -1.815425], [51.161695, -1.937044], [51.118726, -1.852378], [51.171137, -1.703165], [51.119803, -1.746358], [51.147772, -1.979238], [51.173305, -1.8492], [51.177515, -1.782092], [51.17836, -1.754477], [51.195223, -1.778431], [51.445588, -2.008745], [51.407011, -1.977396], [51.42904, -1.971056], [51.438655, -2.047589], [51.468875, -1.98154], [51.44271, -2.006587], [51.431921, -1.999968], [51.438119, -2.037086], [51.418418, -2.06008], [51.436773, -2.028309], [51.48371, -1.973037], [51.429583, -1.997091], [51.416902, -1.978973], [51.441811, -2.006011], [51.438564, -2.049891], [51.417982, -2.014924], [51.408, -1.976676], [51.450533, -2.010617], [51.542748, -1.903066], [51.542389, -1.903643], [51.544416, -1.862973], [51.545168, -1.89412], [51.544634, -1.900466], [51.544416, -1.863118], [51.544227, -1.855331], [51.557495, -1.904621], [51.503757, -1.958906], [51.546024, -1.854316], [51.544416, -1.862685], [51.573729, -1.863318], [51.675003, -1.892371], [51.524882, -1.946491], [51.652826, -1.841109], [51.542283, -1.885763], [51.576596, -1.85494], [51.522503, -1.888119], [51.60608, -1.848348], [51.546958, -1.885607], [51.572845, -1.877173], [51.543636, -1.891095], [51.553263, -1.897707], [51.586241, -1.875116], [51.673927, -1.895121], [51.544407, -1.855186], [51.51386, -1.877188], [51.496478, -1.975335], [51.459196, -2.117564], [51.450852, -2.097683], [51.503219, -2.14995], [51.487249, -2.118644], [51.447015, -2.154082], [51.459996, -2.126634], [51.48571, -2.128577], [51.456223, -2.123169], [51.470589, -2.14178], [51.458384, -2.120296], [51.47215, -2.183106], [51.500999, -2.125739], [51.520485, -2.027352], [51.514222, -2.120732], [51.47215, -2.183106], [51.458905, -2.13757], [51.473049, -2.11256], [51.458113, -2.121879], [51.514638, -2.037437], [51.44783, -2.149912], [51.497953, -2.114926], [51.472253, -2.22702], [51.471609, -2.113708], [51.472414, -2.186995], [51.481035, -2.128708], [51.478916, -2.085647], [51.472254, -2.226876], [51.485441, -2.128433], [51.461353, -2.11944], [51.444776, -2.147168], [51.470476, -2.216213], [51.451568, -2.101858], [51.463413, -2.126355], [51.513861, -2.12246], [51.46834, -2.142925], [51.463682, -2.127652], [51.455236, -2.121871], [51.458724, -2.138721], [51.459196, -2.117708], [51.539373, -2.143436], [51.467284, -2.122911], [51.487418, -2.12959], [51.446744, -2.155664], [51.465186, -2.148385], [51.448015, -2.145596], [51.48211, -2.196251], [51.513771, -2.122027], [51.458566, -2.119001], [51.513861, -2.12246], [51.523842, -2.122487], [51.495424, -2.126588], [51.484541, -2.128718], [51.46225, -2.121458], [51.462319, -2.140171], [51.518089, -2.120886], [51.490913, -2.139251], [51.462422, -2.1288], [51.452907, -2.112654], [51.181098, -2.093535], [51.208464, -2.209115], [51.200258, -2.167714], [51.190331, -2.191003], [51.181278, -2.092534], [51.201837, -2.193197], [51.165111, -2.065328], [51.127721, -2.014258], [51.14204, -2.281575], [51.209909, -2.205686], [51.204824, -2.181186], [51.205106, -2.172884], [51.193543, -2.015137], [51.205549, -2.177753], [51.227054, -2.222231], [51.209638, -2.206257], [51.13741, -2.162483], [51.184236, -2.103843], [51.159486, -2.316431], [51.202902, -2.201933], [51.192865, -2.231798], [51.204554, -2.181328], [51.151368, -2.028277], [51.203924, -2.181612], [51.208767, -2.189647], [51.204467, -2.17961], [51.16035, -2.055168], [51.181367, -2.094251], [51.169869, -2.077492], [51.073036, -1.787864], [51.075344, -1.823825], [51.088101, -1.76595], [51.075342, -1.822397], [51.074653, -1.787143], [51.079257, -1.797257], [51.070803, -1.796438], [51.077549, -1.797265], [51.085692, -1.77567], [51.07906, -1.787408], [51.075592, -1.81012], [51.05911, -1.794634], [51.071101, -1.813564], [51.055516, -1.796362], [51.071959, -1.789154], [51.091832, -1.846466], [51.069543, -1.796015], [51.072257, -1.805281], [51.066932, -1.793743], [51.081962, -1.801528], [51.074561, -1.786144], [51.074164, -1.816835], [51.074024, -1.787003], [51.068273, -1.789456], [51.069461, -1.800297], [51.05415, -1.786524], [51.072348, -1.806137], [51.072802, -1.808419], [51.069544, -1.796444], [51.101646, -1.796303], [51.064316, -1.789188], [51.070701, -1.789445], [51.066203, -1.788752], [51.059052, -1.813898], [51.069543, -1.795587], [51.078417, -1.834805], [51.074111, -1.785861], [51.091086, -1.827906], [51.068639, -1.792879], [51.080846, -1.78069], [51.07859, -1.829665], [51.076462, -1.792845], [51.06919, -1.79987], [51.074074, -1.816835], [51.080936, -1.78069], [51.084698, -1.825074], [51.078114, -1.812965], [51.06975, -1.811714], [51.064504, -1.793897], [51.068474, -1.801729], [51.076513, -1.824248], [51.083754, -1.797381], [51.069822, -1.80101], [51.076672, -1.81083], [51.076734, -1.794271], [51.060931, -1.807754], [51.075342, -1.822683], [51.072977, -1.805849], [51.060576, -1.81061], [51.070599, -1.782737], [51.083979, -1.825362], [51.325861, -2.178218], [51.314487, -2.205292], [51.306202, -2.212428], [51.325639, -2.204337], [51.311399, -2.222065], [51.292572, -2.190136], [51.308719, -2.212439], [51.329141, -2.206936], [51.293832, -2.189854], [51.317187, -2.203869], [51.314568, -2.210458], [51.332235, -2.184845], [51.317519, -2.219081], [51.30065, -2.199349], [51.303957, -2.21084], [51.33149, -2.200488], [51.304724, -2.182439], [51.314473, -2.212896], [51.314748, -2.210028], [51.328608, -2.203059], [51.340294, -2.144823], [51.295253, -2.20033], [51.30665, -2.21286], [51.313029, -2.215759], [51.335803, -2.202229], [51.318878, -2.213778], [51.337979, -2.191615], [51.310759, -2.227657], [51.325751, -2.191277], [51.295617, -2.19775], [51.314736, -2.216772], [51.31899, -2.201438], [51.309237, -2.22435], [51.320148, -2.207326], [51.329771, -2.206652], [51.295527, -2.197749], [51.313755, -2.212606], [51.301224, -2.177979], [51.297981, -2.232614], [51.314658, -2.210171], [51.320679, -2.212495], [51.33176, -2.200345], [51.291298, -2.246347], [51.301224, -2.177979], [51.300471, -2.198918], [51.325899, -2.209648], [51.295526, -2.198036], [51.329861, -2.206652], [51.30665, -2.21286], [51.319779, -2.212491], [51.317356, -2.209753], [50.993648, -1.645592], [51.00952, -1.631075], [50.9755, -1.622228], [51.041648, -1.841782], [50.97321, -1.609571], [50.995997, -1.649137], [51.101382, -1.713038], [50.994754, -1.686622], [51.024072, -1.764276], [51.036316, -1.771345], [51.041479, -1.74593], [51.050205, -1.792962], [51.074179, -1.694793], [51.010558, -1.678106], [51.057678, -1.751834], [51.116989, -1.634506], [50.975141, -1.651573], [51.032437, -1.765374], [51.044487, -1.724089], [50.993644, -1.748186], [51.032061, -1.717032], [51.05859, -1.758108], [51.117634, -1.639501], [51.095734, -1.760485], [51.105471, -1.694302], [50.98635, -1.641089], [51.094943, -1.72793], [50.988629, -1.757759], [50.987461, -1.758193], [50.992539, -1.736366], [51.0585, -1.757823], [51.032528, -1.765659], [51.022902, -1.763712], [50.977137, -1.627913], [51.06239, -1.769647], [51.037023, -2.184809], [51.06699, -2.170229], [51.089757, -2.296964], [51.090124, -2.294111], [51.088126, -2.167308], [51.105126, -2.164227], [51.101224, -2.187493], [51.07436, -2.172397], [51.090178, -2.271836], [51.094893, -2.254156], [51.104124, -2.172936], [51.101135, -2.186921], [51.09762, -2.315865], [51.044127, -2.114513], [51.037113, -2.18481], [51.101225, -2.186922], [51.081321, -1.854495], [51.07941, -1.837085], [51.100276, -1.840011], [51.086634, -1.860618], [51.128173, -1.856492], [51.062672, -1.82901], [51.109546, -1.845979], [51.118764, -1.886096], [51.086466, -1.871184], [51.190495, -1.86145], [51.063674, -1.837569], [51.128173, -1.856492], [51.083216, -1.859772], [51.083936, -1.860341], [51.00869, -1.878384], [51.128173, -1.856492], [51.128173, -1.856492], [51.073474, -1.925174], [51.099683, -1.869862], [51.100994, -1.839437], [51.08059, -1.845789], [51.085015, -1.860337], [51.081599, -1.861775], [51.08159, -1.986834], [51.03649, -1.892288], [51.03907, -1.865468], [51.100904, -1.839438], [51.128083, -1.856349], [51.131724, -1.898498], [51.124434, -1.891941], [51.128083, -1.856492], [51.082211, -1.952285], [51.078076, -1.84851], [51.081434, -1.874767], [51.591568, -2.10116], [51.578266, -2.094925], [51.58258, -2.097821], [51.555773, -2.110745], [51.535432, -2.13088], [51.606393, -2.113178], [51.560049, -1.97732], [51.587463, -2.155567], [51.655259, -2.053887], [51.566509, -2.062583], [51.562196, -1.944283], [51.518331, -1.998527], [51.654446, -1.938966], [51.56624, -2.061861], [51.547403, -2.118945], [51.6415, -1.940718], [51.585084, -2.112115], [51.593636, -2.101309], [51.620633, -1.9289], [51.525882, -2.016545], [51.6014, -1.944957], [51.65355, -2.055331], [51.538277, -2.059949], [51.549887, -2.030687], [51.280138, -1.99624], [51.360433, -1.975839], [51.322656, -2.05651], [51.383804, -1.950392], [51.367498, -1.901569], [51.281465, -2.071371], [51.351713, -1.995373], [51.351353, -1.988624], [51.34452, -1.993794], [51.367498, -1.901569], [51.338316, -1.997528], [51.347396, -1.983886], [51.320038, -1.925491], [51.359085, -1.979574], [51.367498, -1.901712], [51.352252, -1.988193], [51.317001, -2.029384], [51.360164, -1.977706], [51.284081, -2.054742], [51.343324, -1.919711], [51.297492, -2.00757], [51.337866, -1.997815], [51.353871, -2.006574], [51.390821, -2.040929], [51.353867, -2.034003], [51.413799, -1.893848], [51.369332, -2.037031], [51.369517, -1.992498], [51.365917, -1.968797], [51.347396, -1.983743], [51.349914, -1.984891], [51.350452, -1.974121], [51.349555, -1.984747], [51.348386, -1.991066], [51.34452, -1.993794], [51.396035, -2.045102], [51.370321, -1.964197], [51.525248, -2.037157], [51.521558, -2.046523], [51.514777, -2.104448], [51.544315, -1.853312], [51.547007, -1.9593], [51.510229, -2.294358], [51.513216, -2.286163], [51.53982, -1.984251], [51.530107, -2.022745], [51.514494, -2.237462], [51.510513, -2.202713], [51.552969, -1.8729], [51.529838, -2.023898], [51.547274, -1.953531], [51.513483, -2.138743], [51.510066, -1.617968], [51.506865, -1.601713], [51.547364, -1.953531], [51.534695, -2.005735], [51.522998, -2.043209], [51.522998, -2.043209], [51.510856, -2.15401], [51.530197, -2.022889], [51.522458, -2.044794], [51.529568, -2.025051], [51.549513, -1.934924], [51.536044, -1.99968], [51.517429, -2.252898], [51.518847, -2.262274], [51.546476, -1.856189], [51.507142, -1.603872], [51.648437, -1.853699], [51.64024, -1.842454], [51.628883, -1.822845], [51.630956, -1.826304], [51.322968, -2.237476], [51.307191, -2.257335], [51.347851, -2.249666], [51.394285, -2.231808], [51.352877, -2.208479], [51.35854, -2.254751], [51.362462, -2.175774], [51.352968, -2.208049], [51.350121, -2.315014], [51.33304, -2.237097], [51.352814, -2.281573], [51.378443, -2.240349], [51.347662, -2.208312], [51.350032, -2.314869], [51.337977, -2.241429], [51.32807, -2.248984], [51.315987, -2.264559], [51.352611, -2.252277], [51.349348, -2.220381], [51.347399, -2.250668], [51.349348, -2.220525], [51.314204, -2.257518], [51.069627, -2.031653], [51.05598, -2.130808], [51.109298, -2.136101], [51.107994, -2.089959], [51.109581, -2.124531], [51.107994, -2.089388], [51.105931, -2.166658], [51.033737, -2.058725], [51.096032, -2.09322], [51.108536, -2.087246], [51.113061, -2.027968], [51.052636, -1.998541], [51.010046, -2.114857], [51.072384, -2.091174], [51.108175, -2.088674], [51.060008, -1.982988], [51.107992, -2.091816], [51.018762, -2.188729], [51.117004, -2.061831], [51.118357, -2.053975], [51.106021, -2.166801], [51.109241, -2.104103], [51.344046, -1.608582], [51.381365, -1.609269], [51.340812, -1.782898], [51.351327, -1.581954], [51.352974, -1.856221], [51.341882, -1.778298], [51.322042, -1.795758], [51.343663, -1.629116], [51.348111, -1.791191], [51.40829, -1.650304], [51.325536, -1.846405], [51.33131, -1.566634], [51.359144, -1.83035], [51.343489, -1.772261], [51.373488, -1.680596], [51.34503, -1.664856], [51.345535, -1.652935], [51.373398, -1.680596], [51.337488, -1.840766], [51.33272, -1.783367], [51.340526, -1.774142], [51.357679, -1.572992], [51.328864, -1.847255], [51.374437, -1.534476], [51.389025, -1.64269], [51.378766, -1.537737], [51.384368, -1.649049], [51.363302, -1.561592], [51.38605, -2.15474], [51.374925, -2.134732], [51.377355, -2.132871], [51.358238, -2.096624], [51.347455, -2.087412], [51.336191, -2.115383], [51.373303, -2.138032], [51.374925, -2.135019], [51.32013, -2.16198], [51.370695, -2.138455], [51.351881, -2.053961], [51.357422, -2.104377], [51.39255, -2.197449], [51.3741, -2.147516], [51.367737, -2.12997], [51.360094, -2.129805], [51.354526, -2.123758], [51.373844, -2.136165], [51.361444, -2.128516], [51.373754, -2.13674], [51.381569, -2.142798], [51.366736, -2.140023], [51.363136, -2.142741], [51.371007, -2.173796], [51.350643, -2.138538], [51.340294, -2.144967], [51.364487, -2.141309], [51.347636, -2.085976], [51.321288, -2.169303], [51.371396, -2.15311], [51.376915, -2.123675], [51.343671, -2.09688], [51.382303, -2.130299], [51.356531, -2.095041], [51.372084, -2.175524], [51.326077, -2.152672], [51.342318, -2.101185], [51.375998, -2.139476], [51.371871, -2.131562], [51.366466, -2.140309], [51.370064, -2.139602], [51.31962, -2.138875], [51.376824, -2.12468], [51.37223, -2.132138], [51.356171, -2.094609], [51.321378, -2.169447], [51.322202, -2.159261], [51.368096, -2.130833], [51.340126, -2.135061], [51.388615, -2.113934], [51.375144, -2.173237], [51.368445, -2.140028], [51.322706, -2.111905], [51.357875, -2.099783], [51.413352, -2.229892], [51.421626, -2.101072], [51.428212, -2.217452], [51.402646, -2.233001], [51.445298, -2.160408], [51.402752, -2.26736], [51.440495, -2.185714], [51.402746, -2.270091], [51.430532, -2.226813], [51.459249, -2.254303], [51.448044, -2.188766], [51.418708, -2.249189], [51.433732, -2.197914], [51.407745, -2.28536], [51.410931, -2.094866], [51.43391, -2.198778], [51.416149, -2.267869], [51.434902, -2.197056], [51.414684, -2.121044], [51.435641, -2.185118], [51.458618, -2.25502], [51.444384, -2.171484], [51.415593, -2.274912], [51.402825, -2.233001], [51.402646, -2.233001], [51.446671, -2.142282], [51.435821, -2.184975], [51.411849, -2.068267], [51.262181, -2.189294], [51.247883, -2.189378], [51.273438, -2.178445], [51.261299, -2.177825], [51.263615, -2.192166], [51.263614, -2.192453], [51.255081, -2.186685], [51.269548, -2.127256], [51.272486, -2.209979], [51.249242, -2.233657], [51.26408, -2.182278], [51.26678, -2.180426], [51.255075, -2.190554], [51.273682, -2.194215], [51.27143, -2.196786], [51.26291, -2.182704], [51.238568, -2.219995], [51.26039, -2.184557], [51.268408, -2.174269], [51.285991, -2.200433], [51.266691, -2.180425], [51.280462, -2.091299], [51.422473, -1.673063], [51.487652, -1.638607], [51.479613, -1.688783], [51.471249, -1.815537], [51.503007, -1.60434], [51.460414, -1.846672], [51.46214, -1.712509], [51.496759, -1.86182], [51.460234, -1.846816], [51.452451, -1.721493], [51.417279, -1.867093], [51.436992, -1.599731], [51.412981, -1.72317], [51.449006, -1.855776], [51.416719, -1.79131], [51.396139, -1.751157], [51.420516, -1.715646], [51.476976, -1.712416], [51.422434, -1.728291], [51.422439, -1.730448], [51.421983, -1.727862], [51.470316, -1.71001], [51.511178, -1.628334], [51.416719, -1.79131], [51.424839, -1.71864], [51.467168, -1.70931], [51.497052, -1.654955], [51.425138, -1.730864], [51.421174, -1.727579], [51.491875, -1.839364], [51.491965, -1.839364], [51.409151, -1.667982], [51.430662, -1.855402], [51.476517, -1.643303], [51.411661, -1.833607], [51.437459, -1.731942], [51.454607, -1.72076], [51.254048, -1.612069], [51.234162, -1.666092], [51.258698, -1.578639], [51.290957, -1.654064], [51.261157, -1.641963], [51.251069, -1.636739], [51.242971, -1.665025], [51.245782, -1.673315], [51.268235, -1.663552], [51.251369, -1.798078], [51.232024, -1.791431], [51.245365, -1.653403], [51.300683, -1.659011], [51.237351, -1.649596], [51.242611, -1.664885], [51.234695, -1.663796], [51.261156, -1.641819], [51.239033, -1.640845], [51.261156, -1.641819], [51.2397, -1.653446], [51.251618, -1.786184], [51.277477, -1.656889], [51.282291, -1.673916], [51.294651, -1.627216], [51.226782, -1.663854], [51.234425, -1.663942], [51.276831, -1.651303], [51.277665, -1.692157], [51.243184, -1.796681], [51.261883, -1.64425], [51.277297, -1.688862], [51.140098, -1.776836], [51.197356, -1.815917], [51.177579, -1.81943], [51.190209, -1.672849], [51.200568, -1.862851], [51.233914, -1.967598], [51.169398, -1.7694], [51.106603, -1.755], [51.122763, -1.787636], [51.190874, -1.761852], [51.225545, -1.949846], [51.180561, -1.733006], [51.221763, -1.785892], [51.178754, -1.823288], [51.163308, -1.927174], [51.143035, -1.720785], [51.145795, -1.982098], [51.166793, -1.897563], [51.166678, -1.758401], [51.178095, -1.756911], [51.131202, -1.736577], [51.16976, -1.770829], [51.176615, -1.781524], [51.177395, -1.816855], [51.122044, -1.787926], [51.177114, -1.80999], [51.212493, -1.781497], [51.197984, -1.723745], [51.176973, -1.780521], [51.178887, -1.748895], [51.179749, -1.827576], [51.217989, -1.942838], [51.144536, -1.98796], [51.16653, -1.90543], [51.131201, -1.736434], [51.173644, -1.779678], [51.159544, -1.951062], [51.17011, -1.765821], [51.163935, -1.924027], [51.176666, -1.761496], [51.19087, -1.759849], [51.225635, -1.949846], [51.16761, -1.774558], [51.212493, -1.781497], [51.103239, -1.837287], [51.14975, -1.977236], [51.176682, -1.76965], [51.177873, -1.781089], [51.118996, -1.74722], [51.172119, -1.781688], [51.171879, -1.859503], [51.140895, -1.770829], [51.177783, -1.781232], [51.170241, -1.786989], [51.187905, -1.761009], [51.177062, -1.780377], [51.178979, -1.749467], [51.200658, -1.862994], [51.190318, -1.679574], [51.179585, -1.782797], [51.107846, -1.793561], [51.218439, -1.943267], [51.169381, -1.877533], [51.185099, -1.860608], [51.177523, -1.786384], [51.195506, -1.937714], [51.176867, -1.824725], [51.177693, -1.780947], [51.157069, -1.764457], [51.212322, -1.939696], [51.16768, -1.723497], [51.200568, -1.862851], [51.179075, -1.67865], [51.200567, -1.862708], [51.122314, -1.704907], [51.208633, -1.935978], [51.123222, -1.708616], [51.155741, -1.775045], [51.10347, -1.879421], [51.182643, -1.783069], [51.15735, -1.896011], [51.19021, -1.672992], [51.138482, -1.778131], [51.212493, -1.781497], [51.162987, -1.804041], [51.161426, -1.938332], [51.17781, -1.79611], [51.194085, -1.749242], [51.142344, -1.775825], [51.191142, -1.761135], [51.202966, -1.783689], [51.181146, -1.714117], [51.139853, -1.955371], [51.177579, -1.819287], [51.145531, -1.859011], [51.184715, -1.66974], [51.465189, -1.984997], [51.447476, -2.006587], [51.439833, -2.003996], [51.445678, -2.008745], [51.438383, -2.052481], [51.439384, -2.005723], [51.426705, -1.991913], [51.423105, -1.969765], [51.446577, -1.995939], [51.435247, -2.002845], [51.441542, -2.000687], [51.430302, -1.998242], [51.437833, -2.072046], [51.441002, -2.001838], [51.438746, -2.044712], [51.437315, -2.005723], [51.439114, -2.007162], [51.437041, -2.03205], [51.442526, -1.96817], [51.439831, -2.022269], [51.483879, -1.943803], [51.423002, -2.062674], [51.622994, -1.855803], [51.515179, -1.968119], [51.641501, -1.844183], [51.55011, -1.890935], [51.604841, -1.864669], [51.546024, -1.854172], [51.588078, -1.919713], [51.545514, -1.880131], [51.544973, -1.878258], [51.634446, -1.88611], [51.621283, -1.853931], [51.545483, -1.852731], [51.583571, -1.82634], [51.544516, -1.871625], [51.512846, -2.002274], [51.546969, -1.897433], [51.63267, -1.82991], [51.584146, -1.852173], [51.544227, -1.854898], [51.543017, -1.902633], [51.569735, -1.919601], [51.583608, -1.85333], [51.634446, -1.886254], [51.522774, -1.889271], [51.565407, -1.903883], [51.524254, -1.949951], [51.559432, -1.862784], [51.515089, -1.968119], [51.662038, -1.874908], [51.593384, -1.921436], [51.544052, -1.858793], [51.60547, -1.864378], [51.656455, -1.867262], [51.522594, -1.888407], [51.541214, -1.897157], [51.593924, -1.921724], [51.640438, -1.856759], [51.597839, -1.87494], [51.517427, -1.966388], [51.545514, -1.880131], [51.501243, -1.971442], [51.587821, -1.843501], [51.544135, -1.853745], [51.545173, -1.899744], [51.551102, -1.893529], [51.667351, -1.882268], [51.455685, -2.121872], [51.467798, -2.144795], [51.457397, -2.118567], [51.470742, -2.162801], [51.544941, -2.149077], [51.44825, -2.091633], [51.47215, -2.18325], [51.465741, -2.135719], [51.468339, -2.143933], [51.494061, -2.138828], [51.452342, -2.136543], [51.470038, -2.151425], [51.473144, -2.106801], [51.48184, -2.196538], [51.506975, -2.078495], [51.468341, -2.141773], [51.476655, -2.177509], [51.4867, -2.128436], [51.458211, -2.114251], [51.477524, -2.132154], [51.475753, -2.105223], [51.463672, -2.136001], [51.469171, -2.12378], [51.461622, -2.119729], [51.515659, -2.122897], [51.458113, -2.121735], [51.451627, -2.132655], [51.454603, -2.124748], [51.511162, -2.124182], [51.480167, -2.173922], [51.45673, -2.151381], [51.495088, -2.101667], [51.463692, -2.117575], [51.513772, -2.121883], [51.451032, -2.098115], [51.448052, -2.112211], [51.48607, -2.128434], [51.441555, -2.133777], [51.458385, -2.119289], [51.515659, -2.122753], [51.51851, -2.205631], [51.46834, -2.142781], [51.513861, -2.12246], [51.466797, -2.154005], [51.515906, -2.250295], [51.50037, -2.125737], [51.447258, -2.095517], [51.496535, -2.225124], [51.481484, -2.128709], [51.463055, -2.124915], [51.470166, -2.11788], [51.482315, -2.107542], [51.48643, -2.128723], [51.469948, -2.151136], [51.474951, -2.174335], [51.470476, -2.216213], [51.459284, -2.119723], [51.46592, -2.136439], [51.462787, -2.123763], [51.461946, -2.15039], [51.46304, -2.138158], [51.459068, -2.150956], [51.463234, -2.125923], [51.459634, -2.129368], [51.469948, -2.151136], [51.448968, -2.092498], [51.477705, -2.131579], [51.478915, -2.086511], [51.457223, -2.113241], [51.457473, -2.132096], [51.452429, -2.139421], [51.44783, -2.150056], [51.453252, -2.127047], [51.455785, -2.111942], [51.478607, -2.128557], [51.447834, -2.14689], [51.447701, -2.102569], [51.465382, -2.134566], [51.450923, -2.187627], [51.459287, -2.11742], [51.466839, -2.277811], [51.507606, -2.076335], [51.462437, -2.113829], [51.467445, -2.139179], [51.472917, -2.150138], [51.449642, -2.138549], [51.522886, -2.168175], [51.462787, -2.123763], [51.217379, -2.201996], [51.16969, -2.076777], [51.198875, -2.238984], [51.190295, -2.154226], [51.148941, -2.024845], [51.131918, -2.221346], [51.148761, -2.024559], [51.204921, -2.176319], [51.224103, -2.213482], [51.202747, -2.186617], [51.236011, -2.23975], [51.227053, -2.222661], [51.202902, -2.20179], [51.188532, -2.124458], [51.199639, -2.216231], [51.20634, -2.189065], [51.129609, -2.010972], [51.119082, -2.039974], [51.189764, -1.971635], [51.124752, -2.019688], [51.128327, -2.163309], [51.139389, -2.162204], [51.198652, -2.215082], [51.183584, -2.192835], [51.204295, -2.174313], [51.235383, -2.238887], [51.184849, -2.121014], [51.198606, -2.238553], [51.182495, -2.246053], [51.123133, -2.022545], [51.122953, -2.022973], [51.168882, -2.075202], [51.148492, -2.017839], [51.121604, -2.026116], [51.207912, -2.260217], [51.181546, -2.094966], [51.197399, -2.211784], [51.205539, -2.183908], [51.144858, -2.305323], [51.173266, -2.271895], [51.236998, -2.241044], [51.075342, -1.822825], [51.07371, -1.814267], [51.064945, -1.789043], [51.078866, -1.834232], [51.068457, -1.791596], [51.083934, -1.797523], [51.07859, -1.829665], [51.069994, -1.796584], [51.076311, -1.809975], [51.075393, -1.798844], [51.080847, -1.780976], [51.074924, -1.78757], [51.074831, -1.786], [51.064234, -1.794041], [51.069446, -1.791734], [51.083352, -1.827221], [51.060009, -1.79463], [51.074708, -1.81983], [51.104972, -1.795431], [51.078628, -1.797403], [51.061537, -1.794195], [51.064047, -1.78976], [51.07629, -1.797128], [51.073395, -1.787292], [51.069165, -1.785313], [51.070546, -1.803576], [51.073892, -1.815694], [51.074798, -1.819687], [51.069543, -1.795587], [51.068639, -1.792879], [51.075467, -1.789423], [51.073983, -1.816265], [51.059649, -1.794632], [51.057942, -1.79521], [51.088381, -1.771231], [51.059301, -1.801197], [51.083934, -1.797523], [51.071606, -1.792581], [51.074889, -1.820686], [51.083855, -1.803805], [51.068461, -1.794307], [51.071605, -1.792438], [51.080915, -1.821377], [51.076287, -1.795843], [51.078036, -1.81996], [51.070688, -1.782451], [51.068467, -1.79759], [51.073932, -1.786004], [51.09311, -1.799767], [51.065762, -1.793606], [51.069622, -1.789878], [51.059391, -1.80134], [51.085962, -1.775384], [51.062862, -1.780775], [51.061568, -1.812746], [51.067292, -1.793885], [51.06981, -1.794444], [51.075394, -1.79913], [51.069446, -1.791734], [51.06693, -1.792602], [51.09311, -1.799767], [51.053639, -1.803219], [51.074798, -1.81983], [51.064135, -1.788618], [51.075434, -1.824252], [51.074092, -1.828682], [51.322042, -2.204321], [51.330536, -2.230338], [51.32122, -2.211206], [51.302839, -2.17985], [51.305725, -2.226628], [51.320616, -2.196566], [51.301674, -2.177263], [51.324192, -2.208636], [51.299062, -2.180552], [51.30665, -2.21286], [51.321947, -2.207334], [51.306215, -2.204825], [51.312391, -2.220491], [51.312514, -2.202127], [51.317338, -2.219797], [51.309753, -2.186476], [51.334059, -2.167771], [51.324817, -2.211366], [51.328428, -2.203345], [51.313998, -2.226812], [51.312147, -2.206286], [51.321946, -2.207621], [51.323038, -2.200164], [51.322758, -2.20619], [51.30827, -2.212581], [51.295526, -2.19818], [51.317159, -2.219223], [51.311926, -2.22838], [51.291026, -2.247493], [51.320326, -2.208475], [51.324467, -2.205911], [51.324386, -2.200457], [51.325097, -2.205626], [51.30665, -2.21286], [51.32928, -2.22904], [51.293291, -2.190712], [51.327733, -2.188989], [51.315707, -2.22639], [51.307436, -2.225632], [51.319057, -2.214066], [51.299555, -2.208524], [51.293735, -2.242201], [51.293381, -2.190713], [51.32593, -2.191565], [51.292033, -2.189703], [51.313772, -2.202993], [51.325389, -2.192568], [51.332527, -2.170492], [51.299662, -2.198484], [51.301134, -2.177692], [51.314665, -2.206154], [51.309867, -2.223922], [51.319591, -2.217369], [51.308426, -2.224919], [51.31899, -2.201438], [51.325299, -2.192711], [51.29347, -2.191], [51.31709, -2.207886], [51.317187, -2.203869], [51.329861, -2.206509], [51.308156, -2.225062], [51.314115, -2.212034], [51.318246, -2.214923], [51.319967, -2.208186], [51.321921, -2.221398], [51.325569, -2.192281], [51.312853, -2.21375], [51.324546, -2.211795], [51.295527, -2.197749], [51.314744, -2.212324], [51.316753, -2.194827], [51.000769, -1.757981], [51.079582, -1.697756], [51.091323, -1.758508], [51.010499, -1.628073], [51.015521, -1.760328], [51.010943, -1.626217], [50.981394, -1.637566], [51.075373, -1.704777], [51.016371, -1.636438], [51.029518, -1.849096], [51.044545, -1.749765], [51.044356, -1.791133], [51.106272, -1.691154], [51.110902, -1.674124], [51.074714, -1.771584], [51.005174, -1.757531], [51.005894, -1.757384], [50.989438, -1.717719], [51.097748, -1.735625], [51.036316, -1.771345], [51.045054, -1.735782], [51.094476, -1.760919], [51.058682, -1.759106], [51.04873, -1.731196], [50.991687, -1.758028], [51.039638, -1.726827], [51.050082, -1.732472], [50.992663, -1.752039], [51.100599, -1.723897], [51.025151, -1.764271], [51.005714, -1.757385], [51.036316, -1.771345], [50.973764, -1.613839], [51.039909, -1.727682], [51.032708, -1.765801], [51.057695, -1.759825], [51.018871, -1.693018], [51.103578, -2.177362], [51.101225, -2.186922], [51.09262, -2.302694], [51.103614, -2.209927], [51.084531, -2.165867], [51.093526, -2.1639], [51.098115, -2.16206], [51.099557, -2.259752], [51.091453, -2.264561], [51.085418, -2.305645], [51.03936, -2.185674], [51.038551, -2.185243], [51.090846, -2.293116], [51.09684, -2.225748], [51.041908, -2.16543], [51.079422, -2.256213], [51.095663, -2.229741], [51.137082, -2.28669], [51.0942, -2.241729], [51.092986, -2.164184], [51.047901, -2.186422], [51.087676, -2.167306], [51.03126, -2.189635], [51.028651, -2.190195], [51.101295, -2.198776], [51.031799, -2.189922], [51.128173, -1.856349], [51.092483, -1.863885], [51.100994, -1.839437], [51.078333, -1.838659], [51.128173, -1.856349], [50.990768, -1.990564], [51.039523, -1.868747], [50.990768, -1.990564], [51.078097, -1.865783], [51.085105, -1.860337], [51.082555, -1.922304], [51.084356, -1.927441], [51.100994, -1.839437], [51.081524, -1.874481], [51.05813, -1.862559], [51.036131, -1.893145], [51.078256, -1.848509], [51.100814, -1.839438], [51.101174, -1.839294], [50.9931, -2.037728], [51.100994, -1.839437], [51.100904, -1.839438], [51.099773, -1.869862], [51.063855, -1.838424], [51.025477, -1.977011], [51.03649, -1.892431], [51.05562, -1.869272], [51.134087, -1.933795], [51.075964, -1.890055], [51.649053, -2.057638], [51.599958, -1.938895], [51.583306, -2.089595], [51.655169, -2.053887], [51.620363, -1.928901], [51.594366, -2.08904], [51.641784, -2.012829], [51.610016, -2.081128], [51.555234, -2.110455], [51.568192, -2.099232], [51.602851, -2.012963], [51.656412, -1.918725], [51.598357, -2.144199], [51.556673, -2.11017], [51.619201, -1.941613], [51.655169, -2.053887], [51.611836, -1.958953], [51.562739, -1.950341], [51.585094, -2.101723], [51.575513, -2.208053], [51.588118, -2.13464], [51.554082, -2.090692], [51.655169, -2.053887], [51.564445, -2.054357], [51.569303, -2.048591], [51.586353, -2.101004], [51.662543, -2.052306], [51.566599, -2.062872], [51.54182, -2.126572], [51.611836, -1.958809], [51.565621, -1.964044], [51.35027, -2.033138], [51.398736, -1.967769], [51.399456, -1.968631], [51.331752, -2.002839], [51.291455, -2.054034], [51.340743, -1.986329], [51.283195, -1.999538], [51.324183, -2.0601], [51.367498, -1.901712], [51.345687, -1.980298], [51.350993, -1.986183], [51.389821, -2.06536], [51.384253, -1.94996], [51.321501, -1.99595], [51.332997, -1.944848], [51.28706, -1.978315], [51.352702, -1.992931], [51.384613, -1.950247], [51.379129, -2.04724], [51.292007, -2.007712], [51.366186, -1.968941], [51.333177, -1.945135], [51.368781, -1.936617], [51.366189, -2.016774], [51.328964, -2.004561], [51.322759, -2.009296], [51.353602, -1.994224], [51.345689, -1.993363], [51.352342, -1.987906], [51.354141, -2.00083], [51.354591, -2.004133], [51.282011, -2.059185], [51.365559, -2.021227], [51.320062, -2.005995], [51.348386, -1.991353], [51.364784, -1.88362], [51.340998, -1.940101], [51.354411, -2.001835], [51.360164, -1.977706], [51.345044, -1.938804], [51.314383, -1.942575], [51.349734, -1.984891], [51.294075, -2.012302], [51.392888, -2.043661], [51.351892, -2.020072], [51.352073, -1.995516], [51.290747, -2.019328], [51.369422, -2.037031], [51.291195, -2.025208], [51.51134, -1.622857], [51.513605, -2.232269], [51.539999, -1.983963], [51.51139, -2.214822], [51.513529, -1.632638], [51.556946, -1.893227], [51.554864, -1.879241], [51.546917, -1.959877], [51.514669, -2.239624], [51.514482, -2.283289], [51.558571, -1.900436], [51.516925, -2.276819], [51.517198, -2.275667], [51.555438, -1.918761], [51.524888, -2.038166], [51.544043, -1.851438], [51.514158, -2.092054], [51.514482, -2.283289], [51.535864, -1.99968], [51.505862, -1.597831], [51.547095, -1.954396], [51.510423, -2.202281], [51.543954, -1.9743], [51.526508, -2.033699], [51.554899, -1.919916], [51.543408, -1.847114], [51.514493, -2.237894], [51.530287, -2.022169], [51.555079, -1.919483], [51.516626, -2.249723], [51.509976, -1.618113], [51.506501, -1.600563], [51.51416, -2.09018], [51.547097, -1.959444], [51.514957, -2.105169], [51.536584, -1.99694], [51.514954, -2.108196], [51.514848, -2.12448], [51.548912, -1.863104], [51.517428, -2.253186], [51.509992, -2.191616], [51.545756, -1.85547], [51.507968, -1.608908]],\n",
       "                {\n",
       "  &quot;minOpacity&quot;: 0.5,\n",
       "  &quot;maxZoom&quot;: 18,\n",
       "  &quot;radius&quot;: 25,\n",
       "  &quot;blur&quot;: 15,\n",
       "}\n",
       "            );\n",
       "        \n",
       "    \n",
       "            heat_map_ae46bcb1291778ebf8f0cd6386131928.addTo(map_06c4a303df13ea59d6ce25c41c605866);\n",
       "        \n",
       "    \n",
       "            tile_layer_1f2a0611028a27edd62778f3e3d370fd.addTo(map_06c4a303df13ea59d6ce25c41c605866);\n",
       "        \n",
       "    \n",
       "            heat_map_ae46bcb1291778ebf8f0cd6386131928.addTo(map_06c4a303df13ea59d6ce25c41c605866);\n",
       "        \n",
       "&lt;/script&gt;\n",
       "&lt;/html&gt;\" style=\"position:absolute;width:100%;height:100%;left:0;top:0;border:none !important;\" allowfullscreen webkitallowfullscreen mozallowfullscreen></iframe></div></div>"
      ],
      "text/plain": [
       "<folium.folium.Map at 0x20ac7b1abe0>"
      ]
     },
     "execution_count": 92,
     "metadata": {},
     "output_type": "execute_result"
    }
   ],
   "source": [
    "locations = list(zip(Wiltshire_DF['Latitude'], Wiltshire_DF['Longitude']))\n",
    "m = folium.Map(locations = [Wiltshire_DF['Latitude'].mean(), Wiltshire_DF['Longitude'].mean()], zoom_start = 10)\n",
    "HeatMap(locations).add_to(m)\n",
    "m.save(\"Wiltshire_DF.html\")\n",
    "m"
   ]
  },
  {
   "cell_type": "markdown",
   "id": "48b42589-ffe3-4305-b854-eb2e7c98f1b6",
   "metadata": {},
   "source": [
    "<h4>31. Insights:</h4>\n",
    "<h4>According to our heatmap in the Area of Clackmannshire, we have a total of 1590 Accidents in this area. Mostly the hotspots in this area are located more on Intersections, Roundabouts on the otherhand have a less but still they have a hotspot, but a few of them are located on a Straightroads</h4>\n",
    "<hr>"
   ]
  },
  {
   "cell_type": "code",
   "execution_count": 129,
   "id": "9d4d4d25-ed23-4bd2-9d7b-5efcb06a63bf",
   "metadata": {},
   "outputs": [],
   "source": [
    "fatalperdis = UKRoad[\n",
    "    ((UKRoad[\"District Area\"] == \"Kensington and Chelsea\") |\n",
    "     (UKRoad[\"District Area\"] == \"Mid Sussex\") |\n",
    "     (UKRoad[\"District Area\"] == \"Shetland Islands\") |\n",
    "     (UKRoad[\"District Area\"] == \"Cornwall\") |\n",
    "     (UKRoad[\"District Area\"] == \"Clackmannshire\") |\n",
    "     (UKRoad[\"District Area\"] == \"Wiltshire\")) \n",
    "    & (UKRoad[\"Accident_Severity\"] == \"Fatal\")\n",
    "]\n",
    "\n",
    "accidentperdis = UKRoad[\n",
    "    ((UKRoad[\"District Area\"] == \"Kensington and Chelsea\") |\n",
    "     (UKRoad[\"District Area\"] == \"Mid Sussex\") |\n",
    "     (UKRoad[\"District Area\"] == \"Shetland Islands\") |\n",
    "     (UKRoad[\"District Area\"] == \"Cornwall\") |\n",
    "     (UKRoad[\"District Area\"] == \"Clackmannshire\") |\n",
    "     (UKRoad[\"District Area\"] == \"Wiltshire\")) \n",
    "]"
   ]
  },
  {
   "cell_type": "code",
   "execution_count": 118,
   "id": "70c2c991-3dab-4182-a217-f711af5b6aff",
   "metadata": {},
   "outputs": [
    {
     "data": {
      "text/html": [
       "<div>\n",
       "<style scoped>\n",
       "    .dataframe tbody tr th:only-of-type {\n",
       "        vertical-align: middle;\n",
       "    }\n",
       "\n",
       "    .dataframe tbody tr th {\n",
       "        vertical-align: top;\n",
       "    }\n",
       "\n",
       "    .dataframe thead th {\n",
       "        text-align: right;\n",
       "    }\n",
       "</style>\n",
       "<table border=\"1\" class=\"dataframe\">\n",
       "  <thead>\n",
       "    <tr style=\"text-align: right;\">\n",
       "      <th></th>\n",
       "      <th>Index</th>\n",
       "      <th>Accident_Severity</th>\n",
       "      <th>Accident Date</th>\n",
       "      <th>Latitude</th>\n",
       "      <th>Light_Conditions</th>\n",
       "      <th>District Area</th>\n",
       "      <th>Longitude</th>\n",
       "      <th>Number_of_Casualties</th>\n",
       "      <th>Number_of_Vehicles</th>\n",
       "      <th>Road_Surface_Conditions</th>\n",
       "      <th>Road_Type</th>\n",
       "      <th>Urban_or_Rural_Area</th>\n",
       "      <th>Weather_Conditions</th>\n",
       "      <th>Vehicle_Type</th>\n",
       "      <th>Year</th>\n",
       "      <th>Day</th>\n",
       "      <th>Month</th>\n",
       "      <th>Day of Week</th>\n",
       "    </tr>\n",
       "  </thead>\n",
       "  <tbody>\n",
       "    <tr>\n",
       "      <th>7</th>\n",
       "      <td>200701BS67370</td>\n",
       "      <td>Fatal</td>\n",
       "      <td>2019-10-03</td>\n",
       "      <td>51.482260</td>\n",
       "      <td>Darkness - lights lit</td>\n",
       "      <td>Kensington and Chelsea</td>\n",
       "      <td>-0.179486</td>\n",
       "      <td>3</td>\n",
       "      <td>2</td>\n",
       "      <td>Dry</td>\n",
       "      <td>Single carriageway</td>\n",
       "      <td>Urban</td>\n",
       "      <td>Fine no high winds</td>\n",
       "      <td>Car</td>\n",
       "      <td>2019</td>\n",
       "      <td>3</td>\n",
       "      <td>10</td>\n",
       "      <td>3</td>\n",
       "    </tr>\n",
       "    <tr>\n",
       "      <th>11</th>\n",
       "      <td>200701BS67747</td>\n",
       "      <td>Fatal</td>\n",
       "      <td>2019-11-02</td>\n",
       "      <td>51.499127</td>\n",
       "      <td>Daylight</td>\n",
       "      <td>Kensington and Chelsea</td>\n",
       "      <td>-0.159652</td>\n",
       "      <td>1</td>\n",
       "      <td>2</td>\n",
       "      <td>Dry</td>\n",
       "      <td>Single carriageway</td>\n",
       "      <td>Urban</td>\n",
       "      <td>Fine no high winds</td>\n",
       "      <td>Bus or coach (17 or more pass seats)</td>\n",
       "      <td>2019</td>\n",
       "      <td>2</td>\n",
       "      <td>11</td>\n",
       "      <td>5</td>\n",
       "    </tr>\n",
       "    <tr>\n",
       "      <th>20</th>\n",
       "      <td>200701BS68301</td>\n",
       "      <td>Fatal</td>\n",
       "      <td>2019-10-24</td>\n",
       "      <td>51.505996</td>\n",
       "      <td>Daylight</td>\n",
       "      <td>Kensington and Chelsea</td>\n",
       "      <td>-0.214277</td>\n",
       "      <td>1</td>\n",
       "      <td>1</td>\n",
       "      <td>Dry</td>\n",
       "      <td>Single carriageway</td>\n",
       "      <td>Urban</td>\n",
       "      <td>Fine no high winds</td>\n",
       "      <td>Car</td>\n",
       "      <td>2019</td>\n",
       "      <td>24</td>\n",
       "      <td>10</td>\n",
       "      <td>3</td>\n",
       "    </tr>\n",
       "    <tr>\n",
       "      <th>21</th>\n",
       "      <td>200701BS68302</td>\n",
       "      <td>Fatal</td>\n",
       "      <td>2019-11-24</td>\n",
       "      <td>51.486795</td>\n",
       "      <td>Daylight</td>\n",
       "      <td>Kensington and Chelsea</td>\n",
       "      <td>-0.170375</td>\n",
       "      <td>5</td>\n",
       "      <td>1</td>\n",
       "      <td>Dry</td>\n",
       "      <td>Single carriageway</td>\n",
       "      <td>Urban</td>\n",
       "      <td>Fine no high winds</td>\n",
       "      <td>Car</td>\n",
       "      <td>2019</td>\n",
       "      <td>24</td>\n",
       "      <td>11</td>\n",
       "      <td>6</td>\n",
       "    </tr>\n",
       "    <tr>\n",
       "      <th>2368</th>\n",
       "      <td>200701CW65735</td>\n",
       "      <td>Fatal</td>\n",
       "      <td>2019-07-17</td>\n",
       "      <td>51.490623</td>\n",
       "      <td>Daylight</td>\n",
       "      <td>Kensington and Chelsea</td>\n",
       "      <td>-0.173679</td>\n",
       "      <td>1</td>\n",
       "      <td>1</td>\n",
       "      <td>Wet or damp</td>\n",
       "      <td>Single carriageway</td>\n",
       "      <td>Urban</td>\n",
       "      <td>Fine no high winds</td>\n",
       "      <td>Car</td>\n",
       "      <td>2019</td>\n",
       "      <td>17</td>\n",
       "      <td>7</td>\n",
       "      <td>2</td>\n",
       "    </tr>\n",
       "    <tr>\n",
       "      <th>...</th>\n",
       "      <td>...</td>\n",
       "      <td>...</td>\n",
       "      <td>...</td>\n",
       "      <td>...</td>\n",
       "      <td>...</td>\n",
       "      <td>...</td>\n",
       "      <td>...</td>\n",
       "      <td>...</td>\n",
       "      <td>...</td>\n",
       "      <td>...</td>\n",
       "      <td>...</td>\n",
       "      <td>...</td>\n",
       "      <td>...</td>\n",
       "      <td>...</td>\n",
       "      <td>...</td>\n",
       "      <td>...</td>\n",
       "      <td>...</td>\n",
       "      <td>...</td>\n",
       "    </tr>\n",
       "    <tr>\n",
       "      <th>651437</th>\n",
       "      <td>201054EW26610</td>\n",
       "      <td>Fatal</td>\n",
       "      <td>2022-08-21</td>\n",
       "      <td>51.101174</td>\n",
       "      <td>Darkness - no lighting</td>\n",
       "      <td>Wiltshire</td>\n",
       "      <td>-1.839294</td>\n",
       "      <td>2</td>\n",
       "      <td>1</td>\n",
       "      <td>Wet or damp</td>\n",
       "      <td>Single carriageway</td>\n",
       "      <td>Rural</td>\n",
       "      <td>Raining no high winds</td>\n",
       "      <td>Car</td>\n",
       "      <td>2022</td>\n",
       "      <td>21</td>\n",
       "      <td>8</td>\n",
       "      <td>6</td>\n",
       "    </tr>\n",
       "    <tr>\n",
       "      <th>651457</th>\n",
       "      <td>201054EY09910</td>\n",
       "      <td>Fatal</td>\n",
       "      <td>2022-03-24</td>\n",
       "      <td>51.568192</td>\n",
       "      <td>Darkness - no lighting</td>\n",
       "      <td>Wiltshire</td>\n",
       "      <td>-2.099232</td>\n",
       "      <td>1</td>\n",
       "      <td>1</td>\n",
       "      <td>Wet or damp</td>\n",
       "      <td>Single carriageway</td>\n",
       "      <td>Rural</td>\n",
       "      <td>Fine no high winds</td>\n",
       "      <td>Car</td>\n",
       "      <td>2022</td>\n",
       "      <td>24</td>\n",
       "      <td>3</td>\n",
       "      <td>3</td>\n",
       "    </tr>\n",
       "    <tr>\n",
       "      <th>651514</th>\n",
       "      <td>201054EZ36210</td>\n",
       "      <td>Fatal</td>\n",
       "      <td>2022-10-21</td>\n",
       "      <td>51.364784</td>\n",
       "      <td>Daylight</td>\n",
       "      <td>Wiltshire</td>\n",
       "      <td>-1.883620</td>\n",
       "      <td>4</td>\n",
       "      <td>3</td>\n",
       "      <td>Dry</td>\n",
       "      <td>Single carriageway</td>\n",
       "      <td>Rural</td>\n",
       "      <td>Fine no high winds</td>\n",
       "      <td>Car</td>\n",
       "      <td>2022</td>\n",
       "      <td>21</td>\n",
       "      <td>10</td>\n",
       "      <td>4</td>\n",
       "    </tr>\n",
       "    <tr>\n",
       "      <th>651526</th>\n",
       "      <td>201054EZ45910</td>\n",
       "      <td>Fatal</td>\n",
       "      <td>2022-12-31</td>\n",
       "      <td>51.369422</td>\n",
       "      <td>Darkness - no lighting</td>\n",
       "      <td>Wiltshire</td>\n",
       "      <td>-2.037031</td>\n",
       "      <td>5</td>\n",
       "      <td>1</td>\n",
       "      <td>Wet or damp</td>\n",
       "      <td>Single carriageway</td>\n",
       "      <td>Rural</td>\n",
       "      <td>Fine no high winds</td>\n",
       "      <td>Car</td>\n",
       "      <td>2022</td>\n",
       "      <td>31</td>\n",
       "      <td>12</td>\n",
       "      <td>5</td>\n",
       "    </tr>\n",
       "    <tr>\n",
       "      <th>660627</th>\n",
       "      <td>201091NL00060</td>\n",
       "      <td>Fatal</td>\n",
       "      <td>2022-01-06</td>\n",
       "      <td>60.241195</td>\n",
       "      <td>Daylight</td>\n",
       "      <td>Shetland Islands</td>\n",
       "      <td>-1.409761</td>\n",
       "      <td>3</td>\n",
       "      <td>1</td>\n",
       "      <td>Snow</td>\n",
       "      <td>Single carriageway</td>\n",
       "      <td>Rural</td>\n",
       "      <td>Fine no high winds</td>\n",
       "      <td>Van / Goods 3.5 tonnes mgw or under</td>\n",
       "      <td>2022</td>\n",
       "      <td>6</td>\n",
       "      <td>1</td>\n",
       "      <td>3</td>\n",
       "    </tr>\n",
       "  </tbody>\n",
       "</table>\n",
       "<p>136 rows × 18 columns</p>\n",
       "</div>"
      ],
      "text/plain": [
       "                Index Accident_Severity Accident Date   Latitude  \\\n",
       "7       200701BS67370             Fatal    2019-10-03  51.482260   \n",
       "11      200701BS67747             Fatal    2019-11-02  51.499127   \n",
       "20      200701BS68301             Fatal    2019-10-24  51.505996   \n",
       "21      200701BS68302             Fatal    2019-11-24  51.486795   \n",
       "2368    200701CW65735             Fatal    2019-07-17  51.490623   \n",
       "...               ...               ...           ...        ...   \n",
       "651437  201054EW26610             Fatal    2022-08-21  51.101174   \n",
       "651457  201054EY09910             Fatal    2022-03-24  51.568192   \n",
       "651514  201054EZ36210             Fatal    2022-10-21  51.364784   \n",
       "651526  201054EZ45910             Fatal    2022-12-31  51.369422   \n",
       "660627  201091NL00060             Fatal    2022-01-06  60.241195   \n",
       "\n",
       "              Light_Conditions           District Area  Longitude  \\\n",
       "7        Darkness - lights lit  Kensington and Chelsea  -0.179486   \n",
       "11                    Daylight  Kensington and Chelsea  -0.159652   \n",
       "20                    Daylight  Kensington and Chelsea  -0.214277   \n",
       "21                    Daylight  Kensington and Chelsea  -0.170375   \n",
       "2368                  Daylight  Kensington and Chelsea  -0.173679   \n",
       "...                        ...                     ...        ...   \n",
       "651437  Darkness - no lighting               Wiltshire  -1.839294   \n",
       "651457  Darkness - no lighting               Wiltshire  -2.099232   \n",
       "651514                Daylight               Wiltshire  -1.883620   \n",
       "651526  Darkness - no lighting               Wiltshire  -2.037031   \n",
       "660627                Daylight        Shetland Islands  -1.409761   \n",
       "\n",
       "        Number_of_Casualties  Number_of_Vehicles Road_Surface_Conditions  \\\n",
       "7                          3                   2                     Dry   \n",
       "11                         1                   2                     Dry   \n",
       "20                         1                   1                     Dry   \n",
       "21                         5                   1                     Dry   \n",
       "2368                       1                   1             Wet or damp   \n",
       "...                      ...                 ...                     ...   \n",
       "651437                     2                   1             Wet or damp   \n",
       "651457                     1                   1             Wet or damp   \n",
       "651514                     4                   3                     Dry   \n",
       "651526                     5                   1             Wet or damp   \n",
       "660627                     3                   1                    Snow   \n",
       "\n",
       "                 Road_Type Urban_or_Rural_Area     Weather_Conditions  \\\n",
       "7       Single carriageway               Urban     Fine no high winds   \n",
       "11      Single carriageway               Urban     Fine no high winds   \n",
       "20      Single carriageway               Urban     Fine no high winds   \n",
       "21      Single carriageway               Urban     Fine no high winds   \n",
       "2368    Single carriageway               Urban     Fine no high winds   \n",
       "...                    ...                 ...                    ...   \n",
       "651437  Single carriageway               Rural  Raining no high winds   \n",
       "651457  Single carriageway               Rural     Fine no high winds   \n",
       "651514  Single carriageway               Rural     Fine no high winds   \n",
       "651526  Single carriageway               Rural     Fine no high winds   \n",
       "660627  Single carriageway               Rural     Fine no high winds   \n",
       "\n",
       "                                Vehicle_Type  Year  Day  Month  Day of Week  \n",
       "7                                        Car  2019    3     10            3  \n",
       "11      Bus or coach (17 or more pass seats)  2019    2     11            5  \n",
       "20                                       Car  2019   24     10            3  \n",
       "21                                       Car  2019   24     11            6  \n",
       "2368                                     Car  2019   17      7            2  \n",
       "...                                      ...   ...  ...    ...          ...  \n",
       "651437                                   Car  2022   21      8            6  \n",
       "651457                                   Car  2022   24      3            3  \n",
       "651514                                   Car  2022   21     10            4  \n",
       "651526                                   Car  2022   31     12            5  \n",
       "660627   Van / Goods 3.5 tonnes mgw or under  2022    6      1            3  \n",
       "\n",
       "[136 rows x 18 columns]"
      ]
     },
     "execution_count": 118,
     "metadata": {},
     "output_type": "execute_result"
    }
   ],
   "source": [
    "fatalperdis"
   ]
  },
  {
   "cell_type": "code",
   "execution_count": 135,
   "id": "f84b66c9-dd23-4ed2-93dd-4ef234eaa669",
   "metadata": {},
   "outputs": [
    {
     "data": {
      "image/png": "[encoded data removed]",
      "text/plain": [
       "<Figure size 1000x800 with 1 Axes>"
      ]
     },
     "metadata": {},
     "output_type": "display_data"
    }
   ],
   "source": [
    "accidentperdis = UKRoad[\"District Area\"].value_counts()\n",
    "districts = [\"Kensington and Chelsea\", \"Mid Sussex\", \"Shetland Islands\", \n",
    "             \"Cornwall\", \"Clackmannshire\", \"Wiltshire\"]\n",
    "districtaccidents = accidentperdis[districts]\n",
    "labels = [\"Kensington and Chelsea\", \"Mid Sussex\", \"Shetland Islands\", \"Cornwall\", \"Clackmannshire\", \"Wiltshire\"]\n",
    "districtaccidents.plot(kind='bar', figsize=(10,8))\n",
    "plt.xlabel('District Area')\n",
    "plt.ylabel('Number of accidents')\n",
    "plt.title('Comparing accidents')\n",
    "plt.xticks(ticks=range(6), labels=labels, rotation=60)\n",
    "plt.show()"
   ]
  },
  {
   "cell_type": "code",
   "execution_count": 133,
   "id": "a17ea2c7-da8f-4ec8-bdfb-67cdedc9e27f",
   "metadata": {},
   "outputs": [
    {
     "data": {
      "image/png": "[encoded data removed]",
      "text/plain": [
       "<Figure size 1000x800 with 1 Axes>"
      ]
     },
     "metadata": {},
     "output_type": "display_data"
    }
   ],
   "source": [
    "fatalperdis = UKRoad[UKRoad[\"Accident_Severity\"] == \"Fatal\"][\"District Area\"].value_counts()\n",
    "districts = [\"Kensington and Chelsea\", \"Mid Sussex\", \"Shetland Islands\", \n",
    "             \"Cornwall\", \"Clackmannshire\", \"Wiltshire\"]\n",
    "districtfatals = fatalperdis[districts]\n",
    "labels = [\"Kensington and Chelsea\", \"Mid Sussex\", \"Shetland Islands\", \"Cornwall\", \"Clackmannshire\", \"Wiltshire\"]\n",
    "districtfatals.plot(kind='bar', figsize=(10,8))\n",
    "plt.xlabel('District Area')\n",
    "plt.ylabel('Number of fatal accidents')\n",
    "plt.title('Comparing fatal accidents ')\n",
    "plt.xticks(ticks=range(6), labels=labels, rotation=60)\n",
    "plt.show()"
   ]
  },
  {
   "cell_type": "markdown",
   "id": "ce943216-bcad-4af5-80d6-fb14fc9589bc",
   "metadata": {},
   "source": [
    "<h4>32. Insights:</h4>\n",
    "<h4>In our Previous Graphs it talks about the amount of Accidents and the location of hotspots whether its from Straight Road, Roundabout or an Intersection. As we can see in this graph the six districts have a total of 136 or 1.55% Fatal accidents in which is quite few considering the total accidents of the six distric have a total of 8763.</h4>\n",
    "<hr>"
   ]
  },
  {
   "cell_type": "markdown",
   "id": "7acb598d-23b7-43dc-bc69-c794e4646477",
   "metadata": {},
   "source": [
    "<h4>33. Insights:</h4>\n",
    "<h4>Comparing the fatal accidents per 6 different districts. We can observe that Cornwall and Wilthire have the same number of Fatal accidents, while Mid Sussex is in the middleground, Kensington and Chelsea is hanging, then we have the two lowest fatal accidents</h4>\n",
    "<hr>"
   ]
  },
  {
   "cell_type": "markdown",
   "id": "c5158d7e-e3f0-4188-a23c-5d1f33ddccc2",
   "metadata": {},
   "source": [
    "<h4>34. Insights:</h4>\n",
    "<h4>Following the previous insights, the contrast between Fatality and Accidents between each District are noticeable. We have Kensington and Chelsea having the highest Accident out of the six, but in our fatal accident graph it's nowhere near Cornwall and WIltshire. Meanwhile Wiltshire is a quite dangerous place because it has a middlegorund when it comes to accident, then having the highest equal to Cornwall in terms of Fatal Accidents. While the other are still the same nothing unusual</h4>\n",
    "<hr>"
   ]
  },
  {
   "cell_type": "code",
   "execution_count": null,
   "id": "8be71655-fab7-4bf0-9751-9eb628131460",
   "metadata": {},
   "outputs": [],
   "source": []
  }
 ],
 "metadata": {
  "kernelspec": {
   "display_name": "Python 3 (ipykernel)",
   "language": "python",
   "name": "python3"
  },
  "language_info": {
   "codemirror_mode": {
    "name": "ipython",
    "version": 3
   },
   "file_extension": ".py",
   "mimetype": "text/x-python",
   "name": "python",
   "nbconvert_exporter": "python",
   "pygments_lexer": "ipython3",
   "version": "3.13.1"
  }
 },
 "nbformat": 4,
 "nbformat_minor": 5
}
